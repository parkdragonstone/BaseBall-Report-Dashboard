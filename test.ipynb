{
 "cells": [
  {
   "cell_type": "code",
   "execution_count": null,
   "metadata": {},
   "outputs": [],
   "source": [
    "import pandas as pd\n",
    "import plotly.express as px\n",
    "import plotly.graph_objs as go\n",
    "import streamlit as st\n",
    "import numpy as np\n",
    "from glob import glob\n",
    "import data_concat\n",
    "from graph_data import show_login_form,transform_list, grf_plotly, one_angle_plotly,x_factor_plotly\n",
    "from graph_data import kinematic_sequence_plotly, segment_power_plotly, linear_momentum_plotly,angular_momentum_plotly\n",
    "\n",
    "\n",
    "KINEMATIC_PATH = 'data/**/kine/*csv'\n",
    "FORCE_PATH = 'data/**/force/*csv'\n",
    "\n",
    "KINEMATIC_DIR = [i.replace('\\\\','/') for i in glob(KINEMATIC_PATH)]\n",
    "FORCE_DIR = [i.replace('\\\\','/') for i in glob(FORCE_PATH)]\n",
    "csv_file = 'feedback.csv'\n",
    "feedback_df = pd.read_csv(csv_file)\n",
    "kdf = pd.DataFrame()\n",
    "fdf = pd.DataFrame()\n",
    "\n",
    "kdf = pd.DataFrame()\n",
    "fdf = pd.DataFrame()\n",
    "energy_cols = [\n",
    "            \"REAR_SHANK_NET_SP\",    \n",
    "            \"LEAD_SHANK_NET_SP\",\n",
    "            \"LEAD_THIGH_NET_SP\",\n",
    "            \"REAR_THIGH_NET_SP\",\n",
    "            \"PELVIS_NET_SP\",\n",
    "            \"TORSO_NET_SP\",\n",
    "            \"LEAD_ARM_NET_SP\",\n",
    "            \"REAR_ARM_NET_SP\",\n",
    "            \"LEAD_FOREARM_NET_SP\",\n",
    "            \"REAR_FOREARM_NET_SP\",\n",
    "            ]\n",
    "for kine_dir, force_dir in zip(KINEMATIC_DIR, FORCE_DIR):\n",
    "    kine = pd.read_csv(kine_dir)\n",
    "    force = pd.read_csv(force_dir)\n",
    "    \n",
    "    _, kday, _, kfname = kine_dir.split('/')\n",
    "    _, fday, _, ffname = force_dir.split('/')\n",
    "    kfname = kfname.replace('.csv','')\n",
    "    kplayer_name, ktrial, _, mass, _, _, kball, _,kpit_type = kfname.split('_')\n",
    "    \n",
    "    ffname = ffname.replace('.csv','')\n",
    "    fplayer_name, ftrial, _, mass, _, _, fball, _,fpit_type = ffname.split('_')\n",
    "    \n",
    "    lhjc = kine[['LEAD_HIP_JC_X','LEAD_HIP_JC_Y','LEAD_HIP_JC_Z']].values\n",
    "    rhjc = kine[['REAR_HIP_JC_X','REAR_HIP_JC_Y','REAR_HIP_JC_Z']].values\n",
    "    rsjc = kine[['REAR_SHOULDER_JC_X','REAR_SHOULDER_JC_Y','REAR_SHOULDER_JC_Z']].values\n",
    "    lsjc = kine[['LEAD_SHOULDER_JC_X','LEAD_SHOULDER_JC_Y','LEAD_SHOULDER_JC_Z']].values\n",
    "    pelvis_jc = pd.DataFrame((lhjc + rhjc)/2, columns = ['PELVIS_JC_X','PELVIS_JC_Y','PELVIS_JC_Z'])\n",
    "    torso_jc = pd.DataFrame((rsjc + lsjc)/2, columns = ['TORSO_JC_X','TORSO_JC_Y','TORSO_JC_Z'])\n",
    "    torso_pelvis_distance = pelvis_jc['PELVIS_JC_Y'] - torso_jc['TORSO_JC_Y']\n",
    "    \n",
    "    kine[energy_cols] = kine[energy_cols]/float(mass)\n",
    "    kine['ANKLE_HAND_AP_DISTANCE'] = round(100 * (kine['LEAD_ANKLE_JC_Y'] - kine['LEAD_WRIST_JC_Y']),1)\n",
    "    kine['PELVIS_TORSO_AP_DISTANCE'] = round(100 * torso_pelvis_distance,1)\n",
    "    \n",
    "    kine['player'] = kplayer_name\n",
    "    kine['day'] = kday\n",
    "    kine['trial'] = ktrial\n",
    "    kine['ball_speed'] = kball\n",
    "    kine['pit_type'] = kpit_type\n",
    "    \n",
    "    force['player'] = fplayer_name\n",
    "    force['day'] = fday\n",
    "    force['trial'] = ftrial\n",
    "    force['ball_speed'] = fball\n",
    "    force['pit_type'] = fpit_type\n",
    "    \n",
    "    kdf = pd.concat([kdf, kine])\n",
    "    fdf = pd.concat([fdf, force])\n",
    "    \n",
    "# 스트림릿 사이드바 설정\n",
    "selected_name = 'songseokhyun'; selected_date = '20240302'; selected_trial = '0014'\n",
    "\n",
    "kine_filtered = kdf[(kdf['player'] == selected_name) & \n",
    "                    (kdf['day'] == selected_date) &\n",
    "                    (kdf['trial'] == selected_trial)]\n",
    "\n",
    "force_filtered = fdf[(fdf['player'] == selected_name) & \n",
    "                    (fdf['day'] == selected_date) &\n",
    "                    (fdf['trial'] == selected_trial)]\n",
    "\n",
    "kine_filtered.reset_index(inplace=True, drop=True)\n",
    "force_filtered.reset_index(inplace=True, drop=True)\n",
    "\n",
    "k_sr = 180\n",
    "k_kh_time  = kine_filtered['kh_time'][0]\n",
    "k_kh_time1 = kine_filtered['kh_time'][0] - k_kh_time\n",
    "k_fc_time  = kine_filtered['fc_time'][0] - k_kh_time\n",
    "k_mer_time = kine_filtered['mer_time'][0] - k_kh_time\n",
    "k_br_time  = kine_filtered['br_time'][0] - k_kh_time\n",
    "stride_length = round(kine_filtered['stride_length'][0])\n",
    "ball_speed = round(float(kine_filtered['ball_speed'][0]) * 1.6)\n",
    "\n",
    "f_sr = 1080\n",
    "f_kh_time  = force_filtered['kh_time'][0] \n",
    "f_kh_time1 = force_filtered['kh_time'][0]  - f_kh_time\n",
    "f_fc_time  = force_filtered['fc_time'][0]  - f_kh_time\n",
    "f_mer_time = force_filtered['mer_time'][0] - f_kh_time\n",
    "f_br_time  = force_filtered['br_time'][0]  - f_kh_time\n",
    "\n",
    "k_df = kine_filtered.iloc[k_kh_time:int(k_br_time + k_kh_time + (k_sr * 0.2)),:].reset_index(drop=True)\n",
    "f_df = force_filtered.iloc[f_kh_time:int(f_br_time + f_kh_time + (f_sr * 0.2)),:].reset_index(drop=True)\n",
    "\n",
    "k_df.drop(['kh_time','fc_time','mer_time','br_time','mir_time'], axis=1, inplace=True)\n",
    "f_df.drop(['kh_time','fc_time','mer_time','br_time','mir_time'], axis=1, inplace=True)\n",
    "\n",
    "k_time = k_df['TIME']\n",
    "f_time = f_df['TIME']\n",
    "\n",
    "# ===================================================================================\n",
    "# ============================= Using Data ==========================================\n",
    "ap_cols = {\n",
    "    'REAR_FORCE_Y' : ['Trail Leg' , 'yellow'],\n",
    "    'LEAD_FORCE_Y' : ['Stride Leg', 'red'],\n",
    "}\n",
    "vt_cols = {\n",
    "    'REAR_FORCE_Z' : ['Trail Leg' , 'yellow'],\n",
    "    'LEAD_FORCE_Z' : ['Stride Leg', 'red']\n",
    "}\n",
    "result_cols = {\n",
    "    'REAR_RESULT' : ['Trail Leg' , 'yellow'],\n",
    "    'LEAD_RESULT' : ['Stride Leg', 'red']\n",
    "}\n",
    "momentum_cols = {\n",
    "    'REAR_FREEMOMENT_Z' : ['Trail Leg' , 'yellow'],\n",
    "    'LEAD_FREEMOMENT_Z' : ['Stride Leg', 'red']\n",
    "}\n",
    "ks_cols = {\n",
    "    'PELVIS_SEG_ANGULAR_VELOCITY_Z'        : ['PELVIS'   , 'red'],\n",
    "    'TORSO_SEG_ANGULAR_VELOCITY_Z'         : ['TORSO'    , 'green'],\n",
    "    'LEAD_ELBOW_ANGULAR_VELOCITY_X'    : ['ELBOW'    , 'blue'],\n",
    "    'LEAD_SHOULDER_ANGULAR_VELOCITY_Z' : ['SHOULDER' , 'yellow'],\n",
    "}\n",
    "ang_cols = {\n",
    "    'TORSO_PELVIS_ANGLE_Z'            : 'HIP-SHOULDER SEPARATION',\n",
    "    'LEAD_ELBOW_ANGLE_X'              : 'ELBOW FLEXION',\n",
    "    'LEAD_SHOULDER_ANGLE_Z'           : 'SHOULDER EXTERNAL ROTATION',          \n",
    "    'LEAD_SHOULDER_ANGLE_X'           : 'SHOULDER HORIZONTAL ABDUCTION',\n",
    "    'LEAD_KNEE_ANGLE_X'               : 'LEAD KNEE FLEXION',\n",
    "    'LEAD_KNEE_ANGULAR_VELOCITY_X'    : 'LEAD KNEE EXTENSION ANGULAR VELOCITY',\n",
    "    'LEAD_SHOULDER_ANGLE_Y'           : 'SHOULDER ABDUCTION', \n",
    "    'TORSO_ANGLE_X'                   : 'TRUNK FORWARD TILT',\n",
    "    'TORSO_ANGLE_Y'                   : 'TRUNK LATERAL TILT',\n",
    "    'HAND_ELBOW_HEIGHT'               : 'HAND ELBOW HEIGHT',\n",
    "    'TORSO_ANGLE_Z'                   : 'TRUNK ROTATION',\n",
    "    'PELVIS_ANGLE_Z'                  : 'PELVIS ROTATION',\n",
    "    'PELVIS_TORSO_AP_DISTANCE'        : 'PELVIS-HEAD DISTANCE',\n",
    "    'ANKLE_HAND_AP_DISTANCE'          : 'ANKLE-HAND DISTANCE',\n",
    "}\n",
    "xfactor_cols = {\n",
    "    'TORSO_PELVIS_ANGLE_Z'            : ['X-Factor', 'yellow'],\n",
    "    'PELVIS_ANGLE_Z'                  : ['PELVIS', 'red'],\n",
    "    'TORSO_ANGLE_Z'                   : ['TORSO', 'green'],\n",
    "}\n",
    "sp_cols = {\n",
    "    \"PELVIS_NET_SP\" : [\"PELVIS\",\"red\"],\n",
    "    \"TORSO_NET_SP\" : [\"TORSO\",\"green\"],\n",
    "    \"LEAD_ARM_NET_SP\" : [\"UPPER ARM\",\"blue\"],\n",
    "    \"LEAD_FOREARM_NET_SP\" : [\"FOREARM\",\"yellow\"],\n",
    "}\n",
    "\n",
    "lm_cols = {\n",
    "    \"PELVIS_LINEAR_MOMENTUM\": [\"PELVIS\",\"red\"],\n",
    "    \"TORSO_LINEAR_MOMENTUM\": [\"TORSO\",\"green\"],\n",
    "    \"LEAD_UPA_LINEAR_MOMENTUM\": [\"UPPER ARM\",\"blue\"],\n",
    "    \"LEAD_FA_LINEAR_MOMENTUM\": [\"FOREARM\",\"yellow\"],\n",
    "}\n",
    "\n",
    "am_cols = {\n",
    "    \"PELVIS_ANGULAR_MOMENTUM\": [\"PELVIS\",\"red\"],\n",
    "    \"TORSO_ANGULAR_MOMENTUM\": [\"TORSO\",\"green\"],\n",
    "    \"LEAD_UPA_ANGULAR_MOMENTUM\": [\"UPPER ARM\",\"blue\"],\n",
    "    \"LEAD_FA_ANGULAR_MOMENTUM\": [\"FOREARM\",\"yellow\"],\n",
    "}\n",
    "\n",
    "energy_cols = {\n",
    "    # \"LEAD_SHANK_LINEAR_MOMENTUM\": [\"SHANK LINEAR MOMENTUM\",\"shank_energy\"],\n",
    "    # \"LEAD_THIGH_LINEAR_MOMENTUM\": [\"THIGH LINEAR MOMENTUM\",\"thigh_energy\"],\n",
    "    \"PELVIS_LINEAR_MOMENTUM\": [\"PELVIS LINEAR MOMENTUM\",\"pelvis_energy\"],\n",
    "    \"TORSO_LINEAR_MOMENTUM\": [\"TORSO LINEAR MOMENTUM\",\"torso_energy\"],\n",
    "    \"LEAD_UPA_LINEAR_MOMENTUM\": [\"ARM LINEAR MOMENTUM\",\"arm_energy\"],\n",
    "    \"LEAD_FA_LINEAR_MOMENTUM\": [\"FOREARM LINEAR MOMENTUM\",\"forearm_energy\"],\n",
    "    # \"LEAD_SHANK_ANGULAR_MOMENTUM\": [\"SHANK ANGULAR MOMENTUM\",\"shank_energy\"],\n",
    "    # \"LEAD_THIGH_ANGULAR_MOMENTUM\": [\"THIGH ANGULAR MOMENTUM\",\"thigh_energy\"],\n",
    "    \"PELVIS_ANGULAR_MOMENTUM_Z\": [\"PELVIS ANGULAR MOMENTUM\",\"pelvis_energy\"],\n",
    "    \"TORSO_ANGULAR_MOMENTUM_Z\": [\"TORSO ANGULAR MOMENTUM\",\"torso_energy\"],\n",
    "    \"LEAD_UPA_ANGULAR_MOMENTUM\": [\"ARM ANGULAR MOMENTUM\",\"arm_energy\"],\n",
    "    \"LEAD_FA_ANGULAR_MOMENTUM\": [\"FOREARM ANGULAR MOMENTUM\",\"forearm_energy\"],\n",
    "    # \"LEAD_SHANK_NET_SP\" : [\"SHANK POWER\",\"shank_energy\"],\n",
    "    # \"LEAD_THIGH_NET_SP\" : [\"THIGH POWER\",\"thigh_energy\"],\n",
    "    \"PELVIS_NET_SP\" : [\"PELVIS POWER\",\"pelvis_energy\"],\n",
    "    \"TORSO_NET_SP\" : [\"TORSO POWER\",\"torso_energy\"],\n",
    "    \"LEAD_ARM_NET_SP\" : [\"ARM POWER\",\"arm_energy\"],\n",
    "    \"LEAD_FOREARM_NET_SP\" : [\"FOREARM POWER\",\"forearm_energy\"],\n",
    "}"
   ]
  },
  {
   "cell_type": "code",
   "execution_count": 3,
   "metadata": {},
   "outputs": [
    {
     "data": {
      "text/plain": [
       "'2.1.3'"
      ]
     },
     "execution_count": 3,
     "metadata": {},
     "output_type": "execute_result"
    }
   ],
   "source": [
    "import numpy as np\n",
    "np.__version__"
   ]
  },
  {
   "cell_type": "code",
   "execution_count": 5,
   "metadata": {},
   "outputs": [],
   "source": [
    "force_ap_fig, force_ap_values = grf_plotly(f_df, ap_cols, f_time, f_kh_time1, f_fc_time, f_mer_time, f_br_time, axis='ap')\n",
    "force_vt_fig, force_vt_values = grf_plotly(f_df, vt_cols, f_time, f_kh_time1, f_fc_time, f_mer_time, f_br_time, axis='vt')\n",
    "force_result_fig, force_result_values = grf_plotly(f_df, result_cols, f_time, f_kh_time1, f_fc_time, f_mer_time, f_br_time, axis='result')\n",
    "force_momentum_fig, force_momentum_values = grf_plotly(f_df, momentum_cols, f_time, f_kh_time1, f_fc_time, f_mer_time, f_br_time, axis='freemoment')\n",
    "kine_values, kine_fig = one_angle_plotly(k_df, ang_cols, k_time, k_kh_time1, k_fc_time, k_mer_time, k_br_time)\n",
    "kinematic_values, kinematic_fig = kinematic_sequence_plotly(k_df, ks_cols, k_time, k_kh_time1, k_fc_time, k_mer_time, k_br_time)\n",
    "segment_power_values, segment_power_fig = segment_power_plotly(k_df, sp_cols, k_time, k_kh_time1, k_fc_time, k_mer_time, k_br_time)\n",
    "linear_momentum_values, linear_momentum_fig = linear_momentum_plotly(k_df, lm_cols, k_time, k_kh_time1, k_fc_time, k_mer_time, k_br_time)\n",
    "angular_momentum_values, angular_momentum_fig = angular_momentum_plotly(k_df, am_cols, k_time, k_kh_time1, k_fc_time, k_mer_time, k_br_time)\n",
    "xfactor_values, xfactor_fig = angular_momentum_plotly(k_df, xfactor_cols, k_time, k_kh_time1, k_fc_time, k_mer_time, k_br_time)\n",
    "# energy_values, energy_fig = energy_plotly(k_df, energy_cols, k_time, k_kh_time1, k_fc_time, k_mer_time, k_br_time)\n",
    "\n"
   ]
  },
  {
   "cell_type": "code",
   "execution_count": 6,
   "metadata": {},
   "outputs": [
    {
     "data": {
      "text/plain": [
       "{'max': {'PELVIS_ANGULAR_MOMENTUM': 0.34,\n",
       "  'TORSO_ANGULAR_MOMENTUM': 10.08,\n",
       "  'LEAD_UPA_ANGULAR_MOMENTUM': 0.61,\n",
       "  'LEAD_FA_ANGULAR_MOMENTUM': 0.45},\n",
       " 'max_time': {'PELVIS_ANGULAR_MOMENTUM': 164,\n",
       "  'TORSO_ANGULAR_MOMENTUM': 158,\n",
       "  'LEAD_UPA_ANGULAR_MOMENTUM': 181,\n",
       "  'LEAD_FA_ANGULAR_MOMENTUM': 172},\n",
       " 'fc_time': {'PELVIS_ANGULAR_MOMENTUM': 0.22,\n",
       "  'TORSO_ANGULAR_MOMENTUM': 5.07,\n",
       "  'LEAD_UPA_ANGULAR_MOMENTUM': 0.16,\n",
       "  'LEAD_FA_ANGULAR_MOMENTUM': 0.12},\n",
       " 'mer_time': {'PELVIS_ANGULAR_MOMENTUM': 0.33,\n",
       "  'TORSO_ANGULAR_MOMENTUM': 8.66,\n",
       "  'LEAD_UPA_ANGULAR_MOMENTUM': 0.37,\n",
       "  'LEAD_FA_ANGULAR_MOMENTUM': 0.3},\n",
       " 'br_time': {'PELVIS_ANGULAR_MOMENTUM': 0.12,\n",
       "  'TORSO_ANGULAR_MOMENTUM': 5.44,\n",
       "  'LEAD_UPA_ANGULAR_MOMENTUM': 0.23,\n",
       "  'LEAD_FA_ANGULAR_MOMENTUM': 0.42},\n",
       " 'min': {'PELVIS_ANGULAR_MOMENTUM': 0.02,\n",
       "  'TORSO_ANGULAR_MOMENTUM': 0.34,\n",
       "  'LEAD_UPA_ANGULAR_MOMENTUM': 0.01,\n",
       "  'LEAD_FA_ANGULAR_MOMENTUM': 0.0},\n",
       " 'min_time': {'PELVIS_ANGULAR_MOMENTUM': 4,\n",
       "  'TORSO_ANGULAR_MOMENTUM': 101,\n",
       "  'LEAD_UPA_ANGULAR_MOMENTUM': 0,\n",
       "  'LEAD_FA_ANGULAR_MOMENTUM': 6}}"
      ]
     },
     "execution_count": 6,
     "metadata": {},
     "output_type": "execute_result"
    }
   ],
   "source": [
    "angular_momentum_values"
   ]
  },
  {
   "cell_type": "code",
   "execution_count": 74,
   "metadata": {},
   "outputs": [
    {
     "name": "stdout",
     "output_type": "stream",
     "text": [
      "REAR_FA_LINEAR_MOMENTUM_X\n",
      "REAR_FA_LINEAR_MOMENTUM_Y\n",
      "REAR_FA_LINEAR_MOMENTUM_Z\n",
      "LEAD_FOOT_LINEAR_MOMENTUM_X\n",
      "LEAD_FOOT_LINEAR_MOMENTUM_Y\n",
      "LEAD_FOOT_LINEAR_MOMENTUM_Z\n",
      "REAR_HAND_LINEAR_MOMENTUM_X\n",
      "REAR_HAND_LINEAR_MOMENTUM_Y\n",
      "REAR_HAND_LINEAR_MOMENTUM_Z\n",
      "LEAD_SHANK_LINEAR_MOMENTUM_X\n",
      "LEAD_SHANK_LINEAR_MOMENTUM_Y\n",
      "LEAD_SHANK_LINEAR_MOMENTUM_Z\n",
      "LEAD_THIGH_LINEAR_MOMENTUM_X\n",
      "LEAD_THIGH_LINEAR_MOMENTUM_Y\n",
      "LEAD_THIGH_LINEAR_MOMENTUM_Z\n",
      "REAR_UPA_LINEAR_MOMENTUM_X\n",
      "REAR_UPA_LINEAR_MOMENTUM_Y\n",
      "REAR_UPA_LINEAR_MOMENTUM_Z\n",
      "PELVIS_LINEAR_MOMENTUM_X\n",
      "PELVIS_LINEAR_MOMENTUM_Y\n",
      "PELVIS_LINEAR_MOMENTUM_Z\n",
      "LEAD_FA_LINEAR_MOMENTUM_X\n",
      "LEAD_FA_LINEAR_MOMENTUM_Y\n",
      "LEAD_FA_LINEAR_MOMENTUM_Z\n",
      "REAR_FOOT_LINEAR_MOMENTUM_X\n",
      "REAR_FOOT_LINEAR_MOMENTUM_Y\n",
      "REAR_FOOT_LINEAR_MOMENTUM_Z\n",
      "LEAD_HAND_LINEAR_MOMENTUM_X\n",
      "LEAD_HAND_LINEAR_MOMENTUM_Y\n",
      "LEAD_HAND_LINEAR_MOMENTUM_Z\n",
      "REAR_SHANK_LINEAR_MOMENTUM_X\n",
      "REAR_SHANK_LINEAR_MOMENTUM_Y\n",
      "REAR_SHANK_LINEAR_MOMENTUM_Z\n",
      "REAR_THIGH_LINEAR_MOMENTUM_X\n",
      "REAR_THIGH_LINEAR_MOMENTUM_Y\n",
      "REAR_THIGH_LINEAR_MOMENTUM_Z\n",
      "LEAD_UPA_LINEAR_MOMENTUM_X\n",
      "LEAD_UPA_LINEAR_MOMENTUM_Y\n",
      "LEAD_UPA_LINEAR_MOMENTUM_Z\n",
      "TORSO_LINEAR_MOMENTUM_X\n",
      "TORSO_LINEAR_MOMENTUM_Y\n",
      "TORSO_LINEAR_MOMENTUM_Z\n",
      "REAR_FA_LINEAR_MOMENTUM\n",
      "LEAD_FOOT_LINEAR_MOMENTUM\n",
      "REAR_HAND_LINEAR_MOMENTUM\n",
      "LEAD_SHANK_LINEAR_MOMENTUM\n",
      "LEAD_THIGH_LINEAR_MOMENTUM\n",
      "REAR_UPA_LINEAR_MOMENTUM\n",
      "PELVIS_LINEAR_MOMENTUM\n",
      "LEAD_FA_LINEAR_MOMENTUM\n",
      "REAR_FOOT_LINEAR_MOMENTUM\n",
      "LEAD_HAND_LINEAR_MOMENTUM\n",
      "REAR_SHANK_LINEAR_MOMENTUM\n",
      "REAR_THIGH_LINEAR_MOMENTUM\n",
      "LEAD_UPA_LINEAR_MOMENTUM\n",
      "TORSO_LINEAR_MOMENTUM\n"
     ]
    }
   ],
   "source": [
    "ENERGY = []\n",
    "for c in kine_filtered.columns:\n",
    "    if 'LINEAR_MOMENTUM' in c:\n",
    "        print(c)\n"
   ]
  },
  {
   "cell_type": "code",
   "execution_count": 19,
   "metadata": {},
   "outputs": [],
   "source": [
    "lin_mmt_cols = {\n",
    "     \"LEAD_SHANK_LINEAR_MOMENTUM\": [\"SHANK\", \"#A4C2F4\"],\n",
    "     \"LEAD_THIGH_LINEAR_MOMENTUM\": [\"THIGH\", \"#A4F4A4\"],\n",
    "     \"PELVIS_LINEAR_MOMENTUM\": [\"PELVIS\", \"#FFF58F\"],\n",
    "     \"TORSO_LINEAR_MOMENTUM\": [\"TORSO\", \"#FFB6C1\"],\n",
    "     \"LEAD_UPA_LINEAR_MOMENTUM\": [\"ARM\", \"#C8A2C8\"],\n",
    "     \"LEAD_FA_LINEAR_MOMENTUM\": [\"FOREARM\", \"#FFD1A4\"],\n",
    "}\n",
    "\n",
    "ang_mmt_cols = {\n",
    "     \"LEAD_SHANK_ANGULAR_MOMENTUM\": [\"SHANK\", \"#A4C2F4\"],\n",
    "     \"LEAD_THIGH_ANGULAR_MOMENTUM\": [\"THIGH\", \"#A4F4A4\"],\n",
    "     \"PELVIS_ANGULAR_MOMENTUM\": [\"PELVIS\", \"#FFF58F\"],\n",
    "     \"TORSO_ANGULAR_MOMENTUM\": [\"TORSO\", \"#FFB6C1\"],\n",
    "     \"LEAD_UPA_ANGULAR_MOMENTUM\": [\"ARM\", \"#C8A2C8\"],\n",
    "     \"LEAD_FA_ANGULAR_MOMENTUM\": [\"FOREARM\", \"#FFD1A4\"],\n",
    "}\n",
    "energy_cols = {\n",
    "    \"LEAD_SHANK_NET_SP\" : [\"SHANK\", \"#A4C2F4\"],\n",
    "    \"LEAD_THIGH_NET_SP\" : [\"THIGH\", \"#A4F4A4\"],\n",
    "    \"PELVIS_NET_SP\" : [\"PELVIS\", \"#FFF58F\"],\n",
    "    \"TORSO_NET_SP\" : [\"TORSO\", \"#FFB6C1\"],\n",
    "    \"LEAD_ARM_NET_SP\" : [\"ARM\", \"#C8A2C8\"],\n",
    "    \"LEAD_FOREARM_NET_SP\" : [\"FOREARM\", \"#FFD1A4\"],\n",
    "}\n",
    "\n",
    "energy_cols = {\n",
    "     \"LEAD_SHANK_LINEAR_MOMENTUM\": \"SHANK LINEAR MOMENTUM\",\n",
    "     \"LEAD_THIGH_LINEAR_MOMENTUM\": \"THIGH LINEAR MOMENTUM\",\n",
    "     \"PELVIS_LINEAR_MOMENTUM\": \"PELVIS LINEAR MOMENTUM\",\n",
    "     \"TORSO_LINEAR_MOMENTUM\": \"TORSO LINEAR MOMENTUM\",\n",
    "     \"LEAD_UPA_LINEAR_MOMENTUM\": \"ARM LINEAR MOMENTUM\",\n",
    "     \"LEAD_FA_LINEAR_MOMENTUM\": \"FOREARM LINEAR MOMENTUM\",\n",
    "     \"LEAD_SHANK_ANGULAR_MOMENTUM\": \"SHANK ANGULAR MOMENTUM\",\n",
    "     \"LEAD_THIGH_ANGULAR_MOMENTUM\": \"THIGH ANGULAR MOMENTUM\",\n",
    "     \"PELVIS_ANGULAR_MOMENTUM\": \"PELVIS ANGULAR MOMENTUM\",\n",
    "     \"TORSO_ANGULAR_MOMENTUM\": \"TORSO ANGULAR MOMENTUM\",\n",
    "     \"LEAD_UPA_ANGULAR_MOMENTUM\": \"ARM ANGULAR MOMENTUM\",\n",
    "     \"LEAD_FA_ANGULAR_MOMENTUM\": \"FOREARM ANGULAR MOMENTUM\",\n",
    "     \"LEAD_SHANK_NET_SP\" : \"SHANK POWER\",\n",
    "     \"LEAD_THIGH_NET_SP\" : \"THIGH POWER\",\n",
    "     \"PELVIS_NET_SP\" : \"PELVIS POWER\",\n",
    "     \"TORSO_NET_SP\" : \"TORSO POWER\",\n",
    "     \"LEAD_ARM_NET_SP\" : \"ARM POWER\",\n",
    "     \"LEAD_FOREARM_NET_SP\" : \"FOREARM POWER\",\n",
    "}"
   ]
  },
  {
   "cell_type": "code",
   "execution_count": 15,
   "metadata": {},
   "outputs": [],
   "source": [
    "import plotly.graph_objs as go\n",
    "def energy_plotly(data, cols, time, k_kh_time, k_fc_time, k_mer_time, k_br_time):\n",
    "    ang = {\n",
    "        'max'       : {},\n",
    "        'max_time'  : {},\n",
    "        'min'       : {},\n",
    "        'min_time'  : {},\n",
    "        'fc_time'   : {},\n",
    "        'mer_time'  : {},\n",
    "        'br_time'   : {},\n",
    "    }\n",
    "    \n",
    "    figures = {}\n",
    "    \n",
    "    for col in cols:\n",
    "        df = data[col]\n",
    "        if 'LINEAR_MOMENTUM' in col:\n",
    "            y_label = 'Momentum [kg*m²/s]'\n",
    "        elif 'ANGULAR_MOMENTUM' in col:\n",
    "            y_label = 'Momentum [kg*m²/(s*rad)]'\n",
    "        elif 'NET' in col:\n",
    "            y_label = 'Power [W/kg]'\n",
    "        # Create the trace for the main data line\n",
    "        trace = go.Scatter(x=time, y=df, mode='lines', name=cols[col], line=dict(color='firebrick', width=4))\n",
    "        traces = [trace]\n",
    "        \n",
    "        ang['fc_time'][col]   = round(df[k_fc_time], 2)\n",
    "        ang['mer_time'][col]  = round(df[k_mer_time], 2)\n",
    "        ang['br_time'][col]   = round(df[k_br_time], 2)\n",
    "        ang['max'][col]       = round(df.max(), 2)\n",
    "        ang['max_time'][col] = np.where(df == df.min())[0][0]\n",
    "        ang['min'][col]       = round(df.max(), 2)\n",
    "        ang['min_time'][col] = np.where(df == df.min())[0][0]\n",
    "        \n",
    "        event_times = [k_kh_time, k_fc_time, k_mer_time, k_br_time]\n",
    "        event_names = ['KH', 'FC', 'MER', 'BR']\n",
    "        shapes = [\n",
    "            {\n",
    "                'type': 'line',\n",
    "                'xref': 'x',\n",
    "                'yref': 'paper',\n",
    "                'x0': time[event_time],\n",
    "                'y0': 0,\n",
    "                'x1': time[event_time],\n",
    "                'y1': 1,\n",
    "                'opacity' : 0.5,\n",
    "                'line': {\n",
    "                    'color': 'cyan',\n",
    "                    'width': 4,\n",
    "                    'dash': 'dash',\n",
    "                }\n",
    "            } for event_time in event_times\n",
    "        ]\n",
    "        annotations = [\n",
    "            {\n",
    "                'x': time[event_time + 2],\n",
    "                'y': 1,\n",
    "                'xref': 'x',\n",
    "                'yref': 'paper',\n",
    "                'text': label,\n",
    "                'showarrow': False,\n",
    "                'font': {\n",
    "                    'color': 'cyan',\n",
    "                    'size' : 16\n",
    "                },\n",
    "                'textangle': -90\n",
    "            } for event_time, label in zip(event_times, event_names)\n",
    "        ]\n",
    "        \n",
    "        # Define the layout\n",
    "        layout = go.Layout(\n",
    "            title=f'{cols[col]}',\n",
    "            xaxis=dict(title='Time [s]',\n",
    "                       showgrid=False),\n",
    "            yaxis=dict(title=y_label,\n",
    "                       autorange = True,\n",
    "                       rangemode='tozero',\n",
    "                        showgrid=True,         # This will show the horizontal gridlines\n",
    "                        gridcolor='lightgrey',\n",
    "                        gridwidth=1,\n",
    "                        zeroline=False,\n",
    "                        ),                        \n",
    "            showlegend=False,\n",
    "            shapes =shapes,\n",
    "            margin=dict(l=40, r=40, t=40, b=40),\n",
    "            height=600,\n",
    "            plot_bgcolor='rgb(43,48,61)',\n",
    "            annotations=annotations\n",
    "        )\n",
    "        \n",
    "        # Create the figure and add the traces to it\n",
    "        fig = go.Figure(data=traces, layout=layout)\n",
    "        \n",
    "        # Store the figure in the dictionary\n",
    "        figures[col] = fig\n",
    "        \n",
    "    return ang, figures\n"
   ]
  },
  {
   "cell_type": "code",
   "execution_count": 28,
   "metadata": {},
   "outputs": [],
   "source": [
    "def save_feedback(df, csv_file, name, date, trial, feedback):\n",
    "    new_feedback = pd.DataFrame({\n",
    "        'name' : [name],\n",
    "        'date' : [date],\n",
    "        'trial' : [trial],\n",
    "        'feedback' : [feedback]})\n",
    "    \n",
    "    df_updated = pd.concat([df,new_feedback], ignore_index=True)\n",
    "    df_updated.to_csv(csv_file, index=False)\n",
    "    \n",
    "    return df_updated\n",
    "\n",
    "# save_feedback(feedback_df, csv_file, selected_name, selected_date, selected_trial, feedback_input)\n",
    "feedback_df = pd.read_csv(csv_file)\n",
    "filtered_feedback = [i for i in feedback_df[(feedback_df['name'] == selected_name) & \n",
    "                                        (feedback_df['date'] == int(selected_date)) & \n",
    "                                        (feedback_df['trial'] == int(selected_trial))]['feedback'].values]"
   ]
  },
  {
   "cell_type": "code",
   "execution_count": 34,
   "metadata": {},
   "outputs": [
    {
     "data": {
      "text/plain": [
       "[\"['피드백 진행 사항 이렇게 진행되는게 맞는건지?\\\\n                  근데  이게 맞아?']\",\n",
       " '피드백 진행 사항 이렇게 진행되는게 맞는건지?  근데 이게 맞아?\\n뭔가 이상한데?']"
      ]
     },
     "execution_count": 34,
     "metadata": {},
     "output_type": "execute_result"
    }
   ],
   "source": [
    "[i for i in filtered_feedback.values]"
   ]
  },
  {
   "cell_type": "code",
   "execution_count": 18,
   "metadata": {},
   "outputs": [
    {
     "data": {
      "text/plain": [
       "0    피드백 남기기\n",
       "Name: feedback, dtype: object"
      ]
     },
     "execution_count": 18,
     "metadata": {},
     "output_type": "execute_result"
    }
   ],
   "source": [
    "feedback_df[(feedback_df['name'] == 'Kangmingu') & \n",
    "                                        (feedback_df['date'] == int('20240324')) & \n",
    "                                        (feedback_df['trial'] == 1)]['feedback']"
   ]
  },
  {
   "cell_type": "code",
   "execution_count": 17,
   "metadata": {},
   "outputs": [],
   "source": [
    "kinematic_values, kinematic_fig = energy_plotly(kine_filtered, energy_cols, k_time, k_kh_time1, k_fc_time, k_mer_time, k_br_time)\n"
   ]
  },
  {
   "cell_type": "code",
   "execution_count": 18,
   "metadata": {},
   "outputs": [
    {
     "data": {
      "application/vnd.plotly.v1+json": {
       "config": {
        "plotlyServerURL": "https://plot.ly"
       },
       "data": [
        {
         "line": {
          "color": "firebrick",
          "width": 4
         },
         "mode": "lines",
         "name": "SHANK LINEAR MOMENTUM",
         "type": "scatter",
         "x": [
          1.8,
          1.80556,
          1.81111,
          1.81667,
          1.82222,
          1.82778,
          1.83333,
          1.83889,
          1.84444,
          1.85,
          1.85556,
          1.86111,
          1.86667,
          1.87222,
          1.87778,
          1.88333,
          1.88889,
          1.89444,
          1.9,
          1.90556,
          1.91111,
          1.91667,
          1.92222,
          1.92778,
          1.93333,
          1.93889,
          1.94444,
          1.95,
          1.95556,
          1.96111,
          1.96667,
          1.97222,
          1.97778,
          1.98333,
          1.98889,
          1.99444,
          2,
          2.00556,
          2.01111,
          2.01667,
          2.02222,
          2.02778,
          2.03333,
          2.03889,
          2.04444,
          2.05,
          2.05556,
          2.06111,
          2.06667,
          2.07222,
          2.07778,
          2.08333,
          2.08889,
          2.09444,
          2.1,
          2.10556,
          2.11111,
          2.11667,
          2.12222,
          2.12778,
          2.13333,
          2.13889,
          2.14444,
          2.15,
          2.15556,
          2.16111,
          2.16667,
          2.17222,
          2.17778,
          2.18333,
          2.18889,
          2.19444,
          2.2,
          2.20556,
          2.21111,
          2.21667,
          2.22222,
          2.22778,
          2.23333,
          2.23889,
          2.24444,
          2.25,
          2.25556,
          2.26111,
          2.26667,
          2.27222,
          2.27778,
          2.28333,
          2.28889,
          2.29444,
          2.3,
          2.30556,
          2.31111,
          2.31667,
          2.32222,
          2.32778,
          2.33333,
          2.33889,
          2.34444,
          2.35,
          2.35556,
          2.36111,
          2.36667,
          2.37222,
          2.37778,
          2.38333,
          2.38889,
          2.39444,
          2.4,
          2.40556,
          2.41111,
          2.41667,
          2.42222,
          2.42778,
          2.43333,
          2.43889,
          2.44444,
          2.45,
          2.45556,
          2.46111,
          2.46667,
          2.47222,
          2.47778,
          2.48333,
          2.48889,
          2.49444,
          2.5,
          2.50556,
          2.51111,
          2.51667,
          2.52222,
          2.52778,
          2.53333,
          2.53889,
          2.54444,
          2.55,
          2.55556,
          2.56111,
          2.56667,
          2.57222,
          2.57778,
          2.58333,
          2.58889,
          2.59444,
          2.6,
          2.60556,
          2.61111,
          2.61667,
          2.62222,
          2.62778,
          2.63333,
          2.63889,
          2.64444,
          2.65,
          2.65556,
          2.66111,
          2.66667,
          2.67222,
          2.67778,
          2.68333,
          2.68889,
          2.69444,
          2.7,
          2.70556,
          2.71111,
          2.71667,
          2.72222,
          2.72778,
          2.73333,
          2.73889,
          2.74444,
          2.75,
          2.75556,
          2.76111,
          2.76667,
          2.77222,
          2.77778,
          2.78333,
          2.78889,
          2.79444,
          2.8,
          2.80556,
          2.81111,
          2.81667,
          2.82222,
          2.82778,
          2.83333,
          2.83889,
          2.84444,
          2.85,
          2.85556,
          2.86111,
          2.86667,
          2.87222,
          2.87778,
          2.88333,
          2.88889,
          2.89444,
          2.9,
          2.90556,
          2.91111,
          2.91667,
          2.92222,
          2.92778,
          2.93333,
          2.93889,
          2.94444,
          2.95,
          2.95556,
          2.96111
         ],
         "y": [
          0.0165898958248624,
          0.7062973121340412,
          1.3617643646917816,
          1.9059137883633448,
          2.3075501949816397,
          2.55957930879956,
          2.678163442510849,
          2.696903836036278,
          2.6577829694983506,
          2.6014335265385187,
          2.5591012273021425,
          2.547894124224587,
          2.570225648760523,
          2.617465924857596,
          2.6762466609859654,
          2.734669811364658,
          2.786079634333627,
          2.8296363811888816,
          2.868489531611031,
          2.9071055777078665,
          2.9490406066489596,
          2.995604515832425,
          3.0452684838697124,
          3.093697349793119,
          3.1345542199788956,
          3.161180520278114,
          3.1688231358478407,
          3.1566366452798076,
          3.1286397805510937,
          3.0932191403847704,
          3.0613534497565023,
          3.0441255911764284,
          3.0501749383767605,
          3.083609242194149,
          3.1426964704864204,
          3.21955174943465,
          3.301069558242202,
          3.3712928585206043,
          3.4149670413708164,
          3.421338183528932,
          3.3868789776982955,
          3.3159461755678006,
          3.219211521094692,
          3.110528209827154,
          3.003290581330134,
          2.907317745934287,
          2.8270734856272255,
          2.7616801489069673,
          2.706575450274559,
          2.6559821220485476,
          2.6051115893742085,
          2.551373180994201,
          2.49443864732201,
          2.435420084853266,
          2.3756018433417614,
          2.3152587032404672,
          2.2531116160292823,
          2.186764600132151,
          2.113974746741109,
          2.0340948989444456,
          1.948893427865989,
          1.862330212699639,
          1.7794712041024567,
          1.705103898897414,
          1.6425554804122813,
          1.5929171410833067,
          1.5547054170771932,
          1.5240443685018872,
          1.495494313304619,
          1.4634579286524674,
          1.423768906948502,
          1.3749215857578132,
          1.3185534031350568,
          1.2590809228507576,
          1.2026259072396694,
          1.155525499699677,
          1.1228342902461723,
          1.1072101916217705,
          1.1083419339957334,
          1.1228607462190343,
          1.1447982877787193,
          1.166817814092873,
          1.182125388223494,
          1.1863687199843838,
          1.178628503430181,
          1.1610439648155353,
          1.1373800734445982,
          1.1114237294258411,
          1.0860652094653702,
          1.0632512687236289,
          1.0442232775374962,
          1.029321850089954,
          1.0173616762714626,
          1.005433146520875,
          0.9899069642389632,
          0.9683085731993294,
          0.9407376977487764,
          0.909657769029538,
          0.8781153771010497,
          0.8478453319389051,
          0.8189258135400272,
          0.7911381453069279,
          0.7654690232258204,
          0.7441613791795,
          0.7291897033224423,
          0.7204344000997462,
          0.7150035125204288,
          0.7081155182813266,
          0.6948383079569954,
          0.6717327494274989,
          0.6378543313397377,
          0.5949955377245146,
          0.5472856021640367,
          0.5003232841706409,
          0.4598621043343323,
          0.429827977001326,
          0.4099427655104138,
          0.3947397720396455,
          0.3757163851948175,
          0.3455750370743216,
          0.3020919257001457,
          0.2505861320022747,
          0.20490517801274,
          0.1827839952670541,
          0.1873257553914226,
          0.1996086921123078,
          0.200542930300776,
          0.182866534559769,
          0.1509703172436799,
          0.1211166388355515,
          0.1176742168436703,
          0.143134535143819,
          0.1751673852509025,
          0.1989020588467519,
          0.2105968146670611,
          0.212956076440268,
          0.2112588091010732,
          0.2095579237323225,
          0.208126580573046,
          0.203963099011103,
          0.1934423366517388,
          0.1745037060612073,
          0.1473993879247039,
          0.1147957027168289,
          0.0826309714206426,
          0.0628056796882956,
          0.0663854489288269,
          0.081374850364746,
          0.0912334725135959,
          0.0896880411671244,
          0.0791317532345615,
          0.0719641311501931,
          0.0842215207286322,
          0.1118769985290516,
          0.1392241990070939,
          0.1548444582808002,
          0.1522338867955597,
          0.1293397306221007,
          0.0888745532115889,
          0.0404578944034394,
          0.0369886235016748,
          0.0821511781717865,
          0.1187619799111134,
          0.1383312556285846,
          0.1406959009350151,
          0.131390004975366,
          0.1203011055219949,
          0.116284920621966,
          0.1190029366836506,
          0.1206983842280079,
          0.11644096528738,
          0.1098542932793171,
          0.11200339577473,
          0.130144209579814,
          0.1583797375669432,
          0.186259328162872,
          0.206620225177507,
          0.2164741683463621,
          0.216150620312374,
          0.2081450793875559,
          0.1957497793887626,
          0.1821396165093991,
          0.1712537708784619,
          0.1700685677959712,
          0.1867201892484501,
          0.2217059029538326,
          0.2653627814135325,
          0.3049698428654102,
          0.3304742190151943,
          0.3368748605942078,
          0.3250191534208957,
          0.3012561814050538,
          0.2756496965362708,
          0.2582408818021718,
          0.2543883055601977,
          0.2635625618787088,
          0.2832266811056222,
          0.3120626335081459,
          0.3493389297388522,
          0.3933142141935761,
          0.4411632301606539,
          0.4899526997430029,
          0.5374243471075102,
          0.5821585498864872,
          0.6233144019044541,
          0.6603064158488626,
          0.692746008864965,
          0.7207579284094109,
          0.7454318701720457,
          0.7690126137760864,
          0.794667261909371,
          0.8260173873322814,
          0.8666702221418287,
          0.9197421227513358,
          0.987263738944887,
          1.0695955206568328,
          1.165209811698716,
          1.2710245631856674,
          1.3831022498514858,
          1.4974105824360258,
          1.6105059825273305,
          1.7201362522472416,
          1.8257386910779685,
          1.928757253253536,
          2.0327008150508115,
          2.142880508022387,
          2.2657959832613788,
          2.4082453579014964,
          2.57638127713029,
          2.7749809742401115,
          3.007070834193261,
          3.2738497765785732,
          3.5747327315259105,
          3.9073563164679985,
          4.267547297313978,
          4.649439231022042,
          5.045982505303024,
          5.449996034384762,
          5.8557263629015415,
          6.260637338302981,
          6.666859579010153,
          7.081522662781003,
          7.515304676644852,
          7.979073895802425,
          8.479315644002606,
          9.013763368486757,
          9.568887508495976,
          10.120455837724208,
          10.63741964338896,
          11.088282789966431,
          11.448255146938656,
          11.705126393318338,
          11.862059459695832,
          11.936429148088164,
          11.955196311609631,
          11.948519324333713,
          11.943703748140482,
          11.961019084840393,
          12.011876062020695,
          12.099045215351625,
          12.218299574240648,
          12.360902877619273,
          12.516415985842864,
          12.67521642479014,
          12.830068433983554,
          12.976307977038314,
          13.110776005037089,
          13.230258213426644,
          13.33045471143387,
          13.406205733303748,
          13.4530046024103,
          13.469122805674347,
          13.45729256203043,
          13.424999066296582,
          13.383021348172791,
          13.342724166069369,
          13.313294368013166,
          13.300130450418536,
          13.304829084688214,
          13.3262092228405,
          13.361355207699669,
          13.406024085345235,
          13.454495671973994,
          13.499396257371355,
          13.531973416689915,
          13.542988981139032,
          13.52413390444059,
          13.469705684771576,
          13.378127636395508,
          13.252745657963636,
          13.101396081267085,
          12.934629306105258,
          12.763066853366768,
          12.59481973940864,
          12.433900563484595,
          12.280088173255788,
          12.13003343036636,
          11.97893684274841,
          11.8221122045718,
          11.65605366322736,
          11.478934209715806,
          11.290591530004352,
          11.092054975176204,
          10.884680197995593,
          10.669048997171778,
          10.44392517416984,
          10.205660448142966,
          9.948434226996838,
          9.665514005683468,
          9.351348370530673,
          9.00389214983806,
          8.626317520262335,
          8.227318781606337,
          7.81957065778492,
          7.416480183789957,
          7.028098564607726,
          6.657715563874318,
          6.3007575818237544,
          5.946725277516317,
          5.583382921790377,
          5.201368479727117,
          4.797613710956056,
          4.377088914002116,
          3.953413519040166,
          3.5490221721042223,
          3.19455862165141,
          2.925252588131081,
          2.771169227016667,
          2.743227107343681,
          2.8267636052133316,
          2.991291978632516,
          3.2068637970399307,
          3.453457670312155,
          3.721408600489287,
          4.007443457004549,
          4.310234400405377,
          4.627420748080635,
          4.954702023069675,
          5.286704544615547,
          5.618726140114534,
          5.948223179616067,
          6.275118933381322,
          6.600688968447986,
          6.925636342032254,
          7.248448530296306,
          7.564855070578067,
          7.868446099579254,
          8.151946722825798,
          8.408638516928429,
          8.633704714414915,
          8.825371427994844,
          8.985548512567478,
          9.11959261448693,
          9.235088521729349,
          9.340028716785971,
          9.441104990717337,
          9.542771964824375,
          9.647312710894331,
          9.755570593646128,
          9.867675627823608,
          9.983246411900112,
          10.101081625486216,
          10.218825102202864,
          10.33311171693515,
          10.440304115534184,
          10.53746851846332,
          10.62304687543332,
          10.696857245786797,
          10.759452167138573,
          10.81123014777854,
          10.851830839963531,
          10.88021847064478,
          10.895557368636108,
          10.898610203769044,
          10.893045370103891,
          10.88586384519097,
          10.886310838673255,
          10.90320970018822,
          10.941506449831556,
          10.999513030394963,
          11.068355976750793,
          11.13427697403683,
          11.18310023744287,
          11.205124394923532,
          11.19844666071101,
          11.169352243794204,
          11.129630756914404,
          11.092056716951824,
          11.066183266985837,
          11.056438598477284,
          11.063171312844378,
          11.085558800604138,
          11.124401255011684,
          11.18330964639535,
          11.268038448132272,
          11.384675324600884,
          11.5376149790585,
          11.727992788773504,
          11.952952328302636,
          12.205852149821512,
          12.477229617874189,
          12.756162925115753,
          13.03174672462045,
          13.294580556477518,
          13.538187845666702,
          13.760098708931231,
          13.962195745630844,
          14.15008114951879,
          14.331628534927884,
          14.515232993890642,
          14.708308771294192,
          14.916323105833916,
          15.142332923934145,
          15.38682629948365,
          15.647716093804943,
          15.920485262795308,
          16.19857447521669,
          16.474041343615227,
          16.73837980627863,
          16.983322824608717,
          17.201529113910638,
          17.387195671750113,
          17.536694053028437,
          17.649209568433914,
          17.727138068679,
          17.775871971301175,
          17.80275380240408,
          17.81534073074394,
          17.819456819672173,
          17.81758631130195,
          17.807983480675684,
          17.784636492206303,
          17.738101992607938,
          17.657229221969107,
          17.53175636303855,
          17.355507515634983,
          17.129453565015872,
          16.863512751145624,
          16.576046955509693,
          16.290699611286787,
          16.031237012881842,
          15.815879664781065,
          15.652849144169506,
          15.538429372327007,
          15.457981211713465,
          15.38948588147458,
          15.308683361796676,
          15.194713734137816,
          15.03509551367781,
          14.828797343149754,
          14.586345267304964,
          14.326624483025649,
          14.071135338216324,
          13.837423748774084,
          13.633737926837476,
          13.456553338572206,
          13.291693239786929,
          13.1186935478158,
          12.917110180354072,
          12.6729001657758,
          12.38302145982506,
          12.056974258487582,
          11.7148463058529,
          11.382158602974462,
          11.082359616360357,
          10.828460216906862,
          10.61617782273724,
          10.421471692371703,
          10.204502229952409,
          9.919757622274531,
          9.529617709853532,
          9.017158093206511,
          8.393652910083615,
          7.696853489407223,
          6.978307029575226,
          6.282791583343947,
          5.629625489609833,
          5.0083791473769175,
          4.393163796983999,
          3.7651864076457904,
          3.1285389072316185,
          2.512529014011252,
          1.963123994515012,
          1.528166324276773,
          1.2381589714713352,
          1.0888171016634047,
          1.0489424830427423,
          1.094419482525938,
          1.221133866490378,
          1.4286725266781135,
          1.7097115385748076,
          2.054089818336221,
          2.4536200834922237,
          2.901703581783523,
          3.390430344438249,
          3.907883149127468,
          4.436340527398788,
          4.951324341595871,
          5.421654314727722,
          5.8107930745307295,
          6.079497859406774,
          6.189508457046736,
          6.107972673025257,
          5.812397502025646,
          5.295838949591636,
          4.571904841987355,
          3.6798372790351777,
          2.6943858250566173,
          1.7677361937332892,
          1.2974360143834376,
          1.6815279312119695,
          2.4219511526041893,
          3.1241463953940447,
          3.664983591167434,
          4.003143957020067,
          4.130389783704822,
          4.05831033100064,
          3.8132330366198297,
          3.4335009747994647,
          2.966696890682697,
          2.4653038442373525,
          1.980401485633437,
          1.5547738793619337,
          1.21940325560885,
          0.9985102631207932,
          0.9167488061022048,
          0.9798080900542544,
          1.147244700815423,
          1.356594268836048,
          1.554942030507977,
          1.706502989133671,
          1.792194179914499,
          1.808635905701301,
          1.7668729192136483,
          1.690248948752758,
          1.6105762724243515,
          1.561174257647279,
          1.5662334701222405,
          1.631064502294822,
          1.7414217149982232,
          1.8720043114508107,
          1.9957699609589736,
          2.0894860015929893,
          2.13658630458676,
          2.128880881461534,
          2.0672812820997013,
          1.961056024161611,
          1.8254018524350344,
          1.6778093123466746,
          1.534261206793101,
          1.4063349855748448,
          1.2998028730224809,
          1.214784437719602,
          1.147251557607032,
          1.091487187313606,
          1.0426914229626592,
          0.9986747743645388,
          0.9599249850296748,
          0.92816961129218,
          0.9044436843907604,
          0.888008586991881,
          0.8767412888018358,
          0.8683345987572227,
          0.8611684517344326,
          0.8543611706577803,
          0.847291849895263,
          0.8391127482452403,
          0.8286170899435411,
          0.8145086543200311,
          0.7957176531697422,
          0.7713471100057975,
          0.7404251847523983,
          0.7022241381109642,
          0.657553193443436,
          0.6103700684183606,
          0.568284622446375,
          0.5405138549944629,
          0.5332400139717053,
          0.5458039700359378,
          0.5721155622612,
          0.6057509543616669,
          0.6435668047352764,
          0.6859577880159728,
          0.7348633329109693,
          0.791072699389776,
          0.852192049139437,
          0.912173231191024,
          0.962440539629709,
          0.9939655743570672,
          0.9994799447564312,
          0.9751484751693628,
          0.921285357979275,
          0.8420859453803115,
          0.7447406097328855,
          0.6384789821942758,
          0.5339898206664345,
          0.4432981522332586,
          0.3792897582236549,
          0.3524038594144384,
          0.3638984119702183,
          0.4042710610786983,
          0.459835820324185,
          0.5170970009030026,
          0.5635392420401982,
          0.5891293004091009,
          0.5889655166561166,
          0.5653467764177539,
          0.527664460954864,
          0.4890770470833512,
          0.4600267043602589,
          0.4420324261870735,
          0.4279833875068057,
          0.409349750360046,
          0.3835665889844915,
          0.3570776563447123,
          0.3422406379108118,
          0.3466348222111616,
          0.3634213049030007,
          0.3763298528761882,
          0.3714199730952327,
          0.3432532164028412,
          0.2964091712765151,
          0.2467095484159212,
          0.2218291191736728,
          0.2434093070561902,
          0.2985722895973653,
          0.3605961951488305,
          0.4115717234136676,
          0.442142632101311,
          0.4489930204281573,
          0.4341876302612351,
          0.4049879793094442,
          0.3728181193202763,
          0.35012695984784,
          0.3448709638685335,
          0.35645746981194,
          0.3780526976357178,
          0.4018746104978118,
          0.4216516842758287,
          0.4325332766857122,
          0.4308619145232903,
          0.4146116487038845,
          0.3840423591280624,
          0.3420383028835486,
          0.2941015543495988,
          0.248313733923797,
          0.2149604798343082,
          0.2031589189470273,
          0.2131869668245008,
          0.2350482669428339,
          0.2566469788030245,
          0.2691344131026478,
          0.2678198061946907,
          0.252241376050535,
          0.225891897468816,
          0.1949146536635751,
          0.1656093423791017,
          0.1419417454928964,
          0.125609972776118,
          0.1192038379286524,
          0.1269245188722207,
          0.1490374724519654,
          0.179878607175433,
          0.2127374942246864,
          0.2430085879009484,
          0.2682363249629191,
          0.2871128285640171,
          0.2985965788816953,
          0.3017112917828379,
          0.296043146211198,
          0.2824665554500204,
          0.263452506727018,
          0.2424850792432913,
          0.2226285816933412,
          0.205164165445207,
          0.1897508400167941,
          0.1764585562015464,
          0.167842222507402,
          0.1681030028978942,
          0.1784696908044366,
          0.1942079102752892,
          0.2076041100895709,
          0.2122904312891023,
          0.2051679540370669,
          0.1864743196042497,
          0.1589922438624783,
          0.1268994683860561,
          0.0945646176612311,
          0.0656156061856339,
          0.0432493990013197,
          0.0345985665485691,
          0.0479995206301935,
          0.0756478168841633,
          0.1093868512829463,
          0.1444173989136827,
          0.1770613873613057,
          0.2048113738798171,
          0.2261514780188824,
          0.2399217881411219,
          0.2453262375968697,
          0.2434950710463924,
          0.2399604461121877,
          0.2448679315472864,
          0.266404605105382,
          0.3018244430699861,
          0.3387793644483317,
          0.3636492099306562,
          0.3670191017233932,
          0.3457151442410753,
          0.3032598662009735,
          0.2493535298451486,
          0.1980615595311276,
          0.1626575334259964,
          0.1454091562340902,
          0.1351377970870297,
          0.1218472623542266,
          0.1069828047966965,
          0.1007785869061388,
          0.1086436089225427,
          0.1227052200109946,
          0.1339360822341599,
          0.140987817548564,
          0.1496710643613063,
          0.1681671649788124,
          0.2005118343968663,
          0.2445647035578323,
          0.2947756132572487,
          0.3443369411687438,
          0.3860061439035948,
          0.4129872397108025,
          0.4201001176883631,
          0.4047822562298626,
          0.3674950193390458,
          0.3113701108095945,
          0.2412327492552851,
          0.1623872885343464,
          0.0796490092962488,
          0.0065289836411851
         ]
        }
       ],
       "layout": {
        "annotations": [
         {
          "font": {
           "color": "cyan",
           "size": 16
          },
          "showarrow": false,
          "text": "KH",
          "textangle": -90,
          "x": 1.81111,
          "xref": "x",
          "y": 1,
          "yref": "paper"
         },
         {
          "font": {
           "color": "cyan",
           "size": 16
          },
          "showarrow": false,
          "text": "FC",
          "textangle": -90,
          "x": 2.61111,
          "xref": "x",
          "y": 1,
          "yref": "paper"
         },
         {
          "font": {
           "color": "cyan",
           "size": 16
          },
          "showarrow": false,
          "text": "MER",
          "textangle": -90,
          "x": 2.73333,
          "xref": "x",
          "y": 1,
          "yref": "paper"
         },
         {
          "font": {
           "color": "cyan",
           "size": 16
          },
          "showarrow": false,
          "text": "BR",
          "textangle": -90,
          "x": 2.77778,
          "xref": "x",
          "y": 1,
          "yref": "paper"
         }
        ],
        "height": 600,
        "margin": {
         "b": 40,
         "l": 40,
         "r": 40,
         "t": 40
        },
        "plot_bgcolor": "rgb(43,48,61)",
        "shapes": [
         {
          "line": {
           "color": "cyan",
           "dash": "dash",
           "width": 4
          },
          "opacity": 0.5,
          "type": "line",
          "x0": 1.8,
          "x1": 1.8,
          "xref": "x",
          "y0": 0,
          "y1": 1,
          "yref": "paper"
         },
         {
          "line": {
           "color": "cyan",
           "dash": "dash",
           "width": 4
          },
          "opacity": 0.5,
          "type": "line",
          "x0": 2.6,
          "x1": 2.6,
          "xref": "x",
          "y0": 0,
          "y1": 1,
          "yref": "paper"
         },
         {
          "line": {
           "color": "cyan",
           "dash": "dash",
           "width": 4
          },
          "opacity": 0.5,
          "type": "line",
          "x0": 2.72222,
          "x1": 2.72222,
          "xref": "x",
          "y0": 0,
          "y1": 1,
          "yref": "paper"
         },
         {
          "line": {
           "color": "cyan",
           "dash": "dash",
           "width": 4
          },
          "opacity": 0.5,
          "type": "line",
          "x0": 2.76667,
          "x1": 2.76667,
          "xref": "x",
          "y0": 0,
          "y1": 1,
          "yref": "paper"
         }
        ],
        "showlegend": false,
        "template": {
         "data": {
          "bar": [
           {
            "error_x": {
             "color": "#2a3f5f"
            },
            "error_y": {
             "color": "#2a3f5f"
            },
            "marker": {
             "line": {
              "color": "#E5ECF6",
              "width": 0.5
             },
             "pattern": {
              "fillmode": "overlay",
              "size": 10,
              "solidity": 0.2
             }
            },
            "type": "bar"
           }
          ],
          "barpolar": [
           {
            "marker": {
             "line": {
              "color": "#E5ECF6",
              "width": 0.5
             },
             "pattern": {
              "fillmode": "overlay",
              "size": 10,
              "solidity": 0.2
             }
            },
            "type": "barpolar"
           }
          ],
          "carpet": [
           {
            "aaxis": {
             "endlinecolor": "#2a3f5f",
             "gridcolor": "white",
             "linecolor": "white",
             "minorgridcolor": "white",
             "startlinecolor": "#2a3f5f"
            },
            "baxis": {
             "endlinecolor": "#2a3f5f",
             "gridcolor": "white",
             "linecolor": "white",
             "minorgridcolor": "white",
             "startlinecolor": "#2a3f5f"
            },
            "type": "carpet"
           }
          ],
          "choropleth": [
           {
            "colorbar": {
             "outlinewidth": 0,
             "ticks": ""
            },
            "type": "choropleth"
           }
          ],
          "contour": [
           {
            "colorbar": {
             "outlinewidth": 0,
             "ticks": ""
            },
            "colorscale": [
             [
              0,
              "#0d0887"
             ],
             [
              0.1111111111111111,
              "#46039f"
             ],
             [
              0.2222222222222222,
              "#7201a8"
             ],
             [
              0.3333333333333333,
              "#9c179e"
             ],
             [
              0.4444444444444444,
              "#bd3786"
             ],
             [
              0.5555555555555556,
              "#d8576b"
             ],
             [
              0.6666666666666666,
              "#ed7953"
             ],
             [
              0.7777777777777778,
              "#fb9f3a"
             ],
             [
              0.8888888888888888,
              "#fdca26"
             ],
             [
              1,
              "#f0f921"
             ]
            ],
            "type": "contour"
           }
          ],
          "contourcarpet": [
           {
            "colorbar": {
             "outlinewidth": 0,
             "ticks": ""
            },
            "type": "contourcarpet"
           }
          ],
          "heatmap": [
           {
            "colorbar": {
             "outlinewidth": 0,
             "ticks": ""
            },
            "colorscale": [
             [
              0,
              "#0d0887"
             ],
             [
              0.1111111111111111,
              "#46039f"
             ],
             [
              0.2222222222222222,
              "#7201a8"
             ],
             [
              0.3333333333333333,
              "#9c179e"
             ],
             [
              0.4444444444444444,
              "#bd3786"
             ],
             [
              0.5555555555555556,
              "#d8576b"
             ],
             [
              0.6666666666666666,
              "#ed7953"
             ],
             [
              0.7777777777777778,
              "#fb9f3a"
             ],
             [
              0.8888888888888888,
              "#fdca26"
             ],
             [
              1,
              "#f0f921"
             ]
            ],
            "type": "heatmap"
           }
          ],
          "heatmapgl": [
           {
            "colorbar": {
             "outlinewidth": 0,
             "ticks": ""
            },
            "colorscale": [
             [
              0,
              "#0d0887"
             ],
             [
              0.1111111111111111,
              "#46039f"
             ],
             [
              0.2222222222222222,
              "#7201a8"
             ],
             [
              0.3333333333333333,
              "#9c179e"
             ],
             [
              0.4444444444444444,
              "#bd3786"
             ],
             [
              0.5555555555555556,
              "#d8576b"
             ],
             [
              0.6666666666666666,
              "#ed7953"
             ],
             [
              0.7777777777777778,
              "#fb9f3a"
             ],
             [
              0.8888888888888888,
              "#fdca26"
             ],
             [
              1,
              "#f0f921"
             ]
            ],
            "type": "heatmapgl"
           }
          ],
          "histogram": [
           {
            "marker": {
             "pattern": {
              "fillmode": "overlay",
              "size": 10,
              "solidity": 0.2
             }
            },
            "type": "histogram"
           }
          ],
          "histogram2d": [
           {
            "colorbar": {
             "outlinewidth": 0,
             "ticks": ""
            },
            "colorscale": [
             [
              0,
              "#0d0887"
             ],
             [
              0.1111111111111111,
              "#46039f"
             ],
             [
              0.2222222222222222,
              "#7201a8"
             ],
             [
              0.3333333333333333,
              "#9c179e"
             ],
             [
              0.4444444444444444,
              "#bd3786"
             ],
             [
              0.5555555555555556,
              "#d8576b"
             ],
             [
              0.6666666666666666,
              "#ed7953"
             ],
             [
              0.7777777777777778,
              "#fb9f3a"
             ],
             [
              0.8888888888888888,
              "#fdca26"
             ],
             [
              1,
              "#f0f921"
             ]
            ],
            "type": "histogram2d"
           }
          ],
          "histogram2dcontour": [
           {
            "colorbar": {
             "outlinewidth": 0,
             "ticks": ""
            },
            "colorscale": [
             [
              0,
              "#0d0887"
             ],
             [
              0.1111111111111111,
              "#46039f"
             ],
             [
              0.2222222222222222,
              "#7201a8"
             ],
             [
              0.3333333333333333,
              "#9c179e"
             ],
             [
              0.4444444444444444,
              "#bd3786"
             ],
             [
              0.5555555555555556,
              "#d8576b"
             ],
             [
              0.6666666666666666,
              "#ed7953"
             ],
             [
              0.7777777777777778,
              "#fb9f3a"
             ],
             [
              0.8888888888888888,
              "#fdca26"
             ],
             [
              1,
              "#f0f921"
             ]
            ],
            "type": "histogram2dcontour"
           }
          ],
          "mesh3d": [
           {
            "colorbar": {
             "outlinewidth": 0,
             "ticks": ""
            },
            "type": "mesh3d"
           }
          ],
          "parcoords": [
           {
            "line": {
             "colorbar": {
              "outlinewidth": 0,
              "ticks": ""
             }
            },
            "type": "parcoords"
           }
          ],
          "pie": [
           {
            "automargin": true,
            "type": "pie"
           }
          ],
          "scatter": [
           {
            "fillpattern": {
             "fillmode": "overlay",
             "size": 10,
             "solidity": 0.2
            },
            "type": "scatter"
           }
          ],
          "scatter3d": [
           {
            "line": {
             "colorbar": {
              "outlinewidth": 0,
              "ticks": ""
             }
            },
            "marker": {
             "colorbar": {
              "outlinewidth": 0,
              "ticks": ""
             }
            },
            "type": "scatter3d"
           }
          ],
          "scattercarpet": [
           {
            "marker": {
             "colorbar": {
              "outlinewidth": 0,
              "ticks": ""
             }
            },
            "type": "scattercarpet"
           }
          ],
          "scattergeo": [
           {
            "marker": {
             "colorbar": {
              "outlinewidth": 0,
              "ticks": ""
             }
            },
            "type": "scattergeo"
           }
          ],
          "scattergl": [
           {
            "marker": {
             "colorbar": {
              "outlinewidth": 0,
              "ticks": ""
             }
            },
            "type": "scattergl"
           }
          ],
          "scattermapbox": [
           {
            "marker": {
             "colorbar": {
              "outlinewidth": 0,
              "ticks": ""
             }
            },
            "type": "scattermapbox"
           }
          ],
          "scatterpolar": [
           {
            "marker": {
             "colorbar": {
              "outlinewidth": 0,
              "ticks": ""
             }
            },
            "type": "scatterpolar"
           }
          ],
          "scatterpolargl": [
           {
            "marker": {
             "colorbar": {
              "outlinewidth": 0,
              "ticks": ""
             }
            },
            "type": "scatterpolargl"
           }
          ],
          "scatterternary": [
           {
            "marker": {
             "colorbar": {
              "outlinewidth": 0,
              "ticks": ""
             }
            },
            "type": "scatterternary"
           }
          ],
          "surface": [
           {
            "colorbar": {
             "outlinewidth": 0,
             "ticks": ""
            },
            "colorscale": [
             [
              0,
              "#0d0887"
             ],
             [
              0.1111111111111111,
              "#46039f"
             ],
             [
              0.2222222222222222,
              "#7201a8"
             ],
             [
              0.3333333333333333,
              "#9c179e"
             ],
             [
              0.4444444444444444,
              "#bd3786"
             ],
             [
              0.5555555555555556,
              "#d8576b"
             ],
             [
              0.6666666666666666,
              "#ed7953"
             ],
             [
              0.7777777777777778,
              "#fb9f3a"
             ],
             [
              0.8888888888888888,
              "#fdca26"
             ],
             [
              1,
              "#f0f921"
             ]
            ],
            "type": "surface"
           }
          ],
          "table": [
           {
            "cells": {
             "fill": {
              "color": "#EBF0F8"
             },
             "line": {
              "color": "white"
             }
            },
            "header": {
             "fill": {
              "color": "#C8D4E3"
             },
             "line": {
              "color": "white"
             }
            },
            "type": "table"
           }
          ]
         },
         "layout": {
          "annotationdefaults": {
           "arrowcolor": "#2a3f5f",
           "arrowhead": 0,
           "arrowwidth": 1
          },
          "autotypenumbers": "strict",
          "coloraxis": {
           "colorbar": {
            "outlinewidth": 0,
            "ticks": ""
           }
          },
          "colorscale": {
           "diverging": [
            [
             0,
             "#8e0152"
            ],
            [
             0.1,
             "#c51b7d"
            ],
            [
             0.2,
             "#de77ae"
            ],
            [
             0.3,
             "#f1b6da"
            ],
            [
             0.4,
             "#fde0ef"
            ],
            [
             0.5,
             "#f7f7f7"
            ],
            [
             0.6,
             "#e6f5d0"
            ],
            [
             0.7,
             "#b8e186"
            ],
            [
             0.8,
             "#7fbc41"
            ],
            [
             0.9,
             "#4d9221"
            ],
            [
             1,
             "#276419"
            ]
           ],
           "sequential": [
            [
             0,
             "#0d0887"
            ],
            [
             0.1111111111111111,
             "#46039f"
            ],
            [
             0.2222222222222222,
             "#7201a8"
            ],
            [
             0.3333333333333333,
             "#9c179e"
            ],
            [
             0.4444444444444444,
             "#bd3786"
            ],
            [
             0.5555555555555556,
             "#d8576b"
            ],
            [
             0.6666666666666666,
             "#ed7953"
            ],
            [
             0.7777777777777778,
             "#fb9f3a"
            ],
            [
             0.8888888888888888,
             "#fdca26"
            ],
            [
             1,
             "#f0f921"
            ]
           ],
           "sequentialminus": [
            [
             0,
             "#0d0887"
            ],
            [
             0.1111111111111111,
             "#46039f"
            ],
            [
             0.2222222222222222,
             "#7201a8"
            ],
            [
             0.3333333333333333,
             "#9c179e"
            ],
            [
             0.4444444444444444,
             "#bd3786"
            ],
            [
             0.5555555555555556,
             "#d8576b"
            ],
            [
             0.6666666666666666,
             "#ed7953"
            ],
            [
             0.7777777777777778,
             "#fb9f3a"
            ],
            [
             0.8888888888888888,
             "#fdca26"
            ],
            [
             1,
             "#f0f921"
            ]
           ]
          },
          "colorway": [
           "#636efa",
           "#EF553B",
           "#00cc96",
           "#ab63fa",
           "#FFA15A",
           "#19d3f3",
           "#FF6692",
           "#B6E880",
           "#FF97FF",
           "#FECB52"
          ],
          "font": {
           "color": "#2a3f5f"
          },
          "geo": {
           "bgcolor": "white",
           "lakecolor": "white",
           "landcolor": "#E5ECF6",
           "showlakes": true,
           "showland": true,
           "subunitcolor": "white"
          },
          "hoverlabel": {
           "align": "left"
          },
          "hovermode": "closest",
          "mapbox": {
           "style": "light"
          },
          "paper_bgcolor": "white",
          "plot_bgcolor": "#E5ECF6",
          "polar": {
           "angularaxis": {
            "gridcolor": "white",
            "linecolor": "white",
            "ticks": ""
           },
           "bgcolor": "#E5ECF6",
           "radialaxis": {
            "gridcolor": "white",
            "linecolor": "white",
            "ticks": ""
           }
          },
          "scene": {
           "xaxis": {
            "backgroundcolor": "#E5ECF6",
            "gridcolor": "white",
            "gridwidth": 2,
            "linecolor": "white",
            "showbackground": true,
            "ticks": "",
            "zerolinecolor": "white"
           },
           "yaxis": {
            "backgroundcolor": "#E5ECF6",
            "gridcolor": "white",
            "gridwidth": 2,
            "linecolor": "white",
            "showbackground": true,
            "ticks": "",
            "zerolinecolor": "white"
           },
           "zaxis": {
            "backgroundcolor": "#E5ECF6",
            "gridcolor": "white",
            "gridwidth": 2,
            "linecolor": "white",
            "showbackground": true,
            "ticks": "",
            "zerolinecolor": "white"
           }
          },
          "shapedefaults": {
           "line": {
            "color": "#2a3f5f"
           }
          },
          "ternary": {
           "aaxis": {
            "gridcolor": "white",
            "linecolor": "white",
            "ticks": ""
           },
           "baxis": {
            "gridcolor": "white",
            "linecolor": "white",
            "ticks": ""
           },
           "bgcolor": "#E5ECF6",
           "caxis": {
            "gridcolor": "white",
            "linecolor": "white",
            "ticks": ""
           }
          },
          "title": {
           "x": 0.05
          },
          "xaxis": {
           "automargin": true,
           "gridcolor": "white",
           "linecolor": "white",
           "ticks": "",
           "title": {
            "standoff": 15
           },
           "zerolinecolor": "white",
           "zerolinewidth": 2
          },
          "yaxis": {
           "automargin": true,
           "gridcolor": "white",
           "linecolor": "white",
           "ticks": "",
           "title": {
            "standoff": 15
           },
           "zerolinecolor": "white",
           "zerolinewidth": 2
          }
         }
        },
        "title": {
         "text": "SHANK LINEAR MOMENTUM"
        },
        "xaxis": {
         "showgrid": false,
         "title": {
          "text": "Time [s]"
         }
        },
        "yaxis": {
         "autorange": true,
         "gridcolor": "lightgrey",
         "gridwidth": 1,
         "rangemode": "tozero",
         "showgrid": true,
         "title": {
          "text": "Momentum [kg*m²/s]"
         },
         "zeroline": false
        }
       }
      }
     },
     "metadata": {},
     "output_type": "display_data"
    },
    {
     "data": {
      "application/vnd.plotly.v1+json": {
       "config": {
        "plotlyServerURL": "https://plot.ly"
       },
       "data": [
        {
         "line": {
          "color": "firebrick",
          "width": 4
         },
         "mode": "lines",
         "name": "THIGH LINEAR MOMENTUM",
         "type": "scatter",
         "x": [
          1.8,
          1.80556,
          1.81111,
          1.81667,
          1.82222,
          1.82778,
          1.83333,
          1.83889,
          1.84444,
          1.85,
          1.85556,
          1.86111,
          1.86667,
          1.87222,
          1.87778,
          1.88333,
          1.88889,
          1.89444,
          1.9,
          1.90556,
          1.91111,
          1.91667,
          1.92222,
          1.92778,
          1.93333,
          1.93889,
          1.94444,
          1.95,
          1.95556,
          1.96111,
          1.96667,
          1.97222,
          1.97778,
          1.98333,
          1.98889,
          1.99444,
          2,
          2.00556,
          2.01111,
          2.01667,
          2.02222,
          2.02778,
          2.03333,
          2.03889,
          2.04444,
          2.05,
          2.05556,
          2.06111,
          2.06667,
          2.07222,
          2.07778,
          2.08333,
          2.08889,
          2.09444,
          2.1,
          2.10556,
          2.11111,
          2.11667,
          2.12222,
          2.12778,
          2.13333,
          2.13889,
          2.14444,
          2.15,
          2.15556,
          2.16111,
          2.16667,
          2.17222,
          2.17778,
          2.18333,
          2.18889,
          2.19444,
          2.2,
          2.20556,
          2.21111,
          2.21667,
          2.22222,
          2.22778,
          2.23333,
          2.23889,
          2.24444,
          2.25,
          2.25556,
          2.26111,
          2.26667,
          2.27222,
          2.27778,
          2.28333,
          2.28889,
          2.29444,
          2.3,
          2.30556,
          2.31111,
          2.31667,
          2.32222,
          2.32778,
          2.33333,
          2.33889,
          2.34444,
          2.35,
          2.35556,
          2.36111,
          2.36667,
          2.37222,
          2.37778,
          2.38333,
          2.38889,
          2.39444,
          2.4,
          2.40556,
          2.41111,
          2.41667,
          2.42222,
          2.42778,
          2.43333,
          2.43889,
          2.44444,
          2.45,
          2.45556,
          2.46111,
          2.46667,
          2.47222,
          2.47778,
          2.48333,
          2.48889,
          2.49444,
          2.5,
          2.50556,
          2.51111,
          2.51667,
          2.52222,
          2.52778,
          2.53333,
          2.53889,
          2.54444,
          2.55,
          2.55556,
          2.56111,
          2.56667,
          2.57222,
          2.57778,
          2.58333,
          2.58889,
          2.59444,
          2.6,
          2.60556,
          2.61111,
          2.61667,
          2.62222,
          2.62778,
          2.63333,
          2.63889,
          2.64444,
          2.65,
          2.65556,
          2.66111,
          2.66667,
          2.67222,
          2.67778,
          2.68333,
          2.68889,
          2.69444,
          2.7,
          2.70556,
          2.71111,
          2.71667,
          2.72222,
          2.72778,
          2.73333,
          2.73889,
          2.74444,
          2.75,
          2.75556,
          2.76111,
          2.76667,
          2.77222,
          2.77778,
          2.78333,
          2.78889,
          2.79444,
          2.8,
          2.80556,
          2.81111,
          2.81667,
          2.82222,
          2.82778,
          2.83333,
          2.83889,
          2.84444,
          2.85,
          2.85556,
          2.86111,
          2.86667,
          2.87222,
          2.87778,
          2.88333,
          2.88889,
          2.89444,
          2.9,
          2.90556,
          2.91111,
          2.91667,
          2.92222,
          2.92778,
          2.93333,
          2.93889,
          2.94444,
          2.95,
          2.95556,
          2.96111
         ],
         "y": [
          0.0285905556940508,
          0.8470360535817385,
          1.606519668784343,
          2.174578504980303,
          2.5013396639072147,
          2.58288235636567,
          2.45989102369883,
          2.2068170685897344,
          1.913682711323172,
          1.6624647925414844,
          1.5013100250961415,
          1.4315774411588391,
          1.4254531301120377,
          1.455644099574239,
          1.5064840328999682,
          1.569741731335338,
          1.640409488679574,
          1.716460482213668,
          1.7995990632106371,
          1.89464263648808,
          2.007287476804659,
          2.141151084951744,
          2.295350754838632,
          2.46354255345459,
          2.634615283987537,
          2.7947831899162496,
          2.9306505651427552,
          3.0325617513729073,
          3.0973842395900375,
          3.130133762825575,
          3.144287523686529,
          3.1607239862974645,
          3.2049418617333987,
          3.302137310814259,
          3.470487369546581,
          3.714503691427916,
          4.021433191531949,
          4.363026505010722,
          4.7026380692214245,
          5.0051362011834195,
          5.245914466825557,
          5.415859911679099,
          5.521063882937216,
          5.5782947125021956,
          5.60856085374294,
          5.63097177356118,
          5.658184592562148,
          5.694046479618664,
          5.733837595709891,
          5.767134356485712,
          5.782417884935221,
          5.771744867818819,
          5.733756574316788,
          5.674009597449835,
          5.602643579710491,
          5.530390882563829,
          5.464586065996807,
          5.406871787795054,
          5.353571515387755,
          5.298394112617223,
          5.235944636928248,
          5.1642635915420545,
          5.085439594482028,
          5.0045561363456565,
          4.928030124976067,
          4.862301097952905,
          4.812891892012155,
          4.78303386529685,
          4.77166647800852,
          4.772485376679259,
          4.776359398025781,
          4.776980818471695,
          4.775975127614498,
          4.782936704992478,
          4.8095195009023355,
          4.861875359341844,
          4.937215195209595,
          5.0261192871374485,
          5.117102169250414,
          5.199391089561096,
          5.263218137732582,
          5.299644112428722,
          5.301700441260089,
          5.266654291861415,
          5.197834898674641,
          5.104756923695971,
          5.00148049855266,
          4.90397653767591,
          4.827245270173182,
          4.782560808285488,
          4.7751242803188765,
          4.802614478246124,
          4.85516376658918,
          4.916941853792247,
          4.969027236391993,
          4.9928454467130585,
          4.97330995632628,
          4.901068864236954,
          4.77381469310588,
          4.596902303242774,
          4.38322531704626,
          4.151898039741545,
          3.925397038870856,
          3.725379838271091,
          3.568012381157125,
          3.460165092820093,
          3.3980588959705287,
          3.3692224156342343,
          3.356981143279322,
          3.345413508882093,
          3.322743829426775,
          3.2821856841735215,
          3.2206219677122956,
          3.1366073849612457,
          3.029225598693659,
          2.898087143584673,
          2.7435207467488607,
          2.566427506326717,
          2.368787025206882,
          2.156076573934156,
          1.9409846122841212,
          1.7452514432005786,
          1.5948891995565115,
          1.506290367928783,
          1.472091189114945,
          1.464465392232099,
          1.455216298510384,
          1.4324828059393726,
          1.4028409553131278,
          1.3807236875507896,
          1.372986029650467,
          1.3708293799763582,
          1.356184186010684,
          1.3154228120015206,
          1.24900282944129,
          1.1724753597043518,
          1.1094794163654274,
          1.0794586040170904,
          1.0866236845250437,
          1.118354412284727,
          1.1526169141772618,
          1.1664950768501587,
          1.1422017145003276,
          1.0713679955419624,
          0.9575803901910166,
          0.8155690151731152,
          0.6655443478662312,
          0.5237585580176757,
          0.3960906819639705,
          0.2853095745393752,
          0.2149817789268904,
          0.227844052984622,
          0.2960221711443026,
          0.359399312658478,
          0.3893824902680195,
          0.3781248303144809,
          0.3299564229879863,
          0.2630562793726667,
          0.2210774783379533,
          0.2513695559236121,
          0.3239598683874856,
          0.3831734611627669,
          0.4033345010715233,
          0.3911665512798257,
          0.390685753620646,
          0.4616254005857283,
          0.6098548849882052,
          0.7926459694015477,
          0.9685348817366072,
          1.1089658622159309,
          1.1973755683059193,
          1.2283345296212718,
          1.2058183229689383,
          1.1395590678347356,
          1.0406622897065,
          0.9193319690509404,
          0.786662106705893,
          0.6593998416877653,
          0.5634288177816416,
          0.5268376666455342,
          0.557341417522587,
          0.6369041625068231,
          0.7477858702382388,
          0.884456447849007,
          1.0437440952973442,
          1.2134882267495066,
          1.3708719275694266,
          1.4895444716461468,
          1.5496676468165584,
          1.5465418862848743,
          1.495817616633604,
          1.4334028680549278,
          1.405619208159561,
          1.4466097895088958,
          1.5583003718150823,
          1.716876125837688,
          1.895110643134162,
          2.0750974159505504,
          2.2489440549386557,
          2.4157038074986596,
          2.5788335110946625,
          2.7442247528838073,
          2.917811194968066,
          3.1026258754913845,
          3.2963081194576187,
          3.4905062840389607,
          3.6730844644380336,
          3.832702094628068,
          3.963959272286691,
          4.070857265506796,
          4.167104013972702,
          4.273048697199526,
          4.409958297334431,
          4.593282809707656,
          4.827823218986217,
          5.107606573508739,
          5.420303261167128,
          5.752702526138926,
          6.093677463464662,
          6.433927089698642,
          6.764498383742755,
          7.076525810026165,
          7.363113512225082,
          7.622563458835026,
          7.861311782191153,
          8.094875317431704,
          8.345631851808706,
          8.637482430176807,
          8.989029275560686,
          9.407838337583854,
          9.88797752245733,
          10.411657743132666,
          10.954222644741655,
          11.490578294901542,
          12.000872981357968,
          12.473912812907509,
          12.908031045963035,
          13.310232856143566,
          13.694766317814889,
          14.081612528666822,
          14.494275256327962,
          14.955719652986758,
          15.48205708119829,
          16.075263739362168,
          16.71770323588937,
          17.371420190389284,
          17.983788547482703,
          18.498740756060343,
          18.870605385599355,
          19.076482616262265,
          19.123273224570756,
          19.046646023290975,
          18.901315004659985,
          18.745069782125107,
          18.62221982474147,
          18.553297617707745,
          18.53518559755465,
          18.550421845762067,
          18.580106539380026,
          18.61419474155416,
          18.655320818047265,
          18.715637359360716,
          18.809125920177788,
          18.943490136666735,
          19.1152454162605,
          19.30925283144687,
          19.501451137663594,
          19.6627107742652,
          19.762763561267533,
          19.77462686504123,
          19.68023570187953,
          19.47672859853729,
          19.181052105614828,
          18.829844189465582,
          18.4728521172927,
          18.16105407532281,
          17.933655154419743,
          17.809225236113736,
          17.784273273598533,
          17.838606687510538,
          17.943777804321098,
          18.070643446156925,
          18.19387292785712,
          18.29336287185196,
          18.353887881893375,
          18.36465867015941,
          18.3197970219886,
          18.21948988054698,
          18.070660137757613,
          17.88608844557842,
          17.681802393147073,
          17.473422218471974,
          17.27256302036985,
          17.084363503939475,
          16.906824524776862,
          16.731999327708508,
          16.54845769738961,
          16.344157637269234,
          16.109002616638616,
          15.836752023613045,
          15.526205203948422,
          15.181469898001511,
          14.810908853643516,
          14.424509656105611,
          14.03003815424859,
          13.629034731329613,
          13.214099393723934,
          12.7688428899117,
          12.271292572683146,
          11.700384775515776,
          11.043734234158718,
          10.30391431987711,
          9.500739591526685,
          8.668427272126877,
          7.848096769839564,
          7.077102735188628,
          6.377594397142201,
          5.748286010282887,
          5.164554697876541,
          4.589301902726397,
          3.990455574622626,
          3.3566369909474223,
          2.704697432349087,
          2.078709942155484,
          1.5452121409420778,
          1.1887807647972533,
          1.082958417823491,
          1.2110873586157709,
          1.4924920145481195,
          1.880885665095034,
          2.363659213771462,
          2.936058872377717,
          3.5908326382755233,
          4.313346739112777,
          5.077545132797406,
          5.845368532029526,
          6.571698322749584,
          7.213758638088096,
          7.7424488352950815,
          8.153143196439348,
          8.472816783084555,
          8.758291728539284,
          9.080414813830338,
          9.496630269636965,
          10.027289149602664,
          10.652726782813122,
          11.33059034780571,
          12.016717186211498,
          12.676301061309308,
          13.285143585484558,
          13.827533055076431,
          14.295288132711338,
          14.68802165585974,
          15.012818482618991,
          15.282507097480968,
          15.51323152528429,
          15.722535339794192,
          15.92858204979431,
          16.15000869563833,
          16.40497582382293,
          16.70813869908627,
          17.06587455893419,
          17.472106670770287,
          17.907674001136083,
          18.344625047940884,
          18.75404069855077,
          19.11387925328765,
          19.413317459292667,
          19.652216952674213,
          19.83723839878296,
          19.977717895267265,
          20.083730955960235,
          20.16669001335741,
          20.24103958870384,
          20.32502387496323,
          20.43901868527442,
          20.601209534288067,
          20.822017346850284,
          21.099798269916143,
          21.420128115010023,
          21.759379696824812,
          22.091271133706623,
          22.393817663028063,
          22.654205484829777,
          22.870174343535865,
          23.04785163271517,
          23.19724263609131,
          23.327653801539288,
          23.445738978278268,
          23.55765790061005,
          23.67388458772916,
          23.81244401774533,
          23.996602767960987,
          24.246868414502863,
          24.5716055206677,
          24.96181042361824,
          25.39279347268939,
          25.8314106662368,
          26.245036956776097,
          26.60849830422613,
          26.90694046624898,
          27.134933894256136,
          27.293713828856788,
          27.38850897088425,
          27.426730087245375,
          27.416550575955103,
          27.365143763751355,
          27.27666183067025,
          27.151116145111423,
          26.985477928009217,
          26.777060402918416,
          26.5274364143459,
          26.244451982474136,
          25.941159598275533,
          25.632773193239913,
          25.33408844589749,
          25.05900557494434,
          24.821534175834337,
          24.636077090116657,
          24.51546233714043,
          24.467482213823743,
          24.492346184049193,
          24.582938565543827,
          24.727747639345207,
          24.91463292711195,
          25.133353237758588,
          25.375806258339225,
          25.634373644130044,
          25.899777356603984,
          26.15995496810304,
          26.40072765043563,
          26.60797855747216,
          26.770286916232045,
          26.88092166701997,
          26.938866741761977,
          26.94956326670167,
          26.92631577547583,
          26.892344706811077,
          26.881986918645357,
          26.938856051984484,
          27.10956602696735,
          27.43348420586922,
          27.9309592141802,
          28.59377928199496,
          29.38177673718687,
          30.22815838297493,
          31.053376359080772,
          31.78407801586968,
          32.3713724977917,
          32.802475488661514,
          33.101932409042945,
          33.32226355245925,
          33.52751379028064,
          33.77523704977569,
          34.10211249433581,
          34.51623688276695,
          34.9966031202268,
          35.4984638175225,
          35.962345197534816,
          36.32416826921459,
          36.52427170493823,
          36.5142197825968,
          36.26166912210866,
          35.75425277322021,
          35.002737007309605,
          34.042070150609895,
          32.927757799923036,
          31.72560608620016,
          30.495745874368215,
          29.2760292581294,
          28.07257689255888,
          26.862994640650275,
          25.610352435608903,
          24.27891564766745,
          22.842497274056363,
          21.283495624623967,
          19.588575901196208,
          17.74883309714483,
          15.76751703379482,
          13.67199880734817,
          11.523620399614368,
          9.42023071698643,
          7.489034242558052,
          5.868808196849412,
          4.679187670937995,
          3.978915746599092,
          3.748697127361166,
          3.9448357313560503,
          4.548487877628266,
          5.527863740055593,
          6.798966747938794,
          8.239060815910902,
          9.713626766415034,
          11.094942492651516,
          12.276013127396793,
          13.183544872600818,
          13.788511478084414,
          14.110662462939027,
          14.213718653429238,
          14.189613212824758,
          14.132833483524786,
          14.110552382392022,
          14.139894638309752,
          14.185274362454486,
          14.181842399698189,
          14.079926853001751,
          13.897133451208097,
          13.756892936808972,
          13.877846039862204,
          14.477701142025063,
          15.627233359527468,
          17.187438836939407,
          18.887344453138617,
          20.44452833274508,
          21.64055356398275,
          22.34515850418726,
          22.511168665667203,
          22.15744801019281,
          21.34986023710066,
          20.185019525808656,
          18.77781380315425,
          17.2515120825918,
          15.728932441443169,
          14.323830057296298,
          13.13214015932168,
          12.22268119479432,
          11.6275249466053,
          11.33470199920962,
          11.288456152265772,
          11.400330998532718,
          11.568265225779092,
          11.697370359732282,
          11.717648747225196,
          11.596392863925203,
          11.343677951648289,
          11.009131123429087,
          10.668583779996611,
          10.401468886317064,
          10.264728104071164,
          10.274356259129576,
          10.404285263596751,
          10.6010204059005,
          10.802376049443314,
          10.95062058413634,
          10.99894486722728,
          10.91503235788204,
          10.684394030062014,
          10.312798713291553,
          9.825383354719174,
          9.26106973669665,
          8.66345002643552,
          8.071207383402173,
          7.51124469237393,
          6.996296746892537,
          6.526954987647476,
          6.096745415933609,
          5.6984674663103,
          5.3298781551258525,
          4.996589607924631,
          4.71038556704499,
          4.4831661306016315,
          4.320209424014459,
          4.218261383706147,
          4.1703715674542545,
          4.172599614694014,
          4.225218827833622,
          4.326006344356982,
          4.461542152366655,
          4.606279202119859,
          4.732701433050003,
          4.824924353682882,
          4.884955355756393,
          4.9277122142629075,
          4.96972795968619,
          5.019953493551943,
          5.0776012330318885,
          5.135740786358558,
          5.1863707496148175,
          5.224204597725154,
          5.248933432500259,
          5.266548368135383,
          5.289499436837033,
          5.334341093019895,
          5.415551966950568,
          5.536536382592646,
          5.682476773440594,
          5.82082901877549,
          5.911142276598402,
          5.919815309505739,
          5.832754688088296,
          5.660638778060644,
          5.435159158601671,
          5.198170308381832,
          4.988068512842153,
          4.828153275456523,
          4.72037864345294,
          4.646149630551924,
          4.574240587659656,
          4.473777283074987,
          4.32773003064189,
          4.141084207830897,
          3.939057183339545,
          3.75487898679922,
          3.613311121752692,
          3.521100929701609,
          3.4710639945596076,
          3.4537461331486217,
          3.4646827866572862,
          3.502215036236043,
          3.560281628056677,
          3.6236520019648366,
          3.669462437263021,
          3.673593337282086,
          3.618095570169409,
          3.496568305207467,
          3.315530466437861,
          3.090626182357645,
          2.838260077382223,
          2.5668770242611245,
          2.275547425966942,
          1.9662373433746976,
          1.6694879145205472,
          1.471348128111278,
          1.485577660337312,
          1.7230846625659206,
          2.0722411292138965,
          2.423969468149767,
          2.7177631099426636,
          2.928757102283953,
          3.050146205591921,
          3.0820193411252763,
          3.0281019892482255,
          2.8981687867488937,
          2.7113981438649835,
          2.4965825685375145,
          2.287624038434983,
          2.115413498351083,
          1.9997505907466313,
          1.9458714526162273,
          1.9465467576260669,
          1.986101697188993,
          2.0442174077440844,
          2.101242563924256,
          2.1458904705462056,
          2.182808986112913,
          2.234784690894244,
          2.332759594656112,
          2.4926154124137234,
          2.694587730651935,
          2.885213597542006,
          2.998939487464116,
          2.9824002868068327,
          2.8112925429015263,
          2.4971218868938005,
          2.0836566387055013,
          1.6349921971787715,
          1.2197217145895105,
          0.898235092100191,
          0.71956727442988,
          0.7142367207554221,
          0.8643457580053394,
          1.115434816584511,
          1.4129027092377104,
          1.7081407689384045,
          1.959575771981073,
          2.1366794519407137,
          2.222690003218589,
          2.2143293415408634,
          2.119504719768235,
          1.9549200995022524,
          1.7447132854326677,
          1.519505420061012,
          1.3139032286280068,
          1.160485505434809,
          1.0806734131325335,
          1.0784950397894646,
          1.1439873507911076,
          1.2608300082459336,
          1.409485244838248,
          1.5678841717016254,
          1.7131861360047211,
          1.823841356465752,
          1.8812195588202811,
          1.8714898227243573,
          1.7881835156265604,
          1.634881186765939,
          1.4270457167623565,
          1.1925153032764062,
          0.9711808486577892,
          0.8129569985956885,
          0.7622806349905936,
          0.8218221679868484,
          0.9505892373805772,
          1.103571173219996,
          1.2477795622072068,
          1.362405037741077,
          1.4407174878786848,
          1.489382288654638,
          1.5207785079730236,
          1.5429625762254064,
          1.5564706541041244,
          1.5604127628545257,
          1.5603460226194632,
          1.5691635229788874,
          1.598840725301415,
          1.6494463496277096,
          1.7056616939569962,
          1.7440461200840256,
          1.7448557057445058,
          1.7014140583240651,
          1.6232626008588662,
          1.53096622889656,
          1.443367814463082,
          1.3653293535914086,
          1.2879269637798283,
          1.201908044627554,
          1.1110502796338968,
          1.0340810466265835,
          0.9948170854237172,
          1.0102431853131777,
          1.0888747920649904,
          1.2351994092871212,
          1.4456810433498877,
          1.7014761781624654,
          1.970929131751036,
          2.2194074087602855,
          2.4177383574156424,
          2.545782446963293,
          2.5921974744424534,
          2.5526574194984937,
          2.4281346028807924,
          2.2237569114812348,
          1.948147819061914,
          1.6129758413420765,
          1.232270778641157,
          0.8211753422183816,
          0.3945718006177916,
          0.0469014376704505
         ]
        }
       ],
       "layout": {
        "annotations": [
         {
          "font": {
           "color": "cyan",
           "size": 16
          },
          "showarrow": false,
          "text": "KH",
          "textangle": -90,
          "x": 1.81111,
          "xref": "x",
          "y": 1,
          "yref": "paper"
         },
         {
          "font": {
           "color": "cyan",
           "size": 16
          },
          "showarrow": false,
          "text": "FC",
          "textangle": -90,
          "x": 2.61111,
          "xref": "x",
          "y": 1,
          "yref": "paper"
         },
         {
          "font": {
           "color": "cyan",
           "size": 16
          },
          "showarrow": false,
          "text": "MER",
          "textangle": -90,
          "x": 2.73333,
          "xref": "x",
          "y": 1,
          "yref": "paper"
         },
         {
          "font": {
           "color": "cyan",
           "size": 16
          },
          "showarrow": false,
          "text": "BR",
          "textangle": -90,
          "x": 2.77778,
          "xref": "x",
          "y": 1,
          "yref": "paper"
         }
        ],
        "height": 600,
        "margin": {
         "b": 40,
         "l": 40,
         "r": 40,
         "t": 40
        },
        "plot_bgcolor": "rgb(43,48,61)",
        "shapes": [
         {
          "line": {
           "color": "cyan",
           "dash": "dash",
           "width": 4
          },
          "opacity": 0.5,
          "type": "line",
          "x0": 1.8,
          "x1": 1.8,
          "xref": "x",
          "y0": 0,
          "y1": 1,
          "yref": "paper"
         },
         {
          "line": {
           "color": "cyan",
           "dash": "dash",
           "width": 4
          },
          "opacity": 0.5,
          "type": "line",
          "x0": 2.6,
          "x1": 2.6,
          "xref": "x",
          "y0": 0,
          "y1": 1,
          "yref": "paper"
         },
         {
          "line": {
           "color": "cyan",
           "dash": "dash",
           "width": 4
          },
          "opacity": 0.5,
          "type": "line",
          "x0": 2.72222,
          "x1": 2.72222,
          "xref": "x",
          "y0": 0,
          "y1": 1,
          "yref": "paper"
         },
         {
          "line": {
           "color": "cyan",
           "dash": "dash",
           "width": 4
          },
          "opacity": 0.5,
          "type": "line",
          "x0": 2.76667,
          "x1": 2.76667,
          "xref": "x",
          "y0": 0,
          "y1": 1,
          "yref": "paper"
         }
        ],
        "showlegend": false,
        "template": {
         "data": {
          "bar": [
           {
            "error_x": {
             "color": "#2a3f5f"
            },
            "error_y": {
             "color": "#2a3f5f"
            },
            "marker": {
             "line": {
              "color": "#E5ECF6",
              "width": 0.5
             },
             "pattern": {
              "fillmode": "overlay",
              "size": 10,
              "solidity": 0.2
             }
            },
            "type": "bar"
           }
          ],
          "barpolar": [
           {
            "marker": {
             "line": {
              "color": "#E5ECF6",
              "width": 0.5
             },
             "pattern": {
              "fillmode": "overlay",
              "size": 10,
              "solidity": 0.2
             }
            },
            "type": "barpolar"
           }
          ],
          "carpet": [
           {
            "aaxis": {
             "endlinecolor": "#2a3f5f",
             "gridcolor": "white",
             "linecolor": "white",
             "minorgridcolor": "white",
             "startlinecolor": "#2a3f5f"
            },
            "baxis": {
             "endlinecolor": "#2a3f5f",
             "gridcolor": "white",
             "linecolor": "white",
             "minorgridcolor": "white",
             "startlinecolor": "#2a3f5f"
            },
            "type": "carpet"
           }
          ],
          "choropleth": [
           {
            "colorbar": {
             "outlinewidth": 0,
             "ticks": ""
            },
            "type": "choropleth"
           }
          ],
          "contour": [
           {
            "colorbar": {
             "outlinewidth": 0,
             "ticks": ""
            },
            "colorscale": [
             [
              0,
              "#0d0887"
             ],
             [
              0.1111111111111111,
              "#46039f"
             ],
             [
              0.2222222222222222,
              "#7201a8"
             ],
             [
              0.3333333333333333,
              "#9c179e"
             ],
             [
              0.4444444444444444,
              "#bd3786"
             ],
             [
              0.5555555555555556,
              "#d8576b"
             ],
             [
              0.6666666666666666,
              "#ed7953"
             ],
             [
              0.7777777777777778,
              "#fb9f3a"
             ],
             [
              0.8888888888888888,
              "#fdca26"
             ],
             [
              1,
              "#f0f921"
             ]
            ],
            "type": "contour"
           }
          ],
          "contourcarpet": [
           {
            "colorbar": {
             "outlinewidth": 0,
             "ticks": ""
            },
            "type": "contourcarpet"
           }
          ],
          "heatmap": [
           {
            "colorbar": {
             "outlinewidth": 0,
             "ticks": ""
            },
            "colorscale": [
             [
              0,
              "#0d0887"
             ],
             [
              0.1111111111111111,
              "#46039f"
             ],
             [
              0.2222222222222222,
              "#7201a8"
             ],
             [
              0.3333333333333333,
              "#9c179e"
             ],
             [
              0.4444444444444444,
              "#bd3786"
             ],
             [
              0.5555555555555556,
              "#d8576b"
             ],
             [
              0.6666666666666666,
              "#ed7953"
             ],
             [
              0.7777777777777778,
              "#fb9f3a"
             ],
             [
              0.8888888888888888,
              "#fdca26"
             ],
             [
              1,
              "#f0f921"
             ]
            ],
            "type": "heatmap"
           }
          ],
          "heatmapgl": [
           {
            "colorbar": {
             "outlinewidth": 0,
             "ticks": ""
            },
            "colorscale": [
             [
              0,
              "#0d0887"
             ],
             [
              0.1111111111111111,
              "#46039f"
             ],
             [
              0.2222222222222222,
              "#7201a8"
             ],
             [
              0.3333333333333333,
              "#9c179e"
             ],
             [
              0.4444444444444444,
              "#bd3786"
             ],
             [
              0.5555555555555556,
              "#d8576b"
             ],
             [
              0.6666666666666666,
              "#ed7953"
             ],
             [
              0.7777777777777778,
              "#fb9f3a"
             ],
             [
              0.8888888888888888,
              "#fdca26"
             ],
             [
              1,
              "#f0f921"
             ]
            ],
            "type": "heatmapgl"
           }
          ],
          "histogram": [
           {
            "marker": {
             "pattern": {
              "fillmode": "overlay",
              "size": 10,
              "solidity": 0.2
             }
            },
            "type": "histogram"
           }
          ],
          "histogram2d": [
           {
            "colorbar": {
             "outlinewidth": 0,
             "ticks": ""
            },
            "colorscale": [
             [
              0,
              "#0d0887"
             ],
             [
              0.1111111111111111,
              "#46039f"
             ],
             [
              0.2222222222222222,
              "#7201a8"
             ],
             [
              0.3333333333333333,
              "#9c179e"
             ],
             [
              0.4444444444444444,
              "#bd3786"
             ],
             [
              0.5555555555555556,
              "#d8576b"
             ],
             [
              0.6666666666666666,
              "#ed7953"
             ],
             [
              0.7777777777777778,
              "#fb9f3a"
             ],
             [
              0.8888888888888888,
              "#fdca26"
             ],
             [
              1,
              "#f0f921"
             ]
            ],
            "type": "histogram2d"
           }
          ],
          "histogram2dcontour": [
           {
            "colorbar": {
             "outlinewidth": 0,
             "ticks": ""
            },
            "colorscale": [
             [
              0,
              "#0d0887"
             ],
             [
              0.1111111111111111,
              "#46039f"
             ],
             [
              0.2222222222222222,
              "#7201a8"
             ],
             [
              0.3333333333333333,
              "#9c179e"
             ],
             [
              0.4444444444444444,
              "#bd3786"
             ],
             [
              0.5555555555555556,
              "#d8576b"
             ],
             [
              0.6666666666666666,
              "#ed7953"
             ],
             [
              0.7777777777777778,
              "#fb9f3a"
             ],
             [
              0.8888888888888888,
              "#fdca26"
             ],
             [
              1,
              "#f0f921"
             ]
            ],
            "type": "histogram2dcontour"
           }
          ],
          "mesh3d": [
           {
            "colorbar": {
             "outlinewidth": 0,
             "ticks": ""
            },
            "type": "mesh3d"
           }
          ],
          "parcoords": [
           {
            "line": {
             "colorbar": {
              "outlinewidth": 0,
              "ticks": ""
             }
            },
            "type": "parcoords"
           }
          ],
          "pie": [
           {
            "automargin": true,
            "type": "pie"
           }
          ],
          "scatter": [
           {
            "fillpattern": {
             "fillmode": "overlay",
             "size": 10,
             "solidity": 0.2
            },
            "type": "scatter"
           }
          ],
          "scatter3d": [
           {
            "line": {
             "colorbar": {
              "outlinewidth": 0,
              "ticks": ""
             }
            },
            "marker": {
             "colorbar": {
              "outlinewidth": 0,
              "ticks": ""
             }
            },
            "type": "scatter3d"
           }
          ],
          "scattercarpet": [
           {
            "marker": {
             "colorbar": {
              "outlinewidth": 0,
              "ticks": ""
             }
            },
            "type": "scattercarpet"
           }
          ],
          "scattergeo": [
           {
            "marker": {
             "colorbar": {
              "outlinewidth": 0,
              "ticks": ""
             }
            },
            "type": "scattergeo"
           }
          ],
          "scattergl": [
           {
            "marker": {
             "colorbar": {
              "outlinewidth": 0,
              "ticks": ""
             }
            },
            "type": "scattergl"
           }
          ],
          "scattermapbox": [
           {
            "marker": {
             "colorbar": {
              "outlinewidth": 0,
              "ticks": ""
             }
            },
            "type": "scattermapbox"
           }
          ],
          "scatterpolar": [
           {
            "marker": {
             "colorbar": {
              "outlinewidth": 0,
              "ticks": ""
             }
            },
            "type": "scatterpolar"
           }
          ],
          "scatterpolargl": [
           {
            "marker": {
             "colorbar": {
              "outlinewidth": 0,
              "ticks": ""
             }
            },
            "type": "scatterpolargl"
           }
          ],
          "scatterternary": [
           {
            "marker": {
             "colorbar": {
              "outlinewidth": 0,
              "ticks": ""
             }
            },
            "type": "scatterternary"
           }
          ],
          "surface": [
           {
            "colorbar": {
             "outlinewidth": 0,
             "ticks": ""
            },
            "colorscale": [
             [
              0,
              "#0d0887"
             ],
             [
              0.1111111111111111,
              "#46039f"
             ],
             [
              0.2222222222222222,
              "#7201a8"
             ],
             [
              0.3333333333333333,
              "#9c179e"
             ],
             [
              0.4444444444444444,
              "#bd3786"
             ],
             [
              0.5555555555555556,
              "#d8576b"
             ],
             [
              0.6666666666666666,
              "#ed7953"
             ],
             [
              0.7777777777777778,
              "#fb9f3a"
             ],
             [
              0.8888888888888888,
              "#fdca26"
             ],
             [
              1,
              "#f0f921"
             ]
            ],
            "type": "surface"
           }
          ],
          "table": [
           {
            "cells": {
             "fill": {
              "color": "#EBF0F8"
             },
             "line": {
              "color": "white"
             }
            },
            "header": {
             "fill": {
              "color": "#C8D4E3"
             },
             "line": {
              "color": "white"
             }
            },
            "type": "table"
           }
          ]
         },
         "layout": {
          "annotationdefaults": {
           "arrowcolor": "#2a3f5f",
           "arrowhead": 0,
           "arrowwidth": 1
          },
          "autotypenumbers": "strict",
          "coloraxis": {
           "colorbar": {
            "outlinewidth": 0,
            "ticks": ""
           }
          },
          "colorscale": {
           "diverging": [
            [
             0,
             "#8e0152"
            ],
            [
             0.1,
             "#c51b7d"
            ],
            [
             0.2,
             "#de77ae"
            ],
            [
             0.3,
             "#f1b6da"
            ],
            [
             0.4,
             "#fde0ef"
            ],
            [
             0.5,
             "#f7f7f7"
            ],
            [
             0.6,
             "#e6f5d0"
            ],
            [
             0.7,
             "#b8e186"
            ],
            [
             0.8,
             "#7fbc41"
            ],
            [
             0.9,
             "#4d9221"
            ],
            [
             1,
             "#276419"
            ]
           ],
           "sequential": [
            [
             0,
             "#0d0887"
            ],
            [
             0.1111111111111111,
             "#46039f"
            ],
            [
             0.2222222222222222,
             "#7201a8"
            ],
            [
             0.3333333333333333,
             "#9c179e"
            ],
            [
             0.4444444444444444,
             "#bd3786"
            ],
            [
             0.5555555555555556,
             "#d8576b"
            ],
            [
             0.6666666666666666,
             "#ed7953"
            ],
            [
             0.7777777777777778,
             "#fb9f3a"
            ],
            [
             0.8888888888888888,
             "#fdca26"
            ],
            [
             1,
             "#f0f921"
            ]
           ],
           "sequentialminus": [
            [
             0,
             "#0d0887"
            ],
            [
             0.1111111111111111,
             "#46039f"
            ],
            [
             0.2222222222222222,
             "#7201a8"
            ],
            [
             0.3333333333333333,
             "#9c179e"
            ],
            [
             0.4444444444444444,
             "#bd3786"
            ],
            [
             0.5555555555555556,
             "#d8576b"
            ],
            [
             0.6666666666666666,
             "#ed7953"
            ],
            [
             0.7777777777777778,
             "#fb9f3a"
            ],
            [
             0.8888888888888888,
             "#fdca26"
            ],
            [
             1,
             "#f0f921"
            ]
           ]
          },
          "colorway": [
           "#636efa",
           "#EF553B",
           "#00cc96",
           "#ab63fa",
           "#FFA15A",
           "#19d3f3",
           "#FF6692",
           "#B6E880",
           "#FF97FF",
           "#FECB52"
          ],
          "font": {
           "color": "#2a3f5f"
          },
          "geo": {
           "bgcolor": "white",
           "lakecolor": "white",
           "landcolor": "#E5ECF6",
           "showlakes": true,
           "showland": true,
           "subunitcolor": "white"
          },
          "hoverlabel": {
           "align": "left"
          },
          "hovermode": "closest",
          "mapbox": {
           "style": "light"
          },
          "paper_bgcolor": "white",
          "plot_bgcolor": "#E5ECF6",
          "polar": {
           "angularaxis": {
            "gridcolor": "white",
            "linecolor": "white",
            "ticks": ""
           },
           "bgcolor": "#E5ECF6",
           "radialaxis": {
            "gridcolor": "white",
            "linecolor": "white",
            "ticks": ""
           }
          },
          "scene": {
           "xaxis": {
            "backgroundcolor": "#E5ECF6",
            "gridcolor": "white",
            "gridwidth": 2,
            "linecolor": "white",
            "showbackground": true,
            "ticks": "",
            "zerolinecolor": "white"
           },
           "yaxis": {
            "backgroundcolor": "#E5ECF6",
            "gridcolor": "white",
            "gridwidth": 2,
            "linecolor": "white",
            "showbackground": true,
            "ticks": "",
            "zerolinecolor": "white"
           },
           "zaxis": {
            "backgroundcolor": "#E5ECF6",
            "gridcolor": "white",
            "gridwidth": 2,
            "linecolor": "white",
            "showbackground": true,
            "ticks": "",
            "zerolinecolor": "white"
           }
          },
          "shapedefaults": {
           "line": {
            "color": "#2a3f5f"
           }
          },
          "ternary": {
           "aaxis": {
            "gridcolor": "white",
            "linecolor": "white",
            "ticks": ""
           },
           "baxis": {
            "gridcolor": "white",
            "linecolor": "white",
            "ticks": ""
           },
           "bgcolor": "#E5ECF6",
           "caxis": {
            "gridcolor": "white",
            "linecolor": "white",
            "ticks": ""
           }
          },
          "title": {
           "x": 0.05
          },
          "xaxis": {
           "automargin": true,
           "gridcolor": "white",
           "linecolor": "white",
           "ticks": "",
           "title": {
            "standoff": 15
           },
           "zerolinecolor": "white",
           "zerolinewidth": 2
          },
          "yaxis": {
           "automargin": true,
           "gridcolor": "white",
           "linecolor": "white",
           "ticks": "",
           "title": {
            "standoff": 15
           },
           "zerolinecolor": "white",
           "zerolinewidth": 2
          }
         }
        },
        "title": {
         "text": "THIGH LINEAR MOMENTUM"
        },
        "xaxis": {
         "showgrid": false,
         "title": {
          "text": "Time [s]"
         }
        },
        "yaxis": {
         "autorange": true,
         "gridcolor": "lightgrey",
         "gridwidth": 1,
         "rangemode": "tozero",
         "showgrid": true,
         "title": {
          "text": "Momentum [kg*m²/s]"
         },
         "zeroline": false
        }
       }
      }
     },
     "metadata": {},
     "output_type": "display_data"
    },
    {
     "data": {
      "application/vnd.plotly.v1+json": {
       "config": {
        "plotlyServerURL": "https://plot.ly"
       },
       "data": [
        {
         "line": {
          "color": "firebrick",
          "width": 4
         },
         "mode": "lines",
         "name": "PELVIS LINEAR MOMENTUM",
         "type": "scatter",
         "x": [
          1.8,
          1.80556,
          1.81111,
          1.81667,
          1.82222,
          1.82778,
          1.83333,
          1.83889,
          1.84444,
          1.85,
          1.85556,
          1.86111,
          1.86667,
          1.87222,
          1.87778,
          1.88333,
          1.88889,
          1.89444,
          1.9,
          1.90556,
          1.91111,
          1.91667,
          1.92222,
          1.92778,
          1.93333,
          1.93889,
          1.94444,
          1.95,
          1.95556,
          1.96111,
          1.96667,
          1.97222,
          1.97778,
          1.98333,
          1.98889,
          1.99444,
          2,
          2.00556,
          2.01111,
          2.01667,
          2.02222,
          2.02778,
          2.03333,
          2.03889,
          2.04444,
          2.05,
          2.05556,
          2.06111,
          2.06667,
          2.07222,
          2.07778,
          2.08333,
          2.08889,
          2.09444,
          2.1,
          2.10556,
          2.11111,
          2.11667,
          2.12222,
          2.12778,
          2.13333,
          2.13889,
          2.14444,
          2.15,
          2.15556,
          2.16111,
          2.16667,
          2.17222,
          2.17778,
          2.18333,
          2.18889,
          2.19444,
          2.2,
          2.20556,
          2.21111,
          2.21667,
          2.22222,
          2.22778,
          2.23333,
          2.23889,
          2.24444,
          2.25,
          2.25556,
          2.26111,
          2.26667,
          2.27222,
          2.27778,
          2.28333,
          2.28889,
          2.29444,
          2.3,
          2.30556,
          2.31111,
          2.31667,
          2.32222,
          2.32778,
          2.33333,
          2.33889,
          2.34444,
          2.35,
          2.35556,
          2.36111,
          2.36667,
          2.37222,
          2.37778,
          2.38333,
          2.38889,
          2.39444,
          2.4,
          2.40556,
          2.41111,
          2.41667,
          2.42222,
          2.42778,
          2.43333,
          2.43889,
          2.44444,
          2.45,
          2.45556,
          2.46111,
          2.46667,
          2.47222,
          2.47778,
          2.48333,
          2.48889,
          2.49444,
          2.5,
          2.50556,
          2.51111,
          2.51667,
          2.52222,
          2.52778,
          2.53333,
          2.53889,
          2.54444,
          2.55,
          2.55556,
          2.56111,
          2.56667,
          2.57222,
          2.57778,
          2.58333,
          2.58889,
          2.59444,
          2.6,
          2.60556,
          2.61111,
          2.61667,
          2.62222,
          2.62778,
          2.63333,
          2.63889,
          2.64444,
          2.65,
          2.65556,
          2.66111,
          2.66667,
          2.67222,
          2.67778,
          2.68333,
          2.68889,
          2.69444,
          2.7,
          2.70556,
          2.71111,
          2.71667,
          2.72222,
          2.72778,
          2.73333,
          2.73889,
          2.74444,
          2.75,
          2.75556,
          2.76111,
          2.76667,
          2.77222,
          2.77778,
          2.78333,
          2.78889,
          2.79444,
          2.8,
          2.80556,
          2.81111,
          2.81667,
          2.82222,
          2.82778,
          2.83333,
          2.83889,
          2.84444,
          2.85,
          2.85556,
          2.86111,
          2.86667,
          2.87222,
          2.87778,
          2.88333,
          2.88889,
          2.89444,
          2.9,
          2.90556,
          2.91111,
          2.91667,
          2.92222,
          2.92778,
          2.93333,
          2.93889,
          2.94444,
          2.95,
          2.95556,
          2.96111
         ],
         "y": [
          0.0066778571800186,
          0.6133346628170114,
          1.1760458479772136,
          1.632895603839591,
          1.951118975779849,
          2.118257384823202,
          2.1419638352114188,
          2.046286706533714,
          1.8658724559054456,
          1.6399689008746727,
          1.4078478412689024,
          1.205763786313418,
          1.0626801092260314,
          0.991557543474492,
          0.9827918353339335,
          1.0127420421920923,
          1.0599617796022875,
          1.1120716512240036,
          1.1634135997592885,
          1.2119615970042446,
          1.259552144590657,
          1.3135151511313825,
          1.3849482182209416,
          1.48139944665077,
          1.598764407484223,
          1.7203933312289754,
          1.824467625071804,
          1.8932483115028216,
          1.9185303587369176,
          1.9021610274764684,
          1.853716538928111,
          1.788125489510345,
          1.7240615043841796,
          1.6811444244470348,
          1.6742848727279946,
          1.7080953184428516,
          1.7768455837323345,
          1.870048062914459,
          1.9779915016194696,
          2.093604238588359,
          2.2116327190985947,
          2.327316762188395,
          2.435659659779531,
          2.531520447375984,
          2.610433313935307,
          2.6696925242895446,
          2.7089586590783767,
          2.7299641053904247,
          2.735628106954203,
          2.729260656639482,
          2.714249628824928,
          2.6941766329605383,
          2.67317082479429,
          2.6563556227035092,
          2.6501067236559717,
          2.6615617061622427,
          2.696913818458984,
          2.758870365514121,
          2.8447190179774777,
          2.946436745468891,
          3.0528578098084616,
          3.1525243578224895,
          3.235847941161787,
          3.2962953634167937,
          3.331210402182826,
          3.342747921624233,
          3.338431385537366,
          3.330148622377639,
          3.331046734493712,
          3.3516025305576513,
          3.397300264508907,
          3.469051246561913,
          3.564844930245903,
          3.6804380351651225,
          3.808956426852695,
          3.941091520871473,
          4.066794651126136,
          4.1774087821093495,
          4.266604005095513,
          4.329698889257452,
          4.362450371138403,
          4.360812011420334,
          4.322315657662094,
          4.248448391342684,
          4.146616668010458,
          4.030350244752257,
          3.9171457602671738,
          3.8245154369024927,
          3.765865341880264,
          3.747907093283253,
          3.770104586874783,
          3.825347648120266,
          3.901037207079229,
          3.9806499615290143,
          4.0461098124091475,
          4.080649272799544,
          4.071322465454282,
          4.01058011158561,
          3.897020762609298,
          3.735931576596647,
          3.539994595025099,
          3.329418639592725,
          3.1295403921346248,
          2.964500641422513,
          2.8492401583423845,
          2.7858264665906556,
          2.767496500084695,
          2.785704654947844,
          2.8329395665757757,
          2.900361706086596,
          2.975020253085751,
          3.0403585887440627,
          3.079556720707819,
          3.079398390502595,
          3.033068911126305,
          2.941212284722909,
          2.811045416822167,
          2.65404599625739,
          2.4835646086049947,
          2.313554483742475,
          2.158116204121809,
          2.030067725846714,
          1.9372107104510872,
          1.877927080591106,
          1.8404639999148829,
          1.808276579863543,
          1.7682817611631352,
          1.7164586409380465,
          1.657557242909207,
          1.5994069965158344,
          1.545596577935691,
          1.4918516202154546,
          1.4290667781947797,
          1.3510289091351495,
          1.2623983386011344,
          1.1829166293590092,
          1.1427879615526315,
          1.1644488398651165,
          1.2418824025736253,
          1.342279631501706,
          1.426108003794715,
          1.4626733414562427,
          1.4358486880542445,
          1.3442771712614632,
          1.1986329208264177,
          1.0172653104229945,
          0.821506339947743,
          0.6315024674977201,
          0.462733581185093,
          0.3231691211260808,
          0.2116577078204355,
          0.1193599647833315,
          0.0364115332289529,
          0.0512280251955906,
          0.1302220802524093,
          0.1989771097546231,
          0.2481716974622456,
          0.2749705299196756,
          0.2866044606599351,
          0.2966329469457198,
          0.3113584433103974,
          0.3202798719154156,
          0.3042609384223643,
          0.250544547638918,
          0.1714178195674802,
          0.16855146472607,
          0.3169585333572562,
          0.5183388888545151,
          0.7223459085383297,
          0.9012997048585464,
          1.0353766030802587,
          1.1118454373219755,
          1.1251492771285427,
          1.0763871538343186,
          0.9729697042661248,
          0.82957119851375,
          0.6709103593359332,
          0.5352403130889127,
          0.4676409085247417,
          0.4798721307344275,
          0.531882859381686,
          0.5886332927033949,
          0.6515245449764983,
          0.7446463431967134,
          0.8827492930153517,
          1.0512669826887446,
          1.2166803824592958,
          1.3466819978796172,
          1.4237459299062107,
          1.451760338070728,
          1.456250872888584,
          1.4749354000436683,
          1.5369524710389202,
          1.6437475528984806,
          1.7716463261934436,
          1.891417241919185,
          1.9842821599510936,
          2.047035960766331,
          2.08981131515167,
          2.1304212398200293,
          2.187539679559422,
          2.2745485028018084,
          2.395792473627479,
          2.5459189535323987,
          2.711612281161247,
          2.8747478900974506,
          3.016355018101137,
          3.1207951734298183,
          3.1793830222499926,
          3.192809203578821,
          3.1721176543325726,
          3.137972001857676,
          3.1170915541101403,
          3.134570667154258,
          3.204091012738876,
          3.322770177007628,
          3.475392764229623,
          3.6439611859290575,
          3.814525365344838,
          3.977814048480107,
          4.126006087841181,
          4.2500873260566365,
          4.340719076631533,
          4.392358673583618,
          4.40783972300648,
          4.40017078144522,
          4.389896541240279,
          4.398908082037785,
          4.443509826837817,
          4.529555916307236,
          4.6508313029903965,
          4.7903390873250995,
          4.923775113697511,
          5.02449168506322,
          5.068995378226759,
          5.0418300274122165,
          4.9389014888857945,
          4.768661192454591,
          4.550790410555117,
          4.312267730155618,
          4.081376226536928,
          3.8813365695936017,
          3.7258496697722574,
          3.617602132667993,
          3.548603727483603,
          3.5011677066956786,
          3.450565013657069,
          3.3707738699021466,
          3.2419758749877734,
          3.0562995087491625,
          2.819329328396926,
          2.5477276695354143,
          2.265605253998891,
          2.0022468830306543,
          1.790417292376792,
          1.659697605870434,
          1.6221800059246767,
          1.6643612154654366,
          1.7603790720787875,
          1.8922075075541451,
          2.0552746283459635,
          2.249088265748336,
          2.464643763107634,
          2.67891738905744,
          2.8589677857045652,
          2.9717579932766305,
          2.9946902439207856,
          2.9232510843999746,
          2.773424392594853,
          2.5777789451598543,
          2.37625034147466,
          2.2057127638447818,
          2.094266998753165,
          2.062310181392479,
          2.124040795823347,
          2.2827276950652493,
          2.5248396702480846,
          2.821897192456336,
          3.138340785924612,
          3.4389374455509696,
          3.693665107619707,
          3.8810139871837217,
          3.9903254353721898,
          4.022916520063522,
          3.991468606721864,
          3.917373394229836,
          3.826209281385892,
          3.7422050412728862,
          3.6832863767099218,
          3.6584395632028257,
          3.668017324747528,
          3.7060687357616775,
          3.763337080667582,
          3.830010291184718,
          3.897487338696447,
          3.958651476322699,
          4.007059220464345,
          4.036298133417237,
          4.04050976310061,
          4.015984968599045,
          3.962892709725911,
          3.8861721908940767,
          3.795164628997965,
          3.7022150722552216,
          3.620951268411628,
          3.5650427677936376,
          3.5476962263544327,
          3.581060367877304,
          3.674138412064193,
          3.8288601303840144,
          4.035943552044641,
          4.2729369276408375,
          4.505819171670276,
          4.694232139507816,
          4.799588152311267,
          4.794458573450508,
          4.670707838288988,
          4.4434226538188355,
          4.148438202318269,
          3.833320253783504,
          3.5444756304090776,
          3.3154142467314487,
          3.1611581679960805,
          3.079921171934057,
          3.0582537651666524,
          3.0758804461521434,
          3.110614764511858,
          3.144591167499476,
          3.169844912055941,
          3.189994904821024,
          3.217336905316728,
          3.267598099565787,
          3.355023570732927,
          3.4888847809650203,
          3.671486776550567,
          3.898267105481075,
          4.16064270210058,
          4.45049986082473,
          4.763385735537686,
          5.097786101732077,
          5.450496827031858,
          5.811303568659778,
          6.161402441303672,
          6.4776855861781755,
          6.740809236064648,
          6.94231229452222,
          7.086653047167582,
          7.187044436908759,
          7.257633244997007,
          7.306846174107497,
          7.33577430109833,
          7.341658216193504,
          7.323062511111629,
          7.282962373647793,
          7.228302842929541,
          7.167325613974225,
          7.107255435809071,
          7.054246521008898,
          7.015467631360602,
          7.001337437983484,
          7.025551243878342,
          7.101879530251336,
          7.238830366012667,
          7.434825963387458,
          7.676522748825362,
          7.941150389189867,
          8.20143968643667,
          8.430635649777667,
          8.605877360855684,
          8.709803802574287,
          8.73122644830526,
          8.66577148732065,
          8.51705860086707,
          8.298455258363235,
          8.03443688377866,
          7.759432374007795,
          7.512261239207467,
          7.327128225815902,
          7.2261038320796915,
          7.218457472209954,
          7.30654981005329,
          7.491384568903279,
          7.771372770197962,
          8.135500968118734,
          8.558469841246339,
          9.003496215679064,
          9.43125436054514,
          9.80925725580054,
          10.117703660650072,
          10.351494317470404,
          10.519747246062806,
          10.64333650449502,
          10.749807532456275,
          10.865393316062578,
          11.005955671831336,
          11.170923474881166,
          11.344245485673564,
          11.502819968188335,
          11.628028083982851,
          11.714008292980251,
          11.768777114745712,
          11.808884580601338,
          11.851501903034327,
          11.908066727363154,
          11.981695503084,
          12.0683219836682,
          12.160070033595847,
          12.248891036588084,
          12.328910065723164,
          12.397056020928607,
          12.452677533089652,
          12.497028758814684,
          12.532749740725093,
          12.56293304697445,
          12.589942406637965,
          12.615102550172,
          12.640163110082574,
          12.669773981918086,
          12.712735463675404,
          12.780287599109862,
          12.882037681051807,
          13.022197866997454,
          13.198606325375929,
          13.404742112236884,
          13.632842988593326,
          13.87604434739511,
          14.12881153683682,
          14.386325736839936,
          14.643922206173055,
          14.897217649415936,
          15.142805500197085,
          15.378901722795248,
          15.605323263283674,
          15.822646296945862,
          16.031107351976356,
          16.230317468605055,
          16.420600981054417,
          16.605661494227757,
          16.795050047444466,
          17.00456726775137,
          17.25361717887025,
          17.56005462802196,
          17.93426884124802,
          18.374549419001873,
          18.865318064567465,
          19.379060429828748,
          19.881986029572925,
          20.342466811000136,
          20.740191982051986,
          21.073205809824483,
          21.36018066430763,
          21.6366590903975,
          21.946169783078275,
          22.329114270852337,
          22.81304338905107,
          23.406928970741,
          24.099992664145297,
          24.86398484016223,
          25.657339307441237,
          26.43005131107826,
          27.128724100211382,
          27.701681189592115,
          28.10429549147196,
          28.304560268523208,
          28.288277500672656,
          28.062407053182852,
          27.654837441292187,
          27.109591299089807,
          26.47805298438281,
          25.808446134647284,
          25.136659279230223,
          24.481098289009203,
          23.84263914848938,
          23.20878029511997,
          22.559814735683137,
          21.874791354920077,
          21.135947693358492,
          20.331532828947378,
          19.4578811613077,
          18.521686070202744,
          17.542354470718482,
          16.552602629719168,
          15.594451807240054,
          14.708871765664234,
          13.920878016426032,
          13.226539762311816,
          12.59055313547535,
          11.959543302837345,
          11.289300905076296,
          10.57994964169673,
          9.91154279538013,
          9.462075023515132,
          9.46214149422949,
          10.053769113430052,
          11.166033615167944,
          12.561867444983315,
          13.975838955514943,
          15.20246935198257,
          16.123638237234395,
          16.706382458331326,
          16.986612616688237,
          17.04390464936318,
          16.97165106602142,
          16.849182192878864,
          16.724229918321832,
          16.612157578969043,
          16.511543051145484,
          16.427434683386377,
          16.389257500951643,
          16.45206308968146,
          16.676991057873245,
          17.09867774878495,
          17.698789323681183,
          18.403703312995603,
          19.107131468096835,
          19.7020038190477,
          20.105083022249453,
          20.26738754378646,
          20.172342715999445,
          19.827597760663416,
          19.25656452228756,
          18.493510503272645,
          17.58286331172995,
          16.58062100789785,
          15.554429500770675,
          14.5793372380182,
          13.728167047134676,
          13.05808133482687,
          12.597288738678966,
          12.336994193214183,
          12.232684357915089,
          12.215269591626736,
          12.20820136373897,
          12.14466952473584,
          11.980335853343773,
          11.699733610614285,
          11.316442764668118,
          10.868000664585074,
          10.406645858736196,
          9.98711793970964,
          9.653573601732766,
          9.42905881213531,
          9.311190491597442,
          9.275326151232957,
          9.283095002118024,
          9.292665707623383,
          9.267780847722772,
          9.18361375548544,
          9.028470837753424,
          8.801989018943162,
          8.512201051074038,
          8.173768715896978,
          7.807266036605736,
          7.436950824043503,
          7.084952595909994,
          6.7635363667505795,
          6.470907127249359,
          6.195390661592969,
          5.926721533188897,
          5.666897786570577,
          5.4327917769600935,
          5.248496660259564,
          5.132570312439347,
          5.08877725211711,
          5.105488636355945,
          5.161599254411451,
          5.233570575282592,
          5.300983630748222,
          5.3509106210684525,
          5.380907767246477,
          5.398813208435081,
          5.4180214574981225,
          5.449711303288129,
          5.496095877217495,
          5.548502094624193,
          5.590930237503955,
          5.606471207866821,
          5.58315703336438,
          5.51739235512015,
          5.41516212629702,
          5.29195314007457,
          5.171161631821496,
          5.079083292031888,
          5.0354259713708025,
          5.042884834809177,
          5.083175614692784,
          5.123713341535566,
          5.131224899125063,
          5.084716393765969,
          4.982301358723391,
          4.840058308818328,
          4.684123362121958,
          4.5399384614154625,
          4.423956454369591,
          4.34086770705507,
          4.284681065075884,
          4.240201131629903,
          4.1846253839761225,
          4.092105193706064,
          3.9426764397302314,
          3.7328768817020377,
          3.4829038314836835,
          3.235323861887777,
          3.041880336552409,
          2.9399009007900903,
          2.9319045795848697,
          2.987276255463091,
          3.0635630985410307,
          3.1257064552473124,
          3.1522430257654963,
          3.132687070695849,
          3.062774133907587,
          2.9411982307605724,
          2.7687552516063167,
          2.5492413912171603,
          2.290896345484184,
          2.0073045034153028,
          1.7171699531154352,
          1.4435346037432684,
          1.2149315531580929,
          1.070037646843896,
          1.0529923907483831,
          1.1778376476905068,
          1.405937059864439,
          1.6779435644528706,
          1.943398251511219,
          2.1682347494815404,
          2.3348091305822365,
          2.438785382907965,
          2.4832199147283323,
          2.4721274918900464,
          2.4070910749822283,
          2.28903105704989,
          2.123889956383513,
          1.9280961063704392,
          1.7291043110854067,
          1.5584875513705667,
          1.4398022156606898,
          1.3795380978530611,
          1.3694102129729857,
          1.3963261426460605,
          1.449315809705573,
          1.5212605855048784,
          1.6096612124946217,
          1.7172348617012378,
          1.8493245689623432,
          2.006800767109272,
          2.17822770174855,
          2.337357747430874,
          2.448324749199393,
          2.4760066523648088,
          2.3975237847196267,
          2.2114096562520302,
          1.9417139498054965,
          1.635276075251488,
          1.3511717235971,
          1.140875515887988,
          1.0231484601653582,
          0.9793434568870736,
          0.9846484554183452,
          1.0326234031987986,
          1.1235461577486048,
          1.2431260756305451,
          1.3613662305461758,
          1.447012591085878,
          1.4803202950834748,
          1.4581167951052556,
          1.392451133774473,
          1.30496779505508,
          1.218702189449258,
          1.149346485275941,
          1.0999075936126914,
          1.062892290025445,
          1.0286102710268157,
          0.9926556927533382,
          0.9574495876147952,
          0.9282927097104086,
          0.9084917208814814,
          0.8983041851437772,
          0.8976716427593647,
          0.9083938260563658,
          0.9329719211011456,
          0.9709384565721454,
          1.0148933447741473,
          1.049067832987676,
          1.052625187158285,
          1.006820429909257,
          0.9028151905117028,
          0.7477955954496416,
          0.5697546195234654,
          0.4233991544647508,
          0.3782265722912765,
          0.4309265475618428,
          0.5114660030569635,
          0.5906162887722584,
          0.675678154056367,
          0.7739191807332134,
          0.8750395952038996,
          0.9574751445770868,
          1.0021259918688323,
          1.0005087967902575,
          0.9554663982621788,
          0.8758103328741703,
          0.7678483215162357,
          0.6301838183020817,
          0.4593338735271409,
          0.2778011935773763,
          0.2495336001019326,
          0.4642706667932109,
          0.7239146894691205,
          0.9496885966680996,
          1.108574489583744,
          1.1880960158703766,
          1.192992117278035,
          1.1412011869522465,
          1.0579294587218049,
          0.9690071401882878,
          0.8945534737820924,
          0.8444452738756121,
          0.8185400754136957,
          0.8124292007186351,
          0.8237073418117057,
          0.8532039572419968,
          0.9012385423455676,
          0.9634317680883768,
          1.030041489701633,
          1.0887560793511972,
          1.128348016968386,
          1.1412567669730114,
          1.1244812831586375,
          1.078692107833953,
          1.005891669437208,
          0.906800493037886,
          0.7797247647340487,
          0.6219755778813215,
          0.4332301667528525,
          0.2189275761869316,
          0.0211316123970808
         ]
        }
       ],
       "layout": {
        "annotations": [
         {
          "font": {
           "color": "cyan",
           "size": 16
          },
          "showarrow": false,
          "text": "KH",
          "textangle": -90,
          "x": 1.81111,
          "xref": "x",
          "y": 1,
          "yref": "paper"
         },
         {
          "font": {
           "color": "cyan",
           "size": 16
          },
          "showarrow": false,
          "text": "FC",
          "textangle": -90,
          "x": 2.61111,
          "xref": "x",
          "y": 1,
          "yref": "paper"
         },
         {
          "font": {
           "color": "cyan",
           "size": 16
          },
          "showarrow": false,
          "text": "MER",
          "textangle": -90,
          "x": 2.73333,
          "xref": "x",
          "y": 1,
          "yref": "paper"
         },
         {
          "font": {
           "color": "cyan",
           "size": 16
          },
          "showarrow": false,
          "text": "BR",
          "textangle": -90,
          "x": 2.77778,
          "xref": "x",
          "y": 1,
          "yref": "paper"
         }
        ],
        "height": 600,
        "margin": {
         "b": 40,
         "l": 40,
         "r": 40,
         "t": 40
        },
        "plot_bgcolor": "rgb(43,48,61)",
        "shapes": [
         {
          "line": {
           "color": "cyan",
           "dash": "dash",
           "width": 4
          },
          "opacity": 0.5,
          "type": "line",
          "x0": 1.8,
          "x1": 1.8,
          "xref": "x",
          "y0": 0,
          "y1": 1,
          "yref": "paper"
         },
         {
          "line": {
           "color": "cyan",
           "dash": "dash",
           "width": 4
          },
          "opacity": 0.5,
          "type": "line",
          "x0": 2.6,
          "x1": 2.6,
          "xref": "x",
          "y0": 0,
          "y1": 1,
          "yref": "paper"
         },
         {
          "line": {
           "color": "cyan",
           "dash": "dash",
           "width": 4
          },
          "opacity": 0.5,
          "type": "line",
          "x0": 2.72222,
          "x1": 2.72222,
          "xref": "x",
          "y0": 0,
          "y1": 1,
          "yref": "paper"
         },
         {
          "line": {
           "color": "cyan",
           "dash": "dash",
           "width": 4
          },
          "opacity": 0.5,
          "type": "line",
          "x0": 2.76667,
          "x1": 2.76667,
          "xref": "x",
          "y0": 0,
          "y1": 1,
          "yref": "paper"
         }
        ],
        "showlegend": false,
        "template": {
         "data": {
          "bar": [
           {
            "error_x": {
             "color": "#2a3f5f"
            },
            "error_y": {
             "color": "#2a3f5f"
            },
            "marker": {
             "line": {
              "color": "#E5ECF6",
              "width": 0.5
             },
             "pattern": {
              "fillmode": "overlay",
              "size": 10,
              "solidity": 0.2
             }
            },
            "type": "bar"
           }
          ],
          "barpolar": [
           {
            "marker": {
             "line": {
              "color": "#E5ECF6",
              "width": 0.5
             },
             "pattern": {
              "fillmode": "overlay",
              "size": 10,
              "solidity": 0.2
             }
            },
            "type": "barpolar"
           }
          ],
          "carpet": [
           {
            "aaxis": {
             "endlinecolor": "#2a3f5f",
             "gridcolor": "white",
             "linecolor": "white",
             "minorgridcolor": "white",
             "startlinecolor": "#2a3f5f"
            },
            "baxis": {
             "endlinecolor": "#2a3f5f",
             "gridcolor": "white",
             "linecolor": "white",
             "minorgridcolor": "white",
             "startlinecolor": "#2a3f5f"
            },
            "type": "carpet"
           }
          ],
          "choropleth": [
           {
            "colorbar": {
             "outlinewidth": 0,
             "ticks": ""
            },
            "type": "choropleth"
           }
          ],
          "contour": [
           {
            "colorbar": {
             "outlinewidth": 0,
             "ticks": ""
            },
            "colorscale": [
             [
              0,
              "#0d0887"
             ],
             [
              0.1111111111111111,
              "#46039f"
             ],
             [
              0.2222222222222222,
              "#7201a8"
             ],
             [
              0.3333333333333333,
              "#9c179e"
             ],
             [
              0.4444444444444444,
              "#bd3786"
             ],
             [
              0.5555555555555556,
              "#d8576b"
             ],
             [
              0.6666666666666666,
              "#ed7953"
             ],
             [
              0.7777777777777778,
              "#fb9f3a"
             ],
             [
              0.8888888888888888,
              "#fdca26"
             ],
             [
              1,
              "#f0f921"
             ]
            ],
            "type": "contour"
           }
          ],
          "contourcarpet": [
           {
            "colorbar": {
             "outlinewidth": 0,
             "ticks": ""
            },
            "type": "contourcarpet"
           }
          ],
          "heatmap": [
           {
            "colorbar": {
             "outlinewidth": 0,
             "ticks": ""
            },
            "colorscale": [
             [
              0,
              "#0d0887"
             ],
             [
              0.1111111111111111,
              "#46039f"
             ],
             [
              0.2222222222222222,
              "#7201a8"
             ],
             [
              0.3333333333333333,
              "#9c179e"
             ],
             [
              0.4444444444444444,
              "#bd3786"
             ],
             [
              0.5555555555555556,
              "#d8576b"
             ],
             [
              0.6666666666666666,
              "#ed7953"
             ],
             [
              0.7777777777777778,
              "#fb9f3a"
             ],
             [
              0.8888888888888888,
              "#fdca26"
             ],
             [
              1,
              "#f0f921"
             ]
            ],
            "type": "heatmap"
           }
          ],
          "heatmapgl": [
           {
            "colorbar": {
             "outlinewidth": 0,
             "ticks": ""
            },
            "colorscale": [
             [
              0,
              "#0d0887"
             ],
             [
              0.1111111111111111,
              "#46039f"
             ],
             [
              0.2222222222222222,
              "#7201a8"
             ],
             [
              0.3333333333333333,
              "#9c179e"
             ],
             [
              0.4444444444444444,
              "#bd3786"
             ],
             [
              0.5555555555555556,
              "#d8576b"
             ],
             [
              0.6666666666666666,
              "#ed7953"
             ],
             [
              0.7777777777777778,
              "#fb9f3a"
             ],
             [
              0.8888888888888888,
              "#fdca26"
             ],
             [
              1,
              "#f0f921"
             ]
            ],
            "type": "heatmapgl"
           }
          ],
          "histogram": [
           {
            "marker": {
             "pattern": {
              "fillmode": "overlay",
              "size": 10,
              "solidity": 0.2
             }
            },
            "type": "histogram"
           }
          ],
          "histogram2d": [
           {
            "colorbar": {
             "outlinewidth": 0,
             "ticks": ""
            },
            "colorscale": [
             [
              0,
              "#0d0887"
             ],
             [
              0.1111111111111111,
              "#46039f"
             ],
             [
              0.2222222222222222,
              "#7201a8"
             ],
             [
              0.3333333333333333,
              "#9c179e"
             ],
             [
              0.4444444444444444,
              "#bd3786"
             ],
             [
              0.5555555555555556,
              "#d8576b"
             ],
             [
              0.6666666666666666,
              "#ed7953"
             ],
             [
              0.7777777777777778,
              "#fb9f3a"
             ],
             [
              0.8888888888888888,
              "#fdca26"
             ],
             [
              1,
              "#f0f921"
             ]
            ],
            "type": "histogram2d"
           }
          ],
          "histogram2dcontour": [
           {
            "colorbar": {
             "outlinewidth": 0,
             "ticks": ""
            },
            "colorscale": [
             [
              0,
              "#0d0887"
             ],
             [
              0.1111111111111111,
              "#46039f"
             ],
             [
              0.2222222222222222,
              "#7201a8"
             ],
             [
              0.3333333333333333,
              "#9c179e"
             ],
             [
              0.4444444444444444,
              "#bd3786"
             ],
             [
              0.5555555555555556,
              "#d8576b"
             ],
             [
              0.6666666666666666,
              "#ed7953"
             ],
             [
              0.7777777777777778,
              "#fb9f3a"
             ],
             [
              0.8888888888888888,
              "#fdca26"
             ],
             [
              1,
              "#f0f921"
             ]
            ],
            "type": "histogram2dcontour"
           }
          ],
          "mesh3d": [
           {
            "colorbar": {
             "outlinewidth": 0,
             "ticks": ""
            },
            "type": "mesh3d"
           }
          ],
          "parcoords": [
           {
            "line": {
             "colorbar": {
              "outlinewidth": 0,
              "ticks": ""
             }
            },
            "type": "parcoords"
           }
          ],
          "pie": [
           {
            "automargin": true,
            "type": "pie"
           }
          ],
          "scatter": [
           {
            "fillpattern": {
             "fillmode": "overlay",
             "size": 10,
             "solidity": 0.2
            },
            "type": "scatter"
           }
          ],
          "scatter3d": [
           {
            "line": {
             "colorbar": {
              "outlinewidth": 0,
              "ticks": ""
             }
            },
            "marker": {
             "colorbar": {
              "outlinewidth": 0,
              "ticks": ""
             }
            },
            "type": "scatter3d"
           }
          ],
          "scattercarpet": [
           {
            "marker": {
             "colorbar": {
              "outlinewidth": 0,
              "ticks": ""
             }
            },
            "type": "scattercarpet"
           }
          ],
          "scattergeo": [
           {
            "marker": {
             "colorbar": {
              "outlinewidth": 0,
              "ticks": ""
             }
            },
            "type": "scattergeo"
           }
          ],
          "scattergl": [
           {
            "marker": {
             "colorbar": {
              "outlinewidth": 0,
              "ticks": ""
             }
            },
            "type": "scattergl"
           }
          ],
          "scattermapbox": [
           {
            "marker": {
             "colorbar": {
              "outlinewidth": 0,
              "ticks": ""
             }
            },
            "type": "scattermapbox"
           }
          ],
          "scatterpolar": [
           {
            "marker": {
             "colorbar": {
              "outlinewidth": 0,
              "ticks": ""
             }
            },
            "type": "scatterpolar"
           }
          ],
          "scatterpolargl": [
           {
            "marker": {
             "colorbar": {
              "outlinewidth": 0,
              "ticks": ""
             }
            },
            "type": "scatterpolargl"
           }
          ],
          "scatterternary": [
           {
            "marker": {
             "colorbar": {
              "outlinewidth": 0,
              "ticks": ""
             }
            },
            "type": "scatterternary"
           }
          ],
          "surface": [
           {
            "colorbar": {
             "outlinewidth": 0,
             "ticks": ""
            },
            "colorscale": [
             [
              0,
              "#0d0887"
             ],
             [
              0.1111111111111111,
              "#46039f"
             ],
             [
              0.2222222222222222,
              "#7201a8"
             ],
             [
              0.3333333333333333,
              "#9c179e"
             ],
             [
              0.4444444444444444,
              "#bd3786"
             ],
             [
              0.5555555555555556,
              "#d8576b"
             ],
             [
              0.6666666666666666,
              "#ed7953"
             ],
             [
              0.7777777777777778,
              "#fb9f3a"
             ],
             [
              0.8888888888888888,
              "#fdca26"
             ],
             [
              1,
              "#f0f921"
             ]
            ],
            "type": "surface"
           }
          ],
          "table": [
           {
            "cells": {
             "fill": {
              "color": "#EBF0F8"
             },
             "line": {
              "color": "white"
             }
            },
            "header": {
             "fill": {
              "color": "#C8D4E3"
             },
             "line": {
              "color": "white"
             }
            },
            "type": "table"
           }
          ]
         },
         "layout": {
          "annotationdefaults": {
           "arrowcolor": "#2a3f5f",
           "arrowhead": 0,
           "arrowwidth": 1
          },
          "autotypenumbers": "strict",
          "coloraxis": {
           "colorbar": {
            "outlinewidth": 0,
            "ticks": ""
           }
          },
          "colorscale": {
           "diverging": [
            [
             0,
             "#8e0152"
            ],
            [
             0.1,
             "#c51b7d"
            ],
            [
             0.2,
             "#de77ae"
            ],
            [
             0.3,
             "#f1b6da"
            ],
            [
             0.4,
             "#fde0ef"
            ],
            [
             0.5,
             "#f7f7f7"
            ],
            [
             0.6,
             "#e6f5d0"
            ],
            [
             0.7,
             "#b8e186"
            ],
            [
             0.8,
             "#7fbc41"
            ],
            [
             0.9,
             "#4d9221"
            ],
            [
             1,
             "#276419"
            ]
           ],
           "sequential": [
            [
             0,
             "#0d0887"
            ],
            [
             0.1111111111111111,
             "#46039f"
            ],
            [
             0.2222222222222222,
             "#7201a8"
            ],
            [
             0.3333333333333333,
             "#9c179e"
            ],
            [
             0.4444444444444444,
             "#bd3786"
            ],
            [
             0.5555555555555556,
             "#d8576b"
            ],
            [
             0.6666666666666666,
             "#ed7953"
            ],
            [
             0.7777777777777778,
             "#fb9f3a"
            ],
            [
             0.8888888888888888,
             "#fdca26"
            ],
            [
             1,
             "#f0f921"
            ]
           ],
           "sequentialminus": [
            [
             0,
             "#0d0887"
            ],
            [
             0.1111111111111111,
             "#46039f"
            ],
            [
             0.2222222222222222,
             "#7201a8"
            ],
            [
             0.3333333333333333,
             "#9c179e"
            ],
            [
             0.4444444444444444,
             "#bd3786"
            ],
            [
             0.5555555555555556,
             "#d8576b"
            ],
            [
             0.6666666666666666,
             "#ed7953"
            ],
            [
             0.7777777777777778,
             "#fb9f3a"
            ],
            [
             0.8888888888888888,
             "#fdca26"
            ],
            [
             1,
             "#f0f921"
            ]
           ]
          },
          "colorway": [
           "#636efa",
           "#EF553B",
           "#00cc96",
           "#ab63fa",
           "#FFA15A",
           "#19d3f3",
           "#FF6692",
           "#B6E880",
           "#FF97FF",
           "#FECB52"
          ],
          "font": {
           "color": "#2a3f5f"
          },
          "geo": {
           "bgcolor": "white",
           "lakecolor": "white",
           "landcolor": "#E5ECF6",
           "showlakes": true,
           "showland": true,
           "subunitcolor": "white"
          },
          "hoverlabel": {
           "align": "left"
          },
          "hovermode": "closest",
          "mapbox": {
           "style": "light"
          },
          "paper_bgcolor": "white",
          "plot_bgcolor": "#E5ECF6",
          "polar": {
           "angularaxis": {
            "gridcolor": "white",
            "linecolor": "white",
            "ticks": ""
           },
           "bgcolor": "#E5ECF6",
           "radialaxis": {
            "gridcolor": "white",
            "linecolor": "white",
            "ticks": ""
           }
          },
          "scene": {
           "xaxis": {
            "backgroundcolor": "#E5ECF6",
            "gridcolor": "white",
            "gridwidth": 2,
            "linecolor": "white",
            "showbackground": true,
            "ticks": "",
            "zerolinecolor": "white"
           },
           "yaxis": {
            "backgroundcolor": "#E5ECF6",
            "gridcolor": "white",
            "gridwidth": 2,
            "linecolor": "white",
            "showbackground": true,
            "ticks": "",
            "zerolinecolor": "white"
           },
           "zaxis": {
            "backgroundcolor": "#E5ECF6",
            "gridcolor": "white",
            "gridwidth": 2,
            "linecolor": "white",
            "showbackground": true,
            "ticks": "",
            "zerolinecolor": "white"
           }
          },
          "shapedefaults": {
           "line": {
            "color": "#2a3f5f"
           }
          },
          "ternary": {
           "aaxis": {
            "gridcolor": "white",
            "linecolor": "white",
            "ticks": ""
           },
           "baxis": {
            "gridcolor": "white",
            "linecolor": "white",
            "ticks": ""
           },
           "bgcolor": "#E5ECF6",
           "caxis": {
            "gridcolor": "white",
            "linecolor": "white",
            "ticks": ""
           }
          },
          "title": {
           "x": 0.05
          },
          "xaxis": {
           "automargin": true,
           "gridcolor": "white",
           "linecolor": "white",
           "ticks": "",
           "title": {
            "standoff": 15
           },
           "zerolinecolor": "white",
           "zerolinewidth": 2
          },
          "yaxis": {
           "automargin": true,
           "gridcolor": "white",
           "linecolor": "white",
           "ticks": "",
           "title": {
            "standoff": 15
           },
           "zerolinecolor": "white",
           "zerolinewidth": 2
          }
         }
        },
        "title": {
         "text": "PELVIS LINEAR MOMENTUM"
        },
        "xaxis": {
         "showgrid": false,
         "title": {
          "text": "Time [s]"
         }
        },
        "yaxis": {
         "autorange": true,
         "gridcolor": "lightgrey",
         "gridwidth": 1,
         "rangemode": "tozero",
         "showgrid": true,
         "title": {
          "text": "Momentum [kg*m²/s]"
         },
         "zeroline": false
        }
       }
      }
     },
     "metadata": {},
     "output_type": "display_data"
    },
    {
     "data": {
      "application/vnd.plotly.v1+json": {
       "config": {
        "plotlyServerURL": "https://plot.ly"
       },
       "data": [
        {
         "line": {
          "color": "firebrick",
          "width": 4
         },
         "mode": "lines",
         "name": "TORSO LINEAR MOMENTUM",
         "type": "scatter",
         "x": [
          1.8,
          1.80556,
          1.81111,
          1.81667,
          1.82222,
          1.82778,
          1.83333,
          1.83889,
          1.84444,
          1.85,
          1.85556,
          1.86111,
          1.86667,
          1.87222,
          1.87778,
          1.88333,
          1.88889,
          1.89444,
          1.9,
          1.90556,
          1.91111,
          1.91667,
          1.92222,
          1.92778,
          1.93333,
          1.93889,
          1.94444,
          1.95,
          1.95556,
          1.96111,
          1.96667,
          1.97222,
          1.97778,
          1.98333,
          1.98889,
          1.99444,
          2,
          2.00556,
          2.01111,
          2.01667,
          2.02222,
          2.02778,
          2.03333,
          2.03889,
          2.04444,
          2.05,
          2.05556,
          2.06111,
          2.06667,
          2.07222,
          2.07778,
          2.08333,
          2.08889,
          2.09444,
          2.1,
          2.10556,
          2.11111,
          2.11667,
          2.12222,
          2.12778,
          2.13333,
          2.13889,
          2.14444,
          2.15,
          2.15556,
          2.16111,
          2.16667,
          2.17222,
          2.17778,
          2.18333,
          2.18889,
          2.19444,
          2.2,
          2.20556,
          2.21111,
          2.21667,
          2.22222,
          2.22778,
          2.23333,
          2.23889,
          2.24444,
          2.25,
          2.25556,
          2.26111,
          2.26667,
          2.27222,
          2.27778,
          2.28333,
          2.28889,
          2.29444,
          2.3,
          2.30556,
          2.31111,
          2.31667,
          2.32222,
          2.32778,
          2.33333,
          2.33889,
          2.34444,
          2.35,
          2.35556,
          2.36111,
          2.36667,
          2.37222,
          2.37778,
          2.38333,
          2.38889,
          2.39444,
          2.4,
          2.40556,
          2.41111,
          2.41667,
          2.42222,
          2.42778,
          2.43333,
          2.43889,
          2.44444,
          2.45,
          2.45556,
          2.46111,
          2.46667,
          2.47222,
          2.47778,
          2.48333,
          2.48889,
          2.49444,
          2.5,
          2.50556,
          2.51111,
          2.51667,
          2.52222,
          2.52778,
          2.53333,
          2.53889,
          2.54444,
          2.55,
          2.55556,
          2.56111,
          2.56667,
          2.57222,
          2.57778,
          2.58333,
          2.58889,
          2.59444,
          2.6,
          2.60556,
          2.61111,
          2.61667,
          2.62222,
          2.62778,
          2.63333,
          2.63889,
          2.64444,
          2.65,
          2.65556,
          2.66111,
          2.66667,
          2.67222,
          2.67778,
          2.68333,
          2.68889,
          2.69444,
          2.7,
          2.70556,
          2.71111,
          2.71667,
          2.72222,
          2.72778,
          2.73333,
          2.73889,
          2.74444,
          2.75,
          2.75556,
          2.76111,
          2.76667,
          2.77222,
          2.77778,
          2.78333,
          2.78889,
          2.79444,
          2.8,
          2.80556,
          2.81111,
          2.81667,
          2.82222,
          2.82778,
          2.83333,
          2.83889,
          2.84444,
          2.85,
          2.85556,
          2.86111,
          2.86667,
          2.87222,
          2.87778,
          2.88333,
          2.88889,
          2.89444,
          2.9,
          2.90556,
          2.91111,
          2.91667,
          2.92222,
          2.92778,
          2.93333,
          2.93889,
          2.94444,
          2.95,
          2.95556,
          2.96111
         ],
         "y": [
          0.0358291088586521,
          0.667531799799522,
          1.3558472736534593,
          2.0417372932745397,
          2.7240570934796393,
          3.3848818897237396,
          3.978328269526055,
          4.437704016703886,
          4.699091021604287,
          4.7290570736581,
          4.544184561981751,
          4.214801682573078,
          3.8482035878337375,
          3.5479998641393293,
          3.3611490393114214,
          3.2577171057769956,
          3.173955023840382,
          3.074779746097115,
          2.9826446597490395,
          2.9635384416001447,
          3.078322343318396,
          3.3315501709114472,
          3.669224762593617,
          4.019591222823834,
          4.327996025733987,
          4.568478526962706,
          4.7396078053968145,
          4.852926943384482,
          4.921297094570856,
          4.9537826671087295,
          4.9588694706916385,
          4.950886823271129,
          4.952191372632533,
          4.987946562807921,
          5.076704767001638,
          5.2229631605078595,
          5.41562379227898,
          5.632043633828643,
          5.845159274561172,
          6.031063834853717,
          6.174600794231485,
          6.271180187308948,
          6.324941075513831,
          6.345445235188067,
          6.345174134270191,
          6.338274825207911,
          6.339645255350936,
          6.363849092960962,
          6.424241603257574,
          6.532547889208781,
          6.698109064842253,
          6.9255283645169605,
          7.210618437662228,
          7.536699420803116,
          7.874294970748729,
          8.185833580153806,
          8.434085852299336,
          8.590860053758885,
          8.64246408430304,
          8.590850274503792,
          8.452462330057445,
          8.25742814231597,
          8.04865276563345,
          7.876931676825245,
          7.789295016287414,
          7.813847258817629,
          7.949606078370826,
          8.167574596998191,
          8.42125466717517,
          8.6602414234068,
          8.842421354913892,
          8.943205074713056,
          8.960795034175488,
          8.916086549493624,
          8.846245220858178,
          8.792787575134412,
          8.78774069124804,
          8.843575181799409,
          8.95140519380092,
          9.0870819592922,
          9.22057470756303,
          9.324164124461312,
          9.37761239579518,
          9.370140330588187,
          9.29961076025154,
          9.170243396660442,
          8.99101711953782,
          8.7760784130629,
          8.546149306317297,
          8.328135553716642,
          8.150497369155454,
          8.034653812380038,
          7.986512233001818,
          7.993910871585725,
          8.032210722539316,
          8.073890204634381,
          8.09552622746608,
          8.079138778525211,
          8.010059292357814,
          7.8756900463879,
          7.667998422982116,
          7.3892094175448415,
          7.057319313275592,
          6.707367224788623,
          6.386035651287259,
          6.140101351762919,
          6.002430538575963,
          5.981607180148467,
          6.0606454837484245,
          6.2048892698089,
          6.373281814920043,
          6.526863351399731,
          6.632657626374708,
          6.664766192548276,
          6.60531144136275,
          6.446741912407715,
          6.195062322481169,
          5.871667699757292,
          5.510900146485242,
          5.15219886401205,
          4.829134460210685,
          4.560281142493513,
          4.346282523550874,
          4.173672218027214,
          4.022505866372257,
          3.8746827726494097,
          3.7214304290784055,
          3.568421612107203,
          3.4353142919779067,
          3.3465491849609847,
          3.3158274718901577,
          3.335550803183232,
          3.3815457207667823,
          3.4282689043682733,
          3.460035401993624,
          3.4705165213372213,
          3.454103633859434,
          3.3985740718795054,
          3.28653831372323,
          3.1055307598218143,
          2.85984707304086,
          2.575881304405035,
          2.2953153527951655,
          2.0555848287045344,
          1.8673502093467305,
          1.7090058530563568,
          1.5459346258635969,
          1.3549478071148218,
          1.1340645003052603,
          0.8962504049680483,
          0.6550151878658441,
          0.4134158620175984,
          0.1744593565438025,
          0.1569788453550813,
          0.4028090945966964,
          0.6297903181550664,
          0.7857866847482315,
          0.8430374894271351,
          0.8005358441171224,
          0.6900515052038831,
          0.5764940056638798,
          0.5405328361383668,
          0.6120524948889299,
          0.7507786090567198,
          0.9211841076374768,
          1.1101399768385252,
          1.308791800512,
          1.5058221262173042,
          1.6914088002892131,
          1.8610757981505777,
          2.013903486448389,
          2.147417739135207,
          2.255352707022471,
          2.3314604955464664,
          2.376775058962141,
          2.405404399821826,
          2.444903362499457,
          2.528434352580824,
          2.6787516491315375,
          2.8920887369788715,
          3.135010926418019,
          3.3573789825890685,
          3.511966670769328,
          3.570782925877187,
          3.5337421506659994,
          3.429624482835883,
          3.3111228425132646,
          3.2445471651465883,
          3.29189793915163,
          3.4868761734044273,
          3.819351269258006,
          4.241033980653692,
          4.684306890498015,
          5.08111111390878,
          5.378019393739944,
          5.546379245084371,
          5.585547161358273,
          5.51946408539064,
          5.390147864017181,
          5.251517513751668,
          5.162743037799366,
          5.177166043335859,
          5.326978808175234,
          5.6124645279085135,
          6.004015367419494,
          6.453454909136356,
          6.905849218237774,
          7.3086586234681326,
          7.619625821347756,
          7.813665740463133,
          7.886720610815573,
          7.854539524411411,
          7.746498767454708,
          7.5970264905903475,
          7.438205667284718,
          7.296108288725977,
          7.1911004260160105,
          7.14025574496036,
          7.1590449491287735,
          7.259609349687473,
          7.444687852526108,
          7.7001378446437885,
          7.992107981295578,
          8.27285252620468,
          8.493208489778938,
          8.616018797628245,
          8.625454380089444,
          8.529340477229676,
          8.353312295056654,
          8.12820366629084,
          7.876365871668932,
          7.605245362097232,
          7.312613124567098,
          6.999058152047968,
          6.678080193908913,
          6.376320577770357,
          6.122672846496544,
          5.932114094658205,
          5.795790261872171,
          5.686306011604389,
          5.574351228786037,
          5.443040533012661,
          5.290273807770362,
          5.1203982353835515,
          4.933716778549095,
          4.721940438037707,
          4.471665589480727,
          4.172243439563451,
          3.823218918444192,
          3.438587137880715,
          3.0472372852783063,
          2.6896622701072928,
          2.4096149352188623,
          2.2373151400213196,
          2.1679088121888075,
          2.1565007889767047,
          2.142441256332972,
          2.0825350241726177,
          1.9724804607214583,
          1.8529496888136707,
          1.7954849619978994,
          1.858093977315529,
          2.0386387047721355,
          2.2863287295782517,
          2.5470496883401847,
          2.7843434442195147,
          2.9764114486526805,
          3.1075963112006044,
          3.162622912517922,
          3.125754788741396,
          2.98581150042366,
          2.7469303029929995,
          2.442990956364215,
          2.151928002907885,
          1.9955440659597363,
          2.0811057795861396,
          2.4062165111054252,
          2.883351991784116,
          3.4298271530635795,
          3.990230994360863,
          4.521988548297773,
          4.985617548782157,
          5.347502688139142,
          5.589242084415002,
          5.714570293595792,
          5.748180148441168,
          5.726673274377053,
          5.68621366660737,
          5.652445026469516,
          5.636616438702669,
          5.63878104202872,
          5.655118658012304,
          5.683668436259365,
          5.723600149566589,
          5.768392184884709,
          5.799881669830584,
          5.791617771216853,
          5.722804465811628,
          5.594428737678744,
          5.436025112906441,
          5.296956620518798,
          5.226460640711648,
          5.255924822529296,
          5.395119743184496,
          5.639264594789004,
          5.974227026255935,
          6.375950290926303,
          6.811738966379754,
          7.248722526395696,
          7.664805599783795,
          8.053181335054614,
          8.41613874996971,
          8.752478198445743,
          9.048673565464595,
          9.28162433763255,
          9.431544135853215,
          9.495479141581432,
          9.491668732963165,
          9.451455862806664,
          9.403619714153098,
          9.360776036127524,
          9.315706591709151,
          9.24842441699744,
          9.138175523540268,
          8.972965050890357,
          8.752240968657883,
          8.483288947183516,
          8.175850507082233,
          7.839902046852421,
          7.487759449121459,
          7.1367626940168725,
          6.807561605997161,
          6.517351527712438,
          6.273702345064336,
          6.075894291327978,
          5.92355518660839,
          5.8232536078797175,
          5.78320817331398,
          5.797565781965357,
          5.835059447424335,
          5.845986626671645,
          5.785270814004622,
          5.637325787235942,
          5.429887971194615,
          5.229377934658587,
          5.114889749360042,
          5.140268952463219,
          5.312834490609298,
          5.608682491852151,
          6.002439517017118,
          6.476281212733099,
          7.0043997395521185,
          7.536424979358529,
          8.000423869059713,
          8.32528851860821,
          8.468512560479352,
          8.436253185188159,
          8.288472222851683,
          8.125558208942053,
          8.056706241019302,
          8.161357150124289,
          8.46767064158687,
          8.961866714655393,
          9.611727535245892,
          10.380245264585785,
          11.227006174562543,
          12.108476404178928,
          12.982799670617164,
          13.816076636041291,
          14.58527759041379,
          15.276040353362816,
          15.87772237517304,
          16.38054363052399,
          16.778309785028046,
          17.07537681133578,
          17.292137369962578,
          17.463425190473735,
          17.629073848296095,
          17.82182357361523,
          18.060211378016973,
          18.35065420210102,
          18.696021251502536,
          19.103372694738916,
          19.585038375096325,
          20.153240339647983,
          20.813818354135503,
          21.56460177081296,
          22.39843476873119,
          23.30538043709485,
          24.26959328386,
          25.263549196117797,
          26.247833654043045,
          27.18129865823871,
          28.036720317404637,
          28.810882658117713,
          29.521108993510648,
          30.189917427929057,
          30.828264935667548,
          31.428803294760044,
          31.972319619765635,
          32.440159965394294,
          32.82249873642968,
          33.11854169233331,
          33.33281687982412,
          33.473944779943146,
          33.5579288902969,
          33.6123475925462,
          33.67607682757642,
          33.79206993846958,
          33.99525299193149,
          34.30052342119687,
          34.69594901822129,
          35.14406741388084,
          35.590898347096655,
          35.97938105627734,
          36.26268739788285,
          36.413586775721264,
          36.4281079355122,
          36.32395832701441,
          36.13545301420888,
          35.90681763320944,
          35.68527791069292,
          35.51504860120545,
          35.43323610009699,
          35.46821870275378,
          35.63997415916505,
          35.96070677572296,
          36.4340236744441,
          37.052164514296805,
          37.79267804831735,
          38.617273463775405,
          39.47545685086814,
          40.31378759755097,
          41.08878932535291,
          41.779199917273864,
          42.39299674922828,
          42.96684266312229,
          43.55868988756247,
          44.23626119073765,
          45.0644890667372,
          46.09450721810551,
          47.355984303559154,
          48.85345018180405,
          50.56619236861448,
          52.4511571429531,
          54.44906225129186,
          56.494172032285654,
          58.52657976594688,
          60.50320994265447,
          62.40285002675796,
          64.22323319123959,
          65.97304339119461,
          67.66471890112985,
          69.31235318395628,
          70.93422956729778,
          72.55590298159292,
          74.21023251409999,
          75.93422348233771,
          77.76524800230327,
          79.73871706754659,
          81.88645838026628,
          84.23299648733826,
          86.78796857416584,
          89.53648009838477,
          92.43231026041713,
          95.39874788499068,
          98.33843097668417,
          101.1494197446477,
          103.74244982152256,
          106.05457044675909,
          108.05608023167665,
          109.74923573520444,
          111.15800034548715,
          112.30920486417068,
          113.20844371064172,
          113.81841174539797,
          114.05009490056104,
          113.77487868216016,
          112.85798582586725,
          111.20435462689164,
          108.8019380132342,
          105.74719980525776,
          102.24294892672552,
          98.5668366423207,
          95.0164865102605,
          91.8428567646514,
          89.18807847668447,
          87.04726170582546,
          85.27030984508905,
          83.60563562013589,
          81.76985655472478,
          79.51899526522315,
          76.70111880123768,
          73.28051080498679,
          69.33245040513019,
          65.01419932478747,
          60.52260713012087,
          56.05103490655854,
          51.75651722925241,
          47.742746319308615,
          44.05889368632797,
          40.711363944315906,
          37.68444667387757,
          34.963913005466615,
          32.55529262907865,
          30.489141775340375,
          28.81071079142024,
          27.55907764287397,
          26.74680488619563,
          26.35056448459543,
          26.31480781464031,
          26.562146685502302,
          27.00472828651779,
          27.557192248108468,
          28.15274466350432,
          28.757685765315166,
          29.37519309313732,
          30.032744856020464,
          30.756945487016537,
          31.547618573386128,
          32.363939852953074,
          33.1284626123749,
          33.7455807849425,
          34.12577128564304,
          34.20736308241381,
          33.97053466022555,
          33.44081923953222,
          32.68124715437073,
          31.77461219723133,
          30.800834340536476,
          29.81740317585674,
          28.85034666835487,
          27.89795917277633,
          26.942904377930127,
          25.965328400648296,
          24.952030850434692,
          23.901600253836992,
          22.828159150940444,
          21.764634895863075,
          20.762113389122504,
          19.879843402336707,
          19.164921107861577,
          18.629977054647117,
          18.24297168935545,
          17.937703228991978,
          17.640488769137548,
          17.299902899803403,
          16.907335766062875,
          16.500893214820383,
          16.14946589391147,
          15.919881995331451,
          15.840376630871496,
          15.881341192020466,
          15.966412625148555,
          16.005827198901432,
          15.930837411682692,
          15.712714281893955,
          15.36163780291872,
          14.90969962692258,
          14.38795786023526,
          13.810542065784976,
          13.175579410727083,
          12.481668496738063,
          11.747051268325594,
          11.016215414537855,
          10.347020204991818,
          9.78515083971996,
          9.34373349294944,
          9.003777432921673,
          8.733317428183428,
          8.507578782770716,
          8.316019688521775,
          8.156471521828124,
          8.025612914741782,
          7.914396627016242,
          7.810627557654532,
          7.704410643185006,
          7.590871845272316,
          7.468669298600285,
          7.337287336753494,
          7.19672678082297,
          7.05058569949115,
          6.910542791072353,
          6.798366208918659,
          6.741355881814498,
          6.760360931895572,
          6.856539680244306,
          7.007409358517845,
          7.176569166416687,
          7.329925539211565,
          7.447495968436727,
          7.525800194445289,
          7.57312599365331,
          7.602643686965769,
          7.626448075525619,
          7.650986989467407,
          7.674527857993489,
          7.6888738865710335,
          7.685815490863407,
          7.663583861412732,
          7.625983384662184,
          7.572159949078386,
          7.48526650117489,
          7.332780546208796,
          7.082657084393628,
          6.7262333488315305,
          6.294351574828238,
          5.857657283849439,
          5.506623109404708,
          5.311932739745866,
          5.283989902479385,
          5.367948291833016,
          5.481629095526794,
          5.558857387825091,
          5.568884904817762,
          5.513439855191898,
          5.41393157576746,
          5.298295869377948,
          5.191660334964702,
          5.110868813271697,
          5.061069244634619,
          5.033910720653005,
          5.01008393187444,
          4.969104271205783,
          4.903778332555602,
          4.830900379298389,
          4.789564511116413,
          4.82453280030075,
          4.9625536691196075,
          5.198123832035706,
          5.498620172894013,
          5.820237340687488,
          6.119965589222467,
          6.359294707351003,
          6.505070160144211,
          6.533165806171775,
          6.43551197222712,
          6.226911541930184,
          5.946953753108593,
          5.652906160519705,
          5.402138615821129,
          5.230178199878704,
          5.139556690971717,
          5.1103495755500115,
          5.123114615052038,
          5.174165672631519,
          5.274007533954839,
          5.434349799925217,
          5.653825464966526,
          5.910210924705712,
          6.163046899642099,
          6.365635254518017,
          6.480272877705271,
          6.4893209426121,
          6.398423354561361,
          6.232981320970589,
          6.031062306214775,
          5.8350349842314975,
          5.682651228666281,
          5.59849035805232,
          5.588921876283146,
          5.644365134400313,
          5.747831032227536,
          5.882407538307811,
          6.031117542328455,
          6.171371643268732,
          6.27347706716186,
          6.309116937646513,
          6.264729211064384,
          6.1485773409865265,
          5.984868094512692,
          5.798991266325616,
          5.606290980482236,
          5.414608878439272,
          5.2374537030005985,
          5.101967869158737,
          5.037694767344881,
          5.051105908392609,
          5.111315517205025,
          5.165288934350015,
          5.170002595454062,
          5.116061019274826,
          5.029574565715621,
          4.953728768092896,
          4.921896842370715,
          4.9405308281311004,
          4.99266814420119,
          5.05350327711368,
          5.101881785666604,
          5.123118304803059,
          5.1097012383301985,
          5.0646491243195335,
          5.004352546342728,
          4.955329085524359,
          4.944814778328839,
          4.991240832775484,
          5.10007516779721,
          5.264806710576214,
          5.469792065801725,
          5.693397819596469,
          5.911620280487897,
          6.101915064559437,
          6.246394069292951,
          6.334286519548051,
          6.36451637030694,
          6.348486108879527,
          6.310528862038527,
          6.28191771560754,
          6.287645710300992,
          6.332913949332066,
          6.400291443217991,
          6.461464111473573,
          6.495726760753624,
          6.502952707722561,
          6.50280616512824,
          6.519678339882774,
          6.562375970487349,
          6.613693555187223,
          6.638457600140344,
          6.6033616942636995,
          6.494703401995909,
          6.325669378439625,
          6.1329909475298425,
          5.966521431764641,
          5.875454839305058,
          5.894619543691796,
          6.034377223750096,
          6.276382795052186,
          6.574518418663237,
          6.858820564744337,
          7.041575569929829,
          7.026478061020675,
          6.7218480828568525,
          6.05754411838922,
          5.003023517142317,
          3.581739765661806,
          1.8761661336621789,
          0.0639892841089877
         ]
        }
       ],
       "layout": {
        "annotations": [
         {
          "font": {
           "color": "cyan",
           "size": 16
          },
          "showarrow": false,
          "text": "KH",
          "textangle": -90,
          "x": 1.81111,
          "xref": "x",
          "y": 1,
          "yref": "paper"
         },
         {
          "font": {
           "color": "cyan",
           "size": 16
          },
          "showarrow": false,
          "text": "FC",
          "textangle": -90,
          "x": 2.61111,
          "xref": "x",
          "y": 1,
          "yref": "paper"
         },
         {
          "font": {
           "color": "cyan",
           "size": 16
          },
          "showarrow": false,
          "text": "MER",
          "textangle": -90,
          "x": 2.73333,
          "xref": "x",
          "y": 1,
          "yref": "paper"
         },
         {
          "font": {
           "color": "cyan",
           "size": 16
          },
          "showarrow": false,
          "text": "BR",
          "textangle": -90,
          "x": 2.77778,
          "xref": "x",
          "y": 1,
          "yref": "paper"
         }
        ],
        "height": 600,
        "margin": {
         "b": 40,
         "l": 40,
         "r": 40,
         "t": 40
        },
        "plot_bgcolor": "rgb(43,48,61)",
        "shapes": [
         {
          "line": {
           "color": "cyan",
           "dash": "dash",
           "width": 4
          },
          "opacity": 0.5,
          "type": "line",
          "x0": 1.8,
          "x1": 1.8,
          "xref": "x",
          "y0": 0,
          "y1": 1,
          "yref": "paper"
         },
         {
          "line": {
           "color": "cyan",
           "dash": "dash",
           "width": 4
          },
          "opacity": 0.5,
          "type": "line",
          "x0": 2.6,
          "x1": 2.6,
          "xref": "x",
          "y0": 0,
          "y1": 1,
          "yref": "paper"
         },
         {
          "line": {
           "color": "cyan",
           "dash": "dash",
           "width": 4
          },
          "opacity": 0.5,
          "type": "line",
          "x0": 2.72222,
          "x1": 2.72222,
          "xref": "x",
          "y0": 0,
          "y1": 1,
          "yref": "paper"
         },
         {
          "line": {
           "color": "cyan",
           "dash": "dash",
           "width": 4
          },
          "opacity": 0.5,
          "type": "line",
          "x0": 2.76667,
          "x1": 2.76667,
          "xref": "x",
          "y0": 0,
          "y1": 1,
          "yref": "paper"
         }
        ],
        "showlegend": false,
        "template": {
         "data": {
          "bar": [
           {
            "error_x": {
             "color": "#2a3f5f"
            },
            "error_y": {
             "color": "#2a3f5f"
            },
            "marker": {
             "line": {
              "color": "#E5ECF6",
              "width": 0.5
             },
             "pattern": {
              "fillmode": "overlay",
              "size": 10,
              "solidity": 0.2
             }
            },
            "type": "bar"
           }
          ],
          "barpolar": [
           {
            "marker": {
             "line": {
              "color": "#E5ECF6",
              "width": 0.5
             },
             "pattern": {
              "fillmode": "overlay",
              "size": 10,
              "solidity": 0.2
             }
            },
            "type": "barpolar"
           }
          ],
          "carpet": [
           {
            "aaxis": {
             "endlinecolor": "#2a3f5f",
             "gridcolor": "white",
             "linecolor": "white",
             "minorgridcolor": "white",
             "startlinecolor": "#2a3f5f"
            },
            "baxis": {
             "endlinecolor": "#2a3f5f",
             "gridcolor": "white",
             "linecolor": "white",
             "minorgridcolor": "white",
             "startlinecolor": "#2a3f5f"
            },
            "type": "carpet"
           }
          ],
          "choropleth": [
           {
            "colorbar": {
             "outlinewidth": 0,
             "ticks": ""
            },
            "type": "choropleth"
           }
          ],
          "contour": [
           {
            "colorbar": {
             "outlinewidth": 0,
             "ticks": ""
            },
            "colorscale": [
             [
              0,
              "#0d0887"
             ],
             [
              0.1111111111111111,
              "#46039f"
             ],
             [
              0.2222222222222222,
              "#7201a8"
             ],
             [
              0.3333333333333333,
              "#9c179e"
             ],
             [
              0.4444444444444444,
              "#bd3786"
             ],
             [
              0.5555555555555556,
              "#d8576b"
             ],
             [
              0.6666666666666666,
              "#ed7953"
             ],
             [
              0.7777777777777778,
              "#fb9f3a"
             ],
             [
              0.8888888888888888,
              "#fdca26"
             ],
             [
              1,
              "#f0f921"
             ]
            ],
            "type": "contour"
           }
          ],
          "contourcarpet": [
           {
            "colorbar": {
             "outlinewidth": 0,
             "ticks": ""
            },
            "type": "contourcarpet"
           }
          ],
          "heatmap": [
           {
            "colorbar": {
             "outlinewidth": 0,
             "ticks": ""
            },
            "colorscale": [
             [
              0,
              "#0d0887"
             ],
             [
              0.1111111111111111,
              "#46039f"
             ],
             [
              0.2222222222222222,
              "#7201a8"
             ],
             [
              0.3333333333333333,
              "#9c179e"
             ],
             [
              0.4444444444444444,
              "#bd3786"
             ],
             [
              0.5555555555555556,
              "#d8576b"
             ],
             [
              0.6666666666666666,
              "#ed7953"
             ],
             [
              0.7777777777777778,
              "#fb9f3a"
             ],
             [
              0.8888888888888888,
              "#fdca26"
             ],
             [
              1,
              "#f0f921"
             ]
            ],
            "type": "heatmap"
           }
          ],
          "heatmapgl": [
           {
            "colorbar": {
             "outlinewidth": 0,
             "ticks": ""
            },
            "colorscale": [
             [
              0,
              "#0d0887"
             ],
             [
              0.1111111111111111,
              "#46039f"
             ],
             [
              0.2222222222222222,
              "#7201a8"
             ],
             [
              0.3333333333333333,
              "#9c179e"
             ],
             [
              0.4444444444444444,
              "#bd3786"
             ],
             [
              0.5555555555555556,
              "#d8576b"
             ],
             [
              0.6666666666666666,
              "#ed7953"
             ],
             [
              0.7777777777777778,
              "#fb9f3a"
             ],
             [
              0.8888888888888888,
              "#fdca26"
             ],
             [
              1,
              "#f0f921"
             ]
            ],
            "type": "heatmapgl"
           }
          ],
          "histogram": [
           {
            "marker": {
             "pattern": {
              "fillmode": "overlay",
              "size": 10,
              "solidity": 0.2
             }
            },
            "type": "histogram"
           }
          ],
          "histogram2d": [
           {
            "colorbar": {
             "outlinewidth": 0,
             "ticks": ""
            },
            "colorscale": [
             [
              0,
              "#0d0887"
             ],
             [
              0.1111111111111111,
              "#46039f"
             ],
             [
              0.2222222222222222,
              "#7201a8"
             ],
             [
              0.3333333333333333,
              "#9c179e"
             ],
             [
              0.4444444444444444,
              "#bd3786"
             ],
             [
              0.5555555555555556,
              "#d8576b"
             ],
             [
              0.6666666666666666,
              "#ed7953"
             ],
             [
              0.7777777777777778,
              "#fb9f3a"
             ],
             [
              0.8888888888888888,
              "#fdca26"
             ],
             [
              1,
              "#f0f921"
             ]
            ],
            "type": "histogram2d"
           }
          ],
          "histogram2dcontour": [
           {
            "colorbar": {
             "outlinewidth": 0,
             "ticks": ""
            },
            "colorscale": [
             [
              0,
              "#0d0887"
             ],
             [
              0.1111111111111111,
              "#46039f"
             ],
             [
              0.2222222222222222,
              "#7201a8"
             ],
             [
              0.3333333333333333,
              "#9c179e"
             ],
             [
              0.4444444444444444,
              "#bd3786"
             ],
             [
              0.5555555555555556,
              "#d8576b"
             ],
             [
              0.6666666666666666,
              "#ed7953"
             ],
             [
              0.7777777777777778,
              "#fb9f3a"
             ],
             [
              0.8888888888888888,
              "#fdca26"
             ],
             [
              1,
              "#f0f921"
             ]
            ],
            "type": "histogram2dcontour"
           }
          ],
          "mesh3d": [
           {
            "colorbar": {
             "outlinewidth": 0,
             "ticks": ""
            },
            "type": "mesh3d"
           }
          ],
          "parcoords": [
           {
            "line": {
             "colorbar": {
              "outlinewidth": 0,
              "ticks": ""
             }
            },
            "type": "parcoords"
           }
          ],
          "pie": [
           {
            "automargin": true,
            "type": "pie"
           }
          ],
          "scatter": [
           {
            "fillpattern": {
             "fillmode": "overlay",
             "size": 10,
             "solidity": 0.2
            },
            "type": "scatter"
           }
          ],
          "scatter3d": [
           {
            "line": {
             "colorbar": {
              "outlinewidth": 0,
              "ticks": ""
             }
            },
            "marker": {
             "colorbar": {
              "outlinewidth": 0,
              "ticks": ""
             }
            },
            "type": "scatter3d"
           }
          ],
          "scattercarpet": [
           {
            "marker": {
             "colorbar": {
              "outlinewidth": 0,
              "ticks": ""
             }
            },
            "type": "scattercarpet"
           }
          ],
          "scattergeo": [
           {
            "marker": {
             "colorbar": {
              "outlinewidth": 0,
              "ticks": ""
             }
            },
            "type": "scattergeo"
           }
          ],
          "scattergl": [
           {
            "marker": {
             "colorbar": {
              "outlinewidth": 0,
              "ticks": ""
             }
            },
            "type": "scattergl"
           }
          ],
          "scattermapbox": [
           {
            "marker": {
             "colorbar": {
              "outlinewidth": 0,
              "ticks": ""
             }
            },
            "type": "scattermapbox"
           }
          ],
          "scatterpolar": [
           {
            "marker": {
             "colorbar": {
              "outlinewidth": 0,
              "ticks": ""
             }
            },
            "type": "scatterpolar"
           }
          ],
          "scatterpolargl": [
           {
            "marker": {
             "colorbar": {
              "outlinewidth": 0,
              "ticks": ""
             }
            },
            "type": "scatterpolargl"
           }
          ],
          "scatterternary": [
           {
            "marker": {
             "colorbar": {
              "outlinewidth": 0,
              "ticks": ""
             }
            },
            "type": "scatterternary"
           }
          ],
          "surface": [
           {
            "colorbar": {
             "outlinewidth": 0,
             "ticks": ""
            },
            "colorscale": [
             [
              0,
              "#0d0887"
             ],
             [
              0.1111111111111111,
              "#46039f"
             ],
             [
              0.2222222222222222,
              "#7201a8"
             ],
             [
              0.3333333333333333,
              "#9c179e"
             ],
             [
              0.4444444444444444,
              "#bd3786"
             ],
             [
              0.5555555555555556,
              "#d8576b"
             ],
             [
              0.6666666666666666,
              "#ed7953"
             ],
             [
              0.7777777777777778,
              "#fb9f3a"
             ],
             [
              0.8888888888888888,
              "#fdca26"
             ],
             [
              1,
              "#f0f921"
             ]
            ],
            "type": "surface"
           }
          ],
          "table": [
           {
            "cells": {
             "fill": {
              "color": "#EBF0F8"
             },
             "line": {
              "color": "white"
             }
            },
            "header": {
             "fill": {
              "color": "#C8D4E3"
             },
             "line": {
              "color": "white"
             }
            },
            "type": "table"
           }
          ]
         },
         "layout": {
          "annotationdefaults": {
           "arrowcolor": "#2a3f5f",
           "arrowhead": 0,
           "arrowwidth": 1
          },
          "autotypenumbers": "strict",
          "coloraxis": {
           "colorbar": {
            "outlinewidth": 0,
            "ticks": ""
           }
          },
          "colorscale": {
           "diverging": [
            [
             0,
             "#8e0152"
            ],
            [
             0.1,
             "#c51b7d"
            ],
            [
             0.2,
             "#de77ae"
            ],
            [
             0.3,
             "#f1b6da"
            ],
            [
             0.4,
             "#fde0ef"
            ],
            [
             0.5,
             "#f7f7f7"
            ],
            [
             0.6,
             "#e6f5d0"
            ],
            [
             0.7,
             "#b8e186"
            ],
            [
             0.8,
             "#7fbc41"
            ],
            [
             0.9,
             "#4d9221"
            ],
            [
             1,
             "#276419"
            ]
           ],
           "sequential": [
            [
             0,
             "#0d0887"
            ],
            [
             0.1111111111111111,
             "#46039f"
            ],
            [
             0.2222222222222222,
             "#7201a8"
            ],
            [
             0.3333333333333333,
             "#9c179e"
            ],
            [
             0.4444444444444444,
             "#bd3786"
            ],
            [
             0.5555555555555556,
             "#d8576b"
            ],
            [
             0.6666666666666666,
             "#ed7953"
            ],
            [
             0.7777777777777778,
             "#fb9f3a"
            ],
            [
             0.8888888888888888,
             "#fdca26"
            ],
            [
             1,
             "#f0f921"
            ]
           ],
           "sequentialminus": [
            [
             0,
             "#0d0887"
            ],
            [
             0.1111111111111111,
             "#46039f"
            ],
            [
             0.2222222222222222,
             "#7201a8"
            ],
            [
             0.3333333333333333,
             "#9c179e"
            ],
            [
             0.4444444444444444,
             "#bd3786"
            ],
            [
             0.5555555555555556,
             "#d8576b"
            ],
            [
             0.6666666666666666,
             "#ed7953"
            ],
            [
             0.7777777777777778,
             "#fb9f3a"
            ],
            [
             0.8888888888888888,
             "#fdca26"
            ],
            [
             1,
             "#f0f921"
            ]
           ]
          },
          "colorway": [
           "#636efa",
           "#EF553B",
           "#00cc96",
           "#ab63fa",
           "#FFA15A",
           "#19d3f3",
           "#FF6692",
           "#B6E880",
           "#FF97FF",
           "#FECB52"
          ],
          "font": {
           "color": "#2a3f5f"
          },
          "geo": {
           "bgcolor": "white",
           "lakecolor": "white",
           "landcolor": "#E5ECF6",
           "showlakes": true,
           "showland": true,
           "subunitcolor": "white"
          },
          "hoverlabel": {
           "align": "left"
          },
          "hovermode": "closest",
          "mapbox": {
           "style": "light"
          },
          "paper_bgcolor": "white",
          "plot_bgcolor": "#E5ECF6",
          "polar": {
           "angularaxis": {
            "gridcolor": "white",
            "linecolor": "white",
            "ticks": ""
           },
           "bgcolor": "#E5ECF6",
           "radialaxis": {
            "gridcolor": "white",
            "linecolor": "white",
            "ticks": ""
           }
          },
          "scene": {
           "xaxis": {
            "backgroundcolor": "#E5ECF6",
            "gridcolor": "white",
            "gridwidth": 2,
            "linecolor": "white",
            "showbackground": true,
            "ticks": "",
            "zerolinecolor": "white"
           },
           "yaxis": {
            "backgroundcolor": "#E5ECF6",
            "gridcolor": "white",
            "gridwidth": 2,
            "linecolor": "white",
            "showbackground": true,
            "ticks": "",
            "zerolinecolor": "white"
           },
           "zaxis": {
            "backgroundcolor": "#E5ECF6",
            "gridcolor": "white",
            "gridwidth": 2,
            "linecolor": "white",
            "showbackground": true,
            "ticks": "",
            "zerolinecolor": "white"
           }
          },
          "shapedefaults": {
           "line": {
            "color": "#2a3f5f"
           }
          },
          "ternary": {
           "aaxis": {
            "gridcolor": "white",
            "linecolor": "white",
            "ticks": ""
           },
           "baxis": {
            "gridcolor": "white",
            "linecolor": "white",
            "ticks": ""
           },
           "bgcolor": "#E5ECF6",
           "caxis": {
            "gridcolor": "white",
            "linecolor": "white",
            "ticks": ""
           }
          },
          "title": {
           "x": 0.05
          },
          "xaxis": {
           "automargin": true,
           "gridcolor": "white",
           "linecolor": "white",
           "ticks": "",
           "title": {
            "standoff": 15
           },
           "zerolinecolor": "white",
           "zerolinewidth": 2
          },
          "yaxis": {
           "automargin": true,
           "gridcolor": "white",
           "linecolor": "white",
           "ticks": "",
           "title": {
            "standoff": 15
           },
           "zerolinecolor": "white",
           "zerolinewidth": 2
          }
         }
        },
        "title": {
         "text": "TORSO LINEAR MOMENTUM"
        },
        "xaxis": {
         "showgrid": false,
         "title": {
          "text": "Time [s]"
         }
        },
        "yaxis": {
         "autorange": true,
         "gridcolor": "lightgrey",
         "gridwidth": 1,
         "rangemode": "tozero",
         "showgrid": true,
         "title": {
          "text": "Momentum [kg*m²/s]"
         },
         "zeroline": false
        }
       }
      }
     },
     "metadata": {},
     "output_type": "display_data"
    },
    {
     "data": {
      "application/vnd.plotly.v1+json": {
       "config": {
        "plotlyServerURL": "https://plot.ly"
       },
       "data": [
        {
         "line": {
          "color": "firebrick",
          "width": 4
         },
         "mode": "lines",
         "name": "ARM LINEAR MOMENTUM",
         "type": "scatter",
         "x": [
          1.8,
          1.80556,
          1.81111,
          1.81667,
          1.82222,
          1.82778,
          1.83333,
          1.83889,
          1.84444,
          1.85,
          1.85556,
          1.86111,
          1.86667,
          1.87222,
          1.87778,
          1.88333,
          1.88889,
          1.89444,
          1.9,
          1.90556,
          1.91111,
          1.91667,
          1.92222,
          1.92778,
          1.93333,
          1.93889,
          1.94444,
          1.95,
          1.95556,
          1.96111,
          1.96667,
          1.97222,
          1.97778,
          1.98333,
          1.98889,
          1.99444,
          2,
          2.00556,
          2.01111,
          2.01667,
          2.02222,
          2.02778,
          2.03333,
          2.03889,
          2.04444,
          2.05,
          2.05556,
          2.06111,
          2.06667,
          2.07222,
          2.07778,
          2.08333,
          2.08889,
          2.09444,
          2.1,
          2.10556,
          2.11111,
          2.11667,
          2.12222,
          2.12778,
          2.13333,
          2.13889,
          2.14444,
          2.15,
          2.15556,
          2.16111,
          2.16667,
          2.17222,
          2.17778,
          2.18333,
          2.18889,
          2.19444,
          2.2,
          2.20556,
          2.21111,
          2.21667,
          2.22222,
          2.22778,
          2.23333,
          2.23889,
          2.24444,
          2.25,
          2.25556,
          2.26111,
          2.26667,
          2.27222,
          2.27778,
          2.28333,
          2.28889,
          2.29444,
          2.3,
          2.30556,
          2.31111,
          2.31667,
          2.32222,
          2.32778,
          2.33333,
          2.33889,
          2.34444,
          2.35,
          2.35556,
          2.36111,
          2.36667,
          2.37222,
          2.37778,
          2.38333,
          2.38889,
          2.39444,
          2.4,
          2.40556,
          2.41111,
          2.41667,
          2.42222,
          2.42778,
          2.43333,
          2.43889,
          2.44444,
          2.45,
          2.45556,
          2.46111,
          2.46667,
          2.47222,
          2.47778,
          2.48333,
          2.48889,
          2.49444,
          2.5,
          2.50556,
          2.51111,
          2.51667,
          2.52222,
          2.52778,
          2.53333,
          2.53889,
          2.54444,
          2.55,
          2.55556,
          2.56111,
          2.56667,
          2.57222,
          2.57778,
          2.58333,
          2.58889,
          2.59444,
          2.6,
          2.60556,
          2.61111,
          2.61667,
          2.62222,
          2.62778,
          2.63333,
          2.63889,
          2.64444,
          2.65,
          2.65556,
          2.66111,
          2.66667,
          2.67222,
          2.67778,
          2.68333,
          2.68889,
          2.69444,
          2.7,
          2.70556,
          2.71111,
          2.71667,
          2.72222,
          2.72778,
          2.73333,
          2.73889,
          2.74444,
          2.75,
          2.75556,
          2.76111,
          2.76667,
          2.77222,
          2.77778,
          2.78333,
          2.78889,
          2.79444,
          2.8,
          2.80556,
          2.81111,
          2.81667,
          2.82222,
          2.82778,
          2.83333,
          2.83889,
          2.84444,
          2.85,
          2.85556,
          2.86111,
          2.86667,
          2.87222,
          2.87778,
          2.88333,
          2.88889,
          2.89444,
          2.9,
          2.90556,
          2.91111,
          2.91667,
          2.92222,
          2.92778,
          2.93333,
          2.93889,
          2.94444,
          2.95,
          2.95556,
          2.96111
         ],
         "y": [
          0.0107088777987,
          0.3511242578590641,
          0.6824775911842735,
          0.9620456350675552,
          1.1773217984869255,
          1.326644989438137,
          1.4160946026538754,
          1.4551008831973389,
          1.453327733635936,
          1.4201854240057472,
          1.366127639907692,
          1.3033355016788593,
          1.243702289141586,
          1.194391146270317,
          1.154425879055739,
          1.1162840291366691,
          1.0723180886974022,
          1.0217579931125722,
          0.9742612704802702,
          0.9476070390091677,
          0.9584279604349362,
          1.0106140561014156,
          1.092570033874934,
          1.1855024531254237,
          1.272469220534462,
          1.342125203426185,
          1.3886362656278892,
          1.4104550232562671,
          1.4093692713913888,
          1.3900640549963863,
          1.3597571434579738,
          1.327333044235368,
          1.301723680819319,
          1.2898092300833774,
          1.294572564695508,
          1.314381653387235,
          1.3438490635204687,
          1.375841897820161,
          1.4035748315196552,
          1.4218774544562622,
          1.4274892644127544,
          1.4189368104675877,
          1.3966492525815712,
          1.3634405969025754,
          1.3248028335679862,
          1.2881793232046377,
          1.2608485881199163,
          1.247202577077037,
          1.2472088470094198,
          1.257280525457939,
          1.272764238628844,
          1.290045802491291,
          1.3070254663540806,
          1.3222257451266388,
          1.3337136562793277,
          1.338942503716206,
          1.335774552491639,
          1.3239965632089965,
          1.3062661847800467,
          1.287785358897782,
          1.274733281292151,
          1.2721341152912686,
          1.2820682082216783,
          1.3029120416322768,
          1.329809216617141,
          1.3560898862853723,
          1.3750432183916714,
          1.3814218310913169,
          1.3723262187955492,
          1.3474783914339572,
          1.3090846963517768,
          1.2614454199695253,
          1.210330246926819,
          1.1620622349701986,
          1.1223295187012463,
          1.094958415437114,
          1.0810649550310327,
          1.078950781762065,
          1.0848269500984329,
          1.0941278710528026,
          1.102962577540179,
          1.109184947871289,
          1.1126762997865496,
          1.1147432345622956,
          1.1169860487727334,
          1.120339772577604,
          1.1248538582120458,
          1.1301275047676964,
          1.1357459398081686,
          1.1411710239255095,
          1.145206523239986,
          1.1456941677751578,
          1.1399807873935486,
          1.1260693381514235,
          1.1038188554560824,
          1.0755021111360392,
          1.0454032101979605,
          1.0186240558261748,
          0.9995894934875876,
          0.9907874674880728,
          0.9921206444390364,
          1.0010236220870403,
          1.013290755307931,
          1.024345293920272,
          1.0304933099682254,
          1.029718046507199,
          1.021885860152037,
          1.0085993293200644,
          0.992913641750336,
          0.9787447421905904,
          0.9696661831088862,
          0.9673567266092306,
          0.9706653304675852,
          0.9760549624067144,
          0.9790977290068258,
          0.9759634403555474,
          0.9641182282052516,
          0.942187399952128,
          0.9095207478095434,
          0.8661927212860097,
          0.8138716220132,
          0.7572988741126269,
          0.7053305129592066,
          0.669769608544316,
          0.6603288873154807,
          0.6776218402536113,
          0.7109579225409444,
          0.7434264802673085,
          0.7585836838216551,
          0.7446523863148535,
          0.696663973298279,
          0.6175360609823758,
          0.5181989901034385,
          0.4164840941415242,
          0.3337292663807715,
          0.2855070309798129,
          0.2680489020450074,
          0.2622342492948835,
          0.2538934738003937,
          0.2408051177268223,
          0.2268785017953842,
          0.2147817591777843,
          0.2027018129306914,
          0.1863490371774745,
          0.1623928987842648,
          0.1299606887885936,
          0.0904160024051278,
          0.0471045615330141,
          0.0172822764741397,
          0.0501076799394758,
          0.0878479495703754,
          0.1179757151284339,
          0.1378134042524045,
          0.1470479246204537,
          0.1483641199210982,
          0.1479234367956625,
          0.1535767328427533,
          0.1697133710389543,
          0.1939361529161841,
          0.2201468255641934,
          0.2428481466586919,
          0.2589619045290517,
          0.2681283615865573,
          0.2722930556304003,
          0.2745071735915717,
          0.2770504637872124,
          0.2799549151377677,
          0.2812801680428169,
          0.2789886862413348,
          0.2727692936009053,
          0.2644387108570403,
          0.2568176406029286,
          0.2521354521096336,
          0.2513745293081977,
          0.2548653052310261,
          0.2629370950829149,
          0.2755537457499435,
          0.2913104215780869,
          0.3069618229704993,
          0.3180472483264953,
          0.3202478789997197,
          0.3108607250440528,
          0.2899902939769831,
          0.2612783316776998,
          0.2320246378759242,
          0.2120217426081429,
          0.2095163442979633,
          0.2258856280803335,
          0.2563765637044689,
          0.2955003650583157,
          0.3390024212279984,
          0.3828275826299721,
          0.4225406326903264,
          0.4540408317055924,
          0.4746944705359144,
          0.4839951561241589,
          0.48349911198479,
          0.476242443257867,
          0.465951996941819,
          0.4562999329111694,
          0.4503678016173241,
          0.4503658334849158,
          0.4575057272730052,
          0.4718870867890412,
          0.4924111500510659,
          0.5168929560074884,
          0.5424599381718475,
          0.5661084327278263,
          0.5852310370101342,
          0.5980340818931165,
          0.6038312438952828,
          0.6031696883320956,
          0.5977275815798841,
          0.589975953434371,
          0.5826656030416818,
          0.5782139303379945,
          0.5780680224778579,
          0.582227491060867,
          0.589264275299151,
          0.597042439911186,
          0.603835911408851,
          0.6091595351298126,
          0.6137768297362256,
          0.6188835734253176,
          0.6250412115835347,
          0.6316797110723593,
          0.6375807526677015,
          0.6419401962494512,
          0.6452027379147003,
          0.649169568532184,
          0.6563907338091218,
          0.6691258924179372,
          0.6882862130207916,
          0.7128662667726884,
          0.7401873522610432,
          0.7667424833309072,
          0.7890497876901403,
          0.8040804096173814,
          0.809348090672288,
          0.8031504227213235,
          0.7853501686537033,
          0.7584635145993905,
          0.7281094871948566,
          0.7017145646644448,
          0.6853837191420046,
          0.6809462332427083,
          0.6859943366939873,
          0.6968927370661269,
          0.7115278240268644,
          0.7293850992426983,
          0.749689648198495,
          0.7701387623463876,
          0.7878200893786413,
          0.8014720145352682,
          0.8128868464618471,
          0.826015308087986,
          0.8442455160102658,
          0.8679210438524697,
          0.8940077425408496,
          0.9179437491197862,
          0.9362079471746324,
          0.9482359794396292,
          0.9569914810254276,
          0.9678896105146372,
          0.9862676680391498,
          1.0146437026134394,
          1.0516650351263572,
          1.0934658347867992,
          1.135979395430042,
          1.1760718720714507,
          1.210699270576469,
          1.235222983834284,
          1.2430327034389126,
          1.2277707051738538,
          1.1872883286081382,
          1.1268496460908457,
          1.059032856963519,
          0.998906462213464,
          0.9556748271755628,
          0.926438152466086,
          0.8985877338168469,
          0.8595915240305828,
          0.8064816136005777,
          0.7496139163361274,
          0.7084244737637696,
          0.6987971745406242,
          0.7206224270545226,
          0.7600914498203726,
          0.8023368855523384,
          0.8384106885259186,
          0.8641228192512699,
          0.8767710300578629,
          0.8738786229926812,
          0.8543282571118508,
          0.8201753090022095,
          0.7774147535457713,
          0.7349660607607249,
          0.701945603633986,
          0.6840323596712836,
          0.6809414392116058,
          0.6871582875399639,
          0.6954710978696065,
          0.7005096261885202,
          0.7003184529158563,
          0.6958786741989623,
          0.689488382204101,
          0.6831757938007001,
          0.6780230635979896,
          0.6744484279484172,
          0.6727708652711345,
          0.6734278637950506,
          0.6767799623132521,
          0.6828241821383214,
          0.6911437274957092,
          0.7012552282458696,
          0.7132804508010918,
          0.7285379181317911,
          0.7493847067803853,
          0.7778603808376738,
          0.8136522229597156,
          0.8529103054634876,
          0.8890989820847579,
          0.9154520774439272,
          0.9274934690522106,
          0.9243428985101227,
          0.9084725148091038,
          0.8844742061080836,
          0.857841288956532,
          0.8344837180799669,
          0.8207771666036491,
          0.8231212009248602,
          0.8462399024473468,
          0.8909729629331599,
          0.953392908796043,
          1.025969749840195,
          1.0996925656452754,
          1.1659273507803942,
          1.2177229216442589,
          1.2507744826236182,
          1.2641667817910267,
          1.2608009129585305,
          1.247299587190953,
          1.2331767182044129,
          1.2291405126594708,
          1.2447158350462393,
          1.2859490802726952,
          1.3542279736533418,
          1.4465515951979766,
          1.5565734553488872,
          1.6756956645487646,
          1.7942048457139557,
          1.9027482459571428,
          1.9940755355797544,
          2.0645021137557182,
          2.1144494558890323,
          2.1477217384256018,
          2.1697158293375503,
          2.1852893657820993,
          2.1972154932587737,
          2.2058345156434687,
          2.2098530081955805,
          2.207704254900179,
          2.198783360359007,
          2.184144371151855,
          2.1666211711144494,
          2.150547284895924,
          2.141207419613494,
          2.144027476783879,
          2.1635893752332276,
          2.2028299225179935,
          2.2628011552160476,
          2.3428638296336617,
          2.440707677676514,
          2.5519505407484484,
          2.670020665792384,
          2.7872473200029177,
          2.8969274296690037,
          2.9948039805222852,
          3.0785994328380695,
          3.1460738252575497,
          3.1936859015408294,
          3.217514274373501,
          3.2160269213466126,
          3.192703864070871,
          3.1566714946678793,
          3.120767320809212,
          3.0977425184111813,
          3.096191198206757,
          3.11806647193498,
          3.158923544465699,
          3.2104913924178136,
          3.263977720904137,
          3.3125612070510373,
          3.352444284115257,
          3.382714372131176,
          3.4046283136893765,
          3.4208503606406593,
          3.434872745391435,
          3.45053223841694,
          3.4713534726535413,
          3.4995175173021864,
          3.534596444026669,
          3.572623320955754,
          3.606214826896326,
          3.6260794044300786,
          3.6234896454260506,
          3.5926741551180292,
          3.5320498583470163,
          3.4438631771731365,
          3.332758007682772,
          3.204351884305578,
          3.064592377742053,
          2.919738618871205,
          2.776149579621093,
          2.639318019984423,
          2.5125180998333776,
          2.396117550772387,
          2.2883488251037725,
          2.1873635704433037,
          2.0935753559211996,
          2.011159051523034,
          1.9479573150280296,
          1.9136258239874075,
          1.9165392623058188,
          1.9606531943402097,
          2.043726590727495,
          2.157687009273954,
          2.2908349219652617,
          2.430839464590678,
          2.567420332464375,
          2.6940404195261247,
          2.8085058220606283,
          2.912765569884291,
          3.0122559163096567,
          3.114940116212198,
          3.230020436915449,
          3.3663345816642503,
          3.530647937515672,
          3.726205513924737,
          3.95186744413557,
          4.201979002966606,
          4.466966912446456,
          4.734549991003507,
          4.991360346459933,
          5.224700760262123,
          5.424170959280674,
          5.582976445667522,
          5.6988149179075975,
          5.774255655333701,
          5.816488240831478,
          5.836287051083377,
          5.846140142856005,
          5.857820231057393,
          5.880118883954436,
          5.917631908228575,
          5.971025432876322,
          6.038352164624294,
          6.116500346944145,
          6.202244049615492,
          6.293198781675895,
          6.389350646589327,
          6.495285872221518,
          6.62222393985865,
          6.788253863766804,
          7.015441867671719,
          7.324000174130713,
          7.725894101199649,
          8.221316720958606,
          8.799929299172657,
          9.445838641750964,
          10.14362721572185,
          10.883180975248733,
          11.662252264013038,
          12.486451368681127,
          13.366644963245967,
          14.314092426629331,
          15.334383365264332,
          16.42206663128076,
          17.55807468354998,
          18.711167366131864,
          19.842943452552753,
          20.914362126627328,
          21.89095448801285,
          22.74435841458014,
          23.44946055303955,
          23.978747138614647,
          24.297352534373896,
          24.362599042991384,
          24.130192766958952,
          23.566449348808945,
          22.663280624059773,
          21.451188550485973,
          20.00555252373718,
          18.442896560300326,
          16.90612147576007,
          15.540534078281764,
          14.466057483578703,
          13.754825240386404,
          13.423547935303082,
          13.441739861707491,
          13.745881365597636,
          14.249731357402808,
          14.851042404043016,
          15.439940607257135,
          15.910566446448428,
          16.173422313424197,
          16.165552173842027,
          15.857125373070366,
          15.253923779330732,
          14.395501703649002,
          13.349059915484824,
          12.199606628947974,
          11.037590475043045,
          9.94567051320333,
          8.986674226007967,
          8.195243755671154,
          7.575771769620058,
          7.107729876854611,
          6.7561602229937705,
          6.482612903941459,
          6.252817455231909,
          6.040443014767989,
          5.828198649365152,
          5.6074603987511304,
          5.3768948847882605,
          5.140245956954453,
          4.903643139604073,
          4.673089666090547,
          4.452831648646641,
          4.244962283510718,
          4.050021674837156,
          3.8678747532117055,
          3.698123512715577,
          3.5397766057269884,
          3.390544814778817,
          3.246484952187114,
          3.102493418622291,
          2.953541118044359,
          2.7960761346503187,
          2.6290184620585775,
          2.454044045165882,
          2.2750814993442408,
          2.0970894119305172,
          1.9243909025186257,
          1.7591060000085024,
          1.600341284541015,
          1.444634687081903,
          1.2877732443971766,
          1.1276214757595773,
          0.9671322899309734,
          0.8164702533036376,
          0.6931475439166577,
          0.6184148000475862,
          0.6078229080440457,
          0.6621471010444148,
          0.7712628542454916,
          0.9224998376817172,
          1.1011204652063422,
          1.2886179016732628,
          1.4642221845884646,
          1.6084918008884288,
          1.7066561642455125,
          1.7505933049266815,
          1.739474929121276,
          1.6796109307494311,
          1.5838316942416406,
          1.4700684483187605,
          1.3581871117134308,
          1.264676337978057,
          1.1974588727910342,
          1.155570531184742,
          1.1349343847625837,
          1.1339458278025991,
          1.1523302108507314,
          1.1853564157514445,
          1.221653765282287,
          1.248229109277172,
          1.257996386252521,
          1.2538960030889934,
          1.2473859588385243,
          1.2522997795546422,
          1.277498181491167,
          1.3230886935218755,
          1.3824102644961718,
          1.4470084746957057,
          1.5105294193480974,
          1.5700460274524226,
          1.625516064199304,
          1.6785043756853686,
          1.730951731276925,
          1.7843596328428597,
          1.8394772002550153,
          1.8964345448584263,
          1.9552010541943412,
          2.016172370152719,
          2.0806097739928187,
          2.1506577343780817,
          2.228802740144892,
          2.3168710284571414,
          2.4149018694082702,
          2.520362515512522,
          2.6280948956455816,
          2.7311107473631893,
          2.8220234222655107,
          2.8946927824870388,
          2.9456330822486847,
          2.9748364392700326,
          2.9858064755377285,
          2.9847514248561735,
          2.9790873898193153,
          2.9756422564750817,
          2.9791055378009643,
          2.991182079713446,
          3.0105772748270767,
          3.03359386495652,
          3.055012407910534,
          3.0690753721765693,
          3.0705555451019766,
          3.055835848213987,
          3.023717862136294,
          2.9756067744562325,
          2.9149826987917513,
          2.846490711460151,
          2.775175482923672,
          2.706146531729924,
          2.644488221768661,
          2.594949486041866,
          2.561120454958282,
          2.544295178816719,
          2.542625330312279,
          2.551142843852916,
          2.5627780787853185,
          2.5699762792257324,
          2.5662767764671384,
          2.5473408968104008,
          2.5112357481112655,
          2.4581105919218897,
          2.389616244752845,
          2.308452441452931,
          2.2182645281322233,
          2.1238044506059586,
          2.0309926973031875,
          1.9464860310992211,
          1.876652939054708,
          1.8263072514013885,
          1.797772208173915,
          1.7905549088307688,
          1.8013441304622868,
          1.823928434810685,
          1.849239414731193,
          1.8662606884056765,
          1.8641418743584568,
          1.8348605129526048,
          1.7752477317271271,
          1.687546021185785,
          1.5784321175996217,
          1.4570355532056274,
          1.332708384556751,
          1.2132313321909292,
          1.1038984939617913,
          1.007570724215928,
          0.9253819598452804,
          0.8574783402046613,
          0.8032070196419313,
          0.7606716164920799,
          0.7262929907437929,
          0.6953009317168184,
          0.6634313687624664,
          0.6289948397971974,
          0.5939129776568883,
          0.5626441920329347,
          0.5391024811291183,
          0.5236272661081962,
          0.5129776829597432,
          0.503704009897504,
          0.4955954157129996,
          0.491704145725026,
          0.4944091226929996,
          0.5010811807692394,
          0.5042502307459308,
          0.4964832938803382,
          0.4757987448039998,
          0.4483506042085804,
          0.4267171623632154,
          0.4224773914784417,
          0.4368736497453482,
          0.4602791729070566,
          0.4808744750284498,
          0.4913683874609282,
          0.4898811325480048,
          0.4780277021369117,
          0.4589520824878292,
          0.4361271894942173,
          0.4124648728315402,
          0.3894314302641454,
          0.3668635488221844,
          0.3441078303628176,
          0.3216554721281147,
          0.3017998605506533,
          0.28792622424915,
          0.2832218107286345,
          0.2894927711381663,
          0.3060810372928361,
          0.3291549348577344,
          0.3521910340408992,
          0.3677150994893983,
          0.3694562077827005,
          0.3540939453407018,
          0.3221738260222272,
          0.2780863503936575,
          0.229221721425704,
          0.1844554302543778,
          0.1519004204842247,
          0.1360532434018281,
          0.1368922465432716,
          0.1530847263196139,
          0.183640835567928,
          0.2258748081569114,
          0.2748926525623485,
          0.3250953697715085,
          0.3714309582531951,
          0.4098258373498193,
          0.4372241847341804,
          0.4516694103212489,
          0.4525553936853406,
          0.4409115988969234,
          0.4195546128197669,
          0.3930050923645421,
          0.3669160432013078,
          0.3464371615707741,
          0.3334047858061528,
          0.3242031475113472,
          0.3108207751469551,
          0.2845201121326319,
          0.2393322008801056,
          0.1739479519757038,
          0.0920438102333815,
          0.0034985943521132
         ]
        }
       ],
       "layout": {
        "annotations": [
         {
          "font": {
           "color": "cyan",
           "size": 16
          },
          "showarrow": false,
          "text": "KH",
          "textangle": -90,
          "x": 1.81111,
          "xref": "x",
          "y": 1,
          "yref": "paper"
         },
         {
          "font": {
           "color": "cyan",
           "size": 16
          },
          "showarrow": false,
          "text": "FC",
          "textangle": -90,
          "x": 2.61111,
          "xref": "x",
          "y": 1,
          "yref": "paper"
         },
         {
          "font": {
           "color": "cyan",
           "size": 16
          },
          "showarrow": false,
          "text": "MER",
          "textangle": -90,
          "x": 2.73333,
          "xref": "x",
          "y": 1,
          "yref": "paper"
         },
         {
          "font": {
           "color": "cyan",
           "size": 16
          },
          "showarrow": false,
          "text": "BR",
          "textangle": -90,
          "x": 2.77778,
          "xref": "x",
          "y": 1,
          "yref": "paper"
         }
        ],
        "height": 600,
        "margin": {
         "b": 40,
         "l": 40,
         "r": 40,
         "t": 40
        },
        "plot_bgcolor": "rgb(43,48,61)",
        "shapes": [
         {
          "line": {
           "color": "cyan",
           "dash": "dash",
           "width": 4
          },
          "opacity": 0.5,
          "type": "line",
          "x0": 1.8,
          "x1": 1.8,
          "xref": "x",
          "y0": 0,
          "y1": 1,
          "yref": "paper"
         },
         {
          "line": {
           "color": "cyan",
           "dash": "dash",
           "width": 4
          },
          "opacity": 0.5,
          "type": "line",
          "x0": 2.6,
          "x1": 2.6,
          "xref": "x",
          "y0": 0,
          "y1": 1,
          "yref": "paper"
         },
         {
          "line": {
           "color": "cyan",
           "dash": "dash",
           "width": 4
          },
          "opacity": 0.5,
          "type": "line",
          "x0": 2.72222,
          "x1": 2.72222,
          "xref": "x",
          "y0": 0,
          "y1": 1,
          "yref": "paper"
         },
         {
          "line": {
           "color": "cyan",
           "dash": "dash",
           "width": 4
          },
          "opacity": 0.5,
          "type": "line",
          "x0": 2.76667,
          "x1": 2.76667,
          "xref": "x",
          "y0": 0,
          "y1": 1,
          "yref": "paper"
         }
        ],
        "showlegend": false,
        "template": {
         "data": {
          "bar": [
           {
            "error_x": {
             "color": "#2a3f5f"
            },
            "error_y": {
             "color": "#2a3f5f"
            },
            "marker": {
             "line": {
              "color": "#E5ECF6",
              "width": 0.5
             },
             "pattern": {
              "fillmode": "overlay",
              "size": 10,
              "solidity": 0.2
             }
            },
            "type": "bar"
           }
          ],
          "barpolar": [
           {
            "marker": {
             "line": {
              "color": "#E5ECF6",
              "width": 0.5
             },
             "pattern": {
              "fillmode": "overlay",
              "size": 10,
              "solidity": 0.2
             }
            },
            "type": "barpolar"
           }
          ],
          "carpet": [
           {
            "aaxis": {
             "endlinecolor": "#2a3f5f",
             "gridcolor": "white",
             "linecolor": "white",
             "minorgridcolor": "white",
             "startlinecolor": "#2a3f5f"
            },
            "baxis": {
             "endlinecolor": "#2a3f5f",
             "gridcolor": "white",
             "linecolor": "white",
             "minorgridcolor": "white",
             "startlinecolor": "#2a3f5f"
            },
            "type": "carpet"
           }
          ],
          "choropleth": [
           {
            "colorbar": {
             "outlinewidth": 0,
             "ticks": ""
            },
            "type": "choropleth"
           }
          ],
          "contour": [
           {
            "colorbar": {
             "outlinewidth": 0,
             "ticks": ""
            },
            "colorscale": [
             [
              0,
              "#0d0887"
             ],
             [
              0.1111111111111111,
              "#46039f"
             ],
             [
              0.2222222222222222,
              "#7201a8"
             ],
             [
              0.3333333333333333,
              "#9c179e"
             ],
             [
              0.4444444444444444,
              "#bd3786"
             ],
             [
              0.5555555555555556,
              "#d8576b"
             ],
             [
              0.6666666666666666,
              "#ed7953"
             ],
             [
              0.7777777777777778,
              "#fb9f3a"
             ],
             [
              0.8888888888888888,
              "#fdca26"
             ],
             [
              1,
              "#f0f921"
             ]
            ],
            "type": "contour"
           }
          ],
          "contourcarpet": [
           {
            "colorbar": {
             "outlinewidth": 0,
             "ticks": ""
            },
            "type": "contourcarpet"
           }
          ],
          "heatmap": [
           {
            "colorbar": {
             "outlinewidth": 0,
             "ticks": ""
            },
            "colorscale": [
             [
              0,
              "#0d0887"
             ],
             [
              0.1111111111111111,
              "#46039f"
             ],
             [
              0.2222222222222222,
              "#7201a8"
             ],
             [
              0.3333333333333333,
              "#9c179e"
             ],
             [
              0.4444444444444444,
              "#bd3786"
             ],
             [
              0.5555555555555556,
              "#d8576b"
             ],
             [
              0.6666666666666666,
              "#ed7953"
             ],
             [
              0.7777777777777778,
              "#fb9f3a"
             ],
             [
              0.8888888888888888,
              "#fdca26"
             ],
             [
              1,
              "#f0f921"
             ]
            ],
            "type": "heatmap"
           }
          ],
          "heatmapgl": [
           {
            "colorbar": {
             "outlinewidth": 0,
             "ticks": ""
            },
            "colorscale": [
             [
              0,
              "#0d0887"
             ],
             [
              0.1111111111111111,
              "#46039f"
             ],
             [
              0.2222222222222222,
              "#7201a8"
             ],
             [
              0.3333333333333333,
              "#9c179e"
             ],
             [
              0.4444444444444444,
              "#bd3786"
             ],
             [
              0.5555555555555556,
              "#d8576b"
             ],
             [
              0.6666666666666666,
              "#ed7953"
             ],
             [
              0.7777777777777778,
              "#fb9f3a"
             ],
             [
              0.8888888888888888,
              "#fdca26"
             ],
             [
              1,
              "#f0f921"
             ]
            ],
            "type": "heatmapgl"
           }
          ],
          "histogram": [
           {
            "marker": {
             "pattern": {
              "fillmode": "overlay",
              "size": 10,
              "solidity": 0.2
             }
            },
            "type": "histogram"
           }
          ],
          "histogram2d": [
           {
            "colorbar": {
             "outlinewidth": 0,
             "ticks": ""
            },
            "colorscale": [
             [
              0,
              "#0d0887"
             ],
             [
              0.1111111111111111,
              "#46039f"
             ],
             [
              0.2222222222222222,
              "#7201a8"
             ],
             [
              0.3333333333333333,
              "#9c179e"
             ],
             [
              0.4444444444444444,
              "#bd3786"
             ],
             [
              0.5555555555555556,
              "#d8576b"
             ],
             [
              0.6666666666666666,
              "#ed7953"
             ],
             [
              0.7777777777777778,
              "#fb9f3a"
             ],
             [
              0.8888888888888888,
              "#fdca26"
             ],
             [
              1,
              "#f0f921"
             ]
            ],
            "type": "histogram2d"
           }
          ],
          "histogram2dcontour": [
           {
            "colorbar": {
             "outlinewidth": 0,
             "ticks": ""
            },
            "colorscale": [
             [
              0,
              "#0d0887"
             ],
             [
              0.1111111111111111,
              "#46039f"
             ],
             [
              0.2222222222222222,
              "#7201a8"
             ],
             [
              0.3333333333333333,
              "#9c179e"
             ],
             [
              0.4444444444444444,
              "#bd3786"
             ],
             [
              0.5555555555555556,
              "#d8576b"
             ],
             [
              0.6666666666666666,
              "#ed7953"
             ],
             [
              0.7777777777777778,
              "#fb9f3a"
             ],
             [
              0.8888888888888888,
              "#fdca26"
             ],
             [
              1,
              "#f0f921"
             ]
            ],
            "type": "histogram2dcontour"
           }
          ],
          "mesh3d": [
           {
            "colorbar": {
             "outlinewidth": 0,
             "ticks": ""
            },
            "type": "mesh3d"
           }
          ],
          "parcoords": [
           {
            "line": {
             "colorbar": {
              "outlinewidth": 0,
              "ticks": ""
             }
            },
            "type": "parcoords"
           }
          ],
          "pie": [
           {
            "automargin": true,
            "type": "pie"
           }
          ],
          "scatter": [
           {
            "fillpattern": {
             "fillmode": "overlay",
             "size": 10,
             "solidity": 0.2
            },
            "type": "scatter"
           }
          ],
          "scatter3d": [
           {
            "line": {
             "colorbar": {
              "outlinewidth": 0,
              "ticks": ""
             }
            },
            "marker": {
             "colorbar": {
              "outlinewidth": 0,
              "ticks": ""
             }
            },
            "type": "scatter3d"
           }
          ],
          "scattercarpet": [
           {
            "marker": {
             "colorbar": {
              "outlinewidth": 0,
              "ticks": ""
             }
            },
            "type": "scattercarpet"
           }
          ],
          "scattergeo": [
           {
            "marker": {
             "colorbar": {
              "outlinewidth": 0,
              "ticks": ""
             }
            },
            "type": "scattergeo"
           }
          ],
          "scattergl": [
           {
            "marker": {
             "colorbar": {
              "outlinewidth": 0,
              "ticks": ""
             }
            },
            "type": "scattergl"
           }
          ],
          "scattermapbox": [
           {
            "marker": {
             "colorbar": {
              "outlinewidth": 0,
              "ticks": ""
             }
            },
            "type": "scattermapbox"
           }
          ],
          "scatterpolar": [
           {
            "marker": {
             "colorbar": {
              "outlinewidth": 0,
              "ticks": ""
             }
            },
            "type": "scatterpolar"
           }
          ],
          "scatterpolargl": [
           {
            "marker": {
             "colorbar": {
              "outlinewidth": 0,
              "ticks": ""
             }
            },
            "type": "scatterpolargl"
           }
          ],
          "scatterternary": [
           {
            "marker": {
             "colorbar": {
              "outlinewidth": 0,
              "ticks": ""
             }
            },
            "type": "scatterternary"
           }
          ],
          "surface": [
           {
            "colorbar": {
             "outlinewidth": 0,
             "ticks": ""
            },
            "colorscale": [
             [
              0,
              "#0d0887"
             ],
             [
              0.1111111111111111,
              "#46039f"
             ],
             [
              0.2222222222222222,
              "#7201a8"
             ],
             [
              0.3333333333333333,
              "#9c179e"
             ],
             [
              0.4444444444444444,
              "#bd3786"
             ],
             [
              0.5555555555555556,
              "#d8576b"
             ],
             [
              0.6666666666666666,
              "#ed7953"
             ],
             [
              0.7777777777777778,
              "#fb9f3a"
             ],
             [
              0.8888888888888888,
              "#fdca26"
             ],
             [
              1,
              "#f0f921"
             ]
            ],
            "type": "surface"
           }
          ],
          "table": [
           {
            "cells": {
             "fill": {
              "color": "#EBF0F8"
             },
             "line": {
              "color": "white"
             }
            },
            "header": {
             "fill": {
              "color": "#C8D4E3"
             },
             "line": {
              "color": "white"
             }
            },
            "type": "table"
           }
          ]
         },
         "layout": {
          "annotationdefaults": {
           "arrowcolor": "#2a3f5f",
           "arrowhead": 0,
           "arrowwidth": 1
          },
          "autotypenumbers": "strict",
          "coloraxis": {
           "colorbar": {
            "outlinewidth": 0,
            "ticks": ""
           }
          },
          "colorscale": {
           "diverging": [
            [
             0,
             "#8e0152"
            ],
            [
             0.1,
             "#c51b7d"
            ],
            [
             0.2,
             "#de77ae"
            ],
            [
             0.3,
             "#f1b6da"
            ],
            [
             0.4,
             "#fde0ef"
            ],
            [
             0.5,
             "#f7f7f7"
            ],
            [
             0.6,
             "#e6f5d0"
            ],
            [
             0.7,
             "#b8e186"
            ],
            [
             0.8,
             "#7fbc41"
            ],
            [
             0.9,
             "#4d9221"
            ],
            [
             1,
             "#276419"
            ]
           ],
           "sequential": [
            [
             0,
             "#0d0887"
            ],
            [
             0.1111111111111111,
             "#46039f"
            ],
            [
             0.2222222222222222,
             "#7201a8"
            ],
            [
             0.3333333333333333,
             "#9c179e"
            ],
            [
             0.4444444444444444,
             "#bd3786"
            ],
            [
             0.5555555555555556,
             "#d8576b"
            ],
            [
             0.6666666666666666,
             "#ed7953"
            ],
            [
             0.7777777777777778,
             "#fb9f3a"
            ],
            [
             0.8888888888888888,
             "#fdca26"
            ],
            [
             1,
             "#f0f921"
            ]
           ],
           "sequentialminus": [
            [
             0,
             "#0d0887"
            ],
            [
             0.1111111111111111,
             "#46039f"
            ],
            [
             0.2222222222222222,
             "#7201a8"
            ],
            [
             0.3333333333333333,
             "#9c179e"
            ],
            [
             0.4444444444444444,
             "#bd3786"
            ],
            [
             0.5555555555555556,
             "#d8576b"
            ],
            [
             0.6666666666666666,
             "#ed7953"
            ],
            [
             0.7777777777777778,
             "#fb9f3a"
            ],
            [
             0.8888888888888888,
             "#fdca26"
            ],
            [
             1,
             "#f0f921"
            ]
           ]
          },
          "colorway": [
           "#636efa",
           "#EF553B",
           "#00cc96",
           "#ab63fa",
           "#FFA15A",
           "#19d3f3",
           "#FF6692",
           "#B6E880",
           "#FF97FF",
           "#FECB52"
          ],
          "font": {
           "color": "#2a3f5f"
          },
          "geo": {
           "bgcolor": "white",
           "lakecolor": "white",
           "landcolor": "#E5ECF6",
           "showlakes": true,
           "showland": true,
           "subunitcolor": "white"
          },
          "hoverlabel": {
           "align": "left"
          },
          "hovermode": "closest",
          "mapbox": {
           "style": "light"
          },
          "paper_bgcolor": "white",
          "plot_bgcolor": "#E5ECF6",
          "polar": {
           "angularaxis": {
            "gridcolor": "white",
            "linecolor": "white",
            "ticks": ""
           },
           "bgcolor": "#E5ECF6",
           "radialaxis": {
            "gridcolor": "white",
            "linecolor": "white",
            "ticks": ""
           }
          },
          "scene": {
           "xaxis": {
            "backgroundcolor": "#E5ECF6",
            "gridcolor": "white",
            "gridwidth": 2,
            "linecolor": "white",
            "showbackground": true,
            "ticks": "",
            "zerolinecolor": "white"
           },
           "yaxis": {
            "backgroundcolor": "#E5ECF6",
            "gridcolor": "white",
            "gridwidth": 2,
            "linecolor": "white",
            "showbackground": true,
            "ticks": "",
            "zerolinecolor": "white"
           },
           "zaxis": {
            "backgroundcolor": "#E5ECF6",
            "gridcolor": "white",
            "gridwidth": 2,
            "linecolor": "white",
            "showbackground": true,
            "ticks": "",
            "zerolinecolor": "white"
           }
          },
          "shapedefaults": {
           "line": {
            "color": "#2a3f5f"
           }
          },
          "ternary": {
           "aaxis": {
            "gridcolor": "white",
            "linecolor": "white",
            "ticks": ""
           },
           "baxis": {
            "gridcolor": "white",
            "linecolor": "white",
            "ticks": ""
           },
           "bgcolor": "#E5ECF6",
           "caxis": {
            "gridcolor": "white",
            "linecolor": "white",
            "ticks": ""
           }
          },
          "title": {
           "x": 0.05
          },
          "xaxis": {
           "automargin": true,
           "gridcolor": "white",
           "linecolor": "white",
           "ticks": "",
           "title": {
            "standoff": 15
           },
           "zerolinecolor": "white",
           "zerolinewidth": 2
          },
          "yaxis": {
           "automargin": true,
           "gridcolor": "white",
           "linecolor": "white",
           "ticks": "",
           "title": {
            "standoff": 15
           },
           "zerolinecolor": "white",
           "zerolinewidth": 2
          }
         }
        },
        "title": {
         "text": "ARM LINEAR MOMENTUM"
        },
        "xaxis": {
         "showgrid": false,
         "title": {
          "text": "Time [s]"
         }
        },
        "yaxis": {
         "autorange": true,
         "gridcolor": "lightgrey",
         "gridwidth": 1,
         "rangemode": "tozero",
         "showgrid": true,
         "title": {
          "text": "Momentum [kg*m²/s]"
         },
         "zeroline": false
        }
       }
      }
     },
     "metadata": {},
     "output_type": "display_data"
    },
    {
     "data": {
      "application/vnd.plotly.v1+json": {
       "config": {
        "plotlyServerURL": "https://plot.ly"
       },
       "data": [
        {
         "line": {
          "color": "firebrick",
          "width": 4
         },
         "mode": "lines",
         "name": "FOREARM LINEAR MOMENTUM",
         "type": "scatter",
         "x": [
          1.8,
          1.80556,
          1.81111,
          1.81667,
          1.82222,
          1.82778,
          1.83333,
          1.83889,
          1.84444,
          1.85,
          1.85556,
          1.86111,
          1.86667,
          1.87222,
          1.87778,
          1.88333,
          1.88889,
          1.89444,
          1.9,
          1.90556,
          1.91111,
          1.91667,
          1.92222,
          1.92778,
          1.93333,
          1.93889,
          1.94444,
          1.95,
          1.95556,
          1.96111,
          1.96667,
          1.97222,
          1.97778,
          1.98333,
          1.98889,
          1.99444,
          2,
          2.00556,
          2.01111,
          2.01667,
          2.02222,
          2.02778,
          2.03333,
          2.03889,
          2.04444,
          2.05,
          2.05556,
          2.06111,
          2.06667,
          2.07222,
          2.07778,
          2.08333,
          2.08889,
          2.09444,
          2.1,
          2.10556,
          2.11111,
          2.11667,
          2.12222,
          2.12778,
          2.13333,
          2.13889,
          2.14444,
          2.15,
          2.15556,
          2.16111,
          2.16667,
          2.17222,
          2.17778,
          2.18333,
          2.18889,
          2.19444,
          2.2,
          2.20556,
          2.21111,
          2.21667,
          2.22222,
          2.22778,
          2.23333,
          2.23889,
          2.24444,
          2.25,
          2.25556,
          2.26111,
          2.26667,
          2.27222,
          2.27778,
          2.28333,
          2.28889,
          2.29444,
          2.3,
          2.30556,
          2.31111,
          2.31667,
          2.32222,
          2.32778,
          2.33333,
          2.33889,
          2.34444,
          2.35,
          2.35556,
          2.36111,
          2.36667,
          2.37222,
          2.37778,
          2.38333,
          2.38889,
          2.39444,
          2.4,
          2.40556,
          2.41111,
          2.41667,
          2.42222,
          2.42778,
          2.43333,
          2.43889,
          2.44444,
          2.45,
          2.45556,
          2.46111,
          2.46667,
          2.47222,
          2.47778,
          2.48333,
          2.48889,
          2.49444,
          2.5,
          2.50556,
          2.51111,
          2.51667,
          2.52222,
          2.52778,
          2.53333,
          2.53889,
          2.54444,
          2.55,
          2.55556,
          2.56111,
          2.56667,
          2.57222,
          2.57778,
          2.58333,
          2.58889,
          2.59444,
          2.6,
          2.60556,
          2.61111,
          2.61667,
          2.62222,
          2.62778,
          2.63333,
          2.63889,
          2.64444,
          2.65,
          2.65556,
          2.66111,
          2.66667,
          2.67222,
          2.67778,
          2.68333,
          2.68889,
          2.69444,
          2.7,
          2.70556,
          2.71111,
          2.71667,
          2.72222,
          2.72778,
          2.73333,
          2.73889,
          2.74444,
          2.75,
          2.75556,
          2.76111,
          2.76667,
          2.77222,
          2.77778,
          2.78333,
          2.78889,
          2.79444,
          2.8,
          2.80556,
          2.81111,
          2.81667,
          2.82222,
          2.82778,
          2.83333,
          2.83889,
          2.84444,
          2.85,
          2.85556,
          2.86111,
          2.86667,
          2.87222,
          2.87778,
          2.88333,
          2.88889,
          2.89444,
          2.9,
          2.90556,
          2.91111,
          2.91667,
          2.92222,
          2.92778,
          2.93333,
          2.93889,
          2.94444,
          2.95,
          2.95556,
          2.96111
         ],
         "y": [
          0.0073109021389854,
          0.296380817869477,
          0.5747447824262351,
          0.8128653302333961,
          0.9977511454788166,
          1.1237762535427334,
          1.1925161973697325,
          1.2113789349359645,
          1.191474321403647,
          1.145249097424354,
          1.0844325782403876,
          1.018731540578799,
          0.9554470022896416,
          0.8998746722172779,
          0.8561051903524123,
          0.8276622315838248,
          0.8174074260707727,
          0.8265968095499311,
          0.853829009279437,
          0.8949480829684311,
          0.9441099876119594,
          0.9952103115468028,
          1.0428671629558854,
          1.0827964321632395,
          1.111875411493603,
          1.1282522087151423,
          1.131682008516312,
          1.1240008401700865,
          1.109397845130398,
          1.0940657233551134,
          1.0849978167242036,
          1.0881148785786297,
          1.1063468336772806,
          1.138466472662407,
          1.1791847675053375,
          1.2204680479448775,
          1.253618141169703,
          1.2714950626981578,
          1.2702641406545607,
          1.2501841202814672,
          1.2152321503150183,
          1.1717356738890146,
          1.1265511792675202,
          1.085535135225005,
          1.0528470676697452,
          1.0309593803780672,
          1.0206815979039143,
          1.0207757362591414,
          1.0276152753129235,
          1.035670055921894,
          1.0389414263453702,
          1.032710541198124,
          1.0148550491057364,
          0.9863040590865214,
          0.9505056116110332,
          0.9120571280760228,
          0.8750262476652519,
          0.8417896314892991,
          0.8129843145825848,
          0.7883624340773459,
          0.7677292625721744,
          0.7513420229203459,
          0.7397566931412968,
          0.7334268907746231,
          0.7322875584062783,
          0.7354314074484136,
          0.7409916215641904,
          0.7463794297363135,
          0.7489178780590683,
          0.7466512181780299,
          0.7389150274957443,
          0.7263632303321678,
          0.7105162361565702,
          0.6932048749565501,
          0.6762687261389684,
          0.6615517769172575,
          0.6509237791142963,
          0.646043359192702,
          0.6478672496336815,
          0.6561867773042738,
          0.6694718715365582,
          0.6850999406993024,
          0.6998792484716483,
          0.7107212153571953,
          0.7153182262023062,
          0.7126909128647015,
          0.7034438342938926,
          0.689547678583922,
          0.6735833682955307,
          0.6576890893539354,
          0.6427372716510573,
          0.6282048351271796,
          0.6127523544672704,
          0.5951047986601868,
          0.574785983890091,
          0.5524913283048716,
          0.5300874313211151,
          0.5102976714217256,
          0.4961508554139749,
          0.4903065171774979,
          0.4943991400474445,
          0.5085325016707531,
          0.5310643567796886,
          0.5588234381074183,
          0.5877214039677584,
          0.6134868952595378,
          0.6323225827529697,
          0.6415441823653192,
          0.6402154214285383,
          0.6294679185610546,
          0.6121446821160785,
          0.5918772472318145,
          0.5722313434531276,
          0.5564180732462131,
          0.5472101201367899,
          0.5461743458777922,
          0.5521911418338926,
          0.5606578369513069,
          0.5646142120750065,
          0.5573449242940308,
          0.5351397769571539,
          0.4993896060532144,
          0.457748176855311,
          0.4236272638292989,
          0.4115406963326188,
          0.4272602042782204,
          0.4621204358128354,
          0.4993960407079244,
          0.5230701652504471,
          0.5216672380369517,
          0.4893418919070788,
          0.4264729769292453,
          0.3400676671428144,
          0.2440843902511351,
          0.1613864671479857,
          0.1254785549397445,
          0.1396476560637875,
          0.1595172037337467,
          0.1619651611714873,
          0.1471254249425811,
          0.1264007656552962,
          0.1153946345055647,
          0.1202578857168567,
          0.1304747877257203,
          0.1331889122487285,
          0.1221435205018771,
          0.0970370960815002,
          0.0625598574063575,
          0.0371494279896859,
          0.0600791649459007,
          0.1014012066203266,
          0.137246098162035,
          0.1597957244333337,
          0.1659395631522696,
          0.1570319823535279,
          0.1389502052078413,
          0.1205230157383167,
          0.1091657272811522,
          0.1053910906818196,
          0.1037967421692242,
          0.0996995807430445,
          0.0923251789493532,
          0.0845131868951478,
          0.0816506813261738,
          0.0886726761421884,
          0.1057324423042916,
          0.1289816383877089,
          0.1541064407765372,
          0.1774213625800307,
          0.195783007944956,
          0.2067939243169091,
          0.2093357088581248,
          0.2039540584505773,
          0.192691259197386,
          0.1784029821197269,
          0.1641937183296705,
          0.1537204663951451,
          0.1516767100119047,
          0.1617471998844676,
          0.1826284271479756,
          0.2082864108473116,
          0.2322312527328552,
          0.2506531818204619,
          0.2632959097615686,
          0.2727623733718708,
          0.2826967166406492,
          0.2955466524808424,
          0.3111770407548259,
          0.3271925049949176,
          0.3404559767248186,
          0.3486866158525623,
          0.3514763327280889,
          0.3504920715954184,
          0.3487777445059474,
          0.3493576189858917,
          0.3538699151742038,
          0.3621384963956723,
          0.3728785083340413,
          0.3848146941112319,
          0.3974157537142366,
          0.4110034728239469,
          0.4264082185078568,
          0.4444034208173442,
          0.4651021308436184,
          0.4875376749836866,
          0.509667125830505,
          0.5288398570496239,
          0.5425089518399892,
          0.5489241875529298,
          0.5476867208081373,
          0.5400963215092082,
          0.5291458497414077,
          0.5190420996793131,
          0.5143556597809632,
          0.519088715422202,
          0.5358477412884602,
          0.5651300811520679,
          0.6048897388614579,
          0.6507808673006674,
          0.6972050102927518,
          0.738746241771009,
          0.7713882008890321,
          0.7931177586606811,
          0.8038341970957316,
          0.8047388315671717,
          0.7975603197639776,
          0.7840225290089444,
          0.7657826049282355,
          0.7447195420243461,
          0.7232305724303777,
          0.7042834729691774,
          0.6912015303312605,
          0.6872300710706218,
          0.694861581402102,
          0.714997685464598,
          0.7463676606874283,
          0.7857086264457775,
          0.8287336752659356,
          0.8713825312498026,
          0.910789318699442,
          0.9456744757332922,
          0.9761552442968288,
          1.0031662710223272,
          1.0277599696987216,
          1.0504976779392332,
          1.0710382161674006,
          1.0880218924118126,
          1.0994146655358448,
          1.1034099386666627,
          1.0996544424860883,
          1.090148863636967,
          1.079065943984227,
          1.0712331963995136,
          1.070025710658067,
          1.0760995424562787,
          1.087798142446568,
          1.102572241953434,
          1.1180835199559445,
          1.1324513232290612,
          1.144152050726365,
          1.1522325391604429,
          1.1568643803101482,
          1.159695340814609,
          1.163490788204383,
          1.17107411306594,
          1.1841019838139284,
          1.2023377264952668,
          1.2237247077435152,
          1.2450405770809527,
          1.2626762844679729,
          1.273237253112544,
          1.2739688054672162,
          1.2631873128836963,
          1.2408102283391529,
          1.2087601987127323,
          1.1707176843799336,
          1.1307868910149452,
          1.09136598506642,
          1.0515513137551982,
          1.0076623108299894,
          0.9561632489100726,
          0.8973589666910442,
          0.8373993139922216,
          0.7866606731209436,
          0.7544653188663829,
          0.743742593068061,
          0.7510188157433088,
          0.771429995192603,
          0.8022094844180448,
          0.8411804115431252,
          0.8833808332261501,
          0.9203305538306744,
          0.9427150111195642,
          0.944014545455799,
          0.9227391101626324,
          0.8825217254535852,
          0.8304288229866138,
          0.7743277678105934,
          0.7203878399956425,
          0.6717784553303666,
          0.6290365291881668,
          0.5915181768512882,
          0.5587457570138453,
          0.5308814902540001,
          0.508418784299636,
          0.4916705187742344,
          0.4805528114644957,
          0.474759739532754,
          0.4740612517170388,
          0.4783879113652435,
          0.4875461055628005,
          0.500619944891532,
          0.5153149294542626,
          0.5277091683346646,
          0.5328505940197946,
          0.5261810697202738,
          0.505251779586082,
          0.4710914042349183,
          0.4288303418677136,
          0.3872920271010802,
          0.3568465396699005,
          0.3447610460188814,
          0.3505221784755201,
          0.3668203739634035,
          0.3852859432171909,
          0.400480218068973,
          0.4104239269132274,
          0.4155558861940144,
          0.4176130585400662,
          0.4190476177051498,
          0.4229821540526158,
          0.4331193713798248,
          0.4528485419995888,
          0.4836288435955317,
          0.5239594776653719,
          0.5700137759827936,
          0.6174075699015874,
          0.6628207992497857,
          0.7047531534397588,
          0.743419758839693,
          0.7801668300842999,
          0.8168529391369979,
          0.8554573821821742,
          0.8978881332187053,
          0.9458188328915044,
          1.0004868198214034,
          1.0625425719000543,
          1.132013992884377,
          1.2082818030419964,
          1.2899390348237207,
          1.374627780093954,
          1.4591372320200766,
          1.5399335573010196,
          1.6139790766443467,
          1.679499388876308,
          1.7363960854407032,
          1.7861715465351973,
          1.831415108381352,
          1.8750547318491677,
          1.9196491815751435,
          1.966909856461257,
          2.0174494189917853,
          2.0706600447018424,
          2.124750152646567,
          2.177140424590019,
          2.2253396177790656,
          2.2680756661253714,
          2.3061941696806088,
          2.3429418013521204,
          2.383587900080564,
          2.4344996017567135,
          2.5016401171366947,
          2.5884547540225245,
          2.6937563212109574,
          2.8110326785007023,
          2.930227309877648,
          3.0412496299449048,
          3.136962134498487,
          3.2138007284182017,
          3.270211683691424,
          3.3049020491784065,
          3.316828674716289,
          3.3070116020710776,
          3.2804807641907807,
          3.2464665193712037,
          3.2161781679633976,
          3.1990957999462504,
          3.1996701493776714,
          3.216128320940361,
          3.241802026181246,
          3.267968627028323,
          3.286682098839758,
          3.29258587843377,
          3.28354241359367,
          3.2604475659736067,
          3.2266539076396596,
          3.1871951753978114,
          3.147793303155544,
          3.1136329863379153,
          3.0880707120431796,
          3.0716310662715545,
          3.0616835382120065,
          3.053029860945813,
          3.039296638080819,
          3.0146618118824215,
          2.97527026270261,
          2.9198632846870716,
          2.8495694094338497,
          2.767186057434556,
          2.6763780414919967,
          2.5810468485169573,
          2.4848872169989917,
          2.3910092950755937,
          2.3015152127866014,
          2.2170617969125614,
          2.1366206938896144,
          2.0576912957712263,
          1.9770427188405193,
          1.8917866697643808,
          1.800424819972262,
          1.7035460564750204,
          1.6039939035038235,
          1.5064862019521443,
          1.4167936486464072,
          1.3406521048814757,
          1.2826223788704152,
          1.245171879213243,
          1.228297591008269,
          1.2298819202574194,
          1.246640791483035,
          1.2752494450317182,
          1.3132476155683768,
          1.3595322840539552,
          1.4144333155325963,
          1.4794723440787692,
          1.5569391604450276,
          1.6493769813935046,
          1.75900011345858,
          1.8870867929004005,
          2.0334984474306395,
          2.1965144190046044,
          2.373036849807987,
          2.5590292748390433,
          2.7499843804800124,
          2.9413064601723584,
          3.1286319882821756,
          3.308168917227407,
          3.477065349735955,
          3.6336891451624176,
          3.777644208029772,
          3.909444167722025,
          4.029947412079946,
          4.139781630062938,
          4.2389682930180514,
          4.326852069576114,
          4.40235313048665,
          4.464524126312476,
          4.513350971918143,
          4.550630968345552,
          4.580622700226162,
          4.6101018992829905,
          4.647583968720741,
          4.701791831599711,
          4.779832929780488,
          4.885809700303936,
          5.0205459262494125,
          5.182681101192223,
          5.370691641478883,
          5.584835837330043,
          5.828025510607945,
          6.10526413446167,
          6.422100530003205,
          6.782925398066319,
          7.189705058556651,
          7.641294347367959,
          8.133291982624119,
          8.658556714908062,
          9.208633190619269,
          9.776126257765725,
          10.357560099425273,
          10.955775333995774,
          11.580726893487912,
          12.247749199823035,
          12.972961388110704,
          13.766443632441414,
          14.624869206259442,
          15.52590730494346,
          16.42647945800528,
          17.265959846932997,
          17.97424456688353,
          18.48375080768965,
          18.743803981052142,
          18.735194277195703,
          18.481729423961323,
          18.05445853613027,
          17.56340081953282,
          17.132788233575486,
          16.862377480274386,
          16.789922128428056,
          16.877407499104933,
          17.03090240608835,
          17.13964735677742,
          17.111224882499762,
          16.890536799111302,
          16.46320756138287,
          15.849144478875068,
          15.09161543648434,
          14.245409071859656,
          13.366168802911846,
          12.502106158608742,
          11.688780659571632,
          10.947188009420191,
          10.284862276651328,
          9.699129606332724,
          9.181272706816674,
          8.720377704276965,
          8.306033051230905,
          7.929621973340306,
          7.58444890109521,
          7.265222583173331,
          6.967450922076525,
          6.6871316807274335,
          6.420858574663701,
          6.166229436203606,
          5.922314716198001,
          5.689927062735175,
          5.471506890064298,
          5.270573187239078,
          5.090825756071939,
          4.935065478123569,
          4.804117265853902,
          4.6959526614443,
          4.6052568352820105,
          4.523702601122323,
          4.441052167433991,
          4.346888685214732,
          4.232469016074595,
          4.0921260459246,
          3.9238972481369743,
          3.729435882822707,
          3.5135007804652334,
          3.2832796399348294,
          3.0475612078810217,
          2.815550997757746,
          2.595135970299762,
          2.390757268484351,
          2.2016428617699715,
          2.021526397189932,
          1.840536270448733,
          1.6487266952425812,
          1.4397441575807182,
          1.213272416445333,
          0.9760612714631612,
          0.743128497711884,
          0.5436980264556593,
          0.435638152492332,
          0.4744666777357629,
          0.6164897013638085,
          0.79143794357812,
          0.9666588409295284,
          1.1308245070128928,
          1.281801508438574,
          1.4219338351414037,
          1.5551844849674112,
          1.684770015443426,
          1.811580824360649,
          1.9338185279335096,
          2.047788856863669,
          2.1493808038264333,
          2.235717683110852,
          2.3065538758225133,
          2.364961398631986,
          2.416837630412051,
          2.469126608915482,
          2.5274143736851378,
          2.5941429683605133,
          2.668379236040045,
          2.7470087692060083,
          2.826400581055493,
          2.903652738472583,
          2.9771214105715553,
          3.0463857486080173,
          3.1118959104024735,
          3.1744842031656537,
          3.2348761949052376,
          3.2933292399966265,
          3.3494938212038132,
          3.402529876624455,
          3.4514404345992915,
          3.4955169200200515,
          3.5347246889761004,
          3.5698290156734154,
          3.6021376237324945,
          3.6329294809127015,
          3.6628429572815695,
          3.691549272079389,
          3.717882505134776,
          3.7403442314340136,
          3.757723733791552,
          3.7695669748518967,
          3.77634809973576,
          3.7793367393830817,
          3.780236307461045,
          3.7806945369203087,
          3.7818009107694386,
          3.783702434151949,
          3.7854546113330834,
          3.785145514433816,
          3.780223183150085,
          3.767907856989182,
          3.745619301470273,
          3.711424989387994,
          3.664507971538996,
          3.605546369871292,
          3.536802760459675,
          3.461780696989239,
          3.3845267309491502,
          3.308867700896142,
          3.2378681856178617,
          3.173563800553529,
          3.116809418404479,
          3.0671133295869324,
          3.0225684205992973,
          2.9801502358085368,
          2.936504231676596,
          2.888983170383146,
          2.836443928370733,
          2.779400219056012,
          2.7194850001344224,
          2.6585374247632507,
          2.59777087425992,
          2.537360087820238,
          2.476522018909245,
          2.413921003538492,
          2.3481257606775325,
          2.2779166921860723,
          2.202420596459182,
          2.121204887267479,
          2.034481295132491,
          1.9434357226462915,
          1.850517845802879,
          1.759439005812079,
          1.67471971838629,
          1.6008430512593126,
          1.5412600754111,
          1.497536094944773,
          1.4688190421086065,
          1.451678432947554,
          1.4403383511069976,
          1.4273861888405002,
          1.4050007824242543,
          1.366520074839926,
          1.3079206922183753,
          1.2287426653169018,
          1.1322008977918845,
          1.0245147784946331,
          0.9136853649388323,
          0.8080169844339888,
          0.7146796392400124,
          0.6385916352242978,
          0.5818441487707404,
          0.5437356365948788,
          0.5212877609592692,
          0.5100593547457225,
          0.5051769586896148,
          0.5025008058368338,
          0.4996473836418065,
          0.4964233635494518,
          0.4943267455376588,
          0.4952274577479832,
          0.4999775130981525,
          0.5079116653158035,
          0.5175200089735942,
          0.5276252976922118,
          0.538159326817187,
          0.5500937867007815,
          0.564692927240234,
          0.5827258925232169,
          0.6043461852325731,
          0.6297886100624228,
          0.6602024189856756,
          0.6976106870559202,
          0.743594695197277,
          0.7975113893588206,
          0.8557160743789879,
          0.9124933331466836,
          0.9620304290504708,
          1.0002457348924003,
          1.025720216531048,
          1.039634976984787,
          1.0450347307023675,
          1.0458288557892783,
          1.0458085036144766,
          1.0478244721113317,
          1.0532892745258744,
          1.0621983161546822,
          1.0736664802378844,
          1.0866449618902092,
          1.1003879312803984,
          1.1144881869355157,
          1.1286229022516006,
          1.1422774117505397,
          1.1546346944371253,
          1.164675099024717,
          1.1714385589250609,
          1.174371508882172,
          1.1736641597022477,
          1.1704479127488316,
          1.1666986764027594,
          1.1647556822116962,
          1.1665520756177317,
          1.1728718398475708,
          1.1830068374401177,
          1.1949833635213771,
          1.206202046792041,
          1.2141512168650668,
          1.216914975119472,
          1.2133910309289535,
          1.2033019340556002,
          1.187147361959031,
          1.166208249405159,
          1.142623090894563,
          1.1194620454021962,
          1.1006515008769602,
          1.090565538797817,
          1.0931365177875998,
          1.110495557404002,
          1.1414305106772045,
          1.1802009455524158,
          1.2162635546363283,
          1.235196870843266,
          1.220761442840703,
          1.1577596130376444,
          1.035182299863248,
          0.8490206180528496,
          0.6040860940713897,
          0.3142610581220682,
          0.0043105770501664
         ]
        }
       ],
       "layout": {
        "annotations": [
         {
          "font": {
           "color": "cyan",
           "size": 16
          },
          "showarrow": false,
          "text": "KH",
          "textangle": -90,
          "x": 1.81111,
          "xref": "x",
          "y": 1,
          "yref": "paper"
         },
         {
          "font": {
           "color": "cyan",
           "size": 16
          },
          "showarrow": false,
          "text": "FC",
          "textangle": -90,
          "x": 2.61111,
          "xref": "x",
          "y": 1,
          "yref": "paper"
         },
         {
          "font": {
           "color": "cyan",
           "size": 16
          },
          "showarrow": false,
          "text": "MER",
          "textangle": -90,
          "x": 2.73333,
          "xref": "x",
          "y": 1,
          "yref": "paper"
         },
         {
          "font": {
           "color": "cyan",
           "size": 16
          },
          "showarrow": false,
          "text": "BR",
          "textangle": -90,
          "x": 2.77778,
          "xref": "x",
          "y": 1,
          "yref": "paper"
         }
        ],
        "height": 600,
        "margin": {
         "b": 40,
         "l": 40,
         "r": 40,
         "t": 40
        },
        "plot_bgcolor": "rgb(43,48,61)",
        "shapes": [
         {
          "line": {
           "color": "cyan",
           "dash": "dash",
           "width": 4
          },
          "opacity": 0.5,
          "type": "line",
          "x0": 1.8,
          "x1": 1.8,
          "xref": "x",
          "y0": 0,
          "y1": 1,
          "yref": "paper"
         },
         {
          "line": {
           "color": "cyan",
           "dash": "dash",
           "width": 4
          },
          "opacity": 0.5,
          "type": "line",
          "x0": 2.6,
          "x1": 2.6,
          "xref": "x",
          "y0": 0,
          "y1": 1,
          "yref": "paper"
         },
         {
          "line": {
           "color": "cyan",
           "dash": "dash",
           "width": 4
          },
          "opacity": 0.5,
          "type": "line",
          "x0": 2.72222,
          "x1": 2.72222,
          "xref": "x",
          "y0": 0,
          "y1": 1,
          "yref": "paper"
         },
         {
          "line": {
           "color": "cyan",
           "dash": "dash",
           "width": 4
          },
          "opacity": 0.5,
          "type": "line",
          "x0": 2.76667,
          "x1": 2.76667,
          "xref": "x",
          "y0": 0,
          "y1": 1,
          "yref": "paper"
         }
        ],
        "showlegend": false,
        "template": {
         "data": {
          "bar": [
           {
            "error_x": {
             "color": "#2a3f5f"
            },
            "error_y": {
             "color": "#2a3f5f"
            },
            "marker": {
             "line": {
              "color": "#E5ECF6",
              "width": 0.5
             },
             "pattern": {
              "fillmode": "overlay",
              "size": 10,
              "solidity": 0.2
             }
            },
            "type": "bar"
           }
          ],
          "barpolar": [
           {
            "marker": {
             "line": {
              "color": "#E5ECF6",
              "width": 0.5
             },
             "pattern": {
              "fillmode": "overlay",
              "size": 10,
              "solidity": 0.2
             }
            },
            "type": "barpolar"
           }
          ],
          "carpet": [
           {
            "aaxis": {
             "endlinecolor": "#2a3f5f",
             "gridcolor": "white",
             "linecolor": "white",
             "minorgridcolor": "white",
             "startlinecolor": "#2a3f5f"
            },
            "baxis": {
             "endlinecolor": "#2a3f5f",
             "gridcolor": "white",
             "linecolor": "white",
             "minorgridcolor": "white",
             "startlinecolor": "#2a3f5f"
            },
            "type": "carpet"
           }
          ],
          "choropleth": [
           {
            "colorbar": {
             "outlinewidth": 0,
             "ticks": ""
            },
            "type": "choropleth"
           }
          ],
          "contour": [
           {
            "colorbar": {
             "outlinewidth": 0,
             "ticks": ""
            },
            "colorscale": [
             [
              0,
              "#0d0887"
             ],
             [
              0.1111111111111111,
              "#46039f"
             ],
             [
              0.2222222222222222,
              "#7201a8"
             ],
             [
              0.3333333333333333,
              "#9c179e"
             ],
             [
              0.4444444444444444,
              "#bd3786"
             ],
             [
              0.5555555555555556,
              "#d8576b"
             ],
             [
              0.6666666666666666,
              "#ed7953"
             ],
             [
              0.7777777777777778,
              "#fb9f3a"
             ],
             [
              0.8888888888888888,
              "#fdca26"
             ],
             [
              1,
              "#f0f921"
             ]
            ],
            "type": "contour"
           }
          ],
          "contourcarpet": [
           {
            "colorbar": {
             "outlinewidth": 0,
             "ticks": ""
            },
            "type": "contourcarpet"
           }
          ],
          "heatmap": [
           {
            "colorbar": {
             "outlinewidth": 0,
             "ticks": ""
            },
            "colorscale": [
             [
              0,
              "#0d0887"
             ],
             [
              0.1111111111111111,
              "#46039f"
             ],
             [
              0.2222222222222222,
              "#7201a8"
             ],
             [
              0.3333333333333333,
              "#9c179e"
             ],
             [
              0.4444444444444444,
              "#bd3786"
             ],
             [
              0.5555555555555556,
              "#d8576b"
             ],
             [
              0.6666666666666666,
              "#ed7953"
             ],
             [
              0.7777777777777778,
              "#fb9f3a"
             ],
             [
              0.8888888888888888,
              "#fdca26"
             ],
             [
              1,
              "#f0f921"
             ]
            ],
            "type": "heatmap"
           }
          ],
          "heatmapgl": [
           {
            "colorbar": {
             "outlinewidth": 0,
             "ticks": ""
            },
            "colorscale": [
             [
              0,
              "#0d0887"
             ],
             [
              0.1111111111111111,
              "#46039f"
             ],
             [
              0.2222222222222222,
              "#7201a8"
             ],
             [
              0.3333333333333333,
              "#9c179e"
             ],
             [
              0.4444444444444444,
              "#bd3786"
             ],
             [
              0.5555555555555556,
              "#d8576b"
             ],
             [
              0.6666666666666666,
              "#ed7953"
             ],
             [
              0.7777777777777778,
              "#fb9f3a"
             ],
             [
              0.8888888888888888,
              "#fdca26"
             ],
             [
              1,
              "#f0f921"
             ]
            ],
            "type": "heatmapgl"
           }
          ],
          "histogram": [
           {
            "marker": {
             "pattern": {
              "fillmode": "overlay",
              "size": 10,
              "solidity": 0.2
             }
            },
            "type": "histogram"
           }
          ],
          "histogram2d": [
           {
            "colorbar": {
             "outlinewidth": 0,
             "ticks": ""
            },
            "colorscale": [
             [
              0,
              "#0d0887"
             ],
             [
              0.1111111111111111,
              "#46039f"
             ],
             [
              0.2222222222222222,
              "#7201a8"
             ],
             [
              0.3333333333333333,
              "#9c179e"
             ],
             [
              0.4444444444444444,
              "#bd3786"
             ],
             [
              0.5555555555555556,
              "#d8576b"
             ],
             [
              0.6666666666666666,
              "#ed7953"
             ],
             [
              0.7777777777777778,
              "#fb9f3a"
             ],
             [
              0.8888888888888888,
              "#fdca26"
             ],
             [
              1,
              "#f0f921"
             ]
            ],
            "type": "histogram2d"
           }
          ],
          "histogram2dcontour": [
           {
            "colorbar": {
             "outlinewidth": 0,
             "ticks": ""
            },
            "colorscale": [
             [
              0,
              "#0d0887"
             ],
             [
              0.1111111111111111,
              "#46039f"
             ],
             [
              0.2222222222222222,
              "#7201a8"
             ],
             [
              0.3333333333333333,
              "#9c179e"
             ],
             [
              0.4444444444444444,
              "#bd3786"
             ],
             [
              0.5555555555555556,
              "#d8576b"
             ],
             [
              0.6666666666666666,
              "#ed7953"
             ],
             [
              0.7777777777777778,
              "#fb9f3a"
             ],
             [
              0.8888888888888888,
              "#fdca26"
             ],
             [
              1,
              "#f0f921"
             ]
            ],
            "type": "histogram2dcontour"
           }
          ],
          "mesh3d": [
           {
            "colorbar": {
             "outlinewidth": 0,
             "ticks": ""
            },
            "type": "mesh3d"
           }
          ],
          "parcoords": [
           {
            "line": {
             "colorbar": {
              "outlinewidth": 0,
              "ticks": ""
             }
            },
            "type": "parcoords"
           }
          ],
          "pie": [
           {
            "automargin": true,
            "type": "pie"
           }
          ],
          "scatter": [
           {
            "fillpattern": {
             "fillmode": "overlay",
             "size": 10,
             "solidity": 0.2
            },
            "type": "scatter"
           }
          ],
          "scatter3d": [
           {
            "line": {
             "colorbar": {
              "outlinewidth": 0,
              "ticks": ""
             }
            },
            "marker": {
             "colorbar": {
              "outlinewidth": 0,
              "ticks": ""
             }
            },
            "type": "scatter3d"
           }
          ],
          "scattercarpet": [
           {
            "marker": {
             "colorbar": {
              "outlinewidth": 0,
              "ticks": ""
             }
            },
            "type": "scattercarpet"
           }
          ],
          "scattergeo": [
           {
            "marker": {
             "colorbar": {
              "outlinewidth": 0,
              "ticks": ""
             }
            },
            "type": "scattergeo"
           }
          ],
          "scattergl": [
           {
            "marker": {
             "colorbar": {
              "outlinewidth": 0,
              "ticks": ""
             }
            },
            "type": "scattergl"
           }
          ],
          "scattermapbox": [
           {
            "marker": {
             "colorbar": {
              "outlinewidth": 0,
              "ticks": ""
             }
            },
            "type": "scattermapbox"
           }
          ],
          "scatterpolar": [
           {
            "marker": {
             "colorbar": {
              "outlinewidth": 0,
              "ticks": ""
             }
            },
            "type": "scatterpolar"
           }
          ],
          "scatterpolargl": [
           {
            "marker": {
             "colorbar": {
              "outlinewidth": 0,
              "ticks": ""
             }
            },
            "type": "scatterpolargl"
           }
          ],
          "scatterternary": [
           {
            "marker": {
             "colorbar": {
              "outlinewidth": 0,
              "ticks": ""
             }
            },
            "type": "scatterternary"
           }
          ],
          "surface": [
           {
            "colorbar": {
             "outlinewidth": 0,
             "ticks": ""
            },
            "colorscale": [
             [
              0,
              "#0d0887"
             ],
             [
              0.1111111111111111,
              "#46039f"
             ],
             [
              0.2222222222222222,
              "#7201a8"
             ],
             [
              0.3333333333333333,
              "#9c179e"
             ],
             [
              0.4444444444444444,
              "#bd3786"
             ],
             [
              0.5555555555555556,
              "#d8576b"
             ],
             [
              0.6666666666666666,
              "#ed7953"
             ],
             [
              0.7777777777777778,
              "#fb9f3a"
             ],
             [
              0.8888888888888888,
              "#fdca26"
             ],
             [
              1,
              "#f0f921"
             ]
            ],
            "type": "surface"
           }
          ],
          "table": [
           {
            "cells": {
             "fill": {
              "color": "#EBF0F8"
             },
             "line": {
              "color": "white"
             }
            },
            "header": {
             "fill": {
              "color": "#C8D4E3"
             },
             "line": {
              "color": "white"
             }
            },
            "type": "table"
           }
          ]
         },
         "layout": {
          "annotationdefaults": {
           "arrowcolor": "#2a3f5f",
           "arrowhead": 0,
           "arrowwidth": 1
          },
          "autotypenumbers": "strict",
          "coloraxis": {
           "colorbar": {
            "outlinewidth": 0,
            "ticks": ""
           }
          },
          "colorscale": {
           "diverging": [
            [
             0,
             "#8e0152"
            ],
            [
             0.1,
             "#c51b7d"
            ],
            [
             0.2,
             "#de77ae"
            ],
            [
             0.3,
             "#f1b6da"
            ],
            [
             0.4,
             "#fde0ef"
            ],
            [
             0.5,
             "#f7f7f7"
            ],
            [
             0.6,
             "#e6f5d0"
            ],
            [
             0.7,
             "#b8e186"
            ],
            [
             0.8,
             "#7fbc41"
            ],
            [
             0.9,
             "#4d9221"
            ],
            [
             1,
             "#276419"
            ]
           ],
           "sequential": [
            [
             0,
             "#0d0887"
            ],
            [
             0.1111111111111111,
             "#46039f"
            ],
            [
             0.2222222222222222,
             "#7201a8"
            ],
            [
             0.3333333333333333,
             "#9c179e"
            ],
            [
             0.4444444444444444,
             "#bd3786"
            ],
            [
             0.5555555555555556,
             "#d8576b"
            ],
            [
             0.6666666666666666,
             "#ed7953"
            ],
            [
             0.7777777777777778,
             "#fb9f3a"
            ],
            [
             0.8888888888888888,
             "#fdca26"
            ],
            [
             1,
             "#f0f921"
            ]
           ],
           "sequentialminus": [
            [
             0,
             "#0d0887"
            ],
            [
             0.1111111111111111,
             "#46039f"
            ],
            [
             0.2222222222222222,
             "#7201a8"
            ],
            [
             0.3333333333333333,
             "#9c179e"
            ],
            [
             0.4444444444444444,
             "#bd3786"
            ],
            [
             0.5555555555555556,
             "#d8576b"
            ],
            [
             0.6666666666666666,
             "#ed7953"
            ],
            [
             0.7777777777777778,
             "#fb9f3a"
            ],
            [
             0.8888888888888888,
             "#fdca26"
            ],
            [
             1,
             "#f0f921"
            ]
           ]
          },
          "colorway": [
           "#636efa",
           "#EF553B",
           "#00cc96",
           "#ab63fa",
           "#FFA15A",
           "#19d3f3",
           "#FF6692",
           "#B6E880",
           "#FF97FF",
           "#FECB52"
          ],
          "font": {
           "color": "#2a3f5f"
          },
          "geo": {
           "bgcolor": "white",
           "lakecolor": "white",
           "landcolor": "#E5ECF6",
           "showlakes": true,
           "showland": true,
           "subunitcolor": "white"
          },
          "hoverlabel": {
           "align": "left"
          },
          "hovermode": "closest",
          "mapbox": {
           "style": "light"
          },
          "paper_bgcolor": "white",
          "plot_bgcolor": "#E5ECF6",
          "polar": {
           "angularaxis": {
            "gridcolor": "white",
            "linecolor": "white",
            "ticks": ""
           },
           "bgcolor": "#E5ECF6",
           "radialaxis": {
            "gridcolor": "white",
            "linecolor": "white",
            "ticks": ""
           }
          },
          "scene": {
           "xaxis": {
            "backgroundcolor": "#E5ECF6",
            "gridcolor": "white",
            "gridwidth": 2,
            "linecolor": "white",
            "showbackground": true,
            "ticks": "",
            "zerolinecolor": "white"
           },
           "yaxis": {
            "backgroundcolor": "#E5ECF6",
            "gridcolor": "white",
            "gridwidth": 2,
            "linecolor": "white",
            "showbackground": true,
            "ticks": "",
            "zerolinecolor": "white"
           },
           "zaxis": {
            "backgroundcolor": "#E5ECF6",
            "gridcolor": "white",
            "gridwidth": 2,
            "linecolor": "white",
            "showbackground": true,
            "ticks": "",
            "zerolinecolor": "white"
           }
          },
          "shapedefaults": {
           "line": {
            "color": "#2a3f5f"
           }
          },
          "ternary": {
           "aaxis": {
            "gridcolor": "white",
            "linecolor": "white",
            "ticks": ""
           },
           "baxis": {
            "gridcolor": "white",
            "linecolor": "white",
            "ticks": ""
           },
           "bgcolor": "#E5ECF6",
           "caxis": {
            "gridcolor": "white",
            "linecolor": "white",
            "ticks": ""
           }
          },
          "title": {
           "x": 0.05
          },
          "xaxis": {
           "automargin": true,
           "gridcolor": "white",
           "linecolor": "white",
           "ticks": "",
           "title": {
            "standoff": 15
           },
           "zerolinecolor": "white",
           "zerolinewidth": 2
          },
          "yaxis": {
           "automargin": true,
           "gridcolor": "white",
           "linecolor": "white",
           "ticks": "",
           "title": {
            "standoff": 15
           },
           "zerolinecolor": "white",
           "zerolinewidth": 2
          }
         }
        },
        "title": {
         "text": "FOREARM LINEAR MOMENTUM"
        },
        "xaxis": {
         "showgrid": false,
         "title": {
          "text": "Time [s]"
         }
        },
        "yaxis": {
         "autorange": true,
         "gridcolor": "lightgrey",
         "gridwidth": 1,
         "rangemode": "tozero",
         "showgrid": true,
         "title": {
          "text": "Momentum [kg*m²/s]"
         },
         "zeroline": false
        }
       }
      }
     },
     "metadata": {},
     "output_type": "display_data"
    },
    {
     "data": {
      "application/vnd.plotly.v1+json": {
       "config": {
        "plotlyServerURL": "https://plot.ly"
       },
       "data": [
        {
         "line": {
          "color": "firebrick",
          "width": 4
         },
         "mode": "lines",
         "name": "SHANK ANGULAR MOMENTUM",
         "type": "scatter",
         "x": [
          1.8,
          1.80556,
          1.81111,
          1.81667,
          1.82222,
          1.82778,
          1.83333,
          1.83889,
          1.84444,
          1.85,
          1.85556,
          1.86111,
          1.86667,
          1.87222,
          1.87778,
          1.88333,
          1.88889,
          1.89444,
          1.9,
          1.90556,
          1.91111,
          1.91667,
          1.92222,
          1.92778,
          1.93333,
          1.93889,
          1.94444,
          1.95,
          1.95556,
          1.96111,
          1.96667,
          1.97222,
          1.97778,
          1.98333,
          1.98889,
          1.99444,
          2,
          2.00556,
          2.01111,
          2.01667,
          2.02222,
          2.02778,
          2.03333,
          2.03889,
          2.04444,
          2.05,
          2.05556,
          2.06111,
          2.06667,
          2.07222,
          2.07778,
          2.08333,
          2.08889,
          2.09444,
          2.1,
          2.10556,
          2.11111,
          2.11667,
          2.12222,
          2.12778,
          2.13333,
          2.13889,
          2.14444,
          2.15,
          2.15556,
          2.16111,
          2.16667,
          2.17222,
          2.17778,
          2.18333,
          2.18889,
          2.19444,
          2.2,
          2.20556,
          2.21111,
          2.21667,
          2.22222,
          2.22778,
          2.23333,
          2.23889,
          2.24444,
          2.25,
          2.25556,
          2.26111,
          2.26667,
          2.27222,
          2.27778,
          2.28333,
          2.28889,
          2.29444,
          2.3,
          2.30556,
          2.31111,
          2.31667,
          2.32222,
          2.32778,
          2.33333,
          2.33889,
          2.34444,
          2.35,
          2.35556,
          2.36111,
          2.36667,
          2.37222,
          2.37778,
          2.38333,
          2.38889,
          2.39444,
          2.4,
          2.40556,
          2.41111,
          2.41667,
          2.42222,
          2.42778,
          2.43333,
          2.43889,
          2.44444,
          2.45,
          2.45556,
          2.46111,
          2.46667,
          2.47222,
          2.47778,
          2.48333,
          2.48889,
          2.49444,
          2.5,
          2.50556,
          2.51111,
          2.51667,
          2.52222,
          2.52778,
          2.53333,
          2.53889,
          2.54444,
          2.55,
          2.55556,
          2.56111,
          2.56667,
          2.57222,
          2.57778,
          2.58333,
          2.58889,
          2.59444,
          2.6,
          2.60556,
          2.61111,
          2.61667,
          2.62222,
          2.62778,
          2.63333,
          2.63889,
          2.64444,
          2.65,
          2.65556,
          2.66111,
          2.66667,
          2.67222,
          2.67778,
          2.68333,
          2.68889,
          2.69444,
          2.7,
          2.70556,
          2.71111,
          2.71667,
          2.72222,
          2.72778,
          2.73333,
          2.73889,
          2.74444,
          2.75,
          2.75556,
          2.76111,
          2.76667,
          2.77222,
          2.77778,
          2.78333,
          2.78889,
          2.79444,
          2.8,
          2.80556,
          2.81111,
          2.81667,
          2.82222,
          2.82778,
          2.83333,
          2.83889,
          2.84444,
          2.85,
          2.85556,
          2.86111,
          2.86667,
          2.87222,
          2.87778,
          2.88333,
          2.88889,
          2.89444,
          2.9,
          2.90556,
          2.91111,
          2.91667,
          2.92222,
          2.92778,
          2.93333,
          2.93889,
          2.94444,
          2.95,
          2.95556,
          2.96111
         ],
         "y": [
          0.0006590437967186,
          0.0323858549362948,
          0.0624761429023836,
          0.0892387316116891,
          0.111719006503813,
          0.1295165736982632,
          0.1426656631837623,
          0.1514773786384291,
          0.1564268915997134,
          0.1581134808689894,
          0.1572644795311659,
          0.1547283414432371,
          0.1514154202745259,
          0.1481809865357127,
          0.1456802040818472,
          0.1442439157077051,
          0.1438217670666723,
          0.1440183039117308,
          0.1442168652988543,
          0.1437562584398884,
          0.1421077797883208,
          0.1390027241412802,
          0.1344797100417806,
          0.1288457502416869,
          0.122568128082145,
          0.1161352741366286,
          0.1099374854032385,
          0.1042059895158051,
          0.0990082901099979,
          0.0942625932545343,
          0.0897452378264945,
          0.0851086212328885,
          0.079942438487958,
          0.0738757309294715,
          0.0666775018399518,
          0.0583135514077161,
          0.0489501009889494,
          0.0389389258947956,
          0.0288898685188983,
          0.020165884582582,
          0.0163995279567379,
          0.0209872946108391,
          0.0303284719956682,
          0.0409586194599864,
          0.0514592949149547,
          0.0610394297061832,
          0.0690960124246078,
          0.0751598432979491,
          0.0789515048688244,
          0.0804571539724243,
          0.0799703872796588,
          0.0780624950123859,
          0.0754652661960159,
          0.0728854041527612,
          0.0708183903694202,
          0.0694577183463787,
          0.0687444669810889,
          0.0684979506050376,
          0.0685288035313674,
          0.0686908450888019,
          0.0688860782723763,
          0.0690480843774868,
          0.0691209161638649,
          0.0690464480881309,
          0.0687671042974547,
          0.068238758160382,
          0.0674390320491477,
          0.0663588557885483,
          0.0649808526716939,
          0.0632664509150907,
          0.0611772182557033,
          0.0587348261691216,
          0.0560885322920525,
          0.0535339358854795,
          0.0514368233751088,
          0.0500778287573287,
          0.049523248775869,
          0.0496396187131617,
          0.0502395836634456,
          0.0512188259601871,
          0.0525729831760923,
          0.0543039482427417,
          0.0563081488894364,
          0.0583375821838352,
          0.0600568609215622,
          0.0611520085545236,
          0.0614299616834948,
          0.0608691887143839,
          0.0596085843968674,
          0.0578852570373173,
          0.0559526557228452,
          0.0540162858403605,
          0.0522061584340432,
          0.0505811800715047,
          0.0491522948132896,
          0.0479096837455574,
          0.0468347500068757,
          0.0458901374890427,
          0.0450130116002773,
          0.0441390459374849,
          0.043234627533863,
          0.0422818632749521,
          0.0412156136144359,
          0.0399011614607857,
          0.0382314298376963,
          0.0362922700499623,
          0.0344335274633608,
          0.0331082892692877,
          0.03253090377493,
          0.0324601274894173,
          0.0323495556045399,
          0.0316864150682085,
          0.0302160622329422,
          0.0279778776967511,
          0.0252145871842897,
          0.0222159134971777,
          0.0191616732431387,
          0.0160667689279637,
          0.0129044965340317,
          0.009856046452842,
          0.0075437110990899,
          0.0068352727003382,
          0.0075880975323708,
          0.0086827108974172,
          0.009438265355142,
          0.0097180630068946,
          0.0096067628279161,
          0.0092163258816894,
          0.0086170602799234,
          0.0078413434310158,
          0.0069100219631861,
          0.0058578956068428,
          0.0047587072375753,
          0.0037488876872682,
          0.0030151738768891,
          0.0026557413390103,
          0.0025015560635585,
          0.0022675075878751,
          0.001810209627179,
          0.0011804263484907,
          0.0007812442490462,
          0.0013383932729126,
          0.0022835293922061,
          0.0031738400567615,
          0.0037603115696858,
          0.0038540369102067,
          0.0034659691491857,
          0.0031540770851155,
          0.004040960320869,
          0.006080957912102,
          0.0083534761988211,
          0.0101473933939501,
          0.0109905742353821,
          0.0106536139260636,
          0.0091684952936541,
          0.0068012162454481,
          0.0039985859399321,
          0.0016664166639092,
          0.0026201044555857,
          0.0046895311179237,
          0.0063357974616404,
          0.0074126072164432,
          0.0079298027278723,
          0.0079460942440549,
          0.0075522518520242,
          0.0068656974421443,
          0.0060136302455266,
          0.0051054903801537,
          0.0042166176965998,
          0.0034036819988302,
          0.0027448588303537,
          0.0023615608908864,
          0.0023477782434681,
          0.0026623401757594,
          0.0032092612217984,
          0.0039493163922682,
          0.0048734868543607,
          0.0059528450896021,
          0.0071321865791387,
          0.008344732127228,
          0.0095167971396857,
          0.0105623286127101,
          0.0113885338465442,
          0.0119254254719149,
          0.0121651003273397,
          0.0121765588854507,
          0.0120661884603888,
          0.0118935263371555,
          0.011615532531978,
          0.0111438338811859,
          0.0105100943250155,
          0.0100321321627057,
          0.0102695935374771,
          0.0115643377794777,
          0.0136657584951618,
          0.0160205710976081,
          0.0181472007463344,
          0.0197509775128608,
          0.0207423873406841,
          0.0212506235043617,
          0.0216165255248161,
          0.0223073040184714,
          0.0237224085750695,
          0.0259917368994912,
          0.0289445325743342,
          0.0322500968732916,
          0.0355742275372256,
          0.0386694221808706,
          0.041410148949158,
          0.0437948806294513,
          0.0459255579634371,
          0.0479750282560236,
          0.0501541486534844,
          0.0526832845211789,
          0.0557641116487686,
          0.0595466674041936,
          0.0640932118484733,
          0.0693483577062086,
          0.0751298071520998,
          0.0811517528153866,
          0.0870808850310896,
          0.0926100683240339,
          0.0975290983594702,
          0.1017771741577435,
          0.1054688114558667,
          0.1088880144133595,
          0.1124471084751991,
          0.1166105919562648,
          0.121792522585583,
          0.1282496340619749,
          0.1360054158585581,
          0.1448355999236616,
          0.1543174208923134,
          0.1639165327540677,
          0.1730794287844623,
          0.1813101015581309,
          0.1882198789759505,
          0.1935444554822898,
          0.1971284480804269,
          0.198887179369059,
          0.1987619639404905,
          0.1966841008710678,
          0.1925557735972312,
          0.186248595745758,
          0.1776177038682561,
          0.1665334128308756,
          0.1529403560942435,
          0.1369582844232989,
          0.1190358276082026,
          0.1001638473743896,
          0.082144678698901,
          0.0677848086772207,
          0.060221734966059,
          0.0602625857921974,
          0.0648881211500428,
          0.0703473559544722,
          0.0748031819820363,
          0.0784106311425277,
          0.0824728595631189,
          0.0883891443849058,
          0.0968296205916442,
          0.1076171334578516,
          0.1201765886307943,
          0.133963799665177,
          0.1485911903230287,
          0.1637508667902248,
          0.1791138915361928,
          0.1943047792618878,
          0.2089613799279933,
          0.2228385371801461,
          0.2358963523103744,
          0.2483173658592686,
          0.2604199905689232,
          0.2724835085383518,
          0.2845588106002619,
          0.2963657201924636,
          0.3073376172401948,
          0.3167888515067494,
          0.3241142613128615,
          0.3289260214590707,
          0.3310828073454256,
          0.3306319423831269,
          0.3277274697035366,
          0.3225836796948222,
          0.3154824901811591,
          0.3068075218639673,
          0.2970587186329826,
          0.2868148539880659,
          0.276642820225931,
          0.2669843942513867,
          0.2580685259692333,
          0.2498894676954381,
          0.242259821490563,
          0.2349116547601597,
          0.227601092721888,
          0.2201799593236976,
          0.2126210669067094,
          0.2050032905243684,
          0.1974674276887971,
          0.1901494957881331,
          0.1831015985457185,
          0.176228445236467,
          0.1692801369197252,
          0.1619217689212233,
          0.1538530052637046,
          0.1449163672167854,
          0.135141392058387,
          0.124711845731765,
          0.1138819570187469,
          0.1028840256533334,
          0.0918639771314414,
          0.0808632997058181,
          0.0698437914840151,
          0.0587344361313148,
          0.0474800125121492,
          0.0361037730051631,
          0.02491874425395,
          0.0156954127713775,
          0.0154458062410962,
          0.025933406810599,
          0.0402851464124587,
          0.0560065196069644,
          0.0721727951062186,
          0.0881824610885598,
          0.1036035654990577,
          0.1181544288179226,
          0.1316553985006177,
          0.143960094693211,
          0.1549166630701286,
          0.164384509826922,
          0.1722856773073001,
          0.1786489811859941,
          0.1836185611470156,
          0.1874229788448834,
          0.1903146516662505,
          0.192491976651626,
          0.1940203085405588,
          0.1947774360754702,
          0.1944534458408281,
          0.192621558005839,
          0.1888679951470971,
          0.1829405413540886,
          0.1748629577006389,
          0.1649728105116072,
          0.1538678156377463,
          0.1422765576163086,
          0.1308928441519479,
          0.1202252233763705,
          0.1105103547563534,
          0.1017167559380908,
          0.0936293097681888,
          0.085973450442712,
          0.0785290890406786,
          0.0711967604893251,
          0.0639959381563079,
          0.0569907715715895,
          0.0501640231951283,
          0.0433041798132519,
          0.0359965799266241,
          0.0277558784675335,
          0.0182404166401775,
          0.0076259856742993,
          0.006508662351193,
          0.0191732253681406,
          0.0327662551691384,
          0.0463131311820229,
          0.059298737143529,
          0.0713377784249648,
          0.0821397908887205,
          0.0914955460278069,
          0.0993013999273797,
          0.1056184214946091,
          0.110726883550188,
          0.1151306147734999,
          0.1194917490944103,
          0.1245070259573184,
          0.1307514059795914,
          0.1385213257838047,
          0.1477247015267748,
          0.1578739292926952,
          0.1682085592139154,
          0.1779103940551454,
          0.1863227958478229,
          0.1930849205551424,
          0.1981394666853003,
          0.2016406300663464,
          0.2038354956170849,
          0.204986103436903,
          0.2053508011485039,
          0.2051961999695034,
          0.2047975740160678,
          0.2044047969940901,
          0.2041855518909035,
          0.2041844426639704,
          0.204330355317166,
          0.2044853354295125,
          0.204496746570114,
          0.2042244130969695,
          0.2035476277273537,
          0.2023711128363933,
          0.2006345951117452,
          0.1983155006160915,
          0.1954211177151061,
          0.1919850045386357,
          0.1880869844556217,
          0.1838997337704372,
          0.1797449416680487,
          0.1761363036341853,
          0.1737925762130478,
          0.1736021737112735,
          0.1765070504919177,
          0.1832905464753977,
          0.1943421745733949,
          0.2095481065391594,
          0.2283748877977028,
          0.2500409533553493,
          0.2736242612143836,
          0.2980679395531317,
          0.322165355359595,
          0.3446219883319454,
          0.3642198986542438,
          0.3800306620730313,
          0.3915937670337961,
          0.39900122752525,
          0.4028707079967044,
          0.4042196193177758,
          0.4042675628432679,
          0.4042046988322145,
          0.4049735598284161,
          0.4071135061529695,
          0.4107018259531187,
          0.4153972786060844,
          0.4205644356121816,
          0.4254401568506011,
          0.4292964701335376,
          0.4315558235800655,
          0.4318307587145015,
          0.4298930156456327,
          0.425613405807455,
          0.4189294328217968,
          0.4098774245933821,
          0.3986765134535223,
          0.3857990441498398,
          0.371939511254686,
          0.3578319127624841,
          0.3439696330924998,
          0.3303963962280217,
          0.3167448973059594,
          0.3025471598664849,
          0.2876511126022043,
          0.2725275213842963,
          0.2583484346221086,
          0.2468261679185804,
          0.2398366173364992,
          0.2388763939375939,
          0.2445233997666152,
          0.2561821501155391,
          0.2722389102202002,
          0.2904368901558051,
          0.3082154431047005,
          0.3229450782527038,
          0.3321388952299262,
          0.3337252694115005,
          0.3263962209926515,
          0.3099737684184337,
          0.2856956752115563,
          0.256314737514619,
          0.2259036778653908,
          0.199211523977565,
          0.1803866757294997,
          0.1713337698847375,
          0.1710561446245878,
          0.176862491445884,
          0.1858456809959122,
          0.1951532116639045,
          0.2017414201261446,
          0.2026268166768154,
          0.1956378716585713,
          0.1801275450478101,
          0.1572594395602407,
          0.129824836507705,
          0.1017804825877487,
          0.0777176667930669,
          0.0619810306141385,
          0.0562026351378713,
          0.0572643890900374,
          0.0609212467159213,
          0.0654874619368893,
          0.0715134304751093,
          0.0804804275594308,
          0.0938814500208239,
          0.1126678276071616,
          0.1369939019139057,
          0.1662269496795139,
          0.1990948849859685,
          0.2338196964185402,
          0.2681765181153847,
          0.2995282655073626,
          0.3249353319208116,
          0.3414095797805482,
          0.3463072482471171,
          0.3377902800398301,
          0.315257696799007,
          0.2796519518138731,
          0.2335699389600447,
          0.1811844125588912,
          0.1282456981568244,
          0.0833878958437807,
          0.0626254497685028,
          0.0748749201504159,
          0.0993031196697497,
          0.1219554217244664,
          0.1395893740978816,
          0.1521735116565952,
          0.1604199638852513,
          0.1649492796993956,
          0.1660095682072697,
          0.1635053343623561,
          0.1572240519310742,
          0.1471522011967423,
          0.1337625935295058,
          0.1181612502647763,
          0.1020192922277267,
          0.0872766792317125,
          0.0756699606343112,
          0.0682234269804022,
          0.0649793369486434,
          0.0651943096168755,
          0.0677839881915328,
          0.0716230970470741,
          0.0756837088359534,
          0.0791570633114133,
          0.0815674951378786,
          0.0828232811037811,
          0.083185031358866,
          0.0831646034015182,
          0.0833705426532524,
          0.0843133336318375,
          0.0862031118757099,
          0.0888160549485849,
          0.0915212680206438,
          0.0934895287511762,
          0.0939913922533359,
          0.0926396343985416,
          0.0894736551060588,
          0.0848756038283956,
          0.0793896136730783,
          0.0735454468396159,
          0.067757398821805,
          0.0623066633624696,
          0.0573660234544274,
          0.0530194875680092,
          0.0492635637950125,
          0.0460182845512792,
          0.0431785593551351,
          0.0406876894547578,
          0.0385696391651817,
          0.0368796994036138,
          0.0356153193273798,
          0.0346806225758341,
          0.0339447271459669,
          0.0333373696271307,
          0.0329041302382886,
          0.0327864704674835,
          0.0331265324217202,
          0.0339351355337001,
          0.0350168100978792,
          0.0360298633681369,
          0.0366482495919849,
          0.0367182583339513,
          0.0363270447371293,
          0.0357581530770022,
          0.0353594383011454,
          0.0353868609536379,
          0.035904180861007,
          0.0367891562379425,
          0.0378236662384126,
          0.0387968031310424,
          0.0395712877382183,
          0.0401079334364791,
          0.0404594375402447,
          0.040737642019087,
          0.0410549101018344,
          0.0414547995833926,
          0.0418676664438482,
          0.0421242496981948,
          0.0420261407781789,
          0.0414360694083975,
          0.0403423673541316,
          0.0388684830376697,
          0.0372229610980102,
          0.0356074076847293,
          0.0341202263979471,
          0.0327090392697915,
          0.0312103836788338,
          0.0294625078408186,
          0.0274294637727814,
          0.0252712899724853,
          0.0233276114365886,
          0.0220268358543,
          0.0217544256502276,
          0.0226921817137996,
          0.0246724174936746,
          0.0271796016009359,
          0.0295341717675719,
          0.0311250445139621,
          0.0315760917233881,
          0.0308175753891065,
          0.0290742949140897,
          0.0267930890781442,
          0.0245313429056551,
          0.0228225439007077,
          0.0220314530771866,
          0.0222225007442556,
          0.0231019764550882,
          0.02409842064589,
          0.0245606057746015,
          0.0239814119487197,
          0.0221632028963386,
          0.0192753462364176,
          0.0157992398119771,
          0.0124150375300031,
          0.0099067780138065,
          0.0089543006491614,
          0.0095158665634642,
          0.0107588579740245,
          0.0118734171049028,
          0.0124112614930251,
          0.0122561720346584,
          0.0115730685967045,
          0.0107397812237829,
          0.0102263706560106,
          0.010406621284388,
          0.0113762763981131,
          0.0129366600396186,
          0.0147193895640604,
          0.0163154738596437,
          0.0173830726479436,
          0.017726807930972,
          0.0173247293872635,
          0.0163063715202832,
          0.0149092931543925,
          0.013437139657138,
          0.0122250775179501,
          0.0116036563199003,
          0.0118394937151863,
          0.0130445320482702,
          0.0151068378757137,
          0.0176949815302672,
          0.0203149186103178,
          0.0223972399155519,
          0.0234114271150535,
          0.0229870515761873,
          0.0210072320625254,
          0.0176436786990632,
          0.0133224006073051,
          0.0086449152088946,
          0.0043783353138006,
          0.002348587754,
          0.0039705035320246,
          0.0057482622569532,
          0.0072345928180204,
          0.0090243840315865,
          0.0114795169314261,
          0.0143631139670042,
          0.0171205109717061,
          0.0192047784782286,
          0.0202191769481241,
          0.0199634642061257,
          0.018446698361517,
          0.0158843791727325,
          0.0126860141241465,
          0.0094480634653086,
          0.0069646240258909,
          0.0060053028321,
          0.0064032915256993,
          0.0072641771437511,
          0.0081986192549812,
          0.0092798614548423,
          0.0105533528137347,
          0.0118121087595894,
          0.0127159608844846,
          0.0130077990069644,
          0.0126411898734619,
          0.011792932167484,
          0.0107682318937019,
          0.0098105208614735,
          0.0089263335202767,
          0.0079315483844947,
          0.0067166317643199,
          0.0054797688366112,
          0.0047282416767021,
          0.0048208445356747,
          0.0054921057644603,
          0.0063584927844681,
          0.0072978719904219,
          0.0082754235969533,
          0.0092003947386573,
          0.0099653404609989,
          0.0105347729021733,
          0.0109828297918963,
          0.0114784085440998,
          0.0122289976507228,
          0.0133732306885247,
          0.0148617646627762,
          0.0164307641653318,
          0.0177027486237439,
          0.0183493243391156,
          0.0182460798054194,
          0.0175651951710677,
          0.0167359629863234,
          0.0162075255053653,
          0.016112441460171,
          0.0161891787470164,
          0.0160933721564356,
          0.0157372722594712,
          0.0153572338023823,
          0.0152610365190236,
          0.0154410823392905,
          0.0155057085288331,
          0.0150528960633901,
          0.0140718039213661,
          0.0130459110290327,
          0.0126173973770024,
          0.0129499437329544,
          0.0136209378190866,
          0.0142399952338101,
          0.0148459366267694,
          0.0157344860282865,
          0.0170151141621221,
          0.0183831290079113,
          0.0192936754502121,
          0.0192350530558955,
          0.0178739823151576,
          0.0150955234852966,
          0.0110059406313859,
          0.0059237591480741,
          0.0006128145129225
         ]
        }
       ],
       "layout": {
        "annotations": [
         {
          "font": {
           "color": "cyan",
           "size": 16
          },
          "showarrow": false,
          "text": "KH",
          "textangle": -90,
          "x": 1.81111,
          "xref": "x",
          "y": 1,
          "yref": "paper"
         },
         {
          "font": {
           "color": "cyan",
           "size": 16
          },
          "showarrow": false,
          "text": "FC",
          "textangle": -90,
          "x": 2.61111,
          "xref": "x",
          "y": 1,
          "yref": "paper"
         },
         {
          "font": {
           "color": "cyan",
           "size": 16
          },
          "showarrow": false,
          "text": "MER",
          "textangle": -90,
          "x": 2.73333,
          "xref": "x",
          "y": 1,
          "yref": "paper"
         },
         {
          "font": {
           "color": "cyan",
           "size": 16
          },
          "showarrow": false,
          "text": "BR",
          "textangle": -90,
          "x": 2.77778,
          "xref": "x",
          "y": 1,
          "yref": "paper"
         }
        ],
        "height": 600,
        "margin": {
         "b": 40,
         "l": 40,
         "r": 40,
         "t": 40
        },
        "plot_bgcolor": "rgb(43,48,61)",
        "shapes": [
         {
          "line": {
           "color": "cyan",
           "dash": "dash",
           "width": 4
          },
          "opacity": 0.5,
          "type": "line",
          "x0": 1.8,
          "x1": 1.8,
          "xref": "x",
          "y0": 0,
          "y1": 1,
          "yref": "paper"
         },
         {
          "line": {
           "color": "cyan",
           "dash": "dash",
           "width": 4
          },
          "opacity": 0.5,
          "type": "line",
          "x0": 2.6,
          "x1": 2.6,
          "xref": "x",
          "y0": 0,
          "y1": 1,
          "yref": "paper"
         },
         {
          "line": {
           "color": "cyan",
           "dash": "dash",
           "width": 4
          },
          "opacity": 0.5,
          "type": "line",
          "x0": 2.72222,
          "x1": 2.72222,
          "xref": "x",
          "y0": 0,
          "y1": 1,
          "yref": "paper"
         },
         {
          "line": {
           "color": "cyan",
           "dash": "dash",
           "width": 4
          },
          "opacity": 0.5,
          "type": "line",
          "x0": 2.76667,
          "x1": 2.76667,
          "xref": "x",
          "y0": 0,
          "y1": 1,
          "yref": "paper"
         }
        ],
        "showlegend": false,
        "template": {
         "data": {
          "bar": [
           {
            "error_x": {
             "color": "#2a3f5f"
            },
            "error_y": {
             "color": "#2a3f5f"
            },
            "marker": {
             "line": {
              "color": "#E5ECF6",
              "width": 0.5
             },
             "pattern": {
              "fillmode": "overlay",
              "size": 10,
              "solidity": 0.2
             }
            },
            "type": "bar"
           }
          ],
          "barpolar": [
           {
            "marker": {
             "line": {
              "color": "#E5ECF6",
              "width": 0.5
             },
             "pattern": {
              "fillmode": "overlay",
              "size": 10,
              "solidity": 0.2
             }
            },
            "type": "barpolar"
           }
          ],
          "carpet": [
           {
            "aaxis": {
             "endlinecolor": "#2a3f5f",
             "gridcolor": "white",
             "linecolor": "white",
             "minorgridcolor": "white",
             "startlinecolor": "#2a3f5f"
            },
            "baxis": {
             "endlinecolor": "#2a3f5f",
             "gridcolor": "white",
             "linecolor": "white",
             "minorgridcolor": "white",
             "startlinecolor": "#2a3f5f"
            },
            "type": "carpet"
           }
          ],
          "choropleth": [
           {
            "colorbar": {
             "outlinewidth": 0,
             "ticks": ""
            },
            "type": "choropleth"
           }
          ],
          "contour": [
           {
            "colorbar": {
             "outlinewidth": 0,
             "ticks": ""
            },
            "colorscale": [
             [
              0,
              "#0d0887"
             ],
             [
              0.1111111111111111,
              "#46039f"
             ],
             [
              0.2222222222222222,
              "#7201a8"
             ],
             [
              0.3333333333333333,
              "#9c179e"
             ],
             [
              0.4444444444444444,
              "#bd3786"
             ],
             [
              0.5555555555555556,
              "#d8576b"
             ],
             [
              0.6666666666666666,
              "#ed7953"
             ],
             [
              0.7777777777777778,
              "#fb9f3a"
             ],
             [
              0.8888888888888888,
              "#fdca26"
             ],
             [
              1,
              "#f0f921"
             ]
            ],
            "type": "contour"
           }
          ],
          "contourcarpet": [
           {
            "colorbar": {
             "outlinewidth": 0,
             "ticks": ""
            },
            "type": "contourcarpet"
           }
          ],
          "heatmap": [
           {
            "colorbar": {
             "outlinewidth": 0,
             "ticks": ""
            },
            "colorscale": [
             [
              0,
              "#0d0887"
             ],
             [
              0.1111111111111111,
              "#46039f"
             ],
             [
              0.2222222222222222,
              "#7201a8"
             ],
             [
              0.3333333333333333,
              "#9c179e"
             ],
             [
              0.4444444444444444,
              "#bd3786"
             ],
             [
              0.5555555555555556,
              "#d8576b"
             ],
             [
              0.6666666666666666,
              "#ed7953"
             ],
             [
              0.7777777777777778,
              "#fb9f3a"
             ],
             [
              0.8888888888888888,
              "#fdca26"
             ],
             [
              1,
              "#f0f921"
             ]
            ],
            "type": "heatmap"
           }
          ],
          "heatmapgl": [
           {
            "colorbar": {
             "outlinewidth": 0,
             "ticks": ""
            },
            "colorscale": [
             [
              0,
              "#0d0887"
             ],
             [
              0.1111111111111111,
              "#46039f"
             ],
             [
              0.2222222222222222,
              "#7201a8"
             ],
             [
              0.3333333333333333,
              "#9c179e"
             ],
             [
              0.4444444444444444,
              "#bd3786"
             ],
             [
              0.5555555555555556,
              "#d8576b"
             ],
             [
              0.6666666666666666,
              "#ed7953"
             ],
             [
              0.7777777777777778,
              "#fb9f3a"
             ],
             [
              0.8888888888888888,
              "#fdca26"
             ],
             [
              1,
              "#f0f921"
             ]
            ],
            "type": "heatmapgl"
           }
          ],
          "histogram": [
           {
            "marker": {
             "pattern": {
              "fillmode": "overlay",
              "size": 10,
              "solidity": 0.2
             }
            },
            "type": "histogram"
           }
          ],
          "histogram2d": [
           {
            "colorbar": {
             "outlinewidth": 0,
             "ticks": ""
            },
            "colorscale": [
             [
              0,
              "#0d0887"
             ],
             [
              0.1111111111111111,
              "#46039f"
             ],
             [
              0.2222222222222222,
              "#7201a8"
             ],
             [
              0.3333333333333333,
              "#9c179e"
             ],
             [
              0.4444444444444444,
              "#bd3786"
             ],
             [
              0.5555555555555556,
              "#d8576b"
             ],
             [
              0.6666666666666666,
              "#ed7953"
             ],
             [
              0.7777777777777778,
              "#fb9f3a"
             ],
             [
              0.8888888888888888,
              "#fdca26"
             ],
             [
              1,
              "#f0f921"
             ]
            ],
            "type": "histogram2d"
           }
          ],
          "histogram2dcontour": [
           {
            "colorbar": {
             "outlinewidth": 0,
             "ticks": ""
            },
            "colorscale": [
             [
              0,
              "#0d0887"
             ],
             [
              0.1111111111111111,
              "#46039f"
             ],
             [
              0.2222222222222222,
              "#7201a8"
             ],
             [
              0.3333333333333333,
              "#9c179e"
             ],
             [
              0.4444444444444444,
              "#bd3786"
             ],
             [
              0.5555555555555556,
              "#d8576b"
             ],
             [
              0.6666666666666666,
              "#ed7953"
             ],
             [
              0.7777777777777778,
              "#fb9f3a"
             ],
             [
              0.8888888888888888,
              "#fdca26"
             ],
             [
              1,
              "#f0f921"
             ]
            ],
            "type": "histogram2dcontour"
           }
          ],
          "mesh3d": [
           {
            "colorbar": {
             "outlinewidth": 0,
             "ticks": ""
            },
            "type": "mesh3d"
           }
          ],
          "parcoords": [
           {
            "line": {
             "colorbar": {
              "outlinewidth": 0,
              "ticks": ""
             }
            },
            "type": "parcoords"
           }
          ],
          "pie": [
           {
            "automargin": true,
            "type": "pie"
           }
          ],
          "scatter": [
           {
            "fillpattern": {
             "fillmode": "overlay",
             "size": 10,
             "solidity": 0.2
            },
            "type": "scatter"
           }
          ],
          "scatter3d": [
           {
            "line": {
             "colorbar": {
              "outlinewidth": 0,
              "ticks": ""
             }
            },
            "marker": {
             "colorbar": {
              "outlinewidth": 0,
              "ticks": ""
             }
            },
            "type": "scatter3d"
           }
          ],
          "scattercarpet": [
           {
            "marker": {
             "colorbar": {
              "outlinewidth": 0,
              "ticks": ""
             }
            },
            "type": "scattercarpet"
           }
          ],
          "scattergeo": [
           {
            "marker": {
             "colorbar": {
              "outlinewidth": 0,
              "ticks": ""
             }
            },
            "type": "scattergeo"
           }
          ],
          "scattergl": [
           {
            "marker": {
             "colorbar": {
              "outlinewidth": 0,
              "ticks": ""
             }
            },
            "type": "scattergl"
           }
          ],
          "scattermapbox": [
           {
            "marker": {
             "colorbar": {
              "outlinewidth": 0,
              "ticks": ""
             }
            },
            "type": "scattermapbox"
           }
          ],
          "scatterpolar": [
           {
            "marker": {
             "colorbar": {
              "outlinewidth": 0,
              "ticks": ""
             }
            },
            "type": "scatterpolar"
           }
          ],
          "scatterpolargl": [
           {
            "marker": {
             "colorbar": {
              "outlinewidth": 0,
              "ticks": ""
             }
            },
            "type": "scatterpolargl"
           }
          ],
          "scatterternary": [
           {
            "marker": {
             "colorbar": {
              "outlinewidth": 0,
              "ticks": ""
             }
            },
            "type": "scatterternary"
           }
          ],
          "surface": [
           {
            "colorbar": {
             "outlinewidth": 0,
             "ticks": ""
            },
            "colorscale": [
             [
              0,
              "#0d0887"
             ],
             [
              0.1111111111111111,
              "#46039f"
             ],
             [
              0.2222222222222222,
              "#7201a8"
             ],
             [
              0.3333333333333333,
              "#9c179e"
             ],
             [
              0.4444444444444444,
              "#bd3786"
             ],
             [
              0.5555555555555556,
              "#d8576b"
             ],
             [
              0.6666666666666666,
              "#ed7953"
             ],
             [
              0.7777777777777778,
              "#fb9f3a"
             ],
             [
              0.8888888888888888,
              "#fdca26"
             ],
             [
              1,
              "#f0f921"
             ]
            ],
            "type": "surface"
           }
          ],
          "table": [
           {
            "cells": {
             "fill": {
              "color": "#EBF0F8"
             },
             "line": {
              "color": "white"
             }
            },
            "header": {
             "fill": {
              "color": "#C8D4E3"
             },
             "line": {
              "color": "white"
             }
            },
            "type": "table"
           }
          ]
         },
         "layout": {
          "annotationdefaults": {
           "arrowcolor": "#2a3f5f",
           "arrowhead": 0,
           "arrowwidth": 1
          },
          "autotypenumbers": "strict",
          "coloraxis": {
           "colorbar": {
            "outlinewidth": 0,
            "ticks": ""
           }
          },
          "colorscale": {
           "diverging": [
            [
             0,
             "#8e0152"
            ],
            [
             0.1,
             "#c51b7d"
            ],
            [
             0.2,
             "#de77ae"
            ],
            [
             0.3,
             "#f1b6da"
            ],
            [
             0.4,
             "#fde0ef"
            ],
            [
             0.5,
             "#f7f7f7"
            ],
            [
             0.6,
             "#e6f5d0"
            ],
            [
             0.7,
             "#b8e186"
            ],
            [
             0.8,
             "#7fbc41"
            ],
            [
             0.9,
             "#4d9221"
            ],
            [
             1,
             "#276419"
            ]
           ],
           "sequential": [
            [
             0,
             "#0d0887"
            ],
            [
             0.1111111111111111,
             "#46039f"
            ],
            [
             0.2222222222222222,
             "#7201a8"
            ],
            [
             0.3333333333333333,
             "#9c179e"
            ],
            [
             0.4444444444444444,
             "#bd3786"
            ],
            [
             0.5555555555555556,
             "#d8576b"
            ],
            [
             0.6666666666666666,
             "#ed7953"
            ],
            [
             0.7777777777777778,
             "#fb9f3a"
            ],
            [
             0.8888888888888888,
             "#fdca26"
            ],
            [
             1,
             "#f0f921"
            ]
           ],
           "sequentialminus": [
            [
             0,
             "#0d0887"
            ],
            [
             0.1111111111111111,
             "#46039f"
            ],
            [
             0.2222222222222222,
             "#7201a8"
            ],
            [
             0.3333333333333333,
             "#9c179e"
            ],
            [
             0.4444444444444444,
             "#bd3786"
            ],
            [
             0.5555555555555556,
             "#d8576b"
            ],
            [
             0.6666666666666666,
             "#ed7953"
            ],
            [
             0.7777777777777778,
             "#fb9f3a"
            ],
            [
             0.8888888888888888,
             "#fdca26"
            ],
            [
             1,
             "#f0f921"
            ]
           ]
          },
          "colorway": [
           "#636efa",
           "#EF553B",
           "#00cc96",
           "#ab63fa",
           "#FFA15A",
           "#19d3f3",
           "#FF6692",
           "#B6E880",
           "#FF97FF",
           "#FECB52"
          ],
          "font": {
           "color": "#2a3f5f"
          },
          "geo": {
           "bgcolor": "white",
           "lakecolor": "white",
           "landcolor": "#E5ECF6",
           "showlakes": true,
           "showland": true,
           "subunitcolor": "white"
          },
          "hoverlabel": {
           "align": "left"
          },
          "hovermode": "closest",
          "mapbox": {
           "style": "light"
          },
          "paper_bgcolor": "white",
          "plot_bgcolor": "#E5ECF6",
          "polar": {
           "angularaxis": {
            "gridcolor": "white",
            "linecolor": "white",
            "ticks": ""
           },
           "bgcolor": "#E5ECF6",
           "radialaxis": {
            "gridcolor": "white",
            "linecolor": "white",
            "ticks": ""
           }
          },
          "scene": {
           "xaxis": {
            "backgroundcolor": "#E5ECF6",
            "gridcolor": "white",
            "gridwidth": 2,
            "linecolor": "white",
            "showbackground": true,
            "ticks": "",
            "zerolinecolor": "white"
           },
           "yaxis": {
            "backgroundcolor": "#E5ECF6",
            "gridcolor": "white",
            "gridwidth": 2,
            "linecolor": "white",
            "showbackground": true,
            "ticks": "",
            "zerolinecolor": "white"
           },
           "zaxis": {
            "backgroundcolor": "#E5ECF6",
            "gridcolor": "white",
            "gridwidth": 2,
            "linecolor": "white",
            "showbackground": true,
            "ticks": "",
            "zerolinecolor": "white"
           }
          },
          "shapedefaults": {
           "line": {
            "color": "#2a3f5f"
           }
          },
          "ternary": {
           "aaxis": {
            "gridcolor": "white",
            "linecolor": "white",
            "ticks": ""
           },
           "baxis": {
            "gridcolor": "white",
            "linecolor": "white",
            "ticks": ""
           },
           "bgcolor": "#E5ECF6",
           "caxis": {
            "gridcolor": "white",
            "linecolor": "white",
            "ticks": ""
           }
          },
          "title": {
           "x": 0.05
          },
          "xaxis": {
           "automargin": true,
           "gridcolor": "white",
           "linecolor": "white",
           "ticks": "",
           "title": {
            "standoff": 15
           },
           "zerolinecolor": "white",
           "zerolinewidth": 2
          },
          "yaxis": {
           "automargin": true,
           "gridcolor": "white",
           "linecolor": "white",
           "ticks": "",
           "title": {
            "standoff": 15
           },
           "zerolinecolor": "white",
           "zerolinewidth": 2
          }
         }
        },
        "title": {
         "text": "SHANK ANGULAR MOMENTUM"
        },
        "xaxis": {
         "showgrid": false,
         "title": {
          "text": "Time [s]"
         }
        },
        "yaxis": {
         "autorange": true,
         "gridcolor": "lightgrey",
         "gridwidth": 1,
         "rangemode": "tozero",
         "showgrid": true,
         "title": {
          "text": "Momentum [kg*m²/(s*rad)]"
         },
         "zeroline": false
        }
       }
      }
     },
     "metadata": {},
     "output_type": "display_data"
    },
    {
     "data": {
      "application/vnd.plotly.v1+json": {
       "config": {
        "plotlyServerURL": "https://plot.ly"
       },
       "data": [
        {
         "line": {
          "color": "firebrick",
          "width": 4
         },
         "mode": "lines",
         "name": "THIGH ANGULAR MOMENTUM",
         "type": "scatter",
         "x": [
          1.8,
          1.80556,
          1.81111,
          1.81667,
          1.82222,
          1.82778,
          1.83333,
          1.83889,
          1.84444,
          1.85,
          1.85556,
          1.86111,
          1.86667,
          1.87222,
          1.87778,
          1.88333,
          1.88889,
          1.89444,
          1.9,
          1.90556,
          1.91111,
          1.91667,
          1.92222,
          1.92778,
          1.93333,
          1.93889,
          1.94444,
          1.95,
          1.95556,
          1.96111,
          1.96667,
          1.97222,
          1.97778,
          1.98333,
          1.98889,
          1.99444,
          2,
          2.00556,
          2.01111,
          2.01667,
          2.02222,
          2.02778,
          2.03333,
          2.03889,
          2.04444,
          2.05,
          2.05556,
          2.06111,
          2.06667,
          2.07222,
          2.07778,
          2.08333,
          2.08889,
          2.09444,
          2.1,
          2.10556,
          2.11111,
          2.11667,
          2.12222,
          2.12778,
          2.13333,
          2.13889,
          2.14444,
          2.15,
          2.15556,
          2.16111,
          2.16667,
          2.17222,
          2.17778,
          2.18333,
          2.18889,
          2.19444,
          2.2,
          2.20556,
          2.21111,
          2.21667,
          2.22222,
          2.22778,
          2.23333,
          2.23889,
          2.24444,
          2.25,
          2.25556,
          2.26111,
          2.26667,
          2.27222,
          2.27778,
          2.28333,
          2.28889,
          2.29444,
          2.3,
          2.30556,
          2.31111,
          2.31667,
          2.32222,
          2.32778,
          2.33333,
          2.33889,
          2.34444,
          2.35,
          2.35556,
          2.36111,
          2.36667,
          2.37222,
          2.37778,
          2.38333,
          2.38889,
          2.39444,
          2.4,
          2.40556,
          2.41111,
          2.41667,
          2.42222,
          2.42778,
          2.43333,
          2.43889,
          2.44444,
          2.45,
          2.45556,
          2.46111,
          2.46667,
          2.47222,
          2.47778,
          2.48333,
          2.48889,
          2.49444,
          2.5,
          2.50556,
          2.51111,
          2.51667,
          2.52222,
          2.52778,
          2.53333,
          2.53889,
          2.54444,
          2.55,
          2.55556,
          2.56111,
          2.56667,
          2.57222,
          2.57778,
          2.58333,
          2.58889,
          2.59444,
          2.6,
          2.60556,
          2.61111,
          2.61667,
          2.62222,
          2.62778,
          2.63333,
          2.63889,
          2.64444,
          2.65,
          2.65556,
          2.66111,
          2.66667,
          2.67222,
          2.67778,
          2.68333,
          2.68889,
          2.69444,
          2.7,
          2.70556,
          2.71111,
          2.71667,
          2.72222,
          2.72778,
          2.73333,
          2.73889,
          2.74444,
          2.75,
          2.75556,
          2.76111,
          2.76667,
          2.77222,
          2.77778,
          2.78333,
          2.78889,
          2.79444,
          2.8,
          2.80556,
          2.81111,
          2.81667,
          2.82222,
          2.82778,
          2.83333,
          2.83889,
          2.84444,
          2.85,
          2.85556,
          2.86111,
          2.86667,
          2.87222,
          2.87778,
          2.88333,
          2.88889,
          2.89444,
          2.9,
          2.90556,
          2.91111,
          2.91667,
          2.92222,
          2.92778,
          2.93333,
          2.93889,
          2.94444,
          2.95,
          2.95556,
          2.96111
         ],
         "y": [
          0.0033000948734927,
          0.0131756170801681,
          0.0265825066290966,
          0.0390355165680587,
          0.0508045963696127,
          0.0623954070887527,
          0.0733822601626643,
          0.0818187875314039,
          0.0849579953881978,
          0.0808458408057109,
          0.0700209120090941,
          0.0571512615121241,
          0.0516708265420103,
          0.0593227887333313,
          0.0731912602612818,
          0.0854927528625901,
          0.0935546832813443,
          0.0982333093482063,
          0.1020926737708345,
          0.1081010523096192,
          0.1189024660179318,
          0.1362050666368436,
          0.1599096361046582,
          0.1877023128778458,
          0.2157242646711562,
          0.2398769421028975,
          0.2571094337532958,
          0.2663127338941297,
          0.2686260207787689,
          0.2670981914304306,
          0.2658050774711002,
          0.2686506064059945,
          0.2781821474328306,
          0.2948472101476912,
          0.3170209881550109,
          0.3417228444915732,
          0.3656067265680797,
          0.3858464666287567,
          0.4007214115798804,
          0.4098359572787862,
          0.4139833502244959,
          0.4147245140825276,
          0.4138032191822403,
          0.4125583384378403,
          0.41151126899126,
          0.4102728754458947,
          0.4078055252804254,
          0.4029241384521529,
          0.3948187264426288,
          0.3833977517584476,
          0.3693562921110516,
          0.3539808726123121,
          0.3387701434992494,
          0.3249921252252143,
          0.3133291657940515,
          0.3037543527012368,
          0.2956997436967113,
          0.2884348733577129,
          0.2814577133321105,
          0.274691254122117,
          0.2683982428403716,
          0.2629149966466809,
          0.2584161937442784,
          0.2548282466716222,
          0.2518092793898132,
          0.2486844188401817,
          0.2444129754305965,
          0.2377706697762703,
          0.2277644988356969,
          0.2140670124870758,
          0.1972280027870535,
          0.1785757425450286,
          0.159872539223941,
          0.1428421875536318,
          0.1286982668288527,
          0.117876132841079,
          0.1102161753934177,
          0.1055752035304161,
          0.1043410255341731,
          0.1071867335101701,
          0.1140613571705084,
          0.1234329646564961,
          0.1326302111195297,
          0.1388667772659713,
          0.1401784712645582,
          0.13595906868512,
          0.1270427757995459,
          0.1153389996465252,
          0.1031092538393238,
          0.0921538673797789,
          0.0833333964442377,
          0.0766396966235923,
          0.071479877004487,
          0.0668085128335205,
          0.0613531095897718,
          0.0542163774129342,
          0.0455251378016489,
          0.0365840619920265,
          0.0292808306140441,
          0.025076604894981,
          0.0249613350841491,
          0.0300165123442457,
          0.0395752638776988,
          0.0505918382398966,
          0.0595231126908951,
          0.0637122134077983,
          0.0620092897976859,
          0.0548475124824074,
          0.0439597860598653,
          0.0322205276348503,
          0.0244041845755811,
          0.026016350744035,
          0.0347253339173371,
          0.0450235704886922,
          0.0543117439277578,
          0.0614109330611471,
          0.065673832756816,
          0.0669234345454312,
          0.065589903004773,
          0.0627154779586457,
          0.0596669731543171,
          0.0575849539198288,
          0.0568703319656757,
          0.0571363778883836,
          0.0576573670145017,
          0.0578898557843533,
          0.0577471382936881,
          0.0575592074125555,
          0.0577463079614231,
          0.0584006088704346,
          0.0591354549568128,
          0.059337278315157,
          0.0585534760817962,
          0.0567281968378751,
          0.0542175714454603,
          0.0516070474586911,
          0.04938464778329,
          0.0476991637375272,
          0.0465306516554659,
          0.0461791881014603,
          0.0473729780309118,
          0.0504912087142796,
          0.0547159014169585,
          0.0583387822928003,
          0.0597822387121327,
          0.0582685648964255,
          0.0538871215550869,
          0.0473151968378874,
          0.0395518535761116,
          0.0319328358673315,
          0.0263495461447992,
          0.0247024909484711,
          0.0267402204268217,
          0.0300041611664258,
          0.0322474889327163,
          0.0321375585276718,
          0.0290009404288318,
          0.0228078507473616,
          0.0148266166207134,
          0.0111164211642685,
          0.0182663758995299,
          0.0277287105772358,
          0.0342430591843054,
          0.0355838802575823,
          0.0310372114328799,
          0.0219353773216231,
          0.0154314383118575,
          0.0241563109817604,
          0.0393135587868159,
          0.0527080676564541,
          0.0611757675384413,
          0.0632509553992356,
          0.0586966956314713,
          0.0484382361946243,
          0.0346640141040296,
          0.0218002113566543,
          0.0190804872559731,
          0.0269142646984543,
          0.0345873834659197,
          0.0379136513262764,
          0.0361985533129601,
          0.0302400756321328,
          0.0217724802355932,
          0.0134333696794308,
          0.0096670949207036,
          0.0121816438271424,
          0.0155451457783247,
          0.0177072517355134,
          0.0190524339572313,
          0.0202447615288699,
          0.0219266354794806,
          0.0254688633228768,
          0.0325370007677319,
          0.0431862053155761,
          0.0557191297960714,
          0.0679119737027295,
          0.0777658290387036,
          0.0837672170066304,
          0.084955071114949,
          0.0809290079581927,
          0.0718517048678903,
          0.0584782410024162,
          0.0423217836634751,
          0.0266107943425913,
          0.0205637534862284,
          0.0305203888408212,
          0.0446386608597129,
          0.0568040090865052,
          0.0651708870490941,
          0.0691045146614196,
          0.0686366084112075,
          0.0644003114564198,
          0.0577108834094936,
          0.0507832869227276,
          0.0469648558486499,
          0.0497721234298055,
          0.0600599611454533,
          0.0758589415482852,
          0.0949224593318781,
          0.1156868620164887,
          0.1371268433122558,
          0.1585565994221375,
          0.1795452456488147,
          0.1999303852528646,
          0.2198918636741937,
          0.2400322925813301,
          0.2614043638777434,
          0.2854166411346686,
          0.3135705532571499,
          0.3470839586281173,
          0.3865780952422459,
          0.4319850562446717,
          0.4826619993701598,
          0.5375672968318621,
          0.595383288080112,
          0.6545803328404716,
          0.7134800094294362,
          0.770362607940742,
          0.8236326683739312,
          0.8720469354511943,
          0.914996654838444,
          0.9527846964018984,
          0.986766918612719,
          1.019203555299621,
          1.0527439860083383,
          1.089633620821682,
          1.1308962630839072,
          1.175799804144264,
          1.2218177438170887,
          1.2651196983006503,
          1.3014591728041442,
          1.3272225819762455,
          1.3403624306448607,
          1.340967052709001,
          1.3313230713054598,
          1.3154645193109973,
          1.2983127486774266,
          1.2845851551335914,
          1.277727086631512,
          1.2791821229521363,
          1.2882619263719033,
          1.3026655534754783,
          1.319435218858669,
          1.3359674589642885,
          1.350694902800491,
          1.3632150986997862,
          1.3739096342324115,
          1.3833346859732878,
          1.391731525071798,
          1.3988707027872744,
          1.4042171210782084,
          1.407240846412071,
          1.4076742279969654,
          1.405596034412672,
          1.4013429345098871,
          1.3953611421807215,
          1.3881603927133015,
          1.380450691255107,
          1.3733436034021536,
          1.3683486786459909,
          1.366985164175352,
          1.3701454145500784,
          1.37760674159912,
          1.3880125373934007,
          1.399295619308637,
          1.4092507196373725,
          1.415994992008799,
          1.418254143417227,
          1.4155332623460286,
          1.4081979992897122,
          1.3974091188037447,
          1.3848502676668364,
          1.3722856306151503,
          1.361095163186491,
          1.351964629193571,
          1.3448340858824908,
          1.3390891166469143,
          1.333891189935408,
          1.3285201268803373,
          1.3226210464381656,
          1.316281470560634,
          1.309914702411127,
          1.3040042191276184,
          1.298841200466076,
          1.2943968861201236,
          1.290377482458206,
          1.2863705587422694,
          1.281934484954775,
          1.2765750396912248,
          1.2697057277526396,
          1.26072435105339,
          1.2491963807910536,
          1.2349533609648056,
          1.2178915926174188,
          1.197465951443464,
          1.1721872027421043,
          1.1395785475177511,
          1.0968273231387804,
          1.041894861856532,
          0.974497578496096,
          0.8964093940160552,
          0.81090449465046,
          0.721642034038788,
          0.6316719967539278,
          0.543292396485038,
          0.4590919668160544,
          0.3838686703034474,
          0.3263315017431951,
          0.2975702948475714,
          0.3025054157471823,
          0.3330008577016677,
          0.3754971170327324,
          0.4205703251275233,
          0.4646034021561151,
          0.5079021337092248,
          0.5525017662446763,
          0.6004279948655482,
          0.6526698974645762,
          0.7089211771557428,
          0.7678723168552364,
          0.8276930702463471,
          0.886402538845983,
          0.9420044813710612,
          0.9924811262835236,
          1.035865895554224,
          1.0705321102164334,
          1.0955982319128297,
          1.1111965502505945,
          1.1184364875922883,
          1.1191173252715982,
          1.115383086498874,
          1.109458425586193,
          1.1034564678442331,
          1.099171351096258,
          1.0978190292752017,
          1.099801624409963,
          1.1046347041708304,
          1.1111270710579395,
          1.117763852551404,
          1.123126874269748,
          1.1261959787279592,
          1.126497502725797,
          1.1241721316362308,
          1.1200116656148336,
          1.1153940933404751,
          1.1119832870343371,
          1.1111758903003246,
          1.1135154284152255,
          1.1184241384949838,
          1.1244459272029026,
          1.129854762654109,
          1.133278096214444,
          1.134082075250734,
          1.1325077063784266,
          1.1296625034914978,
          1.1273703452634505,
          1.1277391806472157,
          1.1323787185401664,
          1.1415262002606432,
          1.1536105680734738,
          1.16563511593468,
          1.1742358796488286,
          1.176848440343218,
          1.1724245448543873,
          1.161477895976259,
          1.1456046109919278,
          1.1268045404397258,
          1.1068851542571676,
          1.0870800682264212,
          1.0679194611390213,
          1.0493751391148043,
          1.0312606642720223,
          1.0137462912815225,
          0.9977451810898152,
          0.9849550780682176,
          0.9774988055218778,
          0.9773004828464104,
          0.985454903094669,
          1.0018415361785715,
          1.0251193239883925,
          1.0530730474623449,
          1.083136780022352,
          1.1128667783983452,
          1.1402097307476524,
          1.163559768180295,
          1.181713570616762,
          1.193851188386254,
          1.1996017853838992,
          1.199155639265319,
          1.1933202906740692,
          1.1834292142164926,
          1.1710851884857467,
          1.1578057106193689,
          1.144689787650159,
          1.132234812513051,
          1.120396813389059,
          1.1088944273268089,
          1.0976261456250611,
          1.086982678159787,
          1.0778732605990198,
          1.071440179845175,
          1.0686069731045926,
          1.069677368420034,
          1.074142450978263,
          1.0807303515701774,
          1.0876370089730714,
          1.0928451901165908,
          1.0944514350847103,
          1.090945107582645,
          1.0814062833865126,
          1.065606698677285,
          1.044006744757315,
          1.0176461755397976,
          0.987947817618128,
          0.9565027946095908,
          0.9249458304143968,
          0.8950000232969056,
          0.8686669138090889,
          0.8484204101121078,
          0.8371748635816455,
          0.8377680586190839,
          0.851877843792473,
          0.8787976704800486,
          0.9149256165075872,
          0.9544916781135367,
          0.9911743026137556,
          1.019798507953117,
          1.0375293180092242,
          1.0443670202362276,
          1.0429526163250302,
          1.037746009531218,
          1.0337304242721186,
          1.0349932525085308,
          1.04367242830104,
          1.0596021584297828,
          1.0806016901000062,
          1.1030938644210402,
          1.1227969559955269,
          1.1354024784246828,
          1.137231685965861,
          1.1258708360071732,
          1.1007731993234076,
          1.0637464730282693,
          1.0190796644129183,
          0.9728816242453407,
          0.9312576992868866,
          0.8976163700811256,
          0.8705890838835502,
          0.8444415536528791,
          0.8122818550811327,
          0.7703295791080226,
          0.7210621229217503,
          0.6734768007106461,
          0.6388167879049065,
          0.6221492814517593,
          0.6163953013191836,
          0.6060877437165934,
          0.5768744324694237,
          0.5221129262025707,
          0.4444218007788175,
          0.3544728843489527,
          0.2696451762387259,
          0.2130233640350494,
          0.2020586922765453,
          0.2250800125360822,
          0.2571118901655165,
          0.2861678157695284,
          0.3133941574687818,
          0.3485446516697913,
          0.4055016165130308,
          0.4954531846284186,
          0.6217748001241912,
          0.7807089547252901,
          0.9645088201049205,
          1.1634757117360035,
          1.366700119947367,
          1.5622377948946855,
          1.737245825444213,
          1.8784432564525069,
          1.9731396001209205,
          2.0108849691331327,
          1.985550827483297,
          1.897395312777201,
          1.754418006897887,
          1.5721072765967057,
          1.370732802652811,
          1.1700709878006017,
          0.983234504050908,
          0.8133378165126917,
          0.6562515834307577,
          0.5081805589995934,
          0.3733579418838593,
          0.2696729503022739,
          0.2263250729897294,
          0.2446456184655533,
          0.2839745434294084,
          0.316970912446768,
          0.3400978785591247,
          0.3615310925103098,
          0.3904730078760306,
          0.4290747332661815,
          0.4713008025150286,
          0.5079118682030046,
          0.531615876711912,
          0.5396057055147201,
          0.5337845419594734,
          0.5192287394808374,
          0.5014517786842644,
          0.4837317726721931,
          0.466108926062497,
          0.4464667641846475,
          0.4224054993852136,
          0.3924654656022395,
          0.356444757384723,
          0.3155036387889345,
          0.2729093737036898,
          0.2357456174105348,
          0.2156529403318955,
          0.2219979391595571,
          0.2498690515019748,
          0.2836560939071802,
          0.3093321731543212,
          0.3191800154399442,
          0.3119009937488712,
          0.2914978958993184,
          0.26526459413114,
          0.2408259933878792,
          0.2227854484159434,
          0.2109391261036204,
          0.2019180714815784,
          0.192626020048837,
          0.1822485313339271,
          0.1719895284889734,
          0.1634973318816141,
          0.1573438523646637,
          0.1528500041454724,
          0.1494086313844435,
          0.1480123317314751,
          0.151392734220081,
          0.1617815785921082,
          0.1777559976828973,
          0.1938876513708336,
          0.2035210968830048,
          0.2017891953139949,
          0.1873620362772335,
          0.1628528566860506,
          0.1340926885592642,
          0.1084273013461043,
          0.0918315882580208,
          0.0857471186787731,
          0.0882418911811604,
          0.0984553635322411,
          0.1159634340884297,
          0.1376400258901894,
          0.1583365979996021,
          0.1735316077868667,
          0.1809322837798267,
          0.1806363284770301,
          0.1743658799970201,
          0.1644016688043656,
          0.1527499014487863,
          0.140794815855234,
          0.1293671666506533,
          0.1189959674695254,
          0.1101481978001316,
          0.1033032616862201,
          0.0987116282237798,
          0.0959795221758185,
          0.0940762362357153,
          0.0921029628416969,
          0.0903537107224209,
          0.0908745321655531,
          0.0967340960121359,
          0.1098684120451659,
          0.1294668367437227,
          0.1524608068127599,
          0.1746632141163176,
          0.1915123554025936,
          0.1988381392967351,
          0.1939698572848991,
          0.1769589212831322,
          0.1514222378045974,
          0.1244869205858994,
          0.1048370750110313,
          0.09713514540858,
          0.0976043052441016,
          0.1001123720589145,
          0.1031124957666459,
          0.1086976351490381,
          0.1180538033704994,
          0.1289813327201569,
          0.1374048860253237,
          0.1398350734976809,
          0.1345934254845821,
          0.1220160063330346,
          0.104176970865953,
          0.0843893970335703,
          0.0665942637485403,
          0.0544586434148418,
          0.0495568354914064,
          0.0499818550794831,
          0.052551171638451,
          0.0554778620120661,
          0.0585207617969748,
          0.0621825329439979,
          0.0670172871780154,
          0.0732648101170046,
          0.0807886291918832,
          0.0890457263161197,
          0.096914549876239,
          0.1026044831814606,
          0.1039706079255199,
          0.0992509420302952,
          0.0879352654476641,
          0.0714135305739807,
          0.0532305518005476,
          0.0389131478365915,
          0.0334309687242829,
          0.0343491117696348,
          0.0353086709265869,
          0.03479704623018,
          0.0361758357239008,
          0.0431188488040262,
          0.0547481786024728,
          0.0677586547158759,
          0.0796657454402156,
          0.0892492392477825,
          0.0960607558447535,
          0.0998514224141191,
          0.1002122155595745,
          0.0966375263825328,
          0.0889883591204295,
          0.0780596605946829,
          0.0658796859212055,
          0.0553785476086814,
          0.0489281075998543,
          0.0462527059062627,
          0.0448053422110159,
          0.0426554584786143,
          0.0400161831521543,
          0.0387349799000958,
          0.0404501584559056,
          0.0447736915365338,
          0.0498242577319156,
          0.0538880795033055,
          0.0561208619671663,
          0.0564779975600318,
          0.0553896714236654,
          0.0533892643788696,
          0.0508227717543771,
          0.0477412159710604,
          0.0440155558150427,
          0.0396302367677012,
          0.0350365392505806,
          0.0313494664599935,
          0.0299670153925335,
          0.0314295536936229,
          0.0349301107892996,
          0.0393180268702973,
          0.0438436721443438,
          0.0480564430394744,
          0.0515789276893499,
          0.0541029972153409,
          0.0554717975496243,
          0.055652054242495,
          0.0546214397694574,
          0.0523835174456289,
          0.0492720532148709,
          0.046400593321552,
          0.0455829651104008,
          0.0478842594837497,
          0.0520742204246458,
          0.0554680998967236,
          0.055843581023461,
          0.0524521946245034,
          0.0461909040777932,
          0.0392745822064675,
          0.0343076309960917,
          0.0326515677460485,
          0.0338009031172861,
          0.0371854246502136,
          0.0431212990224443,
          0.051431377729394,
          0.0604374847580823,
          0.067554446201044,
          0.0703231236567184,
          0.0671758915248362,
          0.0579191210717068,
          0.0440063695785996,
          0.028953058437525,
          0.0201945765655232,
          0.0241418718468877,
          0.0315586184573037,
          0.0354952803990084,
          0.0348475474211612,
          0.031271723897498,
          0.0284196653595754,
          0.0298780688074246,
          0.0351197757514477,
          0.0410862855375117,
          0.0462925719256691,
          0.051514428995323,
          0.0584598309205436,
          0.0677704710223845,
          0.0783380990444578,
          0.088343969108434,
          0.0962797082016909,
          0.1011036324743603,
          0.1019445703356799,
          0.0980096887723789,
          0.0889729719267226,
          0.0755431240371101,
          0.0596578888616219,
          0.0439613156444874,
          0.0305994360874182,
          0.019942920814283,
          0.0106986797288143,
          0.0023401188584667
         ]
        }
       ],
       "layout": {
        "annotations": [
         {
          "font": {
           "color": "cyan",
           "size": 16
          },
          "showarrow": false,
          "text": "KH",
          "textangle": -90,
          "x": 1.81111,
          "xref": "x",
          "y": 1,
          "yref": "paper"
         },
         {
          "font": {
           "color": "cyan",
           "size": 16
          },
          "showarrow": false,
          "text": "FC",
          "textangle": -90,
          "x": 2.61111,
          "xref": "x",
          "y": 1,
          "yref": "paper"
         },
         {
          "font": {
           "color": "cyan",
           "size": 16
          },
          "showarrow": false,
          "text": "MER",
          "textangle": -90,
          "x": 2.73333,
          "xref": "x",
          "y": 1,
          "yref": "paper"
         },
         {
          "font": {
           "color": "cyan",
           "size": 16
          },
          "showarrow": false,
          "text": "BR",
          "textangle": -90,
          "x": 2.77778,
          "xref": "x",
          "y": 1,
          "yref": "paper"
         }
        ],
        "height": 600,
        "margin": {
         "b": 40,
         "l": 40,
         "r": 40,
         "t": 40
        },
        "plot_bgcolor": "rgb(43,48,61)",
        "shapes": [
         {
          "line": {
           "color": "cyan",
           "dash": "dash",
           "width": 4
          },
          "opacity": 0.5,
          "type": "line",
          "x0": 1.8,
          "x1": 1.8,
          "xref": "x",
          "y0": 0,
          "y1": 1,
          "yref": "paper"
         },
         {
          "line": {
           "color": "cyan",
           "dash": "dash",
           "width": 4
          },
          "opacity": 0.5,
          "type": "line",
          "x0": 2.6,
          "x1": 2.6,
          "xref": "x",
          "y0": 0,
          "y1": 1,
          "yref": "paper"
         },
         {
          "line": {
           "color": "cyan",
           "dash": "dash",
           "width": 4
          },
          "opacity": 0.5,
          "type": "line",
          "x0": 2.72222,
          "x1": 2.72222,
          "xref": "x",
          "y0": 0,
          "y1": 1,
          "yref": "paper"
         },
         {
          "line": {
           "color": "cyan",
           "dash": "dash",
           "width": 4
          },
          "opacity": 0.5,
          "type": "line",
          "x0": 2.76667,
          "x1": 2.76667,
          "xref": "x",
          "y0": 0,
          "y1": 1,
          "yref": "paper"
         }
        ],
        "showlegend": false,
        "template": {
         "data": {
          "bar": [
           {
            "error_x": {
             "color": "#2a3f5f"
            },
            "error_y": {
             "color": "#2a3f5f"
            },
            "marker": {
             "line": {
              "color": "#E5ECF6",
              "width": 0.5
             },
             "pattern": {
              "fillmode": "overlay",
              "size": 10,
              "solidity": 0.2
             }
            },
            "type": "bar"
           }
          ],
          "barpolar": [
           {
            "marker": {
             "line": {
              "color": "#E5ECF6",
              "width": 0.5
             },
             "pattern": {
              "fillmode": "overlay",
              "size": 10,
              "solidity": 0.2
             }
            },
            "type": "barpolar"
           }
          ],
          "carpet": [
           {
            "aaxis": {
             "endlinecolor": "#2a3f5f",
             "gridcolor": "white",
             "linecolor": "white",
             "minorgridcolor": "white",
             "startlinecolor": "#2a3f5f"
            },
            "baxis": {
             "endlinecolor": "#2a3f5f",
             "gridcolor": "white",
             "linecolor": "white",
             "minorgridcolor": "white",
             "startlinecolor": "#2a3f5f"
            },
            "type": "carpet"
           }
          ],
          "choropleth": [
           {
            "colorbar": {
             "outlinewidth": 0,
             "ticks": ""
            },
            "type": "choropleth"
           }
          ],
          "contour": [
           {
            "colorbar": {
             "outlinewidth": 0,
             "ticks": ""
            },
            "colorscale": [
             [
              0,
              "#0d0887"
             ],
             [
              0.1111111111111111,
              "#46039f"
             ],
             [
              0.2222222222222222,
              "#7201a8"
             ],
             [
              0.3333333333333333,
              "#9c179e"
             ],
             [
              0.4444444444444444,
              "#bd3786"
             ],
             [
              0.5555555555555556,
              "#d8576b"
             ],
             [
              0.6666666666666666,
              "#ed7953"
             ],
             [
              0.7777777777777778,
              "#fb9f3a"
             ],
             [
              0.8888888888888888,
              "#fdca26"
             ],
             [
              1,
              "#f0f921"
             ]
            ],
            "type": "contour"
           }
          ],
          "contourcarpet": [
           {
            "colorbar": {
             "outlinewidth": 0,
             "ticks": ""
            },
            "type": "contourcarpet"
           }
          ],
          "heatmap": [
           {
            "colorbar": {
             "outlinewidth": 0,
             "ticks": ""
            },
            "colorscale": [
             [
              0,
              "#0d0887"
             ],
             [
              0.1111111111111111,
              "#46039f"
             ],
             [
              0.2222222222222222,
              "#7201a8"
             ],
             [
              0.3333333333333333,
              "#9c179e"
             ],
             [
              0.4444444444444444,
              "#bd3786"
             ],
             [
              0.5555555555555556,
              "#d8576b"
             ],
             [
              0.6666666666666666,
              "#ed7953"
             ],
             [
              0.7777777777777778,
              "#fb9f3a"
             ],
             [
              0.8888888888888888,
              "#fdca26"
             ],
             [
              1,
              "#f0f921"
             ]
            ],
            "type": "heatmap"
           }
          ],
          "heatmapgl": [
           {
            "colorbar": {
             "outlinewidth": 0,
             "ticks": ""
            },
            "colorscale": [
             [
              0,
              "#0d0887"
             ],
             [
              0.1111111111111111,
              "#46039f"
             ],
             [
              0.2222222222222222,
              "#7201a8"
             ],
             [
              0.3333333333333333,
              "#9c179e"
             ],
             [
              0.4444444444444444,
              "#bd3786"
             ],
             [
              0.5555555555555556,
              "#d8576b"
             ],
             [
              0.6666666666666666,
              "#ed7953"
             ],
             [
              0.7777777777777778,
              "#fb9f3a"
             ],
             [
              0.8888888888888888,
              "#fdca26"
             ],
             [
              1,
              "#f0f921"
             ]
            ],
            "type": "heatmapgl"
           }
          ],
          "histogram": [
           {
            "marker": {
             "pattern": {
              "fillmode": "overlay",
              "size": 10,
              "solidity": 0.2
             }
            },
            "type": "histogram"
           }
          ],
          "histogram2d": [
           {
            "colorbar": {
             "outlinewidth": 0,
             "ticks": ""
            },
            "colorscale": [
             [
              0,
              "#0d0887"
             ],
             [
              0.1111111111111111,
              "#46039f"
             ],
             [
              0.2222222222222222,
              "#7201a8"
             ],
             [
              0.3333333333333333,
              "#9c179e"
             ],
             [
              0.4444444444444444,
              "#bd3786"
             ],
             [
              0.5555555555555556,
              "#d8576b"
             ],
             [
              0.6666666666666666,
              "#ed7953"
             ],
             [
              0.7777777777777778,
              "#fb9f3a"
             ],
             [
              0.8888888888888888,
              "#fdca26"
             ],
             [
              1,
              "#f0f921"
             ]
            ],
            "type": "histogram2d"
           }
          ],
          "histogram2dcontour": [
           {
            "colorbar": {
             "outlinewidth": 0,
             "ticks": ""
            },
            "colorscale": [
             [
              0,
              "#0d0887"
             ],
             [
              0.1111111111111111,
              "#46039f"
             ],
             [
              0.2222222222222222,
              "#7201a8"
             ],
             [
              0.3333333333333333,
              "#9c179e"
             ],
             [
              0.4444444444444444,
              "#bd3786"
             ],
             [
              0.5555555555555556,
              "#d8576b"
             ],
             [
              0.6666666666666666,
              "#ed7953"
             ],
             [
              0.7777777777777778,
              "#fb9f3a"
             ],
             [
              0.8888888888888888,
              "#fdca26"
             ],
             [
              1,
              "#f0f921"
             ]
            ],
            "type": "histogram2dcontour"
           }
          ],
          "mesh3d": [
           {
            "colorbar": {
             "outlinewidth": 0,
             "ticks": ""
            },
            "type": "mesh3d"
           }
          ],
          "parcoords": [
           {
            "line": {
             "colorbar": {
              "outlinewidth": 0,
              "ticks": ""
             }
            },
            "type": "parcoords"
           }
          ],
          "pie": [
           {
            "automargin": true,
            "type": "pie"
           }
          ],
          "scatter": [
           {
            "fillpattern": {
             "fillmode": "overlay",
             "size": 10,
             "solidity": 0.2
            },
            "type": "scatter"
           }
          ],
          "scatter3d": [
           {
            "line": {
             "colorbar": {
              "outlinewidth": 0,
              "ticks": ""
             }
            },
            "marker": {
             "colorbar": {
              "outlinewidth": 0,
              "ticks": ""
             }
            },
            "type": "scatter3d"
           }
          ],
          "scattercarpet": [
           {
            "marker": {
             "colorbar": {
              "outlinewidth": 0,
              "ticks": ""
             }
            },
            "type": "scattercarpet"
           }
          ],
          "scattergeo": [
           {
            "marker": {
             "colorbar": {
              "outlinewidth": 0,
              "ticks": ""
             }
            },
            "type": "scattergeo"
           }
          ],
          "scattergl": [
           {
            "marker": {
             "colorbar": {
              "outlinewidth": 0,
              "ticks": ""
             }
            },
            "type": "scattergl"
           }
          ],
          "scattermapbox": [
           {
            "marker": {
             "colorbar": {
              "outlinewidth": 0,
              "ticks": ""
             }
            },
            "type": "scattermapbox"
           }
          ],
          "scatterpolar": [
           {
            "marker": {
             "colorbar": {
              "outlinewidth": 0,
              "ticks": ""
             }
            },
            "type": "scatterpolar"
           }
          ],
          "scatterpolargl": [
           {
            "marker": {
             "colorbar": {
              "outlinewidth": 0,
              "ticks": ""
             }
            },
            "type": "scatterpolargl"
           }
          ],
          "scatterternary": [
           {
            "marker": {
             "colorbar": {
              "outlinewidth": 0,
              "ticks": ""
             }
            },
            "type": "scatterternary"
           }
          ],
          "surface": [
           {
            "colorbar": {
             "outlinewidth": 0,
             "ticks": ""
            },
            "colorscale": [
             [
              0,
              "#0d0887"
             ],
             [
              0.1111111111111111,
              "#46039f"
             ],
             [
              0.2222222222222222,
              "#7201a8"
             ],
             [
              0.3333333333333333,
              "#9c179e"
             ],
             [
              0.4444444444444444,
              "#bd3786"
             ],
             [
              0.5555555555555556,
              "#d8576b"
             ],
             [
              0.6666666666666666,
              "#ed7953"
             ],
             [
              0.7777777777777778,
              "#fb9f3a"
             ],
             [
              0.8888888888888888,
              "#fdca26"
             ],
             [
              1,
              "#f0f921"
             ]
            ],
            "type": "surface"
           }
          ],
          "table": [
           {
            "cells": {
             "fill": {
              "color": "#EBF0F8"
             },
             "line": {
              "color": "white"
             }
            },
            "header": {
             "fill": {
              "color": "#C8D4E3"
             },
             "line": {
              "color": "white"
             }
            },
            "type": "table"
           }
          ]
         },
         "layout": {
          "annotationdefaults": {
           "arrowcolor": "#2a3f5f",
           "arrowhead": 0,
           "arrowwidth": 1
          },
          "autotypenumbers": "strict",
          "coloraxis": {
           "colorbar": {
            "outlinewidth": 0,
            "ticks": ""
           }
          },
          "colorscale": {
           "diverging": [
            [
             0,
             "#8e0152"
            ],
            [
             0.1,
             "#c51b7d"
            ],
            [
             0.2,
             "#de77ae"
            ],
            [
             0.3,
             "#f1b6da"
            ],
            [
             0.4,
             "#fde0ef"
            ],
            [
             0.5,
             "#f7f7f7"
            ],
            [
             0.6,
             "#e6f5d0"
            ],
            [
             0.7,
             "#b8e186"
            ],
            [
             0.8,
             "#7fbc41"
            ],
            [
             0.9,
             "#4d9221"
            ],
            [
             1,
             "#276419"
            ]
           ],
           "sequential": [
            [
             0,
             "#0d0887"
            ],
            [
             0.1111111111111111,
             "#46039f"
            ],
            [
             0.2222222222222222,
             "#7201a8"
            ],
            [
             0.3333333333333333,
             "#9c179e"
            ],
            [
             0.4444444444444444,
             "#bd3786"
            ],
            [
             0.5555555555555556,
             "#d8576b"
            ],
            [
             0.6666666666666666,
             "#ed7953"
            ],
            [
             0.7777777777777778,
             "#fb9f3a"
            ],
            [
             0.8888888888888888,
             "#fdca26"
            ],
            [
             1,
             "#f0f921"
            ]
           ],
           "sequentialminus": [
            [
             0,
             "#0d0887"
            ],
            [
             0.1111111111111111,
             "#46039f"
            ],
            [
             0.2222222222222222,
             "#7201a8"
            ],
            [
             0.3333333333333333,
             "#9c179e"
            ],
            [
             0.4444444444444444,
             "#bd3786"
            ],
            [
             0.5555555555555556,
             "#d8576b"
            ],
            [
             0.6666666666666666,
             "#ed7953"
            ],
            [
             0.7777777777777778,
             "#fb9f3a"
            ],
            [
             0.8888888888888888,
             "#fdca26"
            ],
            [
             1,
             "#f0f921"
            ]
           ]
          },
          "colorway": [
           "#636efa",
           "#EF553B",
           "#00cc96",
           "#ab63fa",
           "#FFA15A",
           "#19d3f3",
           "#FF6692",
           "#B6E880",
           "#FF97FF",
           "#FECB52"
          ],
          "font": {
           "color": "#2a3f5f"
          },
          "geo": {
           "bgcolor": "white",
           "lakecolor": "white",
           "landcolor": "#E5ECF6",
           "showlakes": true,
           "showland": true,
           "subunitcolor": "white"
          },
          "hoverlabel": {
           "align": "left"
          },
          "hovermode": "closest",
          "mapbox": {
           "style": "light"
          },
          "paper_bgcolor": "white",
          "plot_bgcolor": "#E5ECF6",
          "polar": {
           "angularaxis": {
            "gridcolor": "white",
            "linecolor": "white",
            "ticks": ""
           },
           "bgcolor": "#E5ECF6",
           "radialaxis": {
            "gridcolor": "white",
            "linecolor": "white",
            "ticks": ""
           }
          },
          "scene": {
           "xaxis": {
            "backgroundcolor": "#E5ECF6",
            "gridcolor": "white",
            "gridwidth": 2,
            "linecolor": "white",
            "showbackground": true,
            "ticks": "",
            "zerolinecolor": "white"
           },
           "yaxis": {
            "backgroundcolor": "#E5ECF6",
            "gridcolor": "white",
            "gridwidth": 2,
            "linecolor": "white",
            "showbackground": true,
            "ticks": "",
            "zerolinecolor": "white"
           },
           "zaxis": {
            "backgroundcolor": "#E5ECF6",
            "gridcolor": "white",
            "gridwidth": 2,
            "linecolor": "white",
            "showbackground": true,
            "ticks": "",
            "zerolinecolor": "white"
           }
          },
          "shapedefaults": {
           "line": {
            "color": "#2a3f5f"
           }
          },
          "ternary": {
           "aaxis": {
            "gridcolor": "white",
            "linecolor": "white",
            "ticks": ""
           },
           "baxis": {
            "gridcolor": "white",
            "linecolor": "white",
            "ticks": ""
           },
           "bgcolor": "#E5ECF6",
           "caxis": {
            "gridcolor": "white",
            "linecolor": "white",
            "ticks": ""
           }
          },
          "title": {
           "x": 0.05
          },
          "xaxis": {
           "automargin": true,
           "gridcolor": "white",
           "linecolor": "white",
           "ticks": "",
           "title": {
            "standoff": 15
           },
           "zerolinecolor": "white",
           "zerolinewidth": 2
          },
          "yaxis": {
           "automargin": true,
           "gridcolor": "white",
           "linecolor": "white",
           "ticks": "",
           "title": {
            "standoff": 15
           },
           "zerolinecolor": "white",
           "zerolinewidth": 2
          }
         }
        },
        "title": {
         "text": "THIGH ANGULAR MOMENTUM"
        },
        "xaxis": {
         "showgrid": false,
         "title": {
          "text": "Time [s]"
         }
        },
        "yaxis": {
         "autorange": true,
         "gridcolor": "lightgrey",
         "gridwidth": 1,
         "rangemode": "tozero",
         "showgrid": true,
         "title": {
          "text": "Momentum [kg*m²/(s*rad)]"
         },
         "zeroline": false
        }
       }
      }
     },
     "metadata": {},
     "output_type": "display_data"
    },
    {
     "data": {
      "application/vnd.plotly.v1+json": {
       "config": {
        "plotlyServerURL": "https://plot.ly"
       },
       "data": [
        {
         "line": {
          "color": "firebrick",
          "width": 4
         },
         "mode": "lines",
         "name": "PELVIS ANGULAR MOMENTUM",
         "type": "scatter",
         "x": [
          1.8,
          1.80556,
          1.81111,
          1.81667,
          1.82222,
          1.82778,
          1.83333,
          1.83889,
          1.84444,
          1.85,
          1.85556,
          1.86111,
          1.86667,
          1.87222,
          1.87778,
          1.88333,
          1.88889,
          1.89444,
          1.9,
          1.90556,
          1.91111,
          1.91667,
          1.92222,
          1.92778,
          1.93333,
          1.93889,
          1.94444,
          1.95,
          1.95556,
          1.96111,
          1.96667,
          1.97222,
          1.97778,
          1.98333,
          1.98889,
          1.99444,
          2,
          2.00556,
          2.01111,
          2.01667,
          2.02222,
          2.02778,
          2.03333,
          2.03889,
          2.04444,
          2.05,
          2.05556,
          2.06111,
          2.06667,
          2.07222,
          2.07778,
          2.08333,
          2.08889,
          2.09444,
          2.1,
          2.10556,
          2.11111,
          2.11667,
          2.12222,
          2.12778,
          2.13333,
          2.13889,
          2.14444,
          2.15,
          2.15556,
          2.16111,
          2.16667,
          2.17222,
          2.17778,
          2.18333,
          2.18889,
          2.19444,
          2.2,
          2.20556,
          2.21111,
          2.21667,
          2.22222,
          2.22778,
          2.23333,
          2.23889,
          2.24444,
          2.25,
          2.25556,
          2.26111,
          2.26667,
          2.27222,
          2.27778,
          2.28333,
          2.28889,
          2.29444,
          2.3,
          2.30556,
          2.31111,
          2.31667,
          2.32222,
          2.32778,
          2.33333,
          2.33889,
          2.34444,
          2.35,
          2.35556,
          2.36111,
          2.36667,
          2.37222,
          2.37778,
          2.38333,
          2.38889,
          2.39444,
          2.4,
          2.40556,
          2.41111,
          2.41667,
          2.42222,
          2.42778,
          2.43333,
          2.43889,
          2.44444,
          2.45,
          2.45556,
          2.46111,
          2.46667,
          2.47222,
          2.47778,
          2.48333,
          2.48889,
          2.49444,
          2.5,
          2.50556,
          2.51111,
          2.51667,
          2.52222,
          2.52778,
          2.53333,
          2.53889,
          2.54444,
          2.55,
          2.55556,
          2.56111,
          2.56667,
          2.57222,
          2.57778,
          2.58333,
          2.58889,
          2.59444,
          2.6,
          2.60556,
          2.61111,
          2.61667,
          2.62222,
          2.62778,
          2.63333,
          2.63889,
          2.64444,
          2.65,
          2.65556,
          2.66111,
          2.66667,
          2.67222,
          2.67778,
          2.68333,
          2.68889,
          2.69444,
          2.7,
          2.70556,
          2.71111,
          2.71667,
          2.72222,
          2.72778,
          2.73333,
          2.73889,
          2.74444,
          2.75,
          2.75556,
          2.76111,
          2.76667,
          2.77222,
          2.77778,
          2.78333,
          2.78889,
          2.79444,
          2.8,
          2.80556,
          2.81111,
          2.81667,
          2.82222,
          2.82778,
          2.83333,
          2.83889,
          2.84444,
          2.85,
          2.85556,
          2.86111,
          2.86667,
          2.87222,
          2.87778,
          2.88333,
          2.88889,
          2.89444,
          2.9,
          2.90556,
          2.91111,
          2.91667,
          2.92222,
          2.92778,
          2.93333,
          2.93889,
          2.94444,
          2.95,
          2.95556,
          2.96111
         ],
         "y": [
          0.0003689332189447,
          0.0065184019282045,
          0.0118852299131456,
          0.0157539074477424,
          0.0177266920747142,
          0.017740666913871,
          0.0161094687612565,
          0.0135110080127489,
          0.0108823523287152,
          0.0090925798871504,
          0.0083440275400554,
          0.0081480573137888,
          0.0082224977230701,
          0.0087807541669172,
          0.0098847913784923,
          0.0110531258910794,
          0.0116338309703657,
          0.0112208508109572,
          0.0098321200883872,
          0.0080129213424533,
          0.0069256231392791,
          0.007603840526768,
          0.0094583517333814,
          0.0113858795983684,
          0.0128639395049406,
          0.0138036387885075,
          0.0143039796588889,
          0.0144815379495301,
          0.0143829419863537,
          0.0139953361456291,
          0.0133160353983998,
          0.0124046115510389,
          0.0113684606127143,
          0.010297604249199,
          0.0092174275978945,
          0.0081171747155914,
          0.0070373101891477,
          0.0061551339474667,
          0.0058061539981864,
          0.006313608648252,
          0.0077116625788634,
          0.0098192638973247,
          0.0124365253025339,
          0.0153309005591639,
          0.0181734228931203,
          0.0205573078483521,
          0.0221013730935309,
          0.022588864768807,
          0.0220865109851526,
          0.0209958657069661,
          0.0199706280820228,
          0.0196071961643139,
          0.0200099606471517,
          0.0207055729933096,
          0.021042064759937,
          0.0205905244801036,
          0.0192874259464592,
          0.0173949424664342,
          0.015379661975569,
          0.0137601998227282,
          0.0129394498470832,
          0.0130514117806546,
          0.0139372369190627,
          0.0152875538187473,
          0.0167879310286619,
          0.0181749196565014,
          0.0192499466006148,
          0.019893733858432,
          0.0200723703110057,
          0.0198048297534025,
          0.0190968456520659,
          0.0179082137722158,
          0.0162196323928446,
          0.0141740725302923,
          0.0121802684703362,
          0.0108136463619154,
          0.0103728416156684,
          0.0105114824176091,
          0.0106206337589002,
          0.0103750722914431,
          0.0098440183272045,
          0.0093386945125011,
          0.0091722048056709,
          0.0094503523950455,
          0.0100534821646503,
          0.0107743431233564,
          0.0114146427079482,
          0.0117993901202443,
          0.0117806696177146,
          0.0112650476778632,
          0.0102469464931799,
          0.0088181323757883,
          0.0071466100161958,
          0.0054625611647782,
          0.0041505968201377,
          0.003911351633613,
          0.0050138256784337,
          0.0067279309953231,
          0.00835240016549,
          0.0094490994670487,
          0.0097955831230679,
          0.0094211458580205,
          0.0086240667760329,
          0.0078780322339053,
          0.0075802491747529,
          0.0078456038493908,
          0.0086734953193689,
          0.0101349798370756,
          0.0121640493232781,
          0.0143667748533963,
          0.0161620713888751,
          0.0170314711063189,
          0.0166945694757159,
          0.0151867230859715,
          0.0128504321052306,
          0.010256103901313,
          0.0080637366538827,
          0.006783407825338,
          0.0064549390976287,
          0.0067364667036775,
          0.0073995626262516,
          0.0084309120448026,
          0.0098159100373365,
          0.0114080466582272,
          0.0129471319989233,
          0.0141316910648069,
          0.0146925420033987,
          0.0144549643045785,
          0.0133846323795898,
          0.0116233248597135,
          0.0095383944984437,
          0.0078040479392083,
          0.0072768755932477,
          0.0081020255833297,
          0.0094347656960524,
          0.0105259811086045,
          0.0111767615078191,
          0.0116827667868959,
          0.0125435334748894,
          0.013888996534296,
          0.0151896783435681,
          0.0156175248180024,
          0.0145348071652218,
          0.0117726540970597,
          0.0077637226146991,
          0.0039982170404015,
          0.004608537858975,
          0.0075897819605702,
          0.0095168810782086,
          0.0098592250172681,
          0.0088964965418025,
          0.0073339978226268,
          0.0060588414735746,
          0.0056333097208966,
          0.0057475289364541,
          0.0057351556382272,
          0.0052431631993518,
          0.0042450499878398,
          0.0029058599496285,
          0.0015266959510336,
          0.000839701997752,
          0.0013999525280902,
          0.0019105068804221,
          0.0021994941050528,
          0.0027127710879684,
          0.0038828254483952,
          0.0056012734723425,
          0.0074961178863111,
          0.0091823178606267,
          0.0103137791723069,
          0.0106231408609284,
          0.009972623038497,
          0.0083988804818191,
          0.0061495584297294,
          0.0038118942680393,
          0.002951060849342,
          0.0044192742000248,
          0.00621973964468,
          0.0074487209746095,
          0.007908391971131,
          0.0076761374547032,
          0.0070307143755574,
          0.0064328807286984,
          0.0064270983468285,
          0.0072888052263149,
          0.0088160122494951,
          0.0106360056125862,
          0.0124303275067592,
          0.0139235254619464,
          0.0148487641197944,
          0.0149781667108198,
          0.014211670010545,
          0.0126793285328213,
          0.0107995171287264,
          0.009201605275109,
          0.0083435748225098,
          0.0080083353866843,
          0.0075348532914747,
          0.006525243028108,
          0.0051772665307668,
          0.0043265677099042,
          0.0046876558631529,
          0.005556279919201,
          0.0059526279733303,
          0.0054634374018938,
          0.0041020469458031,
          0.0022000789547274,
          0.0011744877865713,
          0.0028546245077294,
          0.0046659324306387,
          0.0061789056906337,
          0.0074708019368617,
          0.0086521345790236,
          0.0097101846596401,
          0.0105082181286038,
          0.0109050971064677,
          0.0108996767830862,
          0.0107403811156223,
          0.0109159269043318,
          0.0118645718648897,
          0.0135630066145195,
          0.0155772906228449,
          0.0174695641013721,
          0.0190590701012515,
          0.0204466446056637,
          0.021871667201038,
          0.0235005705708154,
          0.0252970249933996,
          0.0270557151172135,
          0.0285332287250542,
          0.0295750556528737,
          0.0301978568304652,
          0.0306144251542625,
          0.0311761659321275,
          0.0322219523950257,
          0.0339083131867213,
          0.0361690661913806,
          0.0388582029479105,
          0.0419552867247377,
          0.0456685883276276,
          0.05034646538105,
          0.0562331441524445,
          0.0632394651232253,
          0.0708969596369524,
          0.078498534037621,
          0.0853120475761781,
          0.0907705502237177,
          0.0945947773386454,
          0.0968341626172155,
          0.0978320827198303,
          0.0981339271049057,
          0.0983587415967236,
          0.0990517865708292,
          0.1005372967039572,
          0.1028014546714517,
          0.1054470763804477,
          0.1077580984412748,
          0.1088822737987586,
          0.1080925230221841,
          0.1050452330003382,
          0.0999411733254903,
          0.09352299398621,
          0.0869017299685128,
          0.0812621426964987,
          0.0775308096820821,
          0.0761130155668335,
          0.076806866460025,
          0.0789205254613481,
          0.081492593134142,
          0.0835057400691115,
          0.0840693041099231,
          0.082585353440489,
          0.0788867553121692,
          0.0733063779326298,
          0.0666379028782638,
          0.0599806135551065,
          0.0545085959478617,
          0.0512473411651709,
          0.0509346927678871,
          0.0539520057011451,
          0.0602505222824936,
          0.0693053756482392,
          0.0801850340027338,
          0.0917073930889419,
          0.1026065499114082,
          0.1116881734549568,
          0.1179828449818594,
          0.1208916465224687,
          0.1202920449670261,
          0.1165647447456575,
          0.1105182142188689,
          0.1032157652628289,
          0.0957425985724107,
          0.088980963897544,
          0.0834702855370941,
          0.0793920726473462,
          0.076651759256411,
          0.0749899688289517,
          0.0740757937684735,
          0.0735777958664305,
          0.0732256036307968,
          0.0728599477215499,
          0.0724472698587777,
          0.0720324004598225,
          0.0716296871948706,
          0.0710993342399785,
          0.070086554475404,
          0.0680765214072044,
          0.0645480649729566,
          0.0591590266197858,
          0.0519050375478057,
          0.0432306270178572,
          0.0340872364694108,
          0.0258865422910024,
          0.0200806765894342,
          0.0169181159291488,
          0.0147120436261953,
          0.0117973930367541,
          0.0091502948584193,
          0.0114892652856074,
          0.0185823814935146,
          0.0265340428379986,
          0.0331630065121392,
          0.0371640487046991,
          0.0377809259075849,
          0.0348277582240469,
          0.028836589173156,
          0.0214639137907148,
          0.0166587529691538,
          0.0192032284068982,
          0.0262932865042575,
          0.0333178126452503,
          0.0385721135660769,
          0.0420361601678941,
          0.0446312650294102,
          0.0475700009980081,
          0.0515547699853771,
          0.0562860798740009,
          0.0606652736895062,
          0.0633614691758234,
          0.0632964481997846,
          0.0599514496424456,
          0.0535288600764147,
          0.0449622476613321,
          0.0357638176629647,
          0.027756896953209,
          0.0227287011827332,
          0.0217606205059923,
          0.0244968207265389,
          0.0297603475914626,
          0.0363990835425755,
          0.0432850046324171,
          0.0492984382193782,
          0.0535082171661668,
          0.0553783965986745,
          0.0549052024804857,
          0.0526426164899069,
          0.0495836564150605,
          0.0468719709246399,
          0.0453866849530667,
          0.0454177742940869,
          0.0466996674473016,
          0.0487237711241609,
          0.0509940312780023,
          0.0531134369261698,
          0.0548076888071787,
          0.0559498471150902,
          0.0565564017502564,
          0.0567240535180909,
          0.0565382034289682,
          0.0560243797922041,
          0.0551871880644214,
          0.0541187485269401,
          0.0531158996634169,
          0.0527244762168691,
          0.0536094441013027,
          0.0562104953583811,
          0.0603796725339801,
          0.0653295175452432,
          0.0699248907858972,
          0.0730643353735151,
          0.0739674758029487,
          0.0723264219757784,
          0.0683222178060469,
          0.0625198051535338,
          0.0556830835321731,
          0.0485865480256597,
          0.0419176592777047,
          0.0363379174405807,
          0.0326554852727264,
          0.0317982150280823,
          0.0342190421597795,
          0.0393725309251741,
          0.0461637723912276,
          0.0536322389636176,
          0.0611913858419638,
          0.0685722311214596,
          0.0756606770119472,
          0.0823343868687169,
          0.0883837691672917,
          0.093544686758227,
          0.0975947379933557,
          0.1004365562858961,
          0.1021198622829997,
          0.1027990925553296,
          0.1026533664006271,
          0.1018062972280298,
          0.1002810208512889,
          0.0980104299770132,
          0.0948948802168711,
          0.0908754795934401,
          0.0859889751009753,
          0.0803885490673356,
          0.0743345820086601,
          0.0681660506401838,
          0.0622576189079011,
          0.0569612372423775,
          0.0525363596596382,
          0.0490901543389052,
          0.0465593448479586,
          0.0447482762752468,
          0.043406286440699,
          0.0423150598388444,
          0.0413644321882105,
          0.0405966857557765,
          0.0401913346392173,
          0.0403724065163649,
          0.0412709658538172,
          0.0428301028182859,
          0.0448132385432651,
          0.0468867047086228,
          0.0487183751357833,
          0.0500754619067674,
          0.0509213405480993,
          0.0514811812391354,
          0.0522162532731579,
          0.0536634117422976,
          0.0561924667271849,
          0.0598483786252671,
          0.0643940995681572,
          0.069470792608082,
          0.0747266613737231,
          0.079877967600609,
          0.0847481899369974,
          0.089306985701133,
          0.0936839062708168,
          0.0981354615515303,
          0.1029836921274578,
          0.1085638918346931,
          0.1151970123415759,
          0.1231720064233234,
          0.1327203232299035,
          0.1439762898186728,
          0.1569160313316999,
          0.1712704374917838,
          0.1864433535197907,
          0.2015049500398459,
          0.2153127018774896,
          0.2267404796928333,
          0.2349338138672397,
          0.2395007800836276,
          0.2405833426226584,
          0.2388034694814826,
          0.2351204003164699,
          0.2306545680274287,
          0.2265227040707146,
          0.2237038530914,
          0.2229446052028459,
          0.22471217494073,
          0.2291896753351703,
          0.2362865281110193,
          0.24565014665561,
          0.2567051442225126,
          0.2687453097338904,
          0.2810428566828737,
          0.2928987339389978,
          0.3036125180370209,
          0.3124610796941126,
          0.3188126754395586,
          0.3223938559489926,
          0.3235560572052333,
          0.3233197705461914,
          0.3230817459395148,
          0.3240873891771546,
          0.3269408288950019,
          0.3314001450226901,
          0.3364893208752755,
          0.3407595694770839,
          0.3425317429413516,
          0.3400877710648733,
          0.3318777799601636,
          0.3167975503732544,
          0.2945147781199552,
          0.2657549386658267,
          0.2324383892458769,
          0.1975847098259418,
          0.1649177085923621,
          0.1380495769550362,
          0.1191373533479596,
          0.1076548985515822,
          0.1009998658851824,
          0.097009174946287,
          0.0957490854857686,
          0.0987733377836426,
          0.1064388202414457,
          0.1162193558742972,
          0.1238953029391724,
          0.1257241911897137,
          0.1197998113400531,
          0.1065088528926287,
          0.0884375692621193,
          0.0701158231576973,
          0.0576695536297622,
          0.0560872628172707,
          0.0636613991881989,
          0.0747632948119896,
          0.0857260739416655,
          0.0949780456397361,
          0.1019134479700583,
          0.1064694562701256,
          0.1091145334647764,
          0.1108369154202523,
          0.112912514375771,
          0.1164488346753328,
          0.1219081265345261,
          0.1288987165553097,
          0.1363656264688862,
          0.1430481755763696,
          0.1479506485225368,
          0.15061266306763,
          0.1510900931489335,
          0.1497090698598356,
          0.1467559600327721,
          0.1422659404382873,
          0.1359983085600861,
          0.127599301032703,
          0.1168985006344593,
          0.1042746023809773,
          0.0910346045972614,
          0.0796588122940057,
          0.0732797364615285,
          0.073448480047791,
          0.0780616337223058,
          0.0829438824466769,
          0.0846036841569997,
          0.081258373491928,
          0.0727970409379138,
          0.0604872845077898,
          0.0466635209535737,
          0.0345570560621438,
          0.028049128658592,
          0.0290124179095023,
          0.0346909023224262,
          0.0421272336174681,
          0.0501049951208531,
          0.0579040923754292,
          0.0647782426733335,
          0.0702056328239608,
          0.0742543368171197,
          0.0775924358717185,
          0.0809580433029311,
          0.0844523058344782,
          0.0873948349776509,
          0.0889079105003513,
          0.0886035863247782,
          0.0868276621542164,
          0.0844228171600593,
          0.0822492709025729,
          0.0807509782319039,
          0.0798230571211327,
          0.0790671955065301,
          0.078222829946534,
          0.077419591663977,
          0.0770674831162486,
          0.0775193813267293,
          0.078816941271604,
          0.080670237817501,
          0.0825597518546487,
          0.0838461154301037,
          0.0839014203670782,
          0.0822890591933319,
          0.0789573063553374,
          0.0743666834328309,
          0.069455377610047,
          0.0653857308306513,
          0.0631334245620023,
          0.0631162760398808,
          0.0650688143720212,
          0.0682089424182515,
          0.0715834030484841,
          0.074430281044402,
          0.0763941134890618,
          0.077483994278325,
          0.0778342689477769,
          0.0775042381588648,
          0.0765175077166788,
          0.0750699290388938,
          0.0736005059905735,
          0.0724931722690328,
          0.071596266567876,
          0.0701078166033748,
          0.0670616471556265,
          0.0620102851435924,
          0.0554286006898033,
          0.048703274890118,
          0.043708605251051,
          0.0418908962140076,
          0.0433182747848686,
          0.0468949019357254,
          0.0513587127989296,
          0.0556736654585597,
          0.0589049610270176,
          0.0601817111654128,
          0.0588877144896818,
          0.0549321607781686,
          0.0489331786853989,
          0.0421989787253236,
          0.036377647455363,
          0.0326230602053304,
          0.0307097589740335,
          0.0293842253465607,
          0.0277563142615364,
          0.0261179224244242,
          0.0256790724396456,
          0.0273375903336527,
          0.0306330973951477,
          0.034327738981341,
          0.0374055729253429,
          0.0393354149877238,
          0.0399212793368408,
          0.0391257879838076,
          0.0370005619654134,
          0.0337222227646697,
          0.0296563242797037,
          0.0253568588980745,
          0.02146761143148,
          0.0186033853685172,
          0.0173382264329826,
          0.018170105659201,
          0.0211484126910427,
          0.0256372550114645,
          0.0306513820638687,
          0.0352541172279598,
          0.0387794626956056,
          0.0409457520831857,
          0.0418804594258119,
          0.0420338133464595,
          0.0419516261024529,
          0.041933187823529,
          0.0417576786495847,
          0.0407288839028303,
          0.0380443722734658,
          0.0332298813991039,
          0.0264095441466112,
          0.0183653524752128,
          0.0105778164330554,
          0.0062191688336512,
          0.0080608031062,
          0.0105908390162617,
          0.0113533328872541,
          0.0109381423551291,
          0.0115574414274325,
          0.0149197905109162,
          0.0199251328353432,
          0.0247000820987307,
          0.0279699375777844,
          0.0290880231270377,
          0.0279260136145176,
          0.024755451843186,
          0.0201219911912527,
          0.014727734609757,
          0.0093243469944694,
          0.0046314380537042,
          0.0017883686762363,
          0.0031856735276976,
          0.0057773295601345,
          0.0090879239512919,
          0.0132610789121153,
          0.0179318862133554,
          0.0224854107075699,
          0.0262906400905953,
          0.0288055757724312,
          0.0296389380996969,
          0.0286250178926754,
          0.0259075062996876,
          0.0219924527736931,
          0.017731594223085,
          0.0141937878074587,
          0.0122874962480376,
          0.0121355469300804,
          0.0131356537309515,
          0.0147023170736341,
          0.0163478702553651,
          0.0174976464224951,
          0.017660820108931,
          0.0167358807757963,
          0.0151155787454107,
          0.0134781940932512,
          0.0124021274594885,
          0.0122688060242225,
          0.0135903417513822,
          0.0167680017469353,
          0.021339796317451,
          0.0261182135443788,
          0.0297956059874767,
          0.0313575560622551,
          0.0303238926651773,
          0.0268436765559648,
          0.0216237896835372,
          0.0157104485441621,
          0.0102001502673875,
          0.005978185174076,
          0.0035119602688443,
          0.0026072618126395,
          0.0028082861366595,
          0.0040542212072423,
          0.0059381503923152,
          0.0079376272624726,
          0.0097797962458053,
          0.0115232430041444,
          0.0135270119112586,
          0.0162172392669703,
          0.0197280793229385,
          0.0237562403920436,
          0.027724479789639,
          0.0310245612965366,
          0.0331819078268874,
          0.0339256774575752,
          0.0331984156033207,
          0.0311405536964762,
          0.0280600867567179,
          0.0243699592169274,
          0.0204736521985996,
          0.0166171454684771,
          0.0127934871843414,
          0.0088107527073325,
          0.0045170262083335,
          0.0008609529238466
         ]
        }
       ],
       "layout": {
        "annotations": [
         {
          "font": {
           "color": "cyan",
           "size": 16
          },
          "showarrow": false,
          "text": "KH",
          "textangle": -90,
          "x": 1.81111,
          "xref": "x",
          "y": 1,
          "yref": "paper"
         },
         {
          "font": {
           "color": "cyan",
           "size": 16
          },
          "showarrow": false,
          "text": "FC",
          "textangle": -90,
          "x": 2.61111,
          "xref": "x",
          "y": 1,
          "yref": "paper"
         },
         {
          "font": {
           "color": "cyan",
           "size": 16
          },
          "showarrow": false,
          "text": "MER",
          "textangle": -90,
          "x": 2.73333,
          "xref": "x",
          "y": 1,
          "yref": "paper"
         },
         {
          "font": {
           "color": "cyan",
           "size": 16
          },
          "showarrow": false,
          "text": "BR",
          "textangle": -90,
          "x": 2.77778,
          "xref": "x",
          "y": 1,
          "yref": "paper"
         }
        ],
        "height": 600,
        "margin": {
         "b": 40,
         "l": 40,
         "r": 40,
         "t": 40
        },
        "plot_bgcolor": "rgb(43,48,61)",
        "shapes": [
         {
          "line": {
           "color": "cyan",
           "dash": "dash",
           "width": 4
          },
          "opacity": 0.5,
          "type": "line",
          "x0": 1.8,
          "x1": 1.8,
          "xref": "x",
          "y0": 0,
          "y1": 1,
          "yref": "paper"
         },
         {
          "line": {
           "color": "cyan",
           "dash": "dash",
           "width": 4
          },
          "opacity": 0.5,
          "type": "line",
          "x0": 2.6,
          "x1": 2.6,
          "xref": "x",
          "y0": 0,
          "y1": 1,
          "yref": "paper"
         },
         {
          "line": {
           "color": "cyan",
           "dash": "dash",
           "width": 4
          },
          "opacity": 0.5,
          "type": "line",
          "x0": 2.72222,
          "x1": 2.72222,
          "xref": "x",
          "y0": 0,
          "y1": 1,
          "yref": "paper"
         },
         {
          "line": {
           "color": "cyan",
           "dash": "dash",
           "width": 4
          },
          "opacity": 0.5,
          "type": "line",
          "x0": 2.76667,
          "x1": 2.76667,
          "xref": "x",
          "y0": 0,
          "y1": 1,
          "yref": "paper"
         }
        ],
        "showlegend": false,
        "template": {
         "data": {
          "bar": [
           {
            "error_x": {
             "color": "#2a3f5f"
            },
            "error_y": {
             "color": "#2a3f5f"
            },
            "marker": {
             "line": {
              "color": "#E5ECF6",
              "width": 0.5
             },
             "pattern": {
              "fillmode": "overlay",
              "size": 10,
              "solidity": 0.2
             }
            },
            "type": "bar"
           }
          ],
          "barpolar": [
           {
            "marker": {
             "line": {
              "color": "#E5ECF6",
              "width": 0.5
             },
             "pattern": {
              "fillmode": "overlay",
              "size": 10,
              "solidity": 0.2
             }
            },
            "type": "barpolar"
           }
          ],
          "carpet": [
           {
            "aaxis": {
             "endlinecolor": "#2a3f5f",
             "gridcolor": "white",
             "linecolor": "white",
             "minorgridcolor": "white",
             "startlinecolor": "#2a3f5f"
            },
            "baxis": {
             "endlinecolor": "#2a3f5f",
             "gridcolor": "white",
             "linecolor": "white",
             "minorgridcolor": "white",
             "startlinecolor": "#2a3f5f"
            },
            "type": "carpet"
           }
          ],
          "choropleth": [
           {
            "colorbar": {
             "outlinewidth": 0,
             "ticks": ""
            },
            "type": "choropleth"
           }
          ],
          "contour": [
           {
            "colorbar": {
             "outlinewidth": 0,
             "ticks": ""
            },
            "colorscale": [
             [
              0,
              "#0d0887"
             ],
             [
              0.1111111111111111,
              "#46039f"
             ],
             [
              0.2222222222222222,
              "#7201a8"
             ],
             [
              0.3333333333333333,
              "#9c179e"
             ],
             [
              0.4444444444444444,
              "#bd3786"
             ],
             [
              0.5555555555555556,
              "#d8576b"
             ],
             [
              0.6666666666666666,
              "#ed7953"
             ],
             [
              0.7777777777777778,
              "#fb9f3a"
             ],
             [
              0.8888888888888888,
              "#fdca26"
             ],
             [
              1,
              "#f0f921"
             ]
            ],
            "type": "contour"
           }
          ],
          "contourcarpet": [
           {
            "colorbar": {
             "outlinewidth": 0,
             "ticks": ""
            },
            "type": "contourcarpet"
           }
          ],
          "heatmap": [
           {
            "colorbar": {
             "outlinewidth": 0,
             "ticks": ""
            },
            "colorscale": [
             [
              0,
              "#0d0887"
             ],
             [
              0.1111111111111111,
              "#46039f"
             ],
             [
              0.2222222222222222,
              "#7201a8"
             ],
             [
              0.3333333333333333,
              "#9c179e"
             ],
             [
              0.4444444444444444,
              "#bd3786"
             ],
             [
              0.5555555555555556,
              "#d8576b"
             ],
             [
              0.6666666666666666,
              "#ed7953"
             ],
             [
              0.7777777777777778,
              "#fb9f3a"
             ],
             [
              0.8888888888888888,
              "#fdca26"
             ],
             [
              1,
              "#f0f921"
             ]
            ],
            "type": "heatmap"
           }
          ],
          "heatmapgl": [
           {
            "colorbar": {
             "outlinewidth": 0,
             "ticks": ""
            },
            "colorscale": [
             [
              0,
              "#0d0887"
             ],
             [
              0.1111111111111111,
              "#46039f"
             ],
             [
              0.2222222222222222,
              "#7201a8"
             ],
             [
              0.3333333333333333,
              "#9c179e"
             ],
             [
              0.4444444444444444,
              "#bd3786"
             ],
             [
              0.5555555555555556,
              "#d8576b"
             ],
             [
              0.6666666666666666,
              "#ed7953"
             ],
             [
              0.7777777777777778,
              "#fb9f3a"
             ],
             [
              0.8888888888888888,
              "#fdca26"
             ],
             [
              1,
              "#f0f921"
             ]
            ],
            "type": "heatmapgl"
           }
          ],
          "histogram": [
           {
            "marker": {
             "pattern": {
              "fillmode": "overlay",
              "size": 10,
              "solidity": 0.2
             }
            },
            "type": "histogram"
           }
          ],
          "histogram2d": [
           {
            "colorbar": {
             "outlinewidth": 0,
             "ticks": ""
            },
            "colorscale": [
             [
              0,
              "#0d0887"
             ],
             [
              0.1111111111111111,
              "#46039f"
             ],
             [
              0.2222222222222222,
              "#7201a8"
             ],
             [
              0.3333333333333333,
              "#9c179e"
             ],
             [
              0.4444444444444444,
              "#bd3786"
             ],
             [
              0.5555555555555556,
              "#d8576b"
             ],
             [
              0.6666666666666666,
              "#ed7953"
             ],
             [
              0.7777777777777778,
              "#fb9f3a"
             ],
             [
              0.8888888888888888,
              "#fdca26"
             ],
             [
              1,
              "#f0f921"
             ]
            ],
            "type": "histogram2d"
           }
          ],
          "histogram2dcontour": [
           {
            "colorbar": {
             "outlinewidth": 0,
             "ticks": ""
            },
            "colorscale": [
             [
              0,
              "#0d0887"
             ],
             [
              0.1111111111111111,
              "#46039f"
             ],
             [
              0.2222222222222222,
              "#7201a8"
             ],
             [
              0.3333333333333333,
              "#9c179e"
             ],
             [
              0.4444444444444444,
              "#bd3786"
             ],
             [
              0.5555555555555556,
              "#d8576b"
             ],
             [
              0.6666666666666666,
              "#ed7953"
             ],
             [
              0.7777777777777778,
              "#fb9f3a"
             ],
             [
              0.8888888888888888,
              "#fdca26"
             ],
             [
              1,
              "#f0f921"
             ]
            ],
            "type": "histogram2dcontour"
           }
          ],
          "mesh3d": [
           {
            "colorbar": {
             "outlinewidth": 0,
             "ticks": ""
            },
            "type": "mesh3d"
           }
          ],
          "parcoords": [
           {
            "line": {
             "colorbar": {
              "outlinewidth": 0,
              "ticks": ""
             }
            },
            "type": "parcoords"
           }
          ],
          "pie": [
           {
            "automargin": true,
            "type": "pie"
           }
          ],
          "scatter": [
           {
            "fillpattern": {
             "fillmode": "overlay",
             "size": 10,
             "solidity": 0.2
            },
            "type": "scatter"
           }
          ],
          "scatter3d": [
           {
            "line": {
             "colorbar": {
              "outlinewidth": 0,
              "ticks": ""
             }
            },
            "marker": {
             "colorbar": {
              "outlinewidth": 0,
              "ticks": ""
             }
            },
            "type": "scatter3d"
           }
          ],
          "scattercarpet": [
           {
            "marker": {
             "colorbar": {
              "outlinewidth": 0,
              "ticks": ""
             }
            },
            "type": "scattercarpet"
           }
          ],
          "scattergeo": [
           {
            "marker": {
             "colorbar": {
              "outlinewidth": 0,
              "ticks": ""
             }
            },
            "type": "scattergeo"
           }
          ],
          "scattergl": [
           {
            "marker": {
             "colorbar": {
              "outlinewidth": 0,
              "ticks": ""
             }
            },
            "type": "scattergl"
           }
          ],
          "scattermapbox": [
           {
            "marker": {
             "colorbar": {
              "outlinewidth": 0,
              "ticks": ""
             }
            },
            "type": "scattermapbox"
           }
          ],
          "scatterpolar": [
           {
            "marker": {
             "colorbar": {
              "outlinewidth": 0,
              "ticks": ""
             }
            },
            "type": "scatterpolar"
           }
          ],
          "scatterpolargl": [
           {
            "marker": {
             "colorbar": {
              "outlinewidth": 0,
              "ticks": ""
             }
            },
            "type": "scatterpolargl"
           }
          ],
          "scatterternary": [
           {
            "marker": {
             "colorbar": {
              "outlinewidth": 0,
              "ticks": ""
             }
            },
            "type": "scatterternary"
           }
          ],
          "surface": [
           {
            "colorbar": {
             "outlinewidth": 0,
             "ticks": ""
            },
            "colorscale": [
             [
              0,
              "#0d0887"
             ],
             [
              0.1111111111111111,
              "#46039f"
             ],
             [
              0.2222222222222222,
              "#7201a8"
             ],
             [
              0.3333333333333333,
              "#9c179e"
             ],
             [
              0.4444444444444444,
              "#bd3786"
             ],
             [
              0.5555555555555556,
              "#d8576b"
             ],
             [
              0.6666666666666666,
              "#ed7953"
             ],
             [
              0.7777777777777778,
              "#fb9f3a"
             ],
             [
              0.8888888888888888,
              "#fdca26"
             ],
             [
              1,
              "#f0f921"
             ]
            ],
            "type": "surface"
           }
          ],
          "table": [
           {
            "cells": {
             "fill": {
              "color": "#EBF0F8"
             },
             "line": {
              "color": "white"
             }
            },
            "header": {
             "fill": {
              "color": "#C8D4E3"
             },
             "line": {
              "color": "white"
             }
            },
            "type": "table"
           }
          ]
         },
         "layout": {
          "annotationdefaults": {
           "arrowcolor": "#2a3f5f",
           "arrowhead": 0,
           "arrowwidth": 1
          },
          "autotypenumbers": "strict",
          "coloraxis": {
           "colorbar": {
            "outlinewidth": 0,
            "ticks": ""
           }
          },
          "colorscale": {
           "diverging": [
            [
             0,
             "#8e0152"
            ],
            [
             0.1,
             "#c51b7d"
            ],
            [
             0.2,
             "#de77ae"
            ],
            [
             0.3,
             "#f1b6da"
            ],
            [
             0.4,
             "#fde0ef"
            ],
            [
             0.5,
             "#f7f7f7"
            ],
            [
             0.6,
             "#e6f5d0"
            ],
            [
             0.7,
             "#b8e186"
            ],
            [
             0.8,
             "#7fbc41"
            ],
            [
             0.9,
             "#4d9221"
            ],
            [
             1,
             "#276419"
            ]
           ],
           "sequential": [
            [
             0,
             "#0d0887"
            ],
            [
             0.1111111111111111,
             "#46039f"
            ],
            [
             0.2222222222222222,
             "#7201a8"
            ],
            [
             0.3333333333333333,
             "#9c179e"
            ],
            [
             0.4444444444444444,
             "#bd3786"
            ],
            [
             0.5555555555555556,
             "#d8576b"
            ],
            [
             0.6666666666666666,
             "#ed7953"
            ],
            [
             0.7777777777777778,
             "#fb9f3a"
            ],
            [
             0.8888888888888888,
             "#fdca26"
            ],
            [
             1,
             "#f0f921"
            ]
           ],
           "sequentialminus": [
            [
             0,
             "#0d0887"
            ],
            [
             0.1111111111111111,
             "#46039f"
            ],
            [
             0.2222222222222222,
             "#7201a8"
            ],
            [
             0.3333333333333333,
             "#9c179e"
            ],
            [
             0.4444444444444444,
             "#bd3786"
            ],
            [
             0.5555555555555556,
             "#d8576b"
            ],
            [
             0.6666666666666666,
             "#ed7953"
            ],
            [
             0.7777777777777778,
             "#fb9f3a"
            ],
            [
             0.8888888888888888,
             "#fdca26"
            ],
            [
             1,
             "#f0f921"
            ]
           ]
          },
          "colorway": [
           "#636efa",
           "#EF553B",
           "#00cc96",
           "#ab63fa",
           "#FFA15A",
           "#19d3f3",
           "#FF6692",
           "#B6E880",
           "#FF97FF",
           "#FECB52"
          ],
          "font": {
           "color": "#2a3f5f"
          },
          "geo": {
           "bgcolor": "white",
           "lakecolor": "white",
           "landcolor": "#E5ECF6",
           "showlakes": true,
           "showland": true,
           "subunitcolor": "white"
          },
          "hoverlabel": {
           "align": "left"
          },
          "hovermode": "closest",
          "mapbox": {
           "style": "light"
          },
          "paper_bgcolor": "white",
          "plot_bgcolor": "#E5ECF6",
          "polar": {
           "angularaxis": {
            "gridcolor": "white",
            "linecolor": "white",
            "ticks": ""
           },
           "bgcolor": "#E5ECF6",
           "radialaxis": {
            "gridcolor": "white",
            "linecolor": "white",
            "ticks": ""
           }
          },
          "scene": {
           "xaxis": {
            "backgroundcolor": "#E5ECF6",
            "gridcolor": "white",
            "gridwidth": 2,
            "linecolor": "white",
            "showbackground": true,
            "ticks": "",
            "zerolinecolor": "white"
           },
           "yaxis": {
            "backgroundcolor": "#E5ECF6",
            "gridcolor": "white",
            "gridwidth": 2,
            "linecolor": "white",
            "showbackground": true,
            "ticks": "",
            "zerolinecolor": "white"
           },
           "zaxis": {
            "backgroundcolor": "#E5ECF6",
            "gridcolor": "white",
            "gridwidth": 2,
            "linecolor": "white",
            "showbackground": true,
            "ticks": "",
            "zerolinecolor": "white"
           }
          },
          "shapedefaults": {
           "line": {
            "color": "#2a3f5f"
           }
          },
          "ternary": {
           "aaxis": {
            "gridcolor": "white",
            "linecolor": "white",
            "ticks": ""
           },
           "baxis": {
            "gridcolor": "white",
            "linecolor": "white",
            "ticks": ""
           },
           "bgcolor": "#E5ECF6",
           "caxis": {
            "gridcolor": "white",
            "linecolor": "white",
            "ticks": ""
           }
          },
          "title": {
           "x": 0.05
          },
          "xaxis": {
           "automargin": true,
           "gridcolor": "white",
           "linecolor": "white",
           "ticks": "",
           "title": {
            "standoff": 15
           },
           "zerolinecolor": "white",
           "zerolinewidth": 2
          },
          "yaxis": {
           "automargin": true,
           "gridcolor": "white",
           "linecolor": "white",
           "ticks": "",
           "title": {
            "standoff": 15
           },
           "zerolinecolor": "white",
           "zerolinewidth": 2
          }
         }
        },
        "title": {
         "text": "PELVIS ANGULAR MOMENTUM"
        },
        "xaxis": {
         "showgrid": false,
         "title": {
          "text": "Time [s]"
         }
        },
        "yaxis": {
         "autorange": true,
         "gridcolor": "lightgrey",
         "gridwidth": 1,
         "rangemode": "tozero",
         "showgrid": true,
         "title": {
          "text": "Momentum [kg*m²/(s*rad)]"
         },
         "zeroline": false
        }
       }
      }
     },
     "metadata": {},
     "output_type": "display_data"
    },
    {
     "data": {
      "application/vnd.plotly.v1+json": {
       "config": {
        "plotlyServerURL": "https://plot.ly"
       },
       "data": [
        {
         "line": {
          "color": "firebrick",
          "width": 4
         },
         "mode": "lines",
         "name": "TORSO ANGULAR MOMENTUM",
         "type": "scatter",
         "x": [
          1.8,
          1.80556,
          1.81111,
          1.81667,
          1.82222,
          1.82778,
          1.83333,
          1.83889,
          1.84444,
          1.85,
          1.85556,
          1.86111,
          1.86667,
          1.87222,
          1.87778,
          1.88333,
          1.88889,
          1.89444,
          1.9,
          1.90556,
          1.91111,
          1.91667,
          1.92222,
          1.92778,
          1.93333,
          1.93889,
          1.94444,
          1.95,
          1.95556,
          1.96111,
          1.96667,
          1.97222,
          1.97778,
          1.98333,
          1.98889,
          1.99444,
          2,
          2.00556,
          2.01111,
          2.01667,
          2.02222,
          2.02778,
          2.03333,
          2.03889,
          2.04444,
          2.05,
          2.05556,
          2.06111,
          2.06667,
          2.07222,
          2.07778,
          2.08333,
          2.08889,
          2.09444,
          2.1,
          2.10556,
          2.11111,
          2.11667,
          2.12222,
          2.12778,
          2.13333,
          2.13889,
          2.14444,
          2.15,
          2.15556,
          2.16111,
          2.16667,
          2.17222,
          2.17778,
          2.18333,
          2.18889,
          2.19444,
          2.2,
          2.20556,
          2.21111,
          2.21667,
          2.22222,
          2.22778,
          2.23333,
          2.23889,
          2.24444,
          2.25,
          2.25556,
          2.26111,
          2.26667,
          2.27222,
          2.27778,
          2.28333,
          2.28889,
          2.29444,
          2.3,
          2.30556,
          2.31111,
          2.31667,
          2.32222,
          2.32778,
          2.33333,
          2.33889,
          2.34444,
          2.35,
          2.35556,
          2.36111,
          2.36667,
          2.37222,
          2.37778,
          2.38333,
          2.38889,
          2.39444,
          2.4,
          2.40556,
          2.41111,
          2.41667,
          2.42222,
          2.42778,
          2.43333,
          2.43889,
          2.44444,
          2.45,
          2.45556,
          2.46111,
          2.46667,
          2.47222,
          2.47778,
          2.48333,
          2.48889,
          2.49444,
          2.5,
          2.50556,
          2.51111,
          2.51667,
          2.52222,
          2.52778,
          2.53333,
          2.53889,
          2.54444,
          2.55,
          2.55556,
          2.56111,
          2.56667,
          2.57222,
          2.57778,
          2.58333,
          2.58889,
          2.59444,
          2.6,
          2.60556,
          2.61111,
          2.61667,
          2.62222,
          2.62778,
          2.63333,
          2.63889,
          2.64444,
          2.65,
          2.65556,
          2.66111,
          2.66667,
          2.67222,
          2.67778,
          2.68333,
          2.68889,
          2.69444,
          2.7,
          2.70556,
          2.71111,
          2.71667,
          2.72222,
          2.72778,
          2.73333,
          2.73889,
          2.74444,
          2.75,
          2.75556,
          2.76111,
          2.76667,
          2.77222,
          2.77778,
          2.78333,
          2.78889,
          2.79444,
          2.8,
          2.80556,
          2.81111,
          2.81667,
          2.82222,
          2.82778,
          2.83333,
          2.83889,
          2.84444,
          2.85,
          2.85556,
          2.86111,
          2.86667,
          2.87222,
          2.87778,
          2.88333,
          2.88889,
          2.89444,
          2.9,
          2.90556,
          2.91111,
          2.91667,
          2.92222,
          2.92778,
          2.93333,
          2.93889,
          2.94444,
          2.95,
          2.95556,
          2.96111
         ],
         "y": [
          0.0047656907625784,
          0.140105409190725,
          0.2649977930464032,
          0.3693348183555387,
          0.447034524794188,
          0.4955599479794033,
          0.5154589363671053,
          0.5096201410425799,
          0.4827084826559717,
          0.4408391223760409,
          0.3912022231569029,
          0.3413389056758695,
          0.298016391888219,
          0.2659846840214251,
          0.2472444931291667,
          0.2414311302188434,
          0.2469482349056425,
          0.2616699861372681,
          0.2829334246175491,
          0.3076033028228879,
          0.3325568739609026,
          0.3551669369429878,
          0.3733758811380059,
          0.3854488040039294,
          0.3898966089335621,
          0.3860230558875737,
          0.3750048255847903,
          0.360732638266217,
          0.3493875400208702,
          0.3473025117899463,
          0.3581525677772791,
          0.3815110393533244,
          0.4132422180044957,
          0.4465497868393051,
          0.4735254656161996,
          0.4876126492731411,
          0.4862319753640906,
          0.4721987702960059,
          0.4531538524303785,
          0.4391455901022441,
          0.4392782989076423,
          0.4588861491229849,
          0.4983562405535035,
          0.5533929184836949,
          0.6160113820557356,
          0.6761928898305196,
          0.7241574991968536,
          0.7526438958883935,
          0.7584385315768964,
          0.7427758802470308,
          0.7107101599088522,
          0.6697967306862374,
          0.6284100655827208,
          0.593978163425574,
          0.5714478373194078,
          0.5623653695769583,
          0.5649689132637252,
          0.5754029655870005,
          0.5895224513941192,
          0.604352859522879,
          0.6185654173471672,
          0.6319807326077219,
          0.6446282652023558,
          0.6560317476854548,
          0.6651653544327543,
          0.6710728421405596,
          0.6736559738770019,
          0.673879188214712,
          0.6729254590843659,
          0.6707263431222662,
          0.6650720998024652,
          0.6521926076277089,
          0.6285209357033656,
          0.5926232393278882,
          0.5464160629627702,
          0.4951701609625433,
          0.4461535182751813,
          0.4063469750491089,
          0.3803899365616762,
          0.3698353346092254,
          0.3733589432931304,
          0.3868837052386964,
          0.4040444058092241,
          0.4178868570733951,
          0.4231261894419862,
          0.4175703272302565,
          0.4020724097779026,
          0.3793363624218177,
          0.3524302435898554,
          0.3238191966500809,
          0.2952201851719723,
          0.2681073219281301,
          0.2446403663435616,
          0.2286578438901793,
          0.2254426775058847,
          0.2386819710268853,
          0.2668736497260425,
          0.3038113885160862,
          0.341634835736348,
          0.3728596018829272,
          0.3915062277485815,
          0.3942623510380721,
          0.381568811576691,
          0.3579506874635825,
          0.3309470252231477,
          0.3085544996308825,
          0.2964664465290284,
          0.2974666304127941,
          0.3129680697741807,
          0.3431903807016009,
          0.3851403096903517,
          0.4319239141051743,
          0.4747052263302167,
          0.5052891184571252,
          0.5178786005645747,
          0.5099332219944501,
          0.4823893826495146,
          0.4393716540017379,
          0.3873937101795956,
          0.334042609375517,
          0.2864185482169298,
          0.250160366583373,
          0.2297137186196236,
          0.2280965501294243,
          0.2436025244561873,
          0.2675306735329543,
          0.28766354819807,
          0.2934186434901724,
          0.2789227591012448,
          0.2440829938332741,
          0.1942908175764239,
          0.1391712563303548,
          0.0909004789730888,
          0.0623655992226564,
          0.0599540177370248,
          0.0773603277451819,
          0.1108191663967199,
          0.1564862858380133,
          0.2051086610643343,
          0.2451565053285479,
          0.2661955235139118,
          0.2613865384945867,
          0.229324209326094,
          0.1748587453124771,
          0.10860085708276,
          0.0465526442437551,
          0.028601107771961,
          0.0484195668668479,
          0.0474431776362468,
          0.0239149602258814,
          0.0262384168129989,
          0.0705978198780629,
          0.1086716426959774,
          0.1288137933427334,
          0.1256532028293869,
          0.0995841288432664,
          0.0564622410927609,
          0.0183698800773117,
          0.0578033970933257,
          0.1016957979144461,
          0.1312378212526343,
          0.1428627214772879,
          0.1374959680464755,
          0.1202873546006579,
          0.1011066318270604,
          0.0936213418358214,
          0.1040557418595715,
          0.1226568058120763,
          0.1373335802960158,
          0.1414108928174303,
          0.1327599899385747,
          0.1124925531068732,
          0.0842881502400285,
          0.0548275341441422,
          0.0391067289845158,
          0.0533212229280143,
          0.0814524200287126,
          0.1126868560706513,
          0.1449016201891144,
          0.1763393115245362,
          0.2038358153488915,
          0.223652936966281,
          0.2331983662575865,
          0.2323844880198192,
          0.2237506081671937,
          0.2111274360352263,
          0.1976578161914415,
          0.1847620516850515,
          0.1728258424219693,
          0.1623774271956267,
          0.1539914523215316,
          0.1469703430728061,
          0.1387747836263032,
          0.1265290669742576,
          0.1095557504607201,
          0.0911420747406667,
          0.077817426209279,
          0.073961831004348,
          0.0782655856600392,
          0.0933241362112931,
          0.1290548004528965,
          0.1881171371745054,
          0.2619842136808453,
          0.3376037338320221,
          0.4014355041550294,
          0.4419496197110502,
          0.4518372141532345,
          0.4296685691915525,
          0.3804896426070504,
          0.3150088228592917,
          0.2474030892109074,
          0.1922496294780977,
          0.1613862522799745,
          0.1614449051416041,
          0.1927610625101316,
          0.249778685367158,
          0.3222829550805042,
          0.3975182692717651,
          0.4630378495404392,
          0.5095203574087639,
          0.5327642493978483,
          0.5343466238573434,
          0.5208107631644657,
          0.5015583197962153,
          0.4858969508765284,
          0.4801296962608657,
          0.4859862533285933,
          0.5011352909435196,
          0.5209839556381048,
          0.5403949084084398,
          0.5548016224681334,
          0.5609252126757256,
          0.5573091247679294,
          0.5446663647144799,
          0.5259430304205429,
          0.5061088969021073,
          0.4918163341620342,
          0.4909103981469166,
          0.5113030942910903,
          0.5587645996900164,
          0.6344845584890684,
          0.7340387505759554,
          0.8480107041922161,
          0.9634397576576376,
          1.0657488281057603,
          1.1411453885590026,
          1.1791691093963783,
          1.174759921143811,
          1.129319417620258,
          1.050564503875214,
          0.9512138245228832,
          0.8466643660592522,
          0.7520260858971983,
          0.6793200053650109,
          0.635965232834758,
          0.6249862001877334,
          0.6457502289460556,
          0.6940071073563165,
          0.762013258433401,
          0.8398146285641973,
          0.9171455585344273,
          0.9849536532270964,
          1.0362549787706818,
          1.0665197761031715,
          1.0738434975859374,
          1.058995859639814,
          1.0252697167801776,
          0.9780307625902038,
          0.9240012787963072,
          0.8704140373261465,
          0.8240937746412216,
          0.7903887640276943,
          0.7720403470598807,
          0.7686077492418313,
          0.7772205851971149,
          0.7945462343812236,
          0.8187448458585431,
          0.8500758650427296,
          0.8897245160513692,
          0.9376698887448892,
          0.991203341928946,
          1.045194955241766,
          1.093758075668834,
          1.1320748722792475,
          1.1574321630286646,
          1.169293599109785,
          1.1687855565438698,
          1.158091313945896,
          1.1400408615003574,
          1.1178868598087734,
          1.095086694724791,
          1.0749489220529682,
          1.060180624087157,
          1.052531194138126,
          1.0527170582711003,
          1.0606079641800847,
          1.0754237220380156,
          1.0956695095510864,
          1.1188024586868526,
          1.1409550337051573,
          1.157118307478481,
          1.1619303616973504,
          1.150854607852757,
          1.1213355632782211,
          1.0735636113327058,
          1.010674556975402,
          0.9383974844179576,
          0.8642285394780518,
          0.7961646412809076,
          0.7410533047047906,
          0.7029129496932952,
          0.6820111104929106,
          0.6753092866706303,
          0.6778382588772559,
          0.6840006940438855,
          0.6885686677103843,
          0.68790548123378,
          0.6814841194869288,
          0.6727975842444236,
          0.6684962363675818,
          0.6754058120986696,
          0.6966617951496641,
          0.7294271478259862,
          0.7657138956086741,
          0.7953945964314112,
          0.809619374331053,
          0.8036782032751186,
          0.7789121442120324,
          0.7431652875000601,
          0.7091812146619252,
          0.6908145898852079,
          0.6982048563655768,
          0.7345081503849749,
          0.7959300629585394,
          0.8737862095360824,
          0.9567353201031424,
          1.0329484375281224,
          1.092267774991947,
          1.127829541261726,
          1.13664813526121,
          1.1191892037066125,
          1.0784374341370475,
          1.0190704615609487,
          0.9470327135929526,
          0.8692967229402452,
          0.793312711011813,
          0.7258835671465882,
          0.671872678526769,
          0.6336106132887181,
          0.6113600978608364,
          0.6041260464410882,
          0.609978596268771,
          0.6260995786848037,
          0.6492701553029819,
          0.6767414473180371,
          0.7066558093970225,
          0.7374916586644563,
          0.7669514834836682,
          0.791261040658673,
          0.8055383698497175,
          0.805188915657859,
          0.7878585518063252,
          0.7554009040796096,
          0.715157450750637,
          0.6792054046694743,
          0.6596919268166437,
          0.6610332752781946,
          0.6760702973440529,
          0.6916283829605568,
          0.697676068308716,
          0.6921180120856695,
          0.6797252754357643,
          0.6677951023099696,
          0.6625244268532373,
          0.6692377007291178,
          0.6953195317326153,
          0.7504657573629587,
          0.8410448923121487,
          0.9634741511106932,
          1.1035501111346249,
          1.2409614407676683,
          1.354537706861377,
          1.4265177880122542,
          1.4459315187225752,
          1.4110345160227995,
          1.3303570748569833,
          1.2218541439228474,
          1.1095248684885393,
          1.0165880003086825,
          0.9557624404368428,
          0.9228075281063332,
          0.9015439768729376,
          0.8778821867088581,
          0.8529443376380853,
          0.8493106088906174,
          0.9024541132378407,
          1.0320144670488256,
          1.222094450138221,
          1.4352345112550635,
          1.6333188919446786,
          1.7874586891226374,
          1.8811245990767036,
          1.910532439577406,
          1.8830660477381005,
          1.8138899407751476,
          1.721265465970722,
          1.6216667909986415,
          1.526234519153643,
          1.4397308290252664,
          1.3617806743908665,
          1.2890106801363932,
          1.2169214869940157,
          1.141287674542154,
          1.0592693360983747,
          0.9701951294195604,
          0.8758128924844986,
          0.7798986971507125,
          0.6872862964601313,
          0.6025853248523043,
          0.5290995236835205,
          0.4684434304822494,
          0.4208297313692563,
          0.3855101989607243,
          0.3611872337456114,
          0.3466692963403798,
          0.3413729636471434,
          0.3446394137777634,
          0.3542016885298217,
          0.3658253095078352,
          0.3750401599035183,
          0.3795929524674744,
          0.3808451564863009,
          0.3830101859625631,
          0.3899130499579026,
          0.401185489868139,
          0.412054559915688,
          0.4183267735473351,
          0.4231466758314108,
          0.4394999192517814,
          0.4818103429541135,
          0.5509589601673897,
          0.6325918006979986,
          0.7104964179276939,
          0.7792386995364879,
          0.8494062384215639,
          0.9431540773834262,
          1.0795231402770793,
          1.2606220311350622,
          1.4723077206336233,
          1.6949699107021343,
          1.9126734146731097,
          2.1168960761364746,
          2.3061712092804534,
          2.4834590783804487,
          2.6528619153411905,
          2.817129628177363,
          2.9768374264942716,
          3.1311213335612584,
          3.279071326008156,
          3.4208545669201,
          3.558166866706335,
          3.6941067086177655,
          3.832773973788629,
          3.978931187358768,
          4.1380387292571905,
          4.316807279068086,
          4.523986031050364,
          4.7705423465156365,
          5.068177973274856,
          5.425863301617449,
          5.845638308758303,
          6.319998384488396,
          6.832437555521777,
          7.360728051226568,
          7.881161210273613,
          8.372115310012825,
          8.816220892059476,
          9.201122976206255,
          9.519148736280952,
          9.766304760706278,
          9.94111843652924,
          10.043832516822556,
          10.076254431921765,
          10.042212155822142,
          9.948216195023354,
          9.80367315855266,
          9.619994050404127,
          9.408385142768829,
          9.176924793904965,
          8.92821539542282,
          8.658893381216426,
          8.361478046805614,
          8.0279278781358,
          7.6535405744874145,
          7.23983332909928,
          6.795590574408348,
          6.335895987953234,
          5.8793926944846335,
          5.444516522724885,
          5.046435347953123,
          4.697178268386858,
          4.409982145451146,
          4.2046909245941535,
          4.107411832603458,
          4.139975823444611,
          4.304801738719107,
          4.578324750200156,
          4.917863148647565,
          5.2734136638142575,
          5.596069503552659,
          5.842519261088744,
          5.978400076685693,
          5.982026026381184,
          5.848023225899678,
          5.589422139919411,
          5.236913619541872,
          4.834833235507241,
          4.43440508797821,
          4.085440760279902,
          3.828148138018839,
          3.687185686092852,
          3.669790292802672,
          3.7675900572976175,
          3.959640086864991,
          4.215441012434709,
          4.498840104937599,
          4.7730601364549194,
          5.005387353723621,
          5.170092441664314,
          5.249475265811092,
          5.233839258005604,
          5.1211459994940345,
          4.916537092568943,
          4.631501425480047,
          4.282514061425816,
          3.889270002813933,
          3.4727658173079288,
          3.053334254051739,
          2.6486229005245994,
          2.271692282072968,
          1.929698910296724,
          1.6236319523201046,
          1.3492705785394905,
          1.0993047196740318,
          0.8666971478616962,
          0.6501689009386431,
          0.466057367727642,
          0.3742989648321512,
          0.443477053351611,
          0.6175327509966223,
          0.8191296457446187,
          1.0115312301797266,
          1.174900446189165,
          1.2961182074872857,
          1.367286756011214,
          1.3863312452012229,
          1.3571832117499738,
          1.2886235955785814,
          1.191953688090699,
          1.0784301316637628,
          0.9577075728693404,
          0.8383102658063041,
          0.7302630169106172,
          0.6479453932294561,
          0.6075785189312545,
          0.6147309882861491,
          0.6548072938038791,
          0.7029765268737069,
          0.7395598308375935,
          0.7560597362879836,
          0.7540465575320147,
          0.7409498674893535,
          0.7247996207827843,
          0.7102496135629779,
          0.6981536553064156,
          0.6883536683921937,
          0.682466562974897,
          0.6838214667960753,
          0.6946803492530843,
          0.7134661337331796,
          0.7344928741107479,
          0.7500268005611924,
          0.7529066099921161,
          0.7387082394537897,
          0.7074001500448737,
          0.6643508772006842,
          0.6200863410575767,
          0.5882894705018321,
          0.5824617171095573,
          0.6125322200489558,
          0.682068697606858,
          0.7861490269568814,
          0.9113815460936342,
          1.0392649979001456,
          1.1515486074560006,
          1.2352838984318188,
          1.2858811318075911,
          1.30742144040868,
          1.310396475591783,
          1.3077585322650302,
          1.3104998798856644,
          1.3240591570602158,
          1.3467984165440523,
          1.3712432652925624,
          1.387513842933276,
          1.3872578947108123,
          1.366386406721105,
          1.3257996787122996,
          1.2702703512569065,
          1.206285232733695,
          1.1399320960381532,
          1.0758162378232676,
          1.017356551383581,
          0.967841843948698,
          0.9310223505154372,
          0.9103767480441546,
          0.9074509412313304,
          0.9207850640657184,
          0.94653887344756,
          0.9802493334590572,
          1.018266083791788,
          1.0580721162275604,
          1.0977149722068225,
          1.1350324629094544,
          1.167274355559859,
          1.1913565888831068,
          1.2045580066116808,
          1.2052143584414934,
          1.1930336748132575,
          1.168967666788341,
          1.134850308147863,
          1.0930387634096237,
          1.0460961609760948,
          0.9963812050605668,
          0.9454945893766457,
          0.8938736344640821,
          0.8410652638764627,
          0.7869033124712523,
          0.7330250143764154,
          0.6835287331325609,
          0.6437258198386832,
          0.6171474800369641,
          0.6029006705887491,
          0.5960416540373502,
          0.5909754510823265,
          0.5850214560075577,
          0.5796700478182957,
          0.5790522645632397,
          0.5867499635777341,
          0.6030843099222399,
          0.6246146458454658,
          0.6455983003844306,
          0.6598700813817642,
          0.6621606379363054,
          0.6488336309932315,
          0.6183764449982717,
          0.5719567070517054,
          0.5142093614998642,
          0.454031807750293,
          0.4041573480599511,
          0.3767055932463143,
          0.3743343259293509,
          0.3869183961162509,
          0.3999996628137525,
          0.4035688778789037,
          0.3941408120722889,
          0.3730667435541919,
          0.3440360884529262,
          0.3109359858225713,
          0.2766682864514998,
          0.2432141438169496,
          0.2125879114188037,
          0.1876801854742692,
          0.171915254853457,
          0.167451467552637,
          0.1737230271227264,
          0.188574208613883,
          0.2102068584249968,
          0.2369632573291041,
          0.2657811013219649,
          0.2919302988490322,
          0.3107347344823242,
          0.3198823504439959,
          0.3206429118714185,
          0.3170236575291313,
          0.3129766162078604,
          0.3094584127439935,
          0.3040949415690224,
          0.2940165728383268,
          0.2793006079112955,
          0.2641746333297287,
          0.2545741842180074,
          0.2532152525332504,
          0.2573057023384857,
          0.2619071765478589,
          0.264166766086901,
          0.2639978085479981,
          0.2623523679782309,
          0.2600611715327257,
          0.2583343463243822,
          0.2595117716032297,
          0.2662583107125083,
          0.2794224522312916,
          0.2969797323987331,
          0.3155580539407575,
          0.3330133044032142,
          0.3496860616771194,
          0.3672538747036213,
          0.385924284883624,
          0.4024406826958765,
          0.4109294024544219,
          0.4059861008762861,
          0.3860425714983616,
          0.3557320185963392,
          0.3263278394018966,
          0.311875302549968,
          0.3191992922163144,
          0.3411038658502106,
          0.3631369325045263,
          0.3733636984361759,
          0.3659750038032482,
          0.3411699945280759,
          0.3039925848454474,
          0.2627320464882748,
          0.226836855443196,
          0.2040459068113513,
          0.1972729172072497,
          0.2042792989825744,
          0.2209209543062255,
          0.2431470491639271,
          0.2661268597405678,
          0.2833967044228608,
          0.2876281778375802,
          0.2724547804936726,
          0.2343341344143893,
          0.1737406672924501,
          0.0953611261475408,
          0.0086921213215498
         ]
        }
       ],
       "layout": {
        "annotations": [
         {
          "font": {
           "color": "cyan",
           "size": 16
          },
          "showarrow": false,
          "text": "KH",
          "textangle": -90,
          "x": 1.81111,
          "xref": "x",
          "y": 1,
          "yref": "paper"
         },
         {
          "font": {
           "color": "cyan",
           "size": 16
          },
          "showarrow": false,
          "text": "FC",
          "textangle": -90,
          "x": 2.61111,
          "xref": "x",
          "y": 1,
          "yref": "paper"
         },
         {
          "font": {
           "color": "cyan",
           "size": 16
          },
          "showarrow": false,
          "text": "MER",
          "textangle": -90,
          "x": 2.73333,
          "xref": "x",
          "y": 1,
          "yref": "paper"
         },
         {
          "font": {
           "color": "cyan",
           "size": 16
          },
          "showarrow": false,
          "text": "BR",
          "textangle": -90,
          "x": 2.77778,
          "xref": "x",
          "y": 1,
          "yref": "paper"
         }
        ],
        "height": 600,
        "margin": {
         "b": 40,
         "l": 40,
         "r": 40,
         "t": 40
        },
        "plot_bgcolor": "rgb(43,48,61)",
        "shapes": [
         {
          "line": {
           "color": "cyan",
           "dash": "dash",
           "width": 4
          },
          "opacity": 0.5,
          "type": "line",
          "x0": 1.8,
          "x1": 1.8,
          "xref": "x",
          "y0": 0,
          "y1": 1,
          "yref": "paper"
         },
         {
          "line": {
           "color": "cyan",
           "dash": "dash",
           "width": 4
          },
          "opacity": 0.5,
          "type": "line",
          "x0": 2.6,
          "x1": 2.6,
          "xref": "x",
          "y0": 0,
          "y1": 1,
          "yref": "paper"
         },
         {
          "line": {
           "color": "cyan",
           "dash": "dash",
           "width": 4
          },
          "opacity": 0.5,
          "type": "line",
          "x0": 2.72222,
          "x1": 2.72222,
          "xref": "x",
          "y0": 0,
          "y1": 1,
          "yref": "paper"
         },
         {
          "line": {
           "color": "cyan",
           "dash": "dash",
           "width": 4
          },
          "opacity": 0.5,
          "type": "line",
          "x0": 2.76667,
          "x1": 2.76667,
          "xref": "x",
          "y0": 0,
          "y1": 1,
          "yref": "paper"
         }
        ],
        "showlegend": false,
        "template": {
         "data": {
          "bar": [
           {
            "error_x": {
             "color": "#2a3f5f"
            },
            "error_y": {
             "color": "#2a3f5f"
            },
            "marker": {
             "line": {
              "color": "#E5ECF6",
              "width": 0.5
             },
             "pattern": {
              "fillmode": "overlay",
              "size": 10,
              "solidity": 0.2
             }
            },
            "type": "bar"
           }
          ],
          "barpolar": [
           {
            "marker": {
             "line": {
              "color": "#E5ECF6",
              "width": 0.5
             },
             "pattern": {
              "fillmode": "overlay",
              "size": 10,
              "solidity": 0.2
             }
            },
            "type": "barpolar"
           }
          ],
          "carpet": [
           {
            "aaxis": {
             "endlinecolor": "#2a3f5f",
             "gridcolor": "white",
             "linecolor": "white",
             "minorgridcolor": "white",
             "startlinecolor": "#2a3f5f"
            },
            "baxis": {
             "endlinecolor": "#2a3f5f",
             "gridcolor": "white",
             "linecolor": "white",
             "minorgridcolor": "white",
             "startlinecolor": "#2a3f5f"
            },
            "type": "carpet"
           }
          ],
          "choropleth": [
           {
            "colorbar": {
             "outlinewidth": 0,
             "ticks": ""
            },
            "type": "choropleth"
           }
          ],
          "contour": [
           {
            "colorbar": {
             "outlinewidth": 0,
             "ticks": ""
            },
            "colorscale": [
             [
              0,
              "#0d0887"
             ],
             [
              0.1111111111111111,
              "#46039f"
             ],
             [
              0.2222222222222222,
              "#7201a8"
             ],
             [
              0.3333333333333333,
              "#9c179e"
             ],
             [
              0.4444444444444444,
              "#bd3786"
             ],
             [
              0.5555555555555556,
              "#d8576b"
             ],
             [
              0.6666666666666666,
              "#ed7953"
             ],
             [
              0.7777777777777778,
              "#fb9f3a"
             ],
             [
              0.8888888888888888,
              "#fdca26"
             ],
             [
              1,
              "#f0f921"
             ]
            ],
            "type": "contour"
           }
          ],
          "contourcarpet": [
           {
            "colorbar": {
             "outlinewidth": 0,
             "ticks": ""
            },
            "type": "contourcarpet"
           }
          ],
          "heatmap": [
           {
            "colorbar": {
             "outlinewidth": 0,
             "ticks": ""
            },
            "colorscale": [
             [
              0,
              "#0d0887"
             ],
             [
              0.1111111111111111,
              "#46039f"
             ],
             [
              0.2222222222222222,
              "#7201a8"
             ],
             [
              0.3333333333333333,
              "#9c179e"
             ],
             [
              0.4444444444444444,
              "#bd3786"
             ],
             [
              0.5555555555555556,
              "#d8576b"
             ],
             [
              0.6666666666666666,
              "#ed7953"
             ],
             [
              0.7777777777777778,
              "#fb9f3a"
             ],
             [
              0.8888888888888888,
              "#fdca26"
             ],
             [
              1,
              "#f0f921"
             ]
            ],
            "type": "heatmap"
           }
          ],
          "heatmapgl": [
           {
            "colorbar": {
             "outlinewidth": 0,
             "ticks": ""
            },
            "colorscale": [
             [
              0,
              "#0d0887"
             ],
             [
              0.1111111111111111,
              "#46039f"
             ],
             [
              0.2222222222222222,
              "#7201a8"
             ],
             [
              0.3333333333333333,
              "#9c179e"
             ],
             [
              0.4444444444444444,
              "#bd3786"
             ],
             [
              0.5555555555555556,
              "#d8576b"
             ],
             [
              0.6666666666666666,
              "#ed7953"
             ],
             [
              0.7777777777777778,
              "#fb9f3a"
             ],
             [
              0.8888888888888888,
              "#fdca26"
             ],
             [
              1,
              "#f0f921"
             ]
            ],
            "type": "heatmapgl"
           }
          ],
          "histogram": [
           {
            "marker": {
             "pattern": {
              "fillmode": "overlay",
              "size": 10,
              "solidity": 0.2
             }
            },
            "type": "histogram"
           }
          ],
          "histogram2d": [
           {
            "colorbar": {
             "outlinewidth": 0,
             "ticks": ""
            },
            "colorscale": [
             [
              0,
              "#0d0887"
             ],
             [
              0.1111111111111111,
              "#46039f"
             ],
             [
              0.2222222222222222,
              "#7201a8"
             ],
             [
              0.3333333333333333,
              "#9c179e"
             ],
             [
              0.4444444444444444,
              "#bd3786"
             ],
             [
              0.5555555555555556,
              "#d8576b"
             ],
             [
              0.6666666666666666,
              "#ed7953"
             ],
             [
              0.7777777777777778,
              "#fb9f3a"
             ],
             [
              0.8888888888888888,
              "#fdca26"
             ],
             [
              1,
              "#f0f921"
             ]
            ],
            "type": "histogram2d"
           }
          ],
          "histogram2dcontour": [
           {
            "colorbar": {
             "outlinewidth": 0,
             "ticks": ""
            },
            "colorscale": [
             [
              0,
              "#0d0887"
             ],
             [
              0.1111111111111111,
              "#46039f"
             ],
             [
              0.2222222222222222,
              "#7201a8"
             ],
             [
              0.3333333333333333,
              "#9c179e"
             ],
             [
              0.4444444444444444,
              "#bd3786"
             ],
             [
              0.5555555555555556,
              "#d8576b"
             ],
             [
              0.6666666666666666,
              "#ed7953"
             ],
             [
              0.7777777777777778,
              "#fb9f3a"
             ],
             [
              0.8888888888888888,
              "#fdca26"
             ],
             [
              1,
              "#f0f921"
             ]
            ],
            "type": "histogram2dcontour"
           }
          ],
          "mesh3d": [
           {
            "colorbar": {
             "outlinewidth": 0,
             "ticks": ""
            },
            "type": "mesh3d"
           }
          ],
          "parcoords": [
           {
            "line": {
             "colorbar": {
              "outlinewidth": 0,
              "ticks": ""
             }
            },
            "type": "parcoords"
           }
          ],
          "pie": [
           {
            "automargin": true,
            "type": "pie"
           }
          ],
          "scatter": [
           {
            "fillpattern": {
             "fillmode": "overlay",
             "size": 10,
             "solidity": 0.2
            },
            "type": "scatter"
           }
          ],
          "scatter3d": [
           {
            "line": {
             "colorbar": {
              "outlinewidth": 0,
              "ticks": ""
             }
            },
            "marker": {
             "colorbar": {
              "outlinewidth": 0,
              "ticks": ""
             }
            },
            "type": "scatter3d"
           }
          ],
          "scattercarpet": [
           {
            "marker": {
             "colorbar": {
              "outlinewidth": 0,
              "ticks": ""
             }
            },
            "type": "scattercarpet"
           }
          ],
          "scattergeo": [
           {
            "marker": {
             "colorbar": {
              "outlinewidth": 0,
              "ticks": ""
             }
            },
            "type": "scattergeo"
           }
          ],
          "scattergl": [
           {
            "marker": {
             "colorbar": {
              "outlinewidth": 0,
              "ticks": ""
             }
            },
            "type": "scattergl"
           }
          ],
          "scattermapbox": [
           {
            "marker": {
             "colorbar": {
              "outlinewidth": 0,
              "ticks": ""
             }
            },
            "type": "scattermapbox"
           }
          ],
          "scatterpolar": [
           {
            "marker": {
             "colorbar": {
              "outlinewidth": 0,
              "ticks": ""
             }
            },
            "type": "scatterpolar"
           }
          ],
          "scatterpolargl": [
           {
            "marker": {
             "colorbar": {
              "outlinewidth": 0,
              "ticks": ""
             }
            },
            "type": "scatterpolargl"
           }
          ],
          "scatterternary": [
           {
            "marker": {
             "colorbar": {
              "outlinewidth": 0,
              "ticks": ""
             }
            },
            "type": "scatterternary"
           }
          ],
          "surface": [
           {
            "colorbar": {
             "outlinewidth": 0,
             "ticks": ""
            },
            "colorscale": [
             [
              0,
              "#0d0887"
             ],
             [
              0.1111111111111111,
              "#46039f"
             ],
             [
              0.2222222222222222,
              "#7201a8"
             ],
             [
              0.3333333333333333,
              "#9c179e"
             ],
             [
              0.4444444444444444,
              "#bd3786"
             ],
             [
              0.5555555555555556,
              "#d8576b"
             ],
             [
              0.6666666666666666,
              "#ed7953"
             ],
             [
              0.7777777777777778,
              "#fb9f3a"
             ],
             [
              0.8888888888888888,
              "#fdca26"
             ],
             [
              1,
              "#f0f921"
             ]
            ],
            "type": "surface"
           }
          ],
          "table": [
           {
            "cells": {
             "fill": {
              "color": "#EBF0F8"
             },
             "line": {
              "color": "white"
             }
            },
            "header": {
             "fill": {
              "color": "#C8D4E3"
             },
             "line": {
              "color": "white"
             }
            },
            "type": "table"
           }
          ]
         },
         "layout": {
          "annotationdefaults": {
           "arrowcolor": "#2a3f5f",
           "arrowhead": 0,
           "arrowwidth": 1
          },
          "autotypenumbers": "strict",
          "coloraxis": {
           "colorbar": {
            "outlinewidth": 0,
            "ticks": ""
           }
          },
          "colorscale": {
           "diverging": [
            [
             0,
             "#8e0152"
            ],
            [
             0.1,
             "#c51b7d"
            ],
            [
             0.2,
             "#de77ae"
            ],
            [
             0.3,
             "#f1b6da"
            ],
            [
             0.4,
             "#fde0ef"
            ],
            [
             0.5,
             "#f7f7f7"
            ],
            [
             0.6,
             "#e6f5d0"
            ],
            [
             0.7,
             "#b8e186"
            ],
            [
             0.8,
             "#7fbc41"
            ],
            [
             0.9,
             "#4d9221"
            ],
            [
             1,
             "#276419"
            ]
           ],
           "sequential": [
            [
             0,
             "#0d0887"
            ],
            [
             0.1111111111111111,
             "#46039f"
            ],
            [
             0.2222222222222222,
             "#7201a8"
            ],
            [
             0.3333333333333333,
             "#9c179e"
            ],
            [
             0.4444444444444444,
             "#bd3786"
            ],
            [
             0.5555555555555556,
             "#d8576b"
            ],
            [
             0.6666666666666666,
             "#ed7953"
            ],
            [
             0.7777777777777778,
             "#fb9f3a"
            ],
            [
             0.8888888888888888,
             "#fdca26"
            ],
            [
             1,
             "#f0f921"
            ]
           ],
           "sequentialminus": [
            [
             0,
             "#0d0887"
            ],
            [
             0.1111111111111111,
             "#46039f"
            ],
            [
             0.2222222222222222,
             "#7201a8"
            ],
            [
             0.3333333333333333,
             "#9c179e"
            ],
            [
             0.4444444444444444,
             "#bd3786"
            ],
            [
             0.5555555555555556,
             "#d8576b"
            ],
            [
             0.6666666666666666,
             "#ed7953"
            ],
            [
             0.7777777777777778,
             "#fb9f3a"
            ],
            [
             0.8888888888888888,
             "#fdca26"
            ],
            [
             1,
             "#f0f921"
            ]
           ]
          },
          "colorway": [
           "#636efa",
           "#EF553B",
           "#00cc96",
           "#ab63fa",
           "#FFA15A",
           "#19d3f3",
           "#FF6692",
           "#B6E880",
           "#FF97FF",
           "#FECB52"
          ],
          "font": {
           "color": "#2a3f5f"
          },
          "geo": {
           "bgcolor": "white",
           "lakecolor": "white",
           "landcolor": "#E5ECF6",
           "showlakes": true,
           "showland": true,
           "subunitcolor": "white"
          },
          "hoverlabel": {
           "align": "left"
          },
          "hovermode": "closest",
          "mapbox": {
           "style": "light"
          },
          "paper_bgcolor": "white",
          "plot_bgcolor": "#E5ECF6",
          "polar": {
           "angularaxis": {
            "gridcolor": "white",
            "linecolor": "white",
            "ticks": ""
           },
           "bgcolor": "#E5ECF6",
           "radialaxis": {
            "gridcolor": "white",
            "linecolor": "white",
            "ticks": ""
           }
          },
          "scene": {
           "xaxis": {
            "backgroundcolor": "#E5ECF6",
            "gridcolor": "white",
            "gridwidth": 2,
            "linecolor": "white",
            "showbackground": true,
            "ticks": "",
            "zerolinecolor": "white"
           },
           "yaxis": {
            "backgroundcolor": "#E5ECF6",
            "gridcolor": "white",
            "gridwidth": 2,
            "linecolor": "white",
            "showbackground": true,
            "ticks": "",
            "zerolinecolor": "white"
           },
           "zaxis": {
            "backgroundcolor": "#E5ECF6",
            "gridcolor": "white",
            "gridwidth": 2,
            "linecolor": "white",
            "showbackground": true,
            "ticks": "",
            "zerolinecolor": "white"
           }
          },
          "shapedefaults": {
           "line": {
            "color": "#2a3f5f"
           }
          },
          "ternary": {
           "aaxis": {
            "gridcolor": "white",
            "linecolor": "white",
            "ticks": ""
           },
           "baxis": {
            "gridcolor": "white",
            "linecolor": "white",
            "ticks": ""
           },
           "bgcolor": "#E5ECF6",
           "caxis": {
            "gridcolor": "white",
            "linecolor": "white",
            "ticks": ""
           }
          },
          "title": {
           "x": 0.05
          },
          "xaxis": {
           "automargin": true,
           "gridcolor": "white",
           "linecolor": "white",
           "ticks": "",
           "title": {
            "standoff": 15
           },
           "zerolinecolor": "white",
           "zerolinewidth": 2
          },
          "yaxis": {
           "automargin": true,
           "gridcolor": "white",
           "linecolor": "white",
           "ticks": "",
           "title": {
            "standoff": 15
           },
           "zerolinecolor": "white",
           "zerolinewidth": 2
          }
         }
        },
        "title": {
         "text": "TORSO ANGULAR MOMENTUM"
        },
        "xaxis": {
         "showgrid": false,
         "title": {
          "text": "Time [s]"
         }
        },
        "yaxis": {
         "autorange": true,
         "gridcolor": "lightgrey",
         "gridwidth": 1,
         "rangemode": "tozero",
         "showgrid": true,
         "title": {
          "text": "Momentum [kg*m²/(s*rad)]"
         },
         "zeroline": false
        }
       }
      }
     },
     "metadata": {},
     "output_type": "display_data"
    },
    {
     "data": {
      "application/vnd.plotly.v1+json": {
       "config": {
        "plotlyServerURL": "https://plot.ly"
       },
       "data": [
        {
         "line": {
          "color": "firebrick",
          "width": 4
         },
         "mode": "lines",
         "name": "ARM ANGULAR MOMENTUM",
         "type": "scatter",
         "x": [
          1.8,
          1.80556,
          1.81111,
          1.81667,
          1.82222,
          1.82778,
          1.83333,
          1.83889,
          1.84444,
          1.85,
          1.85556,
          1.86111,
          1.86667,
          1.87222,
          1.87778,
          1.88333,
          1.88889,
          1.89444,
          1.9,
          1.90556,
          1.91111,
          1.91667,
          1.92222,
          1.92778,
          1.93333,
          1.93889,
          1.94444,
          1.95,
          1.95556,
          1.96111,
          1.96667,
          1.97222,
          1.97778,
          1.98333,
          1.98889,
          1.99444,
          2,
          2.00556,
          2.01111,
          2.01667,
          2.02222,
          2.02778,
          2.03333,
          2.03889,
          2.04444,
          2.05,
          2.05556,
          2.06111,
          2.06667,
          2.07222,
          2.07778,
          2.08333,
          2.08889,
          2.09444,
          2.1,
          2.10556,
          2.11111,
          2.11667,
          2.12222,
          2.12778,
          2.13333,
          2.13889,
          2.14444,
          2.15,
          2.15556,
          2.16111,
          2.16667,
          2.17222,
          2.17778,
          2.18333,
          2.18889,
          2.19444,
          2.2,
          2.20556,
          2.21111,
          2.21667,
          2.22222,
          2.22778,
          2.23333,
          2.23889,
          2.24444,
          2.25,
          2.25556,
          2.26111,
          2.26667,
          2.27222,
          2.27778,
          2.28333,
          2.28889,
          2.29444,
          2.3,
          2.30556,
          2.31111,
          2.31667,
          2.32222,
          2.32778,
          2.33333,
          2.33889,
          2.34444,
          2.35,
          2.35556,
          2.36111,
          2.36667,
          2.37222,
          2.37778,
          2.38333,
          2.38889,
          2.39444,
          2.4,
          2.40556,
          2.41111,
          2.41667,
          2.42222,
          2.42778,
          2.43333,
          2.43889,
          2.44444,
          2.45,
          2.45556,
          2.46111,
          2.46667,
          2.47222,
          2.47778,
          2.48333,
          2.48889,
          2.49444,
          2.5,
          2.50556,
          2.51111,
          2.51667,
          2.52222,
          2.52778,
          2.53333,
          2.53889,
          2.54444,
          2.55,
          2.55556,
          2.56111,
          2.56667,
          2.57222,
          2.57778,
          2.58333,
          2.58889,
          2.59444,
          2.6,
          2.60556,
          2.61111,
          2.61667,
          2.62222,
          2.62778,
          2.63333,
          2.63889,
          2.64444,
          2.65,
          2.65556,
          2.66111,
          2.66667,
          2.67222,
          2.67778,
          2.68333,
          2.68889,
          2.69444,
          2.7,
          2.70556,
          2.71111,
          2.71667,
          2.72222,
          2.72778,
          2.73333,
          2.73889,
          2.74444,
          2.75,
          2.75556,
          2.76111,
          2.76667,
          2.77222,
          2.77778,
          2.78333,
          2.78889,
          2.79444,
          2.8,
          2.80556,
          2.81111,
          2.81667,
          2.82222,
          2.82778,
          2.83333,
          2.83889,
          2.84444,
          2.85,
          2.85556,
          2.86111,
          2.86667,
          2.87222,
          2.87778,
          2.88333,
          2.88889,
          2.89444,
          2.9,
          2.90556,
          2.91111,
          2.91667,
          2.92222,
          2.92778,
          2.93333,
          2.93889,
          2.94444,
          2.95,
          2.95556,
          2.96111
         ],
         "y": [
          0.000772724273168,
          0.0155010486395631,
          0.0303145428301224,
          0.0425899785368378,
          0.0515809227393148,
          0.057062319842274,
          0.0592896680171502,
          0.0588736051409268,
          0.0566018011536006,
          0.0532476240094086,
          0.049415438096958,
          0.0454713779791466,
          0.0415817374493911,
          0.0378338441849349,
          0.0343701089017486,
          0.0314514651094191,
          0.0294026654608695,
          0.0284839696177691,
          0.0288127337858033,
          0.0303842944111876,
          0.033088493995309,
          0.0366648786089596,
          0.0406870490966394,
          0.0446370110537787,
          0.0480226069444912,
          0.0504741428465929,
          0.0517954158954416,
          0.0519742816462456,
          0.0511682379486507,
          0.0496768383763132,
          0.047901131251771,
          0.0462812768527839,
          0.0452081645216164,
          0.0449238762971558,
          0.0454439296222912,
          0.0465339599811847,
          0.0477562051628701,
          0.0485789200751818,
          0.0485195084372212,
          0.0472773282736715,
          0.0448165271842056,
          0.0413806557409627,
          0.0374444072101414,
          0.0336213674545323,
          0.0305456172496572,
          0.0287344942344631,
          0.0284472930287268,
          0.0296015097836651,
          0.0318082777719329,
          0.0344850728911408,
          0.0369655783018759,
          0.0385923850113749,
          0.0388088740105021,
          0.0372507102131726,
          0.0338231230026634,
          0.0287466136477949,
          0.0225565955780766,
          0.0160537729927807,
          0.0102268991608631,
          0.0061690624719604,
          0.0044847185897505,
          0.0038209708891468,
          0.0028894001839373,
          0.003390600780388,
          0.0063387618839228,
          0.0098885164559483,
          0.0130129742730734,
          0.0151822768318517,
          0.0161653242617736,
          0.0159616006646863,
          0.014739111813931,
          0.0127905894393106,
          0.0105249630739475,
          0.0084968892611026,
          0.0073825437107364,
          0.0075595227202986,
          0.0086334282411203,
          0.0099629999486539,
          0.0111755588790932,
          0.0121451074040403,
          0.0128797724788725,
          0.0134487874740519,
          0.0139307770861725,
          0.0143676228052409,
          0.0147338993452827,
          0.0149494978049548,
          0.0149404941271607,
          0.0147083023225187,
          0.0143537859833313,
          0.0140312011779017,
          0.0138530387017084,
          0.0138106904933792,
          0.0137744954612965,
          0.0135683861343217,
          0.0130599394669782,
          0.012222359747745,
          0.0111573330101141,
          0.0100782783309561,
          0.0092562945187325,
          0.008939310373218,
          0.0092665564156954,
          0.0102066230298445,
          0.0115427077652699,
          0.0129197394170086,
          0.0139484539918233,
          0.0143291800586994,
          0.0139423405045261,
          0.0128711880806145,
          0.011362114317016,
          0.0097624983710676,
          0.0084804685532632,
          0.0079498719815487,
          0.0084701651002738,
          0.0099803585162149,
          0.0121229332091948,
          0.0144427760281102,
          0.0164741107576264,
          0.0177959394210978,
          0.0181023974262176,
          0.0172645982730296,
          0.0153692817433522,
          0.0127564448453238,
          0.0101351697021591,
          0.0087994611659104,
          0.0099265628363173,
          0.0128859217328813,
          0.0163774466821815,
          0.0195500822439121,
          0.0218259309668514,
          0.0227467540830163,
          0.0219891961899687,
          0.0194524214949114,
          0.0153383910778553,
          0.0101698320562519,
          0.0047522027276446,
          0.0014484284384479,
          0.0044900971684895,
          0.0065316417522679,
          0.0068177702588625,
          0.0055264333385824,
          0.003122335558259,
          0.0003332484972438,
          0.0026791124324241,
          0.0049395148242458,
          0.0063192185776256,
          0.0067689037438767,
          0.006591918539427,
          0.0065124447237611,
          0.0073161360977364,
          0.0089552936152613,
          0.0106516803049124,
          0.0116359000090491,
          0.0114293675157997,
          0.0099143210233854,
          0.0073500519354401,
          0.0043397952518726,
          0.0020114377113199,
          0.0024198163735399,
          0.003632772353528,
          0.0043583168977973,
          0.0048333558498692,
          0.0053269058570351,
          0.0057528187340346,
          0.0058683360741344,
          0.0055694071691387,
          0.0049412150883957,
          0.0041364215473003,
          0.003242538578686,
          0.0022845658877754,
          0.0014610404958379,
          0.0015687747951634,
          0.0025417405209694,
          0.0035470544877494,
          0.0042460369005419,
          0.0045097559447206,
          0.0043224512808942,
          0.0037526290868056,
          0.0029375168606093,
          0.0021013945535699,
          0.0016208509448594,
          0.0017528017380725,
          0.002094776211544,
          0.0022285768930268,
          0.0020258315072383,
          0.0015722577694933,
          0.0012252408725301,
          0.0015382002591341,
          0.0023801991299719,
          0.0034470432040855,
          0.004630801836087,
          0.0057901334896099,
          0.0066780021399816,
          0.0069997992094945,
          0.006523318514005,
          0.0051930809518438,
          0.0032743258202811,
          0.0020772855175735,
          0.0035886327587568,
          0.0056672882372643,
          0.0071408021663989,
          0.0076788946812059,
          0.0072455071739822,
          0.0060315587186325,
          0.0044203335139655,
          0.0029684819556486,
          0.0023211476801812,
          0.0024468829377468,
          0.0025905759450278,
          0.0024171069750686,
          0.001974462229809,
          0.0014709219006457,
          0.0012863791296668,
          0.0017746917384815,
          0.0027809946220628,
          0.0041410544953759,
          0.0057735221320008,
          0.0075425577369859,
          0.0092254991701217,
          0.0105492016428818,
          0.0112606381947879,
          0.0112048095042422,
          0.0103845060276965,
          0.008979488666898,
          0.0073103907947088,
          0.0057456632001353,
          0.0045881857102719,
          0.0040726569625381,
          0.0044880543682146,
          0.0059485847816786,
          0.0081832315062421,
          0.0108473244841918,
          0.0137323068613457,
          0.0168009001010296,
          0.0201361763996578,
          0.0238406726713722,
          0.027947044949899,
          0.0323821376460633,
          0.0369739742899438,
          0.041474246242959,
          0.045587480128636,
          0.0490092962245506,
          0.0514700973535315,
          0.0527771283187043,
          0.0528554188395736,
          0.0517931474047028,
          0.0498854400103341,
          0.0476450700403332,
          0.0457286521753728,
          0.0447506832003427,
          0.0450603579048478,
          0.0466504175733295,
          0.0492524648539044,
          0.0524607711269334,
          0.0557652168326412,
          0.0585666385187983,
          0.0602809497402259,
          0.0605188939608823,
          0.0592385693644518,
          0.0567804315294668,
          0.0537647092080376,
          0.0509002856958157,
          0.0487897811793606,
          0.0478066230951808,
          0.0480722995068599,
          0.0495051460745204,
          0.0518877582698283,
          0.0549185031672391,
          0.058241873102906,
          0.0614673329903479,
          0.0641894652011996,
          0.0660219528305548,
          0.0666532167847195,
          0.0659173806967754,
          0.063854152111662,
          0.0607197264845113,
          0.0569221278325983,
          0.0528893108063388,
          0.0489211203252182,
          0.045099968021252,
          0.0413152682710557,
          0.0373966092969917,
          0.0332911701793016,
          0.0291987355653466,
          0.0255891573994853,
          0.0230632539180041,
          0.0221183765143783,
          0.0230192807650079,
          0.025825957057252,
          0.0303157609319306,
          0.0358302160479445,
          0.0413433324025249,
          0.0457401947773497,
          0.048128618284632,
          0.0480719210250395,
          0.0456848382509139,
          0.0415708431374111,
          0.0366277781893014,
          0.0317935780086941,
          0.0278181393097246,
          0.0251244081775346,
          0.0237794895146707,
          0.0235599470629031,
          0.0240737763453254,
          0.0248936250343734,
          0.0256651606866567,
          0.0261733528578766,
          0.0263634309910679,
          0.0263207228716419,
          0.0262189623478084,
          0.0262521291208962,
          0.026568081325423,
          0.0272174873685451,
          0.0281222393253641,
          0.0290682664679253,
          0.0297355252826103,
          0.0297703478144385,
          0.0288823296189764,
          0.0269328378897902,
          0.023985922726648,
          0.0203093647939862,
          0.0163352423606411,
          0.0126066606639812,
          0.0097274793397262,
          0.0082161512797069,
          0.0080840170186851,
          0.0087314816993716,
          0.0095588418457664,
          0.0102467338815784,
          0.0106632559535295,
          0.0108092704015289,
          0.0108426989551714,
          0.0110911416978031,
          0.0119497326168639,
          0.013661437058783,
          0.0161977515553721,
          0.0193575256509156,
          0.0228988308079043,
          0.0265853504043013,
          0.0301852643397737,
          0.0334745690705167,
          0.0362645226172308,
          0.0384472263893951,
          0.0400392413516734,
          0.0412015301733051,
          0.0422227774684306,
          0.0434666356434623,
          0.0452957052009193,
          0.0479912445377359,
          0.051686544874462,
          0.0563287092521802,
          0.0616812224896196,
          0.0673707878409044,
          0.0729634527562048,
          0.0780410250776638,
          0.0822531583717619,
          0.0853394188459823,
          0.0871330265938189,
          0.0875617395205682,
          0.0866529713203678,
          0.0845403354601173,
          0.08146458184567,
          0.0777609488673616,
          0.0738238545071566,
          0.0700454660311976,
          0.0667464439856094,
          0.0641414268891897,
          0.0623710115677786,
          0.0615769935874319,
          0.0619518090211459,
          0.0637079225530212,
          0.0669691352056708,
          0.0716308082637576,
          0.0772509863431599,
          0.0830312012013856,
          0.0879245441165657,
          0.0908610083179616,
          0.0910221893501639,
          0.0880636829080085,
          0.0821967878339453,
          0.0740982749062128,
          0.0646915427766871,
          0.054898608707973,
          0.0454726753723361,
          0.0369755972127985,
          0.0298743424814787,
          0.0246268268039089,
          0.0215623892757443,
          0.0205398738182483,
          0.0208872284064423,
          0.021866842459009,
          0.0230298510919515,
          0.0241944536111077,
          0.0253169054314016,
          0.0264338534099231,
          0.0276858719716657,
          0.0293559672688986,
          0.0318351673984724,
          0.0354724818454528,
          0.0403920555798066,
          0.0464236475857727,
          0.0531729594683518,
          0.0601407259951219,
          0.0668252649016659,
          0.0728030293208842,
          0.0777932221019338,
          0.0816980999397108,
          0.0846045281494828,
          0.0867418227846285,
          0.0884047227460236,
          0.0898600059797595,
          0.0912634206751469,
          0.0926192423734393,
          0.0938039871219359,
          0.0946440188839082,
          0.0950069551953287,
          0.0948641180418362,
          0.0943030498541024,
          0.0934944680136955,
          0.0926330953895423,
          0.0918759104466831,
          0.0912987293678872,
          0.0908846164672953,
          0.0905457462829142,
          0.0901677617601287,
          0.0896588180672046,
          0.0889867495624155,
          0.0881942655976671,
          0.0873899912431279,
          0.086719513253327,
          0.0863236867522101,
          0.0862926136376482,
          0.0866257964278518,
          0.0872122116653705,
          0.0878441896617707,
          0.0882705671289219,
          0.0882773464101839,
          0.0877667787899884,
          0.0868012681569698,
          0.0855922791612579,
          0.0844379083469413,
          0.0836306271544687,
          0.0833620639702927,
          0.0836503667709216,
          0.0843123183841609,
          0.0849908757509744,
          0.0852282188615972,
          0.0845605617866819,
          0.0826149283990216,
          0.0791987610664508,
          0.0743729065653759,
          0.0684814652842822,
          0.0620869081456414,
          0.0557540499767409,
          0.0497043608720506,
          0.0435532551015084,
          0.0364489518619701,
          0.0277399962705388,
          0.0185400605665687,
          0.0166765013557524,
          0.0283602967798256,
          0.0451074933770852,
          0.0624270536897975,
          0.0785948761857079,
          0.092948325436907,
          0.1056018601430006,
          0.1172694307875177,
          0.1290511531949112,
          0.1422052808848154,
          0.1578844809713528,
          0.1768163420135833,
          0.1990321908009272,
          0.223830453903848,
          0.2500414792170013,
          0.2764651010698254,
          0.302275160495525,
          0.3272376226912957,
          0.3516861083706973,
          0.3762864163690202,
          0.4016822486891497,
          0.4281413133440038,
          0.4553081069957762,
          0.4821173258626018,
          0.5068531274106959,
          0.5272965710651414,
          0.5409132485895916,
          0.5450801727258061,
          0.5373909100421629,
          0.5160718190852409,
          0.4804839631604266,
          0.4316065090880894,
          0.3723486308594752,
          0.3075544747568574,
          0.2436513026595904,
          0.1880199663139611,
          0.1482571457433246,
          0.131124780671205,
          0.1402248293370466,
          0.1743418775108679,
          0.2292084888738297,
          0.2987362673228159,
          0.375244245303694,
          0.4503884201026118,
          0.5164701611743717,
          0.5674995308461687,
          0.5997517970028594,
          0.6118403397880102,
          0.6044724927965696,
          0.580055889060775,
          0.5422459826070584,
          0.4954636082966122,
          0.4444039723482304,
          0.3935738061616481,
          0.346886126102017,
          0.3073106513945229,
          0.2765749230292268,
          0.2549893799978257,
          0.2415600790542337,
          0.2344533697370478,
          0.2315995276790621,
          0.2311287555016184,
          0.231540318099887,
          0.2317088012079773,
          0.2308530474091586,
          0.2285233936450468,
          0.2246043877564759,
          0.2193053019794575,
          0.2131105468728548,
          0.2066787393215305,
          0.2007034049012287,
          0.1957661399538084,
          0.1922143185280479,
          0.1900837405650873,
          0.1890763332352854,
          0.1886011701503417,
          0.1878824405302631,
          0.1861174438710218,
          0.1826401901918199,
          0.1770379736741951,
          0.169193151626348,
          0.1592644825160249,
          0.1476491438603417,
          0.1349564730982558,
          0.1219850926638998,
          0.109656638512584,
          0.098854390999959,
          0.0901679236129657,
          0.0836557860826595,
          0.0788163436521634,
          0.0748435875613139,
          0.071007526863159,
          0.066932497501747,
          0.0626788093287191,
          0.0586506480554316,
          0.0553935569236307,
          0.0533694418781582,
          0.0528093201985631,
          0.0536892593586678,
          0.0557828358319924,
          0.0587314053991308,
          0.0621265917345345,
          0.0656018146494086,
          0.0688943791249692,
          0.0718479031272626,
          0.0743748744063514,
          0.0764307155127141,
          0.0780283802513462,
          0.0792692365497037,
          0.0803364742104568,
          0.0814249863549569,
          0.0826479490686862,
          0.0839981757425755,
          0.0853968578798241,
          0.0867765051996241,
          0.0881216545189468,
          0.0894514281555794,
          0.0907913655817267,
          0.0921798850297823,
          0.093704064927129,
          0.0955220766581246,
          0.0978370690860279,
          0.1008235424183976,
          0.1045416879808813,
          0.1088861301771543,
          0.1135968685599791,
          0.1183260657703715,
          0.1227291283555362,
          0.126544846082544,
          0.1296416352067347,
          0.1320239418638453,
          0.1338065687889837,
          0.1351702633020013,
          0.1363087634443821,
          0.1373719232478888,
          0.1384105009168255,
          0.1393371419494186,
          0.1399252215627276,
          0.1398607468381957,
          0.1388411498814206,
          0.1366899386806295,
          0.1334430799687096,
          0.1293705258612604,
          0.1249223632985182,
          0.1206214498104981,
          0.116945247209282,
          0.1142349021179856,
          0.112643344282382,
          0.1121117251262738,
          0.1123671533534884,
          0.1129529389417035,
          0.1133044902095411,
          0.1128634431897828,
          0.1112018582461882,
          0.1081230083097909,
          0.1037120067799185,
          0.0983214823037831,
          0.0924932363063931,
          0.086836093477422,
          0.0818979245157468,
          0.0780735005704148,
          0.0755671297248354,
          0.0743897602822453,
          0.0743550757763108,
          0.0750750100520358,
          0.0759997185873232,
          0.0765324908174292,
          0.0761867792348876,
          0.0747140025843436,
          0.0721483719878876,
          0.0687595455987127,
          0.0649416123904435,
          0.0610852863289116,
          0.0574786559780316,
          0.0542631042293965,
          0.0514431653830328,
          0.0489267570009737,
          0.0465687144085259,
          0.0442064359030141,
          0.0416967342142834,
          0.0389680626371162,
          0.0360849459066945,
          0.0332944515126119,
          0.0310098966771456,
          0.0297031265054122,
          0.0297388423241724,
          0.0312599405492744,
          0.0341876751646495,
          0.0382514663765176,
          0.0429744161715114,
          0.0476738063877495,
          0.0515464645387501,
          0.0538278997199145,
          0.0539661854991677,
          0.0517531275341698,
          0.0473801145322575,
          0.041416045607815,
          0.034725548781966,
          0.0283431762906149,
          0.0232773281506685,
          0.020167619108569,
          0.0189342742094906,
          0.0189809860733523,
          0.0198409238470414,
          0.0213873322672654,
          0.023555586138195,
          0.0261025693249858,
          0.0286382547717666,
          0.0307960611949717,
          0.0323713299092941,
          0.03336693628455,
          0.033940880231939,
          0.0342784849902824,
          0.0344556509457042,
          0.0343841274820935,
          0.0338802456972386,
          0.0328088381806009,
          0.031214098691736,
          0.0293707880925419,
          0.0277214054258376,
          0.0267016710182848,
          0.0265454108250329,
          0.0272423030412414,
          0.0286875014613132,
          0.0308216757057014,
          0.0335978620570241,
          0.0368475782473263,
          0.0402197512159991,
          0.0432618628567198,
          0.0455774363171069,
          0.0469605632317914,
          0.0474455962315065,
          0.0472597032167243,
          0.046709380990221,
          0.0460584798831064,
          0.0454528767078489,
          0.0449174041847291,
          0.0444118293385736,
          0.0439054329341779,
          0.0434262557149138,
          0.0430611202836469,
          0.0429132495782042,
          0.0430464905730796,
          0.0434469108657777,
          0.0440175104844273,
          0.0446032525983071,
          0.0450323680107981,
          0.0451583836250504,
          0.0448919684101719,
          0.0442177223753933,
          0.0431955543184781,
          0.0419487502633621,
          0.040642079864462,
          0.0394539786735352,
          0.0385467616958255,
          0.0380382591814036,
          0.0379786719049796,
          0.0383381069134411,
          0.0390106778082448,
          0.0398373882080351,
          0.0406426426618725,
          0.0412726503029517,
          0.041624075577971,
          0.0416591630341653,
          0.0414115522990186,
          0.040985510929859,
          0.0405418964512561,
          0.0402602132661054,
          0.0402767928673286,
          0.0406168943138727,
          0.0411473192999798,
          0.0415692889329,
          0.041456327198891,
          0.0403284506941598,
          0.0377456398337832,
          0.0334007673905265,
          0.027194207006555,
          0.019276474225793,
          0.010048883143377,
          0.0001845933171894
         ]
        }
       ],
       "layout": {
        "annotations": [
         {
          "font": {
           "color": "cyan",
           "size": 16
          },
          "showarrow": false,
          "text": "KH",
          "textangle": -90,
          "x": 1.81111,
          "xref": "x",
          "y": 1,
          "yref": "paper"
         },
         {
          "font": {
           "color": "cyan",
           "size": 16
          },
          "showarrow": false,
          "text": "FC",
          "textangle": -90,
          "x": 2.61111,
          "xref": "x",
          "y": 1,
          "yref": "paper"
         },
         {
          "font": {
           "color": "cyan",
           "size": 16
          },
          "showarrow": false,
          "text": "MER",
          "textangle": -90,
          "x": 2.73333,
          "xref": "x",
          "y": 1,
          "yref": "paper"
         },
         {
          "font": {
           "color": "cyan",
           "size": 16
          },
          "showarrow": false,
          "text": "BR",
          "textangle": -90,
          "x": 2.77778,
          "xref": "x",
          "y": 1,
          "yref": "paper"
         }
        ],
        "height": 600,
        "margin": {
         "b": 40,
         "l": 40,
         "r": 40,
         "t": 40
        },
        "plot_bgcolor": "rgb(43,48,61)",
        "shapes": [
         {
          "line": {
           "color": "cyan",
           "dash": "dash",
           "width": 4
          },
          "opacity": 0.5,
          "type": "line",
          "x0": 1.8,
          "x1": 1.8,
          "xref": "x",
          "y0": 0,
          "y1": 1,
          "yref": "paper"
         },
         {
          "line": {
           "color": "cyan",
           "dash": "dash",
           "width": 4
          },
          "opacity": 0.5,
          "type": "line",
          "x0": 2.6,
          "x1": 2.6,
          "xref": "x",
          "y0": 0,
          "y1": 1,
          "yref": "paper"
         },
         {
          "line": {
           "color": "cyan",
           "dash": "dash",
           "width": 4
          },
          "opacity": 0.5,
          "type": "line",
          "x0": 2.72222,
          "x1": 2.72222,
          "xref": "x",
          "y0": 0,
          "y1": 1,
          "yref": "paper"
         },
         {
          "line": {
           "color": "cyan",
           "dash": "dash",
           "width": 4
          },
          "opacity": 0.5,
          "type": "line",
          "x0": 2.76667,
          "x1": 2.76667,
          "xref": "x",
          "y0": 0,
          "y1": 1,
          "yref": "paper"
         }
        ],
        "showlegend": false,
        "template": {
         "data": {
          "bar": [
           {
            "error_x": {
             "color": "#2a3f5f"
            },
            "error_y": {
             "color": "#2a3f5f"
            },
            "marker": {
             "line": {
              "color": "#E5ECF6",
              "width": 0.5
             },
             "pattern": {
              "fillmode": "overlay",
              "size": 10,
              "solidity": 0.2
             }
            },
            "type": "bar"
           }
          ],
          "barpolar": [
           {
            "marker": {
             "line": {
              "color": "#E5ECF6",
              "width": 0.5
             },
             "pattern": {
              "fillmode": "overlay",
              "size": 10,
              "solidity": 0.2
             }
            },
            "type": "barpolar"
           }
          ],
          "carpet": [
           {
            "aaxis": {
             "endlinecolor": "#2a3f5f",
             "gridcolor": "white",
             "linecolor": "white",
             "minorgridcolor": "white",
             "startlinecolor": "#2a3f5f"
            },
            "baxis": {
             "endlinecolor": "#2a3f5f",
             "gridcolor": "white",
             "linecolor": "white",
             "minorgridcolor": "white",
             "startlinecolor": "#2a3f5f"
            },
            "type": "carpet"
           }
          ],
          "choropleth": [
           {
            "colorbar": {
             "outlinewidth": 0,
             "ticks": ""
            },
            "type": "choropleth"
           }
          ],
          "contour": [
           {
            "colorbar": {
             "outlinewidth": 0,
             "ticks": ""
            },
            "colorscale": [
             [
              0,
              "#0d0887"
             ],
             [
              0.1111111111111111,
              "#46039f"
             ],
             [
              0.2222222222222222,
              "#7201a8"
             ],
             [
              0.3333333333333333,
              "#9c179e"
             ],
             [
              0.4444444444444444,
              "#bd3786"
             ],
             [
              0.5555555555555556,
              "#d8576b"
             ],
             [
              0.6666666666666666,
              "#ed7953"
             ],
             [
              0.7777777777777778,
              "#fb9f3a"
             ],
             [
              0.8888888888888888,
              "#fdca26"
             ],
             [
              1,
              "#f0f921"
             ]
            ],
            "type": "contour"
           }
          ],
          "contourcarpet": [
           {
            "colorbar": {
             "outlinewidth": 0,
             "ticks": ""
            },
            "type": "contourcarpet"
           }
          ],
          "heatmap": [
           {
            "colorbar": {
             "outlinewidth": 0,
             "ticks": ""
            },
            "colorscale": [
             [
              0,
              "#0d0887"
             ],
             [
              0.1111111111111111,
              "#46039f"
             ],
             [
              0.2222222222222222,
              "#7201a8"
             ],
             [
              0.3333333333333333,
              "#9c179e"
             ],
             [
              0.4444444444444444,
              "#bd3786"
             ],
             [
              0.5555555555555556,
              "#d8576b"
             ],
             [
              0.6666666666666666,
              "#ed7953"
             ],
             [
              0.7777777777777778,
              "#fb9f3a"
             ],
             [
              0.8888888888888888,
              "#fdca26"
             ],
             [
              1,
              "#f0f921"
             ]
            ],
            "type": "heatmap"
           }
          ],
          "heatmapgl": [
           {
            "colorbar": {
             "outlinewidth": 0,
             "ticks": ""
            },
            "colorscale": [
             [
              0,
              "#0d0887"
             ],
             [
              0.1111111111111111,
              "#46039f"
             ],
             [
              0.2222222222222222,
              "#7201a8"
             ],
             [
              0.3333333333333333,
              "#9c179e"
             ],
             [
              0.4444444444444444,
              "#bd3786"
             ],
             [
              0.5555555555555556,
              "#d8576b"
             ],
             [
              0.6666666666666666,
              "#ed7953"
             ],
             [
              0.7777777777777778,
              "#fb9f3a"
             ],
             [
              0.8888888888888888,
              "#fdca26"
             ],
             [
              1,
              "#f0f921"
             ]
            ],
            "type": "heatmapgl"
           }
          ],
          "histogram": [
           {
            "marker": {
             "pattern": {
              "fillmode": "overlay",
              "size": 10,
              "solidity": 0.2
             }
            },
            "type": "histogram"
           }
          ],
          "histogram2d": [
           {
            "colorbar": {
             "outlinewidth": 0,
             "ticks": ""
            },
            "colorscale": [
             [
              0,
              "#0d0887"
             ],
             [
              0.1111111111111111,
              "#46039f"
             ],
             [
              0.2222222222222222,
              "#7201a8"
             ],
             [
              0.3333333333333333,
              "#9c179e"
             ],
             [
              0.4444444444444444,
              "#bd3786"
             ],
             [
              0.5555555555555556,
              "#d8576b"
             ],
             [
              0.6666666666666666,
              "#ed7953"
             ],
             [
              0.7777777777777778,
              "#fb9f3a"
             ],
             [
              0.8888888888888888,
              "#fdca26"
             ],
             [
              1,
              "#f0f921"
             ]
            ],
            "type": "histogram2d"
           }
          ],
          "histogram2dcontour": [
           {
            "colorbar": {
             "outlinewidth": 0,
             "ticks": ""
            },
            "colorscale": [
             [
              0,
              "#0d0887"
             ],
             [
              0.1111111111111111,
              "#46039f"
             ],
             [
              0.2222222222222222,
              "#7201a8"
             ],
             [
              0.3333333333333333,
              "#9c179e"
             ],
             [
              0.4444444444444444,
              "#bd3786"
             ],
             [
              0.5555555555555556,
              "#d8576b"
             ],
             [
              0.6666666666666666,
              "#ed7953"
             ],
             [
              0.7777777777777778,
              "#fb9f3a"
             ],
             [
              0.8888888888888888,
              "#fdca26"
             ],
             [
              1,
              "#f0f921"
             ]
            ],
            "type": "histogram2dcontour"
           }
          ],
          "mesh3d": [
           {
            "colorbar": {
             "outlinewidth": 0,
             "ticks": ""
            },
            "type": "mesh3d"
           }
          ],
          "parcoords": [
           {
            "line": {
             "colorbar": {
              "outlinewidth": 0,
              "ticks": ""
             }
            },
            "type": "parcoords"
           }
          ],
          "pie": [
           {
            "automargin": true,
            "type": "pie"
           }
          ],
          "scatter": [
           {
            "fillpattern": {
             "fillmode": "overlay",
             "size": 10,
             "solidity": 0.2
            },
            "type": "scatter"
           }
          ],
          "scatter3d": [
           {
            "line": {
             "colorbar": {
              "outlinewidth": 0,
              "ticks": ""
             }
            },
            "marker": {
             "colorbar": {
              "outlinewidth": 0,
              "ticks": ""
             }
            },
            "type": "scatter3d"
           }
          ],
          "scattercarpet": [
           {
            "marker": {
             "colorbar": {
              "outlinewidth": 0,
              "ticks": ""
             }
            },
            "type": "scattercarpet"
           }
          ],
          "scattergeo": [
           {
            "marker": {
             "colorbar": {
              "outlinewidth": 0,
              "ticks": ""
             }
            },
            "type": "scattergeo"
           }
          ],
          "scattergl": [
           {
            "marker": {
             "colorbar": {
              "outlinewidth": 0,
              "ticks": ""
             }
            },
            "type": "scattergl"
           }
          ],
          "scattermapbox": [
           {
            "marker": {
             "colorbar": {
              "outlinewidth": 0,
              "ticks": ""
             }
            },
            "type": "scattermapbox"
           }
          ],
          "scatterpolar": [
           {
            "marker": {
             "colorbar": {
              "outlinewidth": 0,
              "ticks": ""
             }
            },
            "type": "scatterpolar"
           }
          ],
          "scatterpolargl": [
           {
            "marker": {
             "colorbar": {
              "outlinewidth": 0,
              "ticks": ""
             }
            },
            "type": "scatterpolargl"
           }
          ],
          "scatterternary": [
           {
            "marker": {
             "colorbar": {
              "outlinewidth": 0,
              "ticks": ""
             }
            },
            "type": "scatterternary"
           }
          ],
          "surface": [
           {
            "colorbar": {
             "outlinewidth": 0,
             "ticks": ""
            },
            "colorscale": [
             [
              0,
              "#0d0887"
             ],
             [
              0.1111111111111111,
              "#46039f"
             ],
             [
              0.2222222222222222,
              "#7201a8"
             ],
             [
              0.3333333333333333,
              "#9c179e"
             ],
             [
              0.4444444444444444,
              "#bd3786"
             ],
             [
              0.5555555555555556,
              "#d8576b"
             ],
             [
              0.6666666666666666,
              "#ed7953"
             ],
             [
              0.7777777777777778,
              "#fb9f3a"
             ],
             [
              0.8888888888888888,
              "#fdca26"
             ],
             [
              1,
              "#f0f921"
             ]
            ],
            "type": "surface"
           }
          ],
          "table": [
           {
            "cells": {
             "fill": {
              "color": "#EBF0F8"
             },
             "line": {
              "color": "white"
             }
            },
            "header": {
             "fill": {
              "color": "#C8D4E3"
             },
             "line": {
              "color": "white"
             }
            },
            "type": "table"
           }
          ]
         },
         "layout": {
          "annotationdefaults": {
           "arrowcolor": "#2a3f5f",
           "arrowhead": 0,
           "arrowwidth": 1
          },
          "autotypenumbers": "strict",
          "coloraxis": {
           "colorbar": {
            "outlinewidth": 0,
            "ticks": ""
           }
          },
          "colorscale": {
           "diverging": [
            [
             0,
             "#8e0152"
            ],
            [
             0.1,
             "#c51b7d"
            ],
            [
             0.2,
             "#de77ae"
            ],
            [
             0.3,
             "#f1b6da"
            ],
            [
             0.4,
             "#fde0ef"
            ],
            [
             0.5,
             "#f7f7f7"
            ],
            [
             0.6,
             "#e6f5d0"
            ],
            [
             0.7,
             "#b8e186"
            ],
            [
             0.8,
             "#7fbc41"
            ],
            [
             0.9,
             "#4d9221"
            ],
            [
             1,
             "#276419"
            ]
           ],
           "sequential": [
            [
             0,
             "#0d0887"
            ],
            [
             0.1111111111111111,
             "#46039f"
            ],
            [
             0.2222222222222222,
             "#7201a8"
            ],
            [
             0.3333333333333333,
             "#9c179e"
            ],
            [
             0.4444444444444444,
             "#bd3786"
            ],
            [
             0.5555555555555556,
             "#d8576b"
            ],
            [
             0.6666666666666666,
             "#ed7953"
            ],
            [
             0.7777777777777778,
             "#fb9f3a"
            ],
            [
             0.8888888888888888,
             "#fdca26"
            ],
            [
             1,
             "#f0f921"
            ]
           ],
           "sequentialminus": [
            [
             0,
             "#0d0887"
            ],
            [
             0.1111111111111111,
             "#46039f"
            ],
            [
             0.2222222222222222,
             "#7201a8"
            ],
            [
             0.3333333333333333,
             "#9c179e"
            ],
            [
             0.4444444444444444,
             "#bd3786"
            ],
            [
             0.5555555555555556,
             "#d8576b"
            ],
            [
             0.6666666666666666,
             "#ed7953"
            ],
            [
             0.7777777777777778,
             "#fb9f3a"
            ],
            [
             0.8888888888888888,
             "#fdca26"
            ],
            [
             1,
             "#f0f921"
            ]
           ]
          },
          "colorway": [
           "#636efa",
           "#EF553B",
           "#00cc96",
           "#ab63fa",
           "#FFA15A",
           "#19d3f3",
           "#FF6692",
           "#B6E880",
           "#FF97FF",
           "#FECB52"
          ],
          "font": {
           "color": "#2a3f5f"
          },
          "geo": {
           "bgcolor": "white",
           "lakecolor": "white",
           "landcolor": "#E5ECF6",
           "showlakes": true,
           "showland": true,
           "subunitcolor": "white"
          },
          "hoverlabel": {
           "align": "left"
          },
          "hovermode": "closest",
          "mapbox": {
           "style": "light"
          },
          "paper_bgcolor": "white",
          "plot_bgcolor": "#E5ECF6",
          "polar": {
           "angularaxis": {
            "gridcolor": "white",
            "linecolor": "white",
            "ticks": ""
           },
           "bgcolor": "#E5ECF6",
           "radialaxis": {
            "gridcolor": "white",
            "linecolor": "white",
            "ticks": ""
           }
          },
          "scene": {
           "xaxis": {
            "backgroundcolor": "#E5ECF6",
            "gridcolor": "white",
            "gridwidth": 2,
            "linecolor": "white",
            "showbackground": true,
            "ticks": "",
            "zerolinecolor": "white"
           },
           "yaxis": {
            "backgroundcolor": "#E5ECF6",
            "gridcolor": "white",
            "gridwidth": 2,
            "linecolor": "white",
            "showbackground": true,
            "ticks": "",
            "zerolinecolor": "white"
           },
           "zaxis": {
            "backgroundcolor": "#E5ECF6",
            "gridcolor": "white",
            "gridwidth": 2,
            "linecolor": "white",
            "showbackground": true,
            "ticks": "",
            "zerolinecolor": "white"
           }
          },
          "shapedefaults": {
           "line": {
            "color": "#2a3f5f"
           }
          },
          "ternary": {
           "aaxis": {
            "gridcolor": "white",
            "linecolor": "white",
            "ticks": ""
           },
           "baxis": {
            "gridcolor": "white",
            "linecolor": "white",
            "ticks": ""
           },
           "bgcolor": "#E5ECF6",
           "caxis": {
            "gridcolor": "white",
            "linecolor": "white",
            "ticks": ""
           }
          },
          "title": {
           "x": 0.05
          },
          "xaxis": {
           "automargin": true,
           "gridcolor": "white",
           "linecolor": "white",
           "ticks": "",
           "title": {
            "standoff": 15
           },
           "zerolinecolor": "white",
           "zerolinewidth": 2
          },
          "yaxis": {
           "automargin": true,
           "gridcolor": "white",
           "linecolor": "white",
           "ticks": "",
           "title": {
            "standoff": 15
           },
           "zerolinecolor": "white",
           "zerolinewidth": 2
          }
         }
        },
        "title": {
         "text": "ARM ANGULAR MOMENTUM"
        },
        "xaxis": {
         "showgrid": false,
         "title": {
          "text": "Time [s]"
         }
        },
        "yaxis": {
         "autorange": true,
         "gridcolor": "lightgrey",
         "gridwidth": 1,
         "rangemode": "tozero",
         "showgrid": true,
         "title": {
          "text": "Momentum [kg*m²/(s*rad)]"
         },
         "zeroline": false
        }
       }
      }
     },
     "metadata": {},
     "output_type": "display_data"
    },
    {
     "data": {
      "application/vnd.plotly.v1+json": {
       "config": {
        "plotlyServerURL": "https://plot.ly"
       },
       "data": [
        {
         "line": {
          "color": "firebrick",
          "width": 4
         },
         "mode": "lines",
         "name": "FOREARM ANGULAR MOMENTUM",
         "type": "scatter",
         "x": [
          1.8,
          1.80556,
          1.81111,
          1.81667,
          1.82222,
          1.82778,
          1.83333,
          1.83889,
          1.84444,
          1.85,
          1.85556,
          1.86111,
          1.86667,
          1.87222,
          1.87778,
          1.88333,
          1.88889,
          1.89444,
          1.9,
          1.90556,
          1.91111,
          1.91667,
          1.92222,
          1.92778,
          1.93333,
          1.93889,
          1.94444,
          1.95,
          1.95556,
          1.96111,
          1.96667,
          1.97222,
          1.97778,
          1.98333,
          1.98889,
          1.99444,
          2,
          2.00556,
          2.01111,
          2.01667,
          2.02222,
          2.02778,
          2.03333,
          2.03889,
          2.04444,
          2.05,
          2.05556,
          2.06111,
          2.06667,
          2.07222,
          2.07778,
          2.08333,
          2.08889,
          2.09444,
          2.1,
          2.10556,
          2.11111,
          2.11667,
          2.12222,
          2.12778,
          2.13333,
          2.13889,
          2.14444,
          2.15,
          2.15556,
          2.16111,
          2.16667,
          2.17222,
          2.17778,
          2.18333,
          2.18889,
          2.19444,
          2.2,
          2.20556,
          2.21111,
          2.21667,
          2.22222,
          2.22778,
          2.23333,
          2.23889,
          2.24444,
          2.25,
          2.25556,
          2.26111,
          2.26667,
          2.27222,
          2.27778,
          2.28333,
          2.28889,
          2.29444,
          2.3,
          2.30556,
          2.31111,
          2.31667,
          2.32222,
          2.32778,
          2.33333,
          2.33889,
          2.34444,
          2.35,
          2.35556,
          2.36111,
          2.36667,
          2.37222,
          2.37778,
          2.38333,
          2.38889,
          2.39444,
          2.4,
          2.40556,
          2.41111,
          2.41667,
          2.42222,
          2.42778,
          2.43333,
          2.43889,
          2.44444,
          2.45,
          2.45556,
          2.46111,
          2.46667,
          2.47222,
          2.47778,
          2.48333,
          2.48889,
          2.49444,
          2.5,
          2.50556,
          2.51111,
          2.51667,
          2.52222,
          2.52778,
          2.53333,
          2.53889,
          2.54444,
          2.55,
          2.55556,
          2.56111,
          2.56667,
          2.57222,
          2.57778,
          2.58333,
          2.58889,
          2.59444,
          2.6,
          2.60556,
          2.61111,
          2.61667,
          2.62222,
          2.62778,
          2.63333,
          2.63889,
          2.64444,
          2.65,
          2.65556,
          2.66111,
          2.66667,
          2.67222,
          2.67778,
          2.68333,
          2.68889,
          2.69444,
          2.7,
          2.70556,
          2.71111,
          2.71667,
          2.72222,
          2.72778,
          2.73333,
          2.73889,
          2.74444,
          2.75,
          2.75556,
          2.76111,
          2.76667,
          2.77222,
          2.77778,
          2.78333,
          2.78889,
          2.79444,
          2.8,
          2.80556,
          2.81111,
          2.81667,
          2.82222,
          2.82778,
          2.83333,
          2.83889,
          2.84444,
          2.85,
          2.85556,
          2.86111,
          2.86667,
          2.87222,
          2.87778,
          2.88333,
          2.88889,
          2.89444,
          2.9,
          2.90556,
          2.91111,
          2.91667,
          2.92222,
          2.92778,
          2.93333,
          2.93889,
          2.94444,
          2.95,
          2.95556,
          2.96111
         ],
         "y": [
          0.0004580946585669,
          0.0076543331592804,
          0.0143665970286333,
          0.0196085511276063,
          0.0230256904173212,
          0.0246141508386845,
          0.0247018543089501,
          0.0238659583323564,
          0.0227953878246069,
          0.0221072920130358,
          0.0221646422464028,
          0.0230085077155551,
          0.0244571120863828,
          0.0262531574204563,
          0.028136866063496,
          0.0298484131228424,
          0.0311187797636666,
          0.0316915144366732,
          0.0313842120091862,
          0.0301676310139498,
          0.0282241301095541,
          0.0259477957482723,
          0.0238569519970772,
          0.0224114032934736,
          0.0218047609646801,
          0.0219012467243048,
          0.0223854526781513,
          0.0229598518609032,
          0.0234431132108327,
          0.0237832365231248,
          0.02403417924347,
          0.0243009367529459,
          0.0246477478948972,
          0.0250097156759091,
          0.0251831735037958,
          0.0249180923499837,
          0.0240477962340519,
          0.0225734939180673,
          0.0206690346148377,
          0.0186200495440164,
          0.0167351078054913,
          0.0152710136745285,
          0.0144022526866081,
          0.0142260822201396,
          0.0147550198353294,
          0.0158815859306622,
          0.017373845468773,
          0.0189366169528355,
          0.0202950815305221,
          0.0212474794942795,
          0.0216704051826517,
          0.021494215860532,
          0.020682525228887,
          0.0192408561693058,
          0.0172524596679633,
          0.0149164958969269,
          0.0125562643379954,
          0.0105591304690505,
          0.0092052762507871,
          0.0084562048384604,
          0.0079951021734207,
          0.0075511348465414,
          0.0071175212928869,
          0.0068866043640492,
          0.0069779027089522,
          0.0072318491405144,
          0.0073321531749881,
          0.0070474589433557,
          0.0063402647483912,
          0.0053582629157754,
          0.00436858335257,
          0.0036310734619776,
          0.0032024240915452,
          0.002890783944736,
          0.002534675337453,
          0.0022856800433301,
          0.0025417702953676,
          0.0032975150986879,
          0.0041226540319724,
          0.0046542296294074,
          0.0046816844545919,
          0.0041279195150963,
          0.0030595907295585,
          0.0018102884047071,
          0.0016618175464665,
          0.0029928939189608,
          0.0044340097773402,
          0.0055740675764969,
          0.0063472868292465,
          0.0068296310649013,
          0.0071543233756473,
          0.0074262978034277,
          0.0076681674407906,
          0.0078344327448423,
          0.0078717746974548,
          0.0077704783630284,
          0.0075780379591095,
          0.0073773951324467,
          0.0072424513135495,
          0.0071896578827911,
          0.0071559474228716,
          0.0070240184560744,
          0.0066798500445302,
          0.006069563262549,
          0.0052349161730953,
          0.0043148996163958,
          0.0034873142262575,
          0.0028226103272385,
          0.0021620318244864,
          0.0012931244822802,
          0.0011241870401155,
          0.0029857674749319,
          0.0055284553766937,
          0.008253347264317,
          0.0107770203932471,
          0.0127542581835102,
          0.0139393151953287,
          0.0142294047860463,
          0.0136642596929508,
          0.0123850441021573,
          0.010580177639418,
          0.0084617656255879,
          0.0063343398782785,
          0.0048676315669093,
          0.0051665665875846,
          0.0071220613507216,
          0.0096611530484815,
          0.0121397650586823,
          0.0141996230030759,
          0.0155934013777473,
          0.0161509774478257,
          0.0157917294106334,
          0.0145461615808321,
          0.0125664336982623,
          0.0101108492370173,
          0.0074964522340363,
          0.0050268537469422,
          0.002917182983607,
          0.0012692761904196,
          0.0006024411028326,
          0.0014904107069516,
          0.0024221134765352,
          0.0032186674448603,
          0.0038847586341092,
          0.0044784552866415,
          0.0050310398398838,
          0.0054551035544687,
          0.0055655927586913,
          0.0052051963651349,
          0.0043656439956837,
          0.0032494011176957,
          0.0022995206867714,
          0.0020613713649842,
          0.0023692080476579,
          0.0025994053281053,
          0.0025007460953593,
          0.0021104846771772,
          0.0017323039612086,
          0.0020073538328281,
          0.0030360057549638,
          0.0043193035590249,
          0.0054848929047968,
          0.0062741556892999,
          0.006513629780502,
          0.0061307490478689,
          0.0051638733213655,
          0.0037591009996644,
          0.0021817392994029,
          0.0010958878468054,
          0.0016635864428003,
          0.002489908531033,
          0.0028246708420375,
          0.0025786668573982,
          0.0018578362530664,
          0.0009268032068425,
          0.0006238161308412,
          0.0012752615396705,
          0.0017825509476173,
          0.0021007590183541,
          0.0024957064970388,
          0.0032022163201731,
          0.0041852828083705,
          0.0052760272040724,
          0.0063434345152755,
          0.0073245592561477,
          0.008192466927452,
          0.0089177858075304,
          0.0094506468182493,
          0.0097295720649414,
          0.0097074255575901,
          0.0093790508289248,
          0.0087983798656298,
          0.008078934515996,
          0.0073758337239454,
          0.0068461389104692,
          0.0065885396678236,
          0.0065962557959811,
          0.0067781705062165,
          0.0070388150107523,
          0.0073515481169436,
          0.0077846922435879,
          0.0084591852113445,
          0.0094403782652862,
          0.0106493889179922,
          0.0118845913556575,
          0.0129192083807699,
          0.0135897093731485,
          0.0138369108264156,
          0.0137003011615399,
          0.0132808653167845,
          0.0126949768311144,
          0.0120423451841852,
          0.011400762956054,
          0.01084360340928,
          0.0104632185248928,
          0.01037925244118,
          0.0107147596430395,
          0.0115441413271305,
          0.0128512602453347,
          0.0145319504372033,
          0.0164267372950449,
          0.0183513637558728,
          0.0201144760692743,
          0.021531497101555,
          0.0224481526548892,
          0.0227773699707046,
          0.0225351683933345,
          0.0218493613049661,
          0.0209209078263033,
          0.0199429116633655,
          0.0190191407023282,
          0.0181433987285329,
          0.017262500135428,
          0.0163708112338772,
          0.0155532271211467,
          0.0149319716591803,
          0.0145564681994671,
          0.01435593622354,
          0.0142343476569181,
          0.014231531404529,
          0.0145922676078679,
          0.0156271874850357,
          0.0174305954156457,
          0.0197511611532333,
          0.0221329985533869,
          0.0241185559426407,
          0.0253723371570825,
          0.0257331120549649,
          0.0252209780418616,
          0.0240087621251295,
          0.0223640110445078,
          0.020574516326553,
          0.0188804638617801,
          0.0174448232093545,
          0.0163820512400855,
          0.0158128253981543,
          0.0158555452935448,
          0.0165130603651831,
          0.0175760853722354,
          0.0186832256572262,
          0.0194804940683563,
          0.0197482447944952,
          0.019449637154495,
          0.0187133514971045,
          0.0177690340390909,
          0.0168498586347508,
          0.016089208984896,
          0.0154672189554531,
          0.0148549034518702,
          0.0141299773452675,
          0.0132845014401626,
          0.012463986563111,
          0.0119092924864359,
          0.0118009818663028,
          0.0121042381024592,
          0.0125796324855037,
          0.0129465419234641,
          0.0130367921127527,
          0.0128634194162645,
          0.0126012077752114,
          0.0124740828846869,
          0.0125933203698346,
          0.012882854156268,
          0.0131642938800859,
          0.0132873180794645,
          0.0131836995045855,
          0.0128493668231505,
          0.0123167372976542,
          0.0116556148289981,
          0.0109931787612244,
          0.0105132116424149,
          0.0104004062134042,
          0.0107450574209811,
          0.0114833970616249,
          0.0124187527423293,
          0.0132844645526696,
          0.0138121564243181,
          0.0138007017674283,
          0.0131710740443057,
          0.0119842817932549,
          0.0104166304425167,
          0.0087087518322608,
          0.0071134621337255,
          0.0058558018845423,
          0.0050862652811173,
          0.0048037754906937,
          0.0048372686228712,
          0.0049733230361048,
          0.0050911805010087,
          0.005200571585826,
          0.0054020695425525,
          0.0057925189689267,
          0.0063778910311636,
          0.0070760239488367,
          0.0077829557355725,
          0.0084197202518133,
          0.0089380428444895,
          0.0093068954868331,
          0.00949832005199,
          0.0094788433360845,
          0.0092111023381329,
          0.0086723051347842,
          0.0078888621403964,
          0.0069702626998734,
          0.0061067169012228,
          0.0054818368352517,
          0.0051132262799267,
          0.0048102199270424,
          0.0043563899675701,
          0.003724236550658,
          0.0032432756609097,
          0.003593257496276,
          0.0049848330109528,
          0.0069967949423342,
          0.0092673581914744,
          0.0115485828593122,
          0.0136270247068005,
          0.0153188042135358,
          0.0165039230015204,
          0.0171632287748096,
          0.017395547714558,
          0.0174046521738746,
          0.0174523176846302,
          0.0177821314838872,
          0.0185430964094353,
          0.0197628649521007,
          0.0213876445753355,
          0.0233445560822404,
          0.0255745244198728,
          0.0280257832146463,
          0.0306323963211969,
          0.0333053458324647,
          0.0359440262820146,
          0.0384553878038474,
          0.0407634763953297,
          0.0428026391538848,
          0.0445026859411643,
          0.0457849425875299,
          0.046587246647558,
          0.0469190532426297,
          0.0469197246241996,
          0.0468695062422265,
          0.0471077184807547,
          0.047871868673873,
          0.0491635305369736,
          0.0507590179695457,
          0.0523569906194398,
          0.0537393041204473,
          0.0548430108166257,
          0.0557310123546088,
          0.0565107634075595,
          0.0572636523207166,
          0.0580222118751303,
          0.058790729532564,
          0.0595785292220113,
          0.060418443871037,
          0.0613627519600984,
          0.0624648213040769,
          0.0637579328766924,
          0.0652379592544019,
          0.0668536405816738,
          0.0685099585682264,
          0.0700891146651454,
          0.0714842745634772,
          0.0726306894522612,
          0.0735190237379267,
          0.0741876944514422,
          0.0747035219995512,
          0.0751427854847587,
          0.0755782729800336,
          0.0760699544778208,
          0.0766539867413112,
          0.0773278630696022,
          0.0780356959382456,
          0.0786624116857764,
          0.0790447526104722,
          0.0789995835596689,
          0.0783611648244974,
          0.0770156606503435,
          0.0749246234617638,
          0.0721347541916356,
          0.0687743116587934,
          0.0650374357985377,
          0.0611591015219169,
          0.0573853137464022,
          0.0539422315190413,
          0.0510041136229372,
          0.0486609282529662,
          0.0468980051940364,
          0.0456093085203329,
          0.0446505387671813,
          0.0439048395683612,
          0.0433186629809173,
          0.0428862481199579,
          0.0425991755588275,
          0.0424018501471792,
          0.0421858905737143,
          0.0418243042445314,
          0.0412200507721047,
          0.0403427527264318,
          0.0392431488167501,
          0.0380487403480388,
          0.0369467842369002,
          0.0361544458212506,
          0.0358710474037264,
          0.0362173439674977,
          0.0371893230487471,
          0.038658936179736,
          0.0404228073832863,
          0.0422667072729568,
          0.0440152237532488,
          0.0455587725343354,
          0.0468646816657334,
          0.047978876182423,
          0.0490184319725724,
          0.0501516408440413,
          0.0515643152574583,
          0.0534169868945934,
          0.0558035409901201,
          0.0587243297476484,
          0.0620838892281637,
          0.0657150062146516,
          0.0694202887036327,
          0.0730154958140013,
          0.076360207660726,
          0.0793696624312441,
          0.0820102606307919,
          0.0842849602232452,
          0.0862140118888097,
          0.0878151740811642,
          0.0890882019041502,
          0.0900102074894314,
          0.0905480336201226,
          0.0906873701948633,
          0.0904667886974757,
          0.0899962685164125,
          0.0894439351236349,
          0.0889931131871458,
          0.0887935858188852,
          0.0889392618726264,
          0.0894894065031076,
          0.0905197261849393,
          0.092164453107541,
          0.0946110733936186,
          0.0980396801044487,
          0.1025406516246937,
          0.1080626377862474,
          0.1144181406719377,
          0.1213306674809342,
          0.1284876000827291,
          0.1355768362828925,
          0.1423100350578966,
          0.1484481560682072,
          0.1538404530983001,
          0.1584730072117501,
          0.1625061631674168,
          0.166268645962481,
          0.1701781321758654,
          0.1745852504709974,
          0.1795907159586811,
          0.1849315616120189,
          0.1900238927419994,
          0.1941837344320893,
          0.1969839625276005,
          0.198684322726541,
          0.2006438613588761,
          0.205487886128684,
          0.2165858479434381,
          0.2365966916433255,
          0.2658973382194867,
          0.3022469972270121,
          0.3417305814156006,
          0.3799487114302526,
          0.4128466893687436,
          0.4371613550841408,
          0.4506010454881434,
          0.4518527570719068,
          0.4405058289571735,
          0.4169789164214811,
          0.3825008142831428,
          0.3391314440732169,
          0.2897556957924722,
          0.2379728361958336,
          0.1878356314936941,
          0.1434260854940958,
          0.108219804962578,
          0.0840962423867264,
          0.0703185611850037,
          0.0643285397007047,
          0.0646466501102317,
          0.0715753174831014,
          0.0846460335678624,
          0.1014551869935226,
          0.1189298456380215,
          0.1344789944953489,
          0.1463761460088703,
          0.1537779464747742,
          0.1566042746683519,
          0.1553521851544169,
          0.1508824159581291,
          0.1442124212697807,
          0.1363436880662653,
          0.1281397825745992,
          0.1202581036525167,
          0.1131272378068855,
          0.1069570817937278,
          0.1017708899504245,
          0.0974522791590304,
          0.0938001339193076,
          0.090580813060323,
          0.087567037785608,
          0.084560304506837,
          0.081403527916294,
          0.0779944254457725,
          0.0743049506581983,
          0.0704020292707231,
          0.0664563153378242,
          0.0627230070313358,
          0.0594848008453373,
          0.0569649154269192,
          0.0552447735197395,
          0.054234496572862,
          0.0537173036190554,
          0.0534359742029646,
          0.0531646168468761,
          0.0527309674365894,
          0.0519919516059019,
          0.0507902964996075,
          0.0489262754321217,
          0.0461667442033623,
          0.0422901289387323,
          0.0371470862794208,
          0.0307150230870467,
          0.0231392799310897,
          0.0147910243128668,
          0.0067148261499124,
          0.0061810182942045,
          0.0136502655522476,
          0.0211819248732073,
          0.0278401930071822,
          0.0335892564803317,
          0.0386635616395957,
          0.0433490222433691,
          0.0478008358314618,
          0.0519761869139718,
          0.055707299828287,
          0.0588363970070576,
          0.0613156943923757,
          0.0632311847772535,
          0.0647650568749418,
          0.0661331936200369,
          0.067526275667759,
          0.0690660868796524,
          0.0707810623836267,
          0.0726068381507893,
          0.0744135487218062,
          0.0760476426179628,
          0.0773674575997406,
          0.0782609753831465,
          0.0786521865002376,
          0.0785103199787866,
          0.0778664890025228,
          0.0768263647276077,
          0.0755621207935611,
          0.0742775102357028,
          0.0731573255293843,
          0.0723228077392962,
          0.0718108384725038,
          0.0715811779955245,
          0.0715430355870808,
          0.0715872544469961,
          0.0716132844759283,
          0.0715462518778117,
          0.0713441148852626,
          0.0709961758068998,
          0.0705138854529778,
          0.0699162144456799,
          0.0692153013478251,
          0.0684099955726833,
          0.067491795006478,
          0.0664605655629769,
          0.0653411312632944,
          0.064190560241328,
          0.0630904037329409,
          0.0621255287700051,
          0.0613574317268665,
          0.0608020638593037,
          0.0604197726690691,
          0.0601197428340462,
          0.0597763360931655,
          0.0592526461514371,
          0.0584274954418715,
          0.0572230373791216,
          0.0556282469372238,
          0.0537101514034311,
          0.0516046087860957,
          0.0494851548962921,
          0.047519317105238,
          0.0458294586454949,
          0.0444732503142608,
          0.0434474722885023,
          0.04270585743692,
          0.0421766858183186,
          0.0417717034472989,
          0.0413885174275769,
          0.0409149544848567,
          0.0402420264847416,
          0.039285264811054,
          0.0380079273284669,
          0.036437091023878,
          0.0346651523297451,
          0.0328338836507272,
          0.0311042560301816,
          0.0296202958881228,
          0.028477295311184,
          0.0277030399980725,
          0.0272559571131673,
          0.0270382469924438,
          0.0269179843471951,
          0.0267533440725558,
          0.026413924073641,
          0.0257975885011519,
          0.0248452149021187,
          0.0235578699175468,
          0.0220188116115248,
          0.0204150397535104,
          0.019037274857325,
          0.0182144559778261,
          0.0181535493723644,
          0.0187811050028554,
          0.0197660176024032,
          0.0207028017222895,
          0.0212711259558975,
          0.0212950208744694,
          0.0207339883001317,
          0.0196475046156518,
          0.0181570541752965,
          0.0164167695069503,
          0.0145944503384856,
          0.0128582578105164,
          0.0113619697070142,
          0.0102241848361863,
          0.0095040911778204,
          0.0091847454008099,
          0.009174376602301,
          0.0093247118453621,
          0.0094597422538786,
          0.0094132112983555,
          0.0090727272036643,
          0.0084222483383873,
          0.0075722243892612,
          0.0067634159392107,
          0.0063061077729462,
          0.0064085109166984,
          0.0070368811268654,
          0.0080350984819427,
          0.0092988140378059,
          0.0107765239254488,
          0.0123889326413117,
          0.0139922389806162,
          0.0154101730752794,
          0.0164960728785114,
          0.0171842408273345,
          0.0175104655656738,
          0.0175971578940124,
          0.0176085937310918,
          0.0176930433528664,
          0.0179386880105536,
          0.0183646363519324,
          0.0189437079727683,
          0.0196347307407659,
          0.0204067998503465,
          0.0212513671197689,
          0.0221830690598962,
          0.0232291195004022,
          0.0244082502892684,
          0.025706129513966,
          0.0270608276060908,
          0.0283707884024789,
          0.0295249323987638,
          0.0304394218182652,
          0.0310823847666736,
          0.0314784732864681,
          0.0316983329233697,
          0.0318427986952755,
          0.0320270426735603,
          0.0323637782199047,
          0.0329438324571028,
          0.0338163277801041,
          0.0349742785237265,
          0.0363514063336525,
          0.037832640417594,
          0.0392757380112825,
          0.0405370256093151,
          0.0414931822365844,
          0.0420544362512766,
          0.0421701896986447,
          0.041831605189653,
          0.0410746823631374,
          0.0399831167971761,
          0.0386862086499252,
          0.0373467119383735,
          0.0361383424432533,
          0.0352195650753438,
          0.0347118567002202,
          0.0346836737462637,
          0.035133990097473,
          0.0359717405132173,
          0.0369971209898608,
          0.0378963797385797,
          0.0382597902159345,
          0.0376271795512694,
          0.0355592896141659,
          0.031725974654722,
          0.0259942995977183,
          0.0184933508822918,
          0.009631626165097,
          0.00009039299413906146
         ]
        }
       ],
       "layout": {
        "annotations": [
         {
          "font": {
           "color": "cyan",
           "size": 16
          },
          "showarrow": false,
          "text": "KH",
          "textangle": -90,
          "x": 1.81111,
          "xref": "x",
          "y": 1,
          "yref": "paper"
         },
         {
          "font": {
           "color": "cyan",
           "size": 16
          },
          "showarrow": false,
          "text": "FC",
          "textangle": -90,
          "x": 2.61111,
          "xref": "x",
          "y": 1,
          "yref": "paper"
         },
         {
          "font": {
           "color": "cyan",
           "size": 16
          },
          "showarrow": false,
          "text": "MER",
          "textangle": -90,
          "x": 2.73333,
          "xref": "x",
          "y": 1,
          "yref": "paper"
         },
         {
          "font": {
           "color": "cyan",
           "size": 16
          },
          "showarrow": false,
          "text": "BR",
          "textangle": -90,
          "x": 2.77778,
          "xref": "x",
          "y": 1,
          "yref": "paper"
         }
        ],
        "height": 600,
        "margin": {
         "b": 40,
         "l": 40,
         "r": 40,
         "t": 40
        },
        "plot_bgcolor": "rgb(43,48,61)",
        "shapes": [
         {
          "line": {
           "color": "cyan",
           "dash": "dash",
           "width": 4
          },
          "opacity": 0.5,
          "type": "line",
          "x0": 1.8,
          "x1": 1.8,
          "xref": "x",
          "y0": 0,
          "y1": 1,
          "yref": "paper"
         },
         {
          "line": {
           "color": "cyan",
           "dash": "dash",
           "width": 4
          },
          "opacity": 0.5,
          "type": "line",
          "x0": 2.6,
          "x1": 2.6,
          "xref": "x",
          "y0": 0,
          "y1": 1,
          "yref": "paper"
         },
         {
          "line": {
           "color": "cyan",
           "dash": "dash",
           "width": 4
          },
          "opacity": 0.5,
          "type": "line",
          "x0": 2.72222,
          "x1": 2.72222,
          "xref": "x",
          "y0": 0,
          "y1": 1,
          "yref": "paper"
         },
         {
          "line": {
           "color": "cyan",
           "dash": "dash",
           "width": 4
          },
          "opacity": 0.5,
          "type": "line",
          "x0": 2.76667,
          "x1": 2.76667,
          "xref": "x",
          "y0": 0,
          "y1": 1,
          "yref": "paper"
         }
        ],
        "showlegend": false,
        "template": {
         "data": {
          "bar": [
           {
            "error_x": {
             "color": "#2a3f5f"
            },
            "error_y": {
             "color": "#2a3f5f"
            },
            "marker": {
             "line": {
              "color": "#E5ECF6",
              "width": 0.5
             },
             "pattern": {
              "fillmode": "overlay",
              "size": 10,
              "solidity": 0.2
             }
            },
            "type": "bar"
           }
          ],
          "barpolar": [
           {
            "marker": {
             "line": {
              "color": "#E5ECF6",
              "width": 0.5
             },
             "pattern": {
              "fillmode": "overlay",
              "size": 10,
              "solidity": 0.2
             }
            },
            "type": "barpolar"
           }
          ],
          "carpet": [
           {
            "aaxis": {
             "endlinecolor": "#2a3f5f",
             "gridcolor": "white",
             "linecolor": "white",
             "minorgridcolor": "white",
             "startlinecolor": "#2a3f5f"
            },
            "baxis": {
             "endlinecolor": "#2a3f5f",
             "gridcolor": "white",
             "linecolor": "white",
             "minorgridcolor": "white",
             "startlinecolor": "#2a3f5f"
            },
            "type": "carpet"
           }
          ],
          "choropleth": [
           {
            "colorbar": {
             "outlinewidth": 0,
             "ticks": ""
            },
            "type": "choropleth"
           }
          ],
          "contour": [
           {
            "colorbar": {
             "outlinewidth": 0,
             "ticks": ""
            },
            "colorscale": [
             [
              0,
              "#0d0887"
             ],
             [
              0.1111111111111111,
              "#46039f"
             ],
             [
              0.2222222222222222,
              "#7201a8"
             ],
             [
              0.3333333333333333,
              "#9c179e"
             ],
             [
              0.4444444444444444,
              "#bd3786"
             ],
             [
              0.5555555555555556,
              "#d8576b"
             ],
             [
              0.6666666666666666,
              "#ed7953"
             ],
             [
              0.7777777777777778,
              "#fb9f3a"
             ],
             [
              0.8888888888888888,
              "#fdca26"
             ],
             [
              1,
              "#f0f921"
             ]
            ],
            "type": "contour"
           }
          ],
          "contourcarpet": [
           {
            "colorbar": {
             "outlinewidth": 0,
             "ticks": ""
            },
            "type": "contourcarpet"
           }
          ],
          "heatmap": [
           {
            "colorbar": {
             "outlinewidth": 0,
             "ticks": ""
            },
            "colorscale": [
             [
              0,
              "#0d0887"
             ],
             [
              0.1111111111111111,
              "#46039f"
             ],
             [
              0.2222222222222222,
              "#7201a8"
             ],
             [
              0.3333333333333333,
              "#9c179e"
             ],
             [
              0.4444444444444444,
              "#bd3786"
             ],
             [
              0.5555555555555556,
              "#d8576b"
             ],
             [
              0.6666666666666666,
              "#ed7953"
             ],
             [
              0.7777777777777778,
              "#fb9f3a"
             ],
             [
              0.8888888888888888,
              "#fdca26"
             ],
             [
              1,
              "#f0f921"
             ]
            ],
            "type": "heatmap"
           }
          ],
          "heatmapgl": [
           {
            "colorbar": {
             "outlinewidth": 0,
             "ticks": ""
            },
            "colorscale": [
             [
              0,
              "#0d0887"
             ],
             [
              0.1111111111111111,
              "#46039f"
             ],
             [
              0.2222222222222222,
              "#7201a8"
             ],
             [
              0.3333333333333333,
              "#9c179e"
             ],
             [
              0.4444444444444444,
              "#bd3786"
             ],
             [
              0.5555555555555556,
              "#d8576b"
             ],
             [
              0.6666666666666666,
              "#ed7953"
             ],
             [
              0.7777777777777778,
              "#fb9f3a"
             ],
             [
              0.8888888888888888,
              "#fdca26"
             ],
             [
              1,
              "#f0f921"
             ]
            ],
            "type": "heatmapgl"
           }
          ],
          "histogram": [
           {
            "marker": {
             "pattern": {
              "fillmode": "overlay",
              "size": 10,
              "solidity": 0.2
             }
            },
            "type": "histogram"
           }
          ],
          "histogram2d": [
           {
            "colorbar": {
             "outlinewidth": 0,
             "ticks": ""
            },
            "colorscale": [
             [
              0,
              "#0d0887"
             ],
             [
              0.1111111111111111,
              "#46039f"
             ],
             [
              0.2222222222222222,
              "#7201a8"
             ],
             [
              0.3333333333333333,
              "#9c179e"
             ],
             [
              0.4444444444444444,
              "#bd3786"
             ],
             [
              0.5555555555555556,
              "#d8576b"
             ],
             [
              0.6666666666666666,
              "#ed7953"
             ],
             [
              0.7777777777777778,
              "#fb9f3a"
             ],
             [
              0.8888888888888888,
              "#fdca26"
             ],
             [
              1,
              "#f0f921"
             ]
            ],
            "type": "histogram2d"
           }
          ],
          "histogram2dcontour": [
           {
            "colorbar": {
             "outlinewidth": 0,
             "ticks": ""
            },
            "colorscale": [
             [
              0,
              "#0d0887"
             ],
             [
              0.1111111111111111,
              "#46039f"
             ],
             [
              0.2222222222222222,
              "#7201a8"
             ],
             [
              0.3333333333333333,
              "#9c179e"
             ],
             [
              0.4444444444444444,
              "#bd3786"
             ],
             [
              0.5555555555555556,
              "#d8576b"
             ],
             [
              0.6666666666666666,
              "#ed7953"
             ],
             [
              0.7777777777777778,
              "#fb9f3a"
             ],
             [
              0.8888888888888888,
              "#fdca26"
             ],
             [
              1,
              "#f0f921"
             ]
            ],
            "type": "histogram2dcontour"
           }
          ],
          "mesh3d": [
           {
            "colorbar": {
             "outlinewidth": 0,
             "ticks": ""
            },
            "type": "mesh3d"
           }
          ],
          "parcoords": [
           {
            "line": {
             "colorbar": {
              "outlinewidth": 0,
              "ticks": ""
             }
            },
            "type": "parcoords"
           }
          ],
          "pie": [
           {
            "automargin": true,
            "type": "pie"
           }
          ],
          "scatter": [
           {
            "fillpattern": {
             "fillmode": "overlay",
             "size": 10,
             "solidity": 0.2
            },
            "type": "scatter"
           }
          ],
          "scatter3d": [
           {
            "line": {
             "colorbar": {
              "outlinewidth": 0,
              "ticks": ""
             }
            },
            "marker": {
             "colorbar": {
              "outlinewidth": 0,
              "ticks": ""
             }
            },
            "type": "scatter3d"
           }
          ],
          "scattercarpet": [
           {
            "marker": {
             "colorbar": {
              "outlinewidth": 0,
              "ticks": ""
             }
            },
            "type": "scattercarpet"
           }
          ],
          "scattergeo": [
           {
            "marker": {
             "colorbar": {
              "outlinewidth": 0,
              "ticks": ""
             }
            },
            "type": "scattergeo"
           }
          ],
          "scattergl": [
           {
            "marker": {
             "colorbar": {
              "outlinewidth": 0,
              "ticks": ""
             }
            },
            "type": "scattergl"
           }
          ],
          "scattermapbox": [
           {
            "marker": {
             "colorbar": {
              "outlinewidth": 0,
              "ticks": ""
             }
            },
            "type": "scattermapbox"
           }
          ],
          "scatterpolar": [
           {
            "marker": {
             "colorbar": {
              "outlinewidth": 0,
              "ticks": ""
             }
            },
            "type": "scatterpolar"
           }
          ],
          "scatterpolargl": [
           {
            "marker": {
             "colorbar": {
              "outlinewidth": 0,
              "ticks": ""
             }
            },
            "type": "scatterpolargl"
           }
          ],
          "scatterternary": [
           {
            "marker": {
             "colorbar": {
              "outlinewidth": 0,
              "ticks": ""
             }
            },
            "type": "scatterternary"
           }
          ],
          "surface": [
           {
            "colorbar": {
             "outlinewidth": 0,
             "ticks": ""
            },
            "colorscale": [
             [
              0,
              "#0d0887"
             ],
             [
              0.1111111111111111,
              "#46039f"
             ],
             [
              0.2222222222222222,
              "#7201a8"
             ],
             [
              0.3333333333333333,
              "#9c179e"
             ],
             [
              0.4444444444444444,
              "#bd3786"
             ],
             [
              0.5555555555555556,
              "#d8576b"
             ],
             [
              0.6666666666666666,
              "#ed7953"
             ],
             [
              0.7777777777777778,
              "#fb9f3a"
             ],
             [
              0.8888888888888888,
              "#fdca26"
             ],
             [
              1,
              "#f0f921"
             ]
            ],
            "type": "surface"
           }
          ],
          "table": [
           {
            "cells": {
             "fill": {
              "color": "#EBF0F8"
             },
             "line": {
              "color": "white"
             }
            },
            "header": {
             "fill": {
              "color": "#C8D4E3"
             },
             "line": {
              "color": "white"
             }
            },
            "type": "table"
           }
          ]
         },
         "layout": {
          "annotationdefaults": {
           "arrowcolor": "#2a3f5f",
           "arrowhead": 0,
           "arrowwidth": 1
          },
          "autotypenumbers": "strict",
          "coloraxis": {
           "colorbar": {
            "outlinewidth": 0,
            "ticks": ""
           }
          },
          "colorscale": {
           "diverging": [
            [
             0,
             "#8e0152"
            ],
            [
             0.1,
             "#c51b7d"
            ],
            [
             0.2,
             "#de77ae"
            ],
            [
             0.3,
             "#f1b6da"
            ],
            [
             0.4,
             "#fde0ef"
            ],
            [
             0.5,
             "#f7f7f7"
            ],
            [
             0.6,
             "#e6f5d0"
            ],
            [
             0.7,
             "#b8e186"
            ],
            [
             0.8,
             "#7fbc41"
            ],
            [
             0.9,
             "#4d9221"
            ],
            [
             1,
             "#276419"
            ]
           ],
           "sequential": [
            [
             0,
             "#0d0887"
            ],
            [
             0.1111111111111111,
             "#46039f"
            ],
            [
             0.2222222222222222,
             "#7201a8"
            ],
            [
             0.3333333333333333,
             "#9c179e"
            ],
            [
             0.4444444444444444,
             "#bd3786"
            ],
            [
             0.5555555555555556,
             "#d8576b"
            ],
            [
             0.6666666666666666,
             "#ed7953"
            ],
            [
             0.7777777777777778,
             "#fb9f3a"
            ],
            [
             0.8888888888888888,
             "#fdca26"
            ],
            [
             1,
             "#f0f921"
            ]
           ],
           "sequentialminus": [
            [
             0,
             "#0d0887"
            ],
            [
             0.1111111111111111,
             "#46039f"
            ],
            [
             0.2222222222222222,
             "#7201a8"
            ],
            [
             0.3333333333333333,
             "#9c179e"
            ],
            [
             0.4444444444444444,
             "#bd3786"
            ],
            [
             0.5555555555555556,
             "#d8576b"
            ],
            [
             0.6666666666666666,
             "#ed7953"
            ],
            [
             0.7777777777777778,
             "#fb9f3a"
            ],
            [
             0.8888888888888888,
             "#fdca26"
            ],
            [
             1,
             "#f0f921"
            ]
           ]
          },
          "colorway": [
           "#636efa",
           "#EF553B",
           "#00cc96",
           "#ab63fa",
           "#FFA15A",
           "#19d3f3",
           "#FF6692",
           "#B6E880",
           "#FF97FF",
           "#FECB52"
          ],
          "font": {
           "color": "#2a3f5f"
          },
          "geo": {
           "bgcolor": "white",
           "lakecolor": "white",
           "landcolor": "#E5ECF6",
           "showlakes": true,
           "showland": true,
           "subunitcolor": "white"
          },
          "hoverlabel": {
           "align": "left"
          },
          "hovermode": "closest",
          "mapbox": {
           "style": "light"
          },
          "paper_bgcolor": "white",
          "plot_bgcolor": "#E5ECF6",
          "polar": {
           "angularaxis": {
            "gridcolor": "white",
            "linecolor": "white",
            "ticks": ""
           },
           "bgcolor": "#E5ECF6",
           "radialaxis": {
            "gridcolor": "white",
            "linecolor": "white",
            "ticks": ""
           }
          },
          "scene": {
           "xaxis": {
            "backgroundcolor": "#E5ECF6",
            "gridcolor": "white",
            "gridwidth": 2,
            "linecolor": "white",
            "showbackground": true,
            "ticks": "",
            "zerolinecolor": "white"
           },
           "yaxis": {
            "backgroundcolor": "#E5ECF6",
            "gridcolor": "white",
            "gridwidth": 2,
            "linecolor": "white",
            "showbackground": true,
            "ticks": "",
            "zerolinecolor": "white"
           },
           "zaxis": {
            "backgroundcolor": "#E5ECF6",
            "gridcolor": "white",
            "gridwidth": 2,
            "linecolor": "white",
            "showbackground": true,
            "ticks": "",
            "zerolinecolor": "white"
           }
          },
          "shapedefaults": {
           "line": {
            "color": "#2a3f5f"
           }
          },
          "ternary": {
           "aaxis": {
            "gridcolor": "white",
            "linecolor": "white",
            "ticks": ""
           },
           "baxis": {
            "gridcolor": "white",
            "linecolor": "white",
            "ticks": ""
           },
           "bgcolor": "#E5ECF6",
           "caxis": {
            "gridcolor": "white",
            "linecolor": "white",
            "ticks": ""
           }
          },
          "title": {
           "x": 0.05
          },
          "xaxis": {
           "automargin": true,
           "gridcolor": "white",
           "linecolor": "white",
           "ticks": "",
           "title": {
            "standoff": 15
           },
           "zerolinecolor": "white",
           "zerolinewidth": 2
          },
          "yaxis": {
           "automargin": true,
           "gridcolor": "white",
           "linecolor": "white",
           "ticks": "",
           "title": {
            "standoff": 15
           },
           "zerolinecolor": "white",
           "zerolinewidth": 2
          }
         }
        },
        "title": {
         "text": "FOREARM ANGULAR MOMENTUM"
        },
        "xaxis": {
         "showgrid": false,
         "title": {
          "text": "Time [s]"
         }
        },
        "yaxis": {
         "autorange": true,
         "gridcolor": "lightgrey",
         "gridwidth": 1,
         "rangemode": "tozero",
         "showgrid": true,
         "title": {
          "text": "Momentum [kg*m²/(s*rad)]"
         },
         "zeroline": false
        }
       }
      }
     },
     "metadata": {},
     "output_type": "display_data"
    },
    {
     "data": {
      "application/vnd.plotly.v1+json": {
       "config": {
        "plotlyServerURL": "https://plot.ly"
       },
       "data": [
        {
         "line": {
          "color": "firebrick",
          "width": 4
         },
         "mode": "lines",
         "name": "SHANK POWER",
         "type": "scatter",
         "x": [
          1.8,
          1.80556,
          1.81111,
          1.81667,
          1.82222,
          1.82778,
          1.83333,
          1.83889,
          1.84444,
          1.85,
          1.85556,
          1.86111,
          1.86667,
          1.87222,
          1.87778,
          1.88333,
          1.88889,
          1.89444,
          1.9,
          1.90556,
          1.91111,
          1.91667,
          1.92222,
          1.92778,
          1.93333,
          1.93889,
          1.94444,
          1.95,
          1.95556,
          1.96111,
          1.96667,
          1.97222,
          1.97778,
          1.98333,
          1.98889,
          1.99444,
          2,
          2.00556,
          2.01111,
          2.01667,
          2.02222,
          2.02778,
          2.03333,
          2.03889,
          2.04444,
          2.05,
          2.05556,
          2.06111,
          2.06667,
          2.07222,
          2.07778,
          2.08333,
          2.08889,
          2.09444,
          2.1,
          2.10556,
          2.11111,
          2.11667,
          2.12222,
          2.12778,
          2.13333,
          2.13889,
          2.14444,
          2.15,
          2.15556,
          2.16111,
          2.16667,
          2.17222,
          2.17778,
          2.18333,
          2.18889,
          2.19444,
          2.2,
          2.20556,
          2.21111,
          2.21667,
          2.22222,
          2.22778,
          2.23333,
          2.23889,
          2.24444,
          2.25,
          2.25556,
          2.26111,
          2.26667,
          2.27222,
          2.27778,
          2.28333,
          2.28889,
          2.29444,
          2.3,
          2.30556,
          2.31111,
          2.31667,
          2.32222,
          2.32778,
          2.33333,
          2.33889,
          2.34444,
          2.35,
          2.35556,
          2.36111,
          2.36667,
          2.37222,
          2.37778,
          2.38333,
          2.38889,
          2.39444,
          2.4,
          2.40556,
          2.41111,
          2.41667,
          2.42222,
          2.42778,
          2.43333,
          2.43889,
          2.44444,
          2.45,
          2.45556,
          2.46111,
          2.46667,
          2.47222,
          2.47778,
          2.48333,
          2.48889,
          2.49444,
          2.5,
          2.50556,
          2.51111,
          2.51667,
          2.52222,
          2.52778,
          2.53333,
          2.53889,
          2.54444,
          2.55,
          2.55556,
          2.56111,
          2.56667,
          2.57222,
          2.57778,
          2.58333,
          2.58889,
          2.59444,
          2.6,
          2.60556,
          2.61111,
          2.61667,
          2.62222,
          2.62778,
          2.63333,
          2.63889,
          2.64444,
          2.65,
          2.65556,
          2.66111,
          2.66667,
          2.67222,
          2.67778,
          2.68333,
          2.68889,
          2.69444,
          2.7,
          2.70556,
          2.71111,
          2.71667,
          2.72222,
          2.72778,
          2.73333,
          2.73889,
          2.74444,
          2.75,
          2.75556,
          2.76111,
          2.76667,
          2.77222,
          2.77778,
          2.78333,
          2.78889,
          2.79444,
          2.8,
          2.80556,
          2.81111,
          2.81667,
          2.82222,
          2.82778,
          2.83333,
          2.83889,
          2.84444,
          2.85,
          2.85556,
          2.86111,
          2.86667,
          2.87222,
          2.87778,
          2.88333,
          2.88889,
          2.89444,
          2.9,
          2.90556,
          2.91111,
          2.91667,
          2.92222,
          2.92778,
          2.93333,
          2.93889,
          2.94444,
          2.95,
          2.95556,
          2.96111
         ],
         "y": [
          -0.0008691915006795088,
          0.03649290870039538,
          0.06777422981763825,
          0.08800641116791741,
          0.09616352248284295,
          0.09517841600602361,
          0.09028118335759615,
          0.08643109409865694,
          0.08610574682066284,
          0.08851210560275473,
          0.09049225149179783,
          0.08852772112291313,
          0.08079316722526902,
          0.0683150908151345,
          0.054772424073924963,
          0.0450579272809268,
          0.04320829128413474,
          0.050580688710028625,
          0.06507812361687414,
          0.08175561588718819,
          0.09447004677512309,
          0.09778265411240249,
          0.08838757266791386,
          0.06580066560255349,
          0.03245372583844265,
          -0.006619674428732903,
          -0.04453040141357931,
          -0.07381343462686132,
          -0.08810451706512994,
          -0.08375779112066749,
          -0.060895743354705524,
          -0.023636592527982486,
          0.02046583971884073,
          0.061634542491937866,
          0.08963808478783576,
          0.09598297668476988,
          0.0761645897247022,
          0.03130085811725546,
          -0.031627634404491185,
          -0.10135366018219447,
          -0.16538785196965647,
          -0.213511919666321,
          -0.24039509057768693,
          -0.24642302468501726,
          -0.23662862725571843,
          -0.21838815532226627,
          -0.19891322330563443,
          -0.1834036973929691,
          -0.17422778611056142,
          -0.1710297648373979,
          -0.1714701876793178,
          -0.1723291401612992,
          -0.17073776090464318,
          -0.1652307358844175,
          -0.1562388476807918,
          -0.14576486016743484,
          -0.1363501326377102,
          -0.12983194443564539,
          -0.1265214204223458,
          -0.12518362563609634,
          -0.12373197915444682,
          -0.1201799711318469,
          -0.11336592691941631,
          -0.10323382301212725,
          -0.09074011629572584,
          -0.07755459859392336,
          -0.06565965299900746,
          -0.05688041584990148,
          -0.052393747242194894,
          -0.05233510968884417,
          -0.0556543191901913,
          -0.06031581204113333,
          -0.06382559251444109,
          -0.06394359700804,
          -0.05935097053890954,
          -0.05003949247887551,
          -0.0372956252985192,
          -0.023307869062641328,
          -0.010546883746870251,
          -0.0011161786994630955,
          0.003740831788853646,
          0.0038525982660159,
          0.000023760246064186814,
          -0.006296424580845297,
          -0.013450782622509663,
          -0.01997236551101876,
          -0.02483472130830472,
          -0.027523129831143262,
          -0.027976504140072342,
          -0.026479115627959408,
          -0.02355365109319232,
          -0.019864235469926415,
          -0.016117054066929613,
          -0.012952371183428098,
          -0.010841275278698005,
          -0.010016070533167672,
          -0.01045679412032734,
          -0.011924166348080037,
          -0.014004938229630825,
          -0.01615844372982105,
          -0.01779998567950657,
          -0.01845555142633544,
          -0.017950758560738148,
          -0.016523672709017192,
          -0.01476372929530163,
          -0.013383172588343,
          -0.012935369586300677,
          -0.013621273020137385,
          -0.015268935808270328,
          -0.017480231063234115,
          -0.019857757494982923,
          -0.02218868069972858,
          -0.024490848709456125,
          -0.026901941273331544,
          -0.029473711254222306,
          -0.031983441075559484,
          -0.03386828124159215,
          -0.03432827393623189,
          -0.03256771117433104,
          -0.02808963876870086,
          -0.020938273549521425,
          -0.01179910244149035,
          -0.0019119800792019989,
          0.007186347659215307,
          0.01401988323150266,
          0.01753031932997741,
          0.01732959205279054,
          0.013771879392977311,
          0.007829802227644215,
          0.0008326335989819781,
          -0.005836189023690822,
          -0.010999871000571529,
          -0.013867640158127616,
          -0.01412626784690766,
          -0.011946725822062488,
          -0.007905339659129563,
          -0.002826452155586332,
          0.0024193872525961296,
          0.0071038023046264805,
          0.010759704825712264,
          0.013202502869553837,
          0.014463808329692773,
          0.014681491987078637,
          0.013999134825141835,
          0.0125111943997148,
          0.010265740677770387,
          0.007318540658013025,
          0.0038186571475671677,
          0.00008872566185459781,
          -0.003353873294589501,
          -0.005881037291734119,
          -0.0069387474887402205,
          -0.0062631345335882336,
          -0.004029373459337216,
          -0.0008575550943622879,
          0.0023457184142978505,
          0.004664253987782008,
          0.005464479192703218,
          0.0045853553973081865,
          0.0023534908111748363,
          -0.0005708379460786484,
          -0.003444414296059856,
          -0.005686313555075716,
          -0.0070263908988544635,
          -0.00751316330740123,
          -0.00740134881356066,
          -0.0069869858961909646,
          -0.006467564531561555,
          -0.005879935729188441,
          -0.0051284315118715305,
          -0.004078307526242424,
          -0.0026676761637472748,
          -0.000988098818706832,
          0.0007032108656262429,
          0.0020518801627439584,
          0.0027346557282830284,
          0.002595749914392279,
          0.001730737305385767,
          0.0004814938610784912,
          -0.0006519550394486483,
          -0.0011444104063428715,
          -0.0005789421444267703,
          0.001248150870061611,
          0.00426102300543621,
          0.00808225827760087,
          0.012070095274157651,
          0.015431012285046316,
          0.017399355263390454,
          0.01743921987588905,
          0.015406076153769592,
          0.011616109870640075,
          0.006795337829900521,
          0.0019125006652874364,
          -0.0020579213107148374,
          -0.004363137228857953,
          -0.004615849729068567,
          -0.002822851595625045,
          0.0006820587883872967,
          0.0053475395449460155,
          0.010502353407764049,
          0.015419920831789466,
          0.019369655054779052,
          0.0216894552356525,
          0.02189425814383546,
          0.019804754152983953,
          0.015659492737604464,
          0.01016565734388785,
          0.004448348143274645,
          -0.00011460652773907253,
          -0.002136826101004735,
          -0.00047680580602884394,
          0.005558008043456054,
          0.01607834720016424,
          0.0305512103644986,
          0.04781035205470651,
          0.06614906759483093,
          0.08350441037466304,
          0.09772902107260348,
          0.10693454268274015,
          0.10988890677678022,
          0.10643954631892101,
          0.09788844408916024,
          0.08717868312912895,
          0.07873561785692275,
          0.07790049858585804,
          0.09006872786711,
          0.11977422003135894,
          0.16994336979570962,
          0.24140660717189008,
          0.3326388864091155,
          0.4397084810032134,
          0.5565174219836936,
          0.6754871304444886,
          0.7887757746666725,
          0.8899306590693356,
          0.9757062434328213,
          1.0477136635894682,
          1.1135500660479147,
          1.1869397728467752,
          1.2862358236596383,
          1.4306779212841947,
          1.6343832349452452,
          1.8991604054582316,
          2.208457460653185,
          2.5253276811966865,
          2.796606714072959,
          2.9635776788815127,
          2.9769654079997556,
          2.812125965268853,
          2.4795713581678767,
          2.026736618363071,
          1.5290316455067658,
          1.0716344105560607,
          0.7275261848581979,
          0.5397471467226844,
          0.5142920144747783,
          0.6248255750018973,
          0.8251462013761185,
          1.0634908237996474,
          1.294377711369666,
          1.486215603840998,
          1.6243631454482728,
          1.7096645079568527,
          1.7528506865496694,
          1.7664059694633034,
          1.757092929658667,
          1.7227460225331912,
          1.6550742333564925,
          1.5469139449384437,
          1.3999516638192488,
          1.2289128192646872,
          1.0600714456641511,
          0.9243050298255948,
          0.8471345560686759,
          0.8399101095263348,
          0.8964192941383536,
          0.9966444680018719,
          1.1152251888416655,
          1.229571105922031,
          1.3237447888083143,
          1.3878862048391238,
          1.4157081466095986,
          1.4026376917933363,
          1.3455225356810734,
          1.2434736351122446,
          1.0992382948796722,
          0.9208083735728343,
          0.722747565676738,
          0.5259730257166133,
          0.3545918824867045,
          0.2298037967097964,
          0.16315563201035918,
          0.15262602585549842,
          0.18381783682494102,
          0.23562139610820726,
          0.2872159473166128,
          0.32303695581857605,
          0.33433950635931275,
          0.3183495574395967,
          0.27678214841165494,
          0.21462059158745248,
          0.13895039225263836,
          0.05743139349200214,
          -0.023534108125044757,
          -0.10044840054472678,
          -0.17358748915728822,
          -0.24659942304167146,
          -0.3246278984004608,
          -0.41136458881974275,
          -0.5061981453441258,
          -0.6029538367271887,
          -0.6911141520297313,
          -0.759130774111259,
          -0.7983615995591187,
          -0.8059660674568059,
          -0.7856972221335708,
          -0.7464461446834172,
          -0.6992214115939009,
          -0.65374140173008,
          -0.6158327908595397,
          -0.5863930205369507,
          -0.5620111966505013,
          -0.5367529839794571,
          -0.5043376093592049,
          -0.46001361452791134,
          -0.40171750049373994,
          -0.3303746417115206,
          -0.24939946466808205,
          -0.16362603463369293,
          -0.07807757693067285,
          0.002944566710233243,
          0.07614179149610589,
          0.1389394087316081,
          0.18908364875292089,
          0.2246396335974217,
          0.24463462587417414,
          0.2500846541382441,
          0.2447205083522656,
          0.23468278962507227,
          0.2268833414354079,
          0.22647433618135704,
          0.23453483046812185,
          0.24717193762124787,
          0.256516853884692,
          0.2530390678487674,
          0.22805589593287254,
          0.17566324911580417,
          0.09408370905948057,
          -0.013270852230983177,
          -0.13729857563960055,
          -0.2642619468474172,
          -0.3790232361847914,
          -0.4695378077724667,
          -0.5303763208018966,
          -0.5633565928674348,
          -0.5751306386699104,
          -0.5734005602738752,
          -0.5640499164669426,
          -0.5505916323971306,
          -0.5356471116652919,
          -0.522848690484263,
          -0.5174932594958401,
          -0.5253902889201922,
          -0.5506454810160593,
          -0.5937110594009931,
          -0.650844889022497,
          -0.715442224040359,
          -0.7807209825875244,
          -0.8423479663705213,
          -0.8994313646450532,
          -0.9531412567278259,
          -1.0036261847511407,
          -1.0470523168528765,
          -1.0747902839401091,
          -1.0758210908632022,
          -1.0417634933385893,
          -0.9723633357773331,
          -0.8786734784746602,
          -0.781916537976275,
          -0.7078144451661534,
          -0.6781058159472915,
          -0.7023351970013775,
          -0.7734235047173735,
          -0.8695552802443934,
          -0.9622189175952002,
          -1.0268237528617958,
          -1.050573373304186,
          -1.0338025741635162,
          -0.9848610475875089,
          -0.9122053039666871,
          -0.8184471359203798,
          -0.6993765671571268,
          -0.547857200784661,
          -0.3599141408891014,
          -0.1395144306966758,
          0.10040543675171626,
          0.34094307454690304,
          0.5624449282825061,
          0.7491356451540132,
          0.8910457085224474,
          0.98317265403951,
          1.0239087130876352,
          1.0151578965143062,
          0.9646499973117216,
          0.8882749629410946,
          0.8093560793998628,
          0.7537482755241376,
          0.7428537314055422,
          0.7882184071425578,
          0.8900623697022784,
          1.0393743671254494,
          1.2214277754608756,
          1.4186694391046197,
          1.6121870148530506,
          1.7822926722732628,
          1.9093663827392882,
          1.9756480092503466,
          1.967648349804224,
          1.8782508500136148,
          1.7078984063925975,
          1.4651068310633248,
          1.166926825813666,
          0.839147069407546,
          0.5146338228956936,
          0.22806257933923313,
          0.007348133159404671,
          -0.13508116300231815,
          -0.20695952413580512,
          -0.23449629709548336,
          -0.25538030405617,
          -0.3096969689471533,
          -0.43157683756165344,
          -0.642353140118336,
          -0.9445563996434968,
          -1.3168779347278414,
          -1.7126801117431247,
          -2.0659151161299594,
          -2.3060324359976456,
          -2.378377936303459,
          -2.26246832232106,
          -1.9807169493229368,
          -1.5944461966461858,
          -1.1890977279492663,
          -0.8536037847865018,
          -0.6594505614614218,
          -0.6440908351512497,
          -0.802084848465737,
          -1.0860665128266547,
          -1.4180838134754699,
          -1.7095646412208985,
          -1.885270175917618,
          -1.9043699253521515,
          -1.7718185493984344,
          -1.536088342873961,
          -1.2738791743439468,
          -1.0667201907494062,
          -0.9768759735294994,
          -1.030065735595407,
          -1.2102204304288862,
          -1.4673709285657606,
          -1.7351371432820852,
          -1.9512037352589635,
          -2.074054928942752,
          -2.0917512487777765,
          -2.021905336769385,
          -1.90450682666885,
          -1.79022562126473,
          -1.7268622632377837,
          -1.7466338720420163,
          -1.8572096431302736,
          -2.0391682219576097,
          -2.251101987081473,
          -2.4410936032119888,
          -2.560847292967646,
          -2.5776978655476572,
          -2.4807925912653985,
          -2.280504760948551,
          -2.0029289190999267,
          -1.6824363196115992,
          -1.3545475447397952,
          -1.0500751549467335,
          -0.7908053427378302,
          -0.587007976945761,
          -0.43711875975610687,
          -0.3295819974129634,
          -0.24628931897982825,
          -0.16674483705177442,
          -0.0721571772648495,
          0.05110205898341729,
          0.20902885856520678,
          0.39872501659766674,
          0.6084277923698468,
          0.8187345946297955,
          1.0047663877041024,
          1.1390298649474961,
          1.1949363494554497,
          1.1509853250888011,
          0.9951918764669453,
          0.7286868154764855,
          0.36729927148381547,
          -0.05930418704891531,
          -0.5103275199849397,
          -0.9375541064580405,
          -1.2900185473115489,
          -1.5204949238922387,
          -1.5941818209379,
          -1.497843819518771,
          -1.245664182766292,
          -0.878454035219295,
          -0.4557313664933529,
          -0.043271780944164596,
          0.2998921183368843,
          0.5315567847952969,
          0.6317095178225685,
          0.6032006834572369,
          0.4688266091673487,
          0.2659247098280265,
          0.03920837611497479,
          -0.167393045243247,
          -0.31865143496911386,
          -0.39411642409572545,
          -0.39093749391913507,
          -0.32274820982171337,
          -0.21491023740796905,
          -0.0973283064897647,
          0.0032851711244898073,
          0.06952155770291871,
          0.09595147631637459,
          0.08784423051251554,
          0.05717270298063549,
          0.018109858048779636,
          -0.016331744056127792,
          -0.03618023641960704,
          -0.0354152213457355,
          -0.012423662104608997,
          0.029901362601398862,
          0.08463436203596303,
          0.14205380721619282,
          0.19155243841889527,
          0.22382856018716707,
          0.232815398535863,
          0.2168692737095948,
          0.17896728210972943,
          0.12594023287522316,
          0.06696399645909967,
          0.011625716508688492,
          -0.032053613578095885,
          -0.05918176386074038,
          -0.06869859671279854,
          -0.0630141069192045,
          -0.04678379737766248,
          -0.025337178073052153,
          -0.003283348523278432,
          0.016396998939060766,
          0.032677332588681544,
          0.04626774975735054,
          0.058988954912500224,
          0.07292141722087297,
          0.08950475660190287,
          0.10875277250298455,
          0.12876914929153455,
          0.14574866841823786,
          0.1545798367228733,
          0.15003202051350067,
          0.12834829079846122,
          0.08889297073164658,
          0.035301963669021406,
          -0.024575142353022893,
          -0.08043818133979364,
          -0.12263773479408314,
          -0.145221272346761,
          -0.14739503602566068,
          -0.13289826187784062,
          -0.10800239311103821,
          -0.07929371233909868,
          -0.05207025939979498,
          -0.029605882495561384,
          -0.013117426228983917,
          -0.0021515718466610877,
          0.004823643927097249,
          0.009766012845194771,
          0.01446637412312655,
          0.020106438809256572,
          0.027004380885633207,
          0.03456075124421714,
          0.04143234660564876,
          0.04594850341764209,
          0.04669217351816912,
          0.0430500367765264,
          0.03550050732243944,
          0.025510482753279787,
          0.01510016042986705,
          0.006285802197452521,
          0.0006262969001569638,
          -0.0010063629329331969,
          0.0015441189756952496,
          0.007770953598427683,
          0.016535960188565717,
          0.026099646641890524,
          0.03427343633109279,
          0.03878966847389346,
          0.037849864744313316,
          0.03068290404070894,
          0.017894396334682178,
          0.0014295021724000658,
          -0.015899030347155667,
          -0.031175952258183818,
          -0.04214279929558232,
          -0.047652132857723614,
          -0.047698740390260244,
          -0.04313207683391613,
          -0.035255400236593605,
          -0.02547822108238709,
          -0.015096737469529432,
          -0.005199711075632659,
          0.0033497274291599726,
          0.009920432937294221,
          0.014144665779543665,
          0.01595549205991359,
          0.01557903585287867,
          0.013458571418569399,
          0.010141306176882183,
          0.006178079678302217,
          0.002062656262718098,
          -0.0017912875994409451,
          -0.0050476828531685405,
          -0.007432751923088081,
          -0.00872160529233635,
          -0.008743891600964513,
          -0.007420101426501775,
          -0.004821599236189559,
          -0.0012228557374415374,
          0.002897376106536087,
          0.006928838935296553,
          0.010251346470585787,
          0.012348141085131478,
          0.012878998754386759,
          0.011733107143577075,
          0.009089083064972771,
          0.005459779770791791,
          0.0016587036636507386,
          -0.0013500761288863792,
          -0.002684412738503155,
          -0.0017714585648370199,
          0.0015117722621512395,
          0.006817614854345586,
          0.013408640286700317,
          0.020291138592842976,
          0.026347379033220358,
          0.03044387436804888,
          0.03154621227719513,
          0.02889047640739089,
          0.022213561111971838,
          0.011972509829296988,
          -0.0005553530722501539,
          -0.01339374698527852,
          -0.024257951027473933,
          -0.031138243349616766,
          -0.03286115833008636,
          -0.029393861013992068,
          -0.021789484535349464,
          -0.01183380772451934,
          -0.0015423870751481539,
          0.0073276671785933575,
          0.013619823695147098,
          0.0169099763533778,
          0.017440105000980824,
          0.015919351995501548,
          0.013275569572735232,
          0.01042673806897585,
          0.008107723794356165,
          0.0067542734586520485,
          0.006441823662415983,
          0.006900859398195022,
          0.007637338880631038,
          0.008149392948513492,
          0.00818303018947755,
          0.007941329670744582,
          0.008146569934697754,
          0.009863390955877113,
          0.014068955212832137,
          0.021101758797477308,
          0.0302378855637832,
          0.03962962895548344,
          0.04669864389784733,
          0.04888894453576299,
          0.044532905613449095,
          0.0335157807485208,
          0.01746943281023222,
          -0.0006214207655095813,
          -0.017293517576965452,
          -0.02963432836618327,
          -0.03605510658027305,
          -0.03652929853860965,
          -0.03228806818706579,
          -0.02518967154880292,
          -0.017057288746570205,
          -0.009230717047811872,
          -0.002444031320994236,
          0.00303329921510476,
          0.0071709326545491715,
          0.010017551898706487,
          0.011635136169724971,
          0.012081192211621865,
          0.011409215401183195,
          0.009698293364899104,
          0.007115354720246382,
          0.003964080592196624,
          0.0006535631469285032,
          -0.0024223275944810067,
          -0.005013327524369538,
          -0.007045809153688762,
          -0.008534869156603795,
          -0.009450339821331321,
          -0.009646788445861521,
          -0.008914240245463206,
          -0.007111891568882493,
          -0.004291911491384079,
          -0.0007428350423987056,
          0.00305707544483029,
          0.006543069352349597,
          0.009181424977990769,
          0.010571361511828976,
          0.010516121821087816,
          0.00905159009758005,
          0.0064205349765642915,
          0.0029954462514692574,
          -0.000818487972368678,
          -0.00465306925085053,
          -0.008191390839940227,
          -0.011142684053726908,
          -0.013221230751648744,
          -0.014157260360843837,
          -0.013737553921628154,
          -0.011865638714564891,
          -0.008631349377173745,
          -0.004361577105097156,
          0.00039234781419988896
         ]
        }
       ],
       "layout": {
        "annotations": [
         {
          "font": {
           "color": "cyan",
           "size": 16
          },
          "showarrow": false,
          "text": "KH",
          "textangle": -90,
          "x": 1.81111,
          "xref": "x",
          "y": 1,
          "yref": "paper"
         },
         {
          "font": {
           "color": "cyan",
           "size": 16
          },
          "showarrow": false,
          "text": "FC",
          "textangle": -90,
          "x": 2.61111,
          "xref": "x",
          "y": 1,
          "yref": "paper"
         },
         {
          "font": {
           "color": "cyan",
           "size": 16
          },
          "showarrow": false,
          "text": "MER",
          "textangle": -90,
          "x": 2.73333,
          "xref": "x",
          "y": 1,
          "yref": "paper"
         },
         {
          "font": {
           "color": "cyan",
           "size": 16
          },
          "showarrow": false,
          "text": "BR",
          "textangle": -90,
          "x": 2.77778,
          "xref": "x",
          "y": 1,
          "yref": "paper"
         }
        ],
        "height": 600,
        "margin": {
         "b": 40,
         "l": 40,
         "r": 40,
         "t": 40
        },
        "plot_bgcolor": "rgb(43,48,61)",
        "shapes": [
         {
          "line": {
           "color": "cyan",
           "dash": "dash",
           "width": 4
          },
          "opacity": 0.5,
          "type": "line",
          "x0": 1.8,
          "x1": 1.8,
          "xref": "x",
          "y0": 0,
          "y1": 1,
          "yref": "paper"
         },
         {
          "line": {
           "color": "cyan",
           "dash": "dash",
           "width": 4
          },
          "opacity": 0.5,
          "type": "line",
          "x0": 2.6,
          "x1": 2.6,
          "xref": "x",
          "y0": 0,
          "y1": 1,
          "yref": "paper"
         },
         {
          "line": {
           "color": "cyan",
           "dash": "dash",
           "width": 4
          },
          "opacity": 0.5,
          "type": "line",
          "x0": 2.72222,
          "x1": 2.72222,
          "xref": "x",
          "y0": 0,
          "y1": 1,
          "yref": "paper"
         },
         {
          "line": {
           "color": "cyan",
           "dash": "dash",
           "width": 4
          },
          "opacity": 0.5,
          "type": "line",
          "x0": 2.76667,
          "x1": 2.76667,
          "xref": "x",
          "y0": 0,
          "y1": 1,
          "yref": "paper"
         }
        ],
        "showlegend": false,
        "template": {
         "data": {
          "bar": [
           {
            "error_x": {
             "color": "#2a3f5f"
            },
            "error_y": {
             "color": "#2a3f5f"
            },
            "marker": {
             "line": {
              "color": "#E5ECF6",
              "width": 0.5
             },
             "pattern": {
              "fillmode": "overlay",
              "size": 10,
              "solidity": 0.2
             }
            },
            "type": "bar"
           }
          ],
          "barpolar": [
           {
            "marker": {
             "line": {
              "color": "#E5ECF6",
              "width": 0.5
             },
             "pattern": {
              "fillmode": "overlay",
              "size": 10,
              "solidity": 0.2
             }
            },
            "type": "barpolar"
           }
          ],
          "carpet": [
           {
            "aaxis": {
             "endlinecolor": "#2a3f5f",
             "gridcolor": "white",
             "linecolor": "white",
             "minorgridcolor": "white",
             "startlinecolor": "#2a3f5f"
            },
            "baxis": {
             "endlinecolor": "#2a3f5f",
             "gridcolor": "white",
             "linecolor": "white",
             "minorgridcolor": "white",
             "startlinecolor": "#2a3f5f"
            },
            "type": "carpet"
           }
          ],
          "choropleth": [
           {
            "colorbar": {
             "outlinewidth": 0,
             "ticks": ""
            },
            "type": "choropleth"
           }
          ],
          "contour": [
           {
            "colorbar": {
             "outlinewidth": 0,
             "ticks": ""
            },
            "colorscale": [
             [
              0,
              "#0d0887"
             ],
             [
              0.1111111111111111,
              "#46039f"
             ],
             [
              0.2222222222222222,
              "#7201a8"
             ],
             [
              0.3333333333333333,
              "#9c179e"
             ],
             [
              0.4444444444444444,
              "#bd3786"
             ],
             [
              0.5555555555555556,
              "#d8576b"
             ],
             [
              0.6666666666666666,
              "#ed7953"
             ],
             [
              0.7777777777777778,
              "#fb9f3a"
             ],
             [
              0.8888888888888888,
              "#fdca26"
             ],
             [
              1,
              "#f0f921"
             ]
            ],
            "type": "contour"
           }
          ],
          "contourcarpet": [
           {
            "colorbar": {
             "outlinewidth": 0,
             "ticks": ""
            },
            "type": "contourcarpet"
           }
          ],
          "heatmap": [
           {
            "colorbar": {
             "outlinewidth": 0,
             "ticks": ""
            },
            "colorscale": [
             [
              0,
              "#0d0887"
             ],
             [
              0.1111111111111111,
              "#46039f"
             ],
             [
              0.2222222222222222,
              "#7201a8"
             ],
             [
              0.3333333333333333,
              "#9c179e"
             ],
             [
              0.4444444444444444,
              "#bd3786"
             ],
             [
              0.5555555555555556,
              "#d8576b"
             ],
             [
              0.6666666666666666,
              "#ed7953"
             ],
             [
              0.7777777777777778,
              "#fb9f3a"
             ],
             [
              0.8888888888888888,
              "#fdca26"
             ],
             [
              1,
              "#f0f921"
             ]
            ],
            "type": "heatmap"
           }
          ],
          "heatmapgl": [
           {
            "colorbar": {
             "outlinewidth": 0,
             "ticks": ""
            },
            "colorscale": [
             [
              0,
              "#0d0887"
             ],
             [
              0.1111111111111111,
              "#46039f"
             ],
             [
              0.2222222222222222,
              "#7201a8"
             ],
             [
              0.3333333333333333,
              "#9c179e"
             ],
             [
              0.4444444444444444,
              "#bd3786"
             ],
             [
              0.5555555555555556,
              "#d8576b"
             ],
             [
              0.6666666666666666,
              "#ed7953"
             ],
             [
              0.7777777777777778,
              "#fb9f3a"
             ],
             [
              0.8888888888888888,
              "#fdca26"
             ],
             [
              1,
              "#f0f921"
             ]
            ],
            "type": "heatmapgl"
           }
          ],
          "histogram": [
           {
            "marker": {
             "pattern": {
              "fillmode": "overlay",
              "size": 10,
              "solidity": 0.2
             }
            },
            "type": "histogram"
           }
          ],
          "histogram2d": [
           {
            "colorbar": {
             "outlinewidth": 0,
             "ticks": ""
            },
            "colorscale": [
             [
              0,
              "#0d0887"
             ],
             [
              0.1111111111111111,
              "#46039f"
             ],
             [
              0.2222222222222222,
              "#7201a8"
             ],
             [
              0.3333333333333333,
              "#9c179e"
             ],
             [
              0.4444444444444444,
              "#bd3786"
             ],
             [
              0.5555555555555556,
              "#d8576b"
             ],
             [
              0.6666666666666666,
              "#ed7953"
             ],
             [
              0.7777777777777778,
              "#fb9f3a"
             ],
             [
              0.8888888888888888,
              "#fdca26"
             ],
             [
              1,
              "#f0f921"
             ]
            ],
            "type": "histogram2d"
           }
          ],
          "histogram2dcontour": [
           {
            "colorbar": {
             "outlinewidth": 0,
             "ticks": ""
            },
            "colorscale": [
             [
              0,
              "#0d0887"
             ],
             [
              0.1111111111111111,
              "#46039f"
             ],
             [
              0.2222222222222222,
              "#7201a8"
             ],
             [
              0.3333333333333333,
              "#9c179e"
             ],
             [
              0.4444444444444444,
              "#bd3786"
             ],
             [
              0.5555555555555556,
              "#d8576b"
             ],
             [
              0.6666666666666666,
              "#ed7953"
             ],
             [
              0.7777777777777778,
              "#fb9f3a"
             ],
             [
              0.8888888888888888,
              "#fdca26"
             ],
             [
              1,
              "#f0f921"
             ]
            ],
            "type": "histogram2dcontour"
           }
          ],
          "mesh3d": [
           {
            "colorbar": {
             "outlinewidth": 0,
             "ticks": ""
            },
            "type": "mesh3d"
           }
          ],
          "parcoords": [
           {
            "line": {
             "colorbar": {
              "outlinewidth": 0,
              "ticks": ""
             }
            },
            "type": "parcoords"
           }
          ],
          "pie": [
           {
            "automargin": true,
            "type": "pie"
           }
          ],
          "scatter": [
           {
            "fillpattern": {
             "fillmode": "overlay",
             "size": 10,
             "solidity": 0.2
            },
            "type": "scatter"
           }
          ],
          "scatter3d": [
           {
            "line": {
             "colorbar": {
              "outlinewidth": 0,
              "ticks": ""
             }
            },
            "marker": {
             "colorbar": {
              "outlinewidth": 0,
              "ticks": ""
             }
            },
            "type": "scatter3d"
           }
          ],
          "scattercarpet": [
           {
            "marker": {
             "colorbar": {
              "outlinewidth": 0,
              "ticks": ""
             }
            },
            "type": "scattercarpet"
           }
          ],
          "scattergeo": [
           {
            "marker": {
             "colorbar": {
              "outlinewidth": 0,
              "ticks": ""
             }
            },
            "type": "scattergeo"
           }
          ],
          "scattergl": [
           {
            "marker": {
             "colorbar": {
              "outlinewidth": 0,
              "ticks": ""
             }
            },
            "type": "scattergl"
           }
          ],
          "scattermapbox": [
           {
            "marker": {
             "colorbar": {
              "outlinewidth": 0,
              "ticks": ""
             }
            },
            "type": "scattermapbox"
           }
          ],
          "scatterpolar": [
           {
            "marker": {
             "colorbar": {
              "outlinewidth": 0,
              "ticks": ""
             }
            },
            "type": "scatterpolar"
           }
          ],
          "scatterpolargl": [
           {
            "marker": {
             "colorbar": {
              "outlinewidth": 0,
              "ticks": ""
             }
            },
            "type": "scatterpolargl"
           }
          ],
          "scatterternary": [
           {
            "marker": {
             "colorbar": {
              "outlinewidth": 0,
              "ticks": ""
             }
            },
            "type": "scatterternary"
           }
          ],
          "surface": [
           {
            "colorbar": {
             "outlinewidth": 0,
             "ticks": ""
            },
            "colorscale": [
             [
              0,
              "#0d0887"
             ],
             [
              0.1111111111111111,
              "#46039f"
             ],
             [
              0.2222222222222222,
              "#7201a8"
             ],
             [
              0.3333333333333333,
              "#9c179e"
             ],
             [
              0.4444444444444444,
              "#bd3786"
             ],
             [
              0.5555555555555556,
              "#d8576b"
             ],
             [
              0.6666666666666666,
              "#ed7953"
             ],
             [
              0.7777777777777778,
              "#fb9f3a"
             ],
             [
              0.8888888888888888,
              "#fdca26"
             ],
             [
              1,
              "#f0f921"
             ]
            ],
            "type": "surface"
           }
          ],
          "table": [
           {
            "cells": {
             "fill": {
              "color": "#EBF0F8"
             },
             "line": {
              "color": "white"
             }
            },
            "header": {
             "fill": {
              "color": "#C8D4E3"
             },
             "line": {
              "color": "white"
             }
            },
            "type": "table"
           }
          ]
         },
         "layout": {
          "annotationdefaults": {
           "arrowcolor": "#2a3f5f",
           "arrowhead": 0,
           "arrowwidth": 1
          },
          "autotypenumbers": "strict",
          "coloraxis": {
           "colorbar": {
            "outlinewidth": 0,
            "ticks": ""
           }
          },
          "colorscale": {
           "diverging": [
            [
             0,
             "#8e0152"
            ],
            [
             0.1,
             "#c51b7d"
            ],
            [
             0.2,
             "#de77ae"
            ],
            [
             0.3,
             "#f1b6da"
            ],
            [
             0.4,
             "#fde0ef"
            ],
            [
             0.5,
             "#f7f7f7"
            ],
            [
             0.6,
             "#e6f5d0"
            ],
            [
             0.7,
             "#b8e186"
            ],
            [
             0.8,
             "#7fbc41"
            ],
            [
             0.9,
             "#4d9221"
            ],
            [
             1,
             "#276419"
            ]
           ],
           "sequential": [
            [
             0,
             "#0d0887"
            ],
            [
             0.1111111111111111,
             "#46039f"
            ],
            [
             0.2222222222222222,
             "#7201a8"
            ],
            [
             0.3333333333333333,
             "#9c179e"
            ],
            [
             0.4444444444444444,
             "#bd3786"
            ],
            [
             0.5555555555555556,
             "#d8576b"
            ],
            [
             0.6666666666666666,
             "#ed7953"
            ],
            [
             0.7777777777777778,
             "#fb9f3a"
            ],
            [
             0.8888888888888888,
             "#fdca26"
            ],
            [
             1,
             "#f0f921"
            ]
           ],
           "sequentialminus": [
            [
             0,
             "#0d0887"
            ],
            [
             0.1111111111111111,
             "#46039f"
            ],
            [
             0.2222222222222222,
             "#7201a8"
            ],
            [
             0.3333333333333333,
             "#9c179e"
            ],
            [
             0.4444444444444444,
             "#bd3786"
            ],
            [
             0.5555555555555556,
             "#d8576b"
            ],
            [
             0.6666666666666666,
             "#ed7953"
            ],
            [
             0.7777777777777778,
             "#fb9f3a"
            ],
            [
             0.8888888888888888,
             "#fdca26"
            ],
            [
             1,
             "#f0f921"
            ]
           ]
          },
          "colorway": [
           "#636efa",
           "#EF553B",
           "#00cc96",
           "#ab63fa",
           "#FFA15A",
           "#19d3f3",
           "#FF6692",
           "#B6E880",
           "#FF97FF",
           "#FECB52"
          ],
          "font": {
           "color": "#2a3f5f"
          },
          "geo": {
           "bgcolor": "white",
           "lakecolor": "white",
           "landcolor": "#E5ECF6",
           "showlakes": true,
           "showland": true,
           "subunitcolor": "white"
          },
          "hoverlabel": {
           "align": "left"
          },
          "hovermode": "closest",
          "mapbox": {
           "style": "light"
          },
          "paper_bgcolor": "white",
          "plot_bgcolor": "#E5ECF6",
          "polar": {
           "angularaxis": {
            "gridcolor": "white",
            "linecolor": "white",
            "ticks": ""
           },
           "bgcolor": "#E5ECF6",
           "radialaxis": {
            "gridcolor": "white",
            "linecolor": "white",
            "ticks": ""
           }
          },
          "scene": {
           "xaxis": {
            "backgroundcolor": "#E5ECF6",
            "gridcolor": "white",
            "gridwidth": 2,
            "linecolor": "white",
            "showbackground": true,
            "ticks": "",
            "zerolinecolor": "white"
           },
           "yaxis": {
            "backgroundcolor": "#E5ECF6",
            "gridcolor": "white",
            "gridwidth": 2,
            "linecolor": "white",
            "showbackground": true,
            "ticks": "",
            "zerolinecolor": "white"
           },
           "zaxis": {
            "backgroundcolor": "#E5ECF6",
            "gridcolor": "white",
            "gridwidth": 2,
            "linecolor": "white",
            "showbackground": true,
            "ticks": "",
            "zerolinecolor": "white"
           }
          },
          "shapedefaults": {
           "line": {
            "color": "#2a3f5f"
           }
          },
          "ternary": {
           "aaxis": {
            "gridcolor": "white",
            "linecolor": "white",
            "ticks": ""
           },
           "baxis": {
            "gridcolor": "white",
            "linecolor": "white",
            "ticks": ""
           },
           "bgcolor": "#E5ECF6",
           "caxis": {
            "gridcolor": "white",
            "linecolor": "white",
            "ticks": ""
           }
          },
          "title": {
           "x": 0.05
          },
          "xaxis": {
           "automargin": true,
           "gridcolor": "white",
           "linecolor": "white",
           "ticks": "",
           "title": {
            "standoff": 15
           },
           "zerolinecolor": "white",
           "zerolinewidth": 2
          },
          "yaxis": {
           "automargin": true,
           "gridcolor": "white",
           "linecolor": "white",
           "ticks": "",
           "title": {
            "standoff": 15
           },
           "zerolinecolor": "white",
           "zerolinewidth": 2
          }
         }
        },
        "title": {
         "text": "SHANK POWER"
        },
        "xaxis": {
         "showgrid": false,
         "title": {
          "text": "Time [s]"
         }
        },
        "yaxis": {
         "autorange": true,
         "gridcolor": "lightgrey",
         "gridwidth": 1,
         "rangemode": "tozero",
         "showgrid": true,
         "title": {
          "text": "Power [W/kg]"
         },
         "zeroline": false
        }
       }
      }
     },
     "metadata": {},
     "output_type": "display_data"
    },
    {
     "data": {
      "application/vnd.plotly.v1+json": {
       "config": {
        "plotlyServerURL": "https://plot.ly"
       },
       "data": [
        {
         "line": {
          "color": "firebrick",
          "width": 4
         },
         "mode": "lines",
         "name": "THIGH POWER",
         "type": "scatter",
         "x": [
          1.8,
          1.80556,
          1.81111,
          1.81667,
          1.82222,
          1.82778,
          1.83333,
          1.83889,
          1.84444,
          1.85,
          1.85556,
          1.86111,
          1.86667,
          1.87222,
          1.87778,
          1.88333,
          1.88889,
          1.89444,
          1.9,
          1.90556,
          1.91111,
          1.91667,
          1.92222,
          1.92778,
          1.93333,
          1.93889,
          1.94444,
          1.95,
          1.95556,
          1.96111,
          1.96667,
          1.97222,
          1.97778,
          1.98333,
          1.98889,
          1.99444,
          2,
          2.00556,
          2.01111,
          2.01667,
          2.02222,
          2.02778,
          2.03333,
          2.03889,
          2.04444,
          2.05,
          2.05556,
          2.06111,
          2.06667,
          2.07222,
          2.07778,
          2.08333,
          2.08889,
          2.09444,
          2.1,
          2.10556,
          2.11111,
          2.11667,
          2.12222,
          2.12778,
          2.13333,
          2.13889,
          2.14444,
          2.15,
          2.15556,
          2.16111,
          2.16667,
          2.17222,
          2.17778,
          2.18333,
          2.18889,
          2.19444,
          2.2,
          2.20556,
          2.21111,
          2.21667,
          2.22222,
          2.22778,
          2.23333,
          2.23889,
          2.24444,
          2.25,
          2.25556,
          2.26111,
          2.26667,
          2.27222,
          2.27778,
          2.28333,
          2.28889,
          2.29444,
          2.3,
          2.30556,
          2.31111,
          2.31667,
          2.32222,
          2.32778,
          2.33333,
          2.33889,
          2.34444,
          2.35,
          2.35556,
          2.36111,
          2.36667,
          2.37222,
          2.37778,
          2.38333,
          2.38889,
          2.39444,
          2.4,
          2.40556,
          2.41111,
          2.41667,
          2.42222,
          2.42778,
          2.43333,
          2.43889,
          2.44444,
          2.45,
          2.45556,
          2.46111,
          2.46667,
          2.47222,
          2.47778,
          2.48333,
          2.48889,
          2.49444,
          2.5,
          2.50556,
          2.51111,
          2.51667,
          2.52222,
          2.52778,
          2.53333,
          2.53889,
          2.54444,
          2.55,
          2.55556,
          2.56111,
          2.56667,
          2.57222,
          2.57778,
          2.58333,
          2.58889,
          2.59444,
          2.6,
          2.60556,
          2.61111,
          2.61667,
          2.62222,
          2.62778,
          2.63333,
          2.63889,
          2.64444,
          2.65,
          2.65556,
          2.66111,
          2.66667,
          2.67222,
          2.67778,
          2.68333,
          2.68889,
          2.69444,
          2.7,
          2.70556,
          2.71111,
          2.71667,
          2.72222,
          2.72778,
          2.73333,
          2.73889,
          2.74444,
          2.75,
          2.75556,
          2.76111,
          2.76667,
          2.77222,
          2.77778,
          2.78333,
          2.78889,
          2.79444,
          2.8,
          2.80556,
          2.81111,
          2.81667,
          2.82222,
          2.82778,
          2.83333,
          2.83889,
          2.84444,
          2.85,
          2.85556,
          2.86111,
          2.86667,
          2.87222,
          2.87778,
          2.88333,
          2.88889,
          2.89444,
          2.9,
          2.90556,
          2.91111,
          2.91667,
          2.92222,
          2.92778,
          2.93333,
          2.93889,
          2.94444,
          2.95,
          2.95556,
          2.96111
         ],
         "y": [
          0.0016148352880964638,
          0.022300603509769416,
          0.035887449213534386,
          0.03704384491005456,
          0.02434056075039093,
          0.00039125318703951207,
          -0.02940880306577369,
          -0.05886605917213275,
          -0.08282332670052037,
          -0.09825556975628245,
          -0.10449325460698475,
          -0.10274068931211552,
          -0.09515254475478262,
          -0.08378870513663152,
          -0.06984847065825756,
          -0.053533629787015063,
          -0.03458097444962731,
          -0.013103009432234828,
          0.009784071109408423,
          0.03185151953409532,
          0.05010847900605093,
          0.06136150626223192,
          0.0628174171793676,
          0.05273237259026773,
          0.03111466784408863,
          0.0003000259359655297,
          -0.03494050499712483,
          -0.0680010467782886,
          -0.09166088024416368,
          -0.09955801920765886,
          -0.08757442297213552,
          -0.0550045820034336,
          -0.005408784871914411,
          0.05321645811091224,
          0.10949660780824402,
          0.15117882289716478,
          0.16854147093293242,
          0.1575247946178678,
          0.12124369184055075,
          0.06904341449468156,
          0.013284614845429477,
          -0.034860222975749325,
          -0.06881538864506262,
          -0.08791016986003927,
          -0.09643518281747585,
          -0.10130325805586952,
          -0.10941126016030822,
          -0.125430544336214,
          -0.1504043037807426,
          -0.18143486257743194,
          -0.21259048724671475,
          -0.23677924013899104,
          -0.24799156963811478,
          -0.24322653063488328,
          -0.22350836757838086,
          -0.19359485405467672,
          -0.16037005306900423,
          -0.13049453017922694,
          -0.10832909077846477,
          -0.09503440699180626,
          -0.08904143942811965,
          -0.08730223778950714,
          -0.08649617950812388,
          -0.0837857647704701,
          -0.07727355878872992,
          -0.06645493174408809,
          -0.052643685255700845,
          -0.03896166851665083,
          -0.0294479749404498,
          -0.027308444704522646,
          -0.03304353597165575,
          -0.04359366634726307,
          -0.05324529318690522,
          -0.05597527643675434,
          -0.04798198342748017,
          -0.02913322720677572,
          -0.002866866587854978,
          0.025072414264688887,
          0.04834698657921566,
          0.061609023760544855,
          0.06165186385787788,
          0.04804618846170583,
          0.02325198165806429,
          -0.007823075557594943,
          -0.03882575472506337,
          -0.06337937444366035,
          -0.07658557861128296,
          -0.07615813069979327,
          -0.0628298793752241,
          -0.03996245592133721,
          -0.01262353818689987,
          0.013465893240685136,
          0.03287419511386188,
          0.04130888283253866,
          0.036418593701291094,
          0.018368136248684393,
          -0.010117441418390286,
          -0.04434176415979607,
          -0.07865720344296981,
          -0.10761545512267463,
          -0.12701355366339756,
          -0.13463994475182448,
          -0.13055519383597652,
          -0.11687481077927274,
          -0.09719186803536581,
          -0.07580795948480147,
          -0.05684727716096862,
          -0.043356570316821545,
          -0.03671468844053976,
          -0.036739289165532776,
          -0.04248468287055443,
          -0.05315989208753771,
          -0.0684502671320091,
          -0.08799314576944775,
          -0.11044660818818339,
          -0.13292250894390834,
          -0.15127147019216622,
          -0.1610981920822655,
          -0.15899200151257892,
          -0.14350059643734056,
          -0.11561903802666075,
          -0.07873016674058013,
          -0.03799829178547355,
          0.0006907895527359275,
          0.03199788580826016,
          0.05223833753203049,
          0.05998464528731049,
          0.05602430754133621,
          0.042819190589944066,
          0.023785024827022945,
          0.0026550272146422197,
          -0.016999537149291557,
          -0.03215260160965066,
          -0.040661688087066536,
          -0.041537437876077346,
          -0.035074779472824905,
          -0.022778759542265426,
          -0.007058434645239262,
          0.009268673532970421,
          0.023551861120512215,
          0.03381433626171584,
          0.03904663938339089,
          0.0392090216892407,
          0.034991980159123894,
          0.027481442438997333,
          0.017874450620255274,
          0.007332675569517336,
          -0.0030085351906928262,
          -0.011958590416935153,
          -0.018286860652045496,
          -0.020944522487415896,
          -0.019418201659528282,
          -0.01403435352720633,
          -0.006080524203332449,
          0.0023296430773288163,
          0.008704376487472779,
          0.010896314348850467,
          0.007862334370757026,
          0.00011225832125637471,
          -0.01038118990513632,
          -0.020781591534483362,
          -0.028260759309525707,
          -0.030834414068856956,
          -0.02789703646646631,
          -0.0203124147164161,
          -0.010072607510583855,
          0.0003250191872536231,
          0.008567489276692621,
          0.013084985876313515,
          0.013347372679333365,
          0.009847037429046121,
          0.0038043456115845193,
          -0.00327675645386857,
          -0.010019489488687543,
          -0.015400848481428923,
          -0.018769580244001605,
          -0.019763644526165268,
          -0.018256983669109394,
          -0.014364266736829374,
          -0.008432988067581566,
          -0.0009614993086793154,
          0.007533541832739685,
          0.016615835344973434,
          0.025924911622807592,
          0.03507408475935911,
          0.04353025589741291,
          0.0505661649502875,
          0.0553254605489839,
          0.05698979378355933,
          0.05501721105676482,
          0.04939691901297144,
          0.040818602937451515,
          0.030645138545419184,
          0.020656728377206734,
          0.012656238131516223,
          0.008108026506862674,
          0.007976711558351909,
          0.012806892256658084,
          0.022880080980797492,
          0.03817677740853208,
          0.05801480378974145,
          0.08054451730072477,
          0.10249581598425964,
          0.11953088788830958,
          0.12731528931195224,
          0.12309477012226297,
          0.10722149389636926,
          0.08383860233530357,
          0.060076991788365695,
          0.04380947795501527,
          0.04092836104275424,
          0.053536349605029725,
          0.07991759932561096,
          0.1160323516931569,
          0.15738491454114908,
          0.20006607359547499,
          0.24056940777426347,
          0.275007616899142,
          0.29879960964326846,
          0.30747164966958407,
          0.2984048746087353,
          0.27284047817773494,
          0.23734419894352027,
          0.2039204350254635,
          0.18806417324513522,
          0.20470191101594584,
          0.2632413285510279,
          0.36390777260841967,
          0.4971623632263523,
          0.6463934436072849,
          0.792498047593147,
          0.9185214133701155,
          1.0131519823923407,
          1.0726729817503953,
          1.1013663454640257,
          1.1105859464689085,
          1.116985742803328,
          1.140350797969511,
          1.2009407032081947,
          1.315760282458977,
          1.4934397712707106,
          1.7285467282947986,
          1.9974750387341345,
          2.2585532298233724,
          2.458161455155887,
          2.542630547471661,
          2.4731451415680548,
          2.2389719593960846,
          1.8644000188091967,
          1.406698714612744,
          0.9447060554562401,
          0.5598964099170534,
          0.3146849120523398,
          0.23545768114942087,
          0.3075649692194201,
          0.48487609466645587,
          0.7096644053694598,
          0.9337055123793646,
          1.1314602239119587,
          1.300944284495151,
          1.4543901426588606,
          1.6052316911051003,
          1.758097244492885,
          1.9051164187996028,
          2.0278238192462443,
          2.1020752734048394,
          2.1041209363500366,
          2.017291313030395,
          1.8387103907611027,
          1.584303611723491,
          1.2896918622855569,
          1.0052495552379108,
          0.7855053606297703,
          0.6755347171619341,
          0.6988413054117742,
          0.8511184571039627,
          1.1020576047146253,
          1.4042639760001012,
          1.7058443083421675,
          1.9623232234678083,
          2.1444156413826367,
          2.2401648615901175,
          2.2521233606995152,
          2.1919509256193184,
          2.0753944738946726,
          1.9195803312302322,
          1.7424134228335242,
          1.562341564886672,
          1.3970961751102944,
          1.2615392751261412,
          1.1655887289352738,
          1.112791141264501,
          1.0995628081150723,
          1.115335328668654,
          1.1442982832158966,
          1.1689627162301697,
          1.1744110278077777,
          1.1514044437601967,
          1.0974161264793891,
          1.0160364246165094,
          0.9155734094420179,
          0.8071457737117451,
          0.702201633407256,
          0.6096349177345257,
          0.5331674601465343,
          0.4700117767299009,
          0.4117675609294687,
          0.34781876002842393,
          0.27021276208343376,
          0.17773788204274857,
          0.07676273096241461,
          -0.022007357274891646,
          -0.10918513788845986,
          -0.18154413848803852,
          -0.24341006401449752,
          -0.3040384197885569,
          -0.3724724157216929,
          -0.4524258288796761,
          -0.5395501143384038,
          -0.6222524364660567,
          -0.6855973274628799,
          -0.7164725874251108,
          -0.7077432812175636,
          -0.6597771392220623,
          -0.579116592413648,
          -0.4754014610846184,
          -0.35823353311890777,
          -0.2353198983143543,
          -0.11225624945602786,
          0.006620120465959059,
          0.1171980711422777,
          0.2149819967870016,
          0.2950870053771357,
          0.35283531206159596,
          0.3848772884441635,
          0.3905389389923255,
          0.3727706727398704,
          0.3380213202707445,
          0.29482730272734303,
          0.25156902942536025,
          0.2141313541080861,
          0.1840499159450787,
          0.1576374091001395,
          0.12670628036296827,
          0.08117347151865062,
          0.012706891655086162,
          -0.08231824290189406,
          -0.20171233174225328,
          -0.337950751973696,
          -0.4795488479316766,
          -0.6133732336569033,
          -0.7280440122587447,
          -0.8174114850520043,
          -0.8820925840548278,
          -0.9275948455666889,
          -0.9594865181706312,
          -0.9782085947773355,
          -0.9770841234975859,
          -0.9458945860154009,
          -0.8791184607966983,
          -0.7842406390864299,
          -0.6843142585144937,
          -0.6118328962316156,
          -0.5962806704808938,
          -0.6518195921757822,
          -0.7718181947534082,
          -0.9330957978332063,
          -1.1070118433605785,
          -1.2705443114382735,
          -1.4110903248206688,
          -1.523417030792793,
          -1.6024562085359046,
          -1.637895260827958,
          -1.614897719166296,
          -1.5213832370617089,
          -1.358272010135894,
          -1.1467570317640363,
          -0.9273521459231766,
          -0.7493550237576032,
          -0.6545721108174128,
          -0.6624645328127949,
          -0.7633394822031105,
          -0.9226003298611763,
          -1.0944348569993452,
          -1.239239437823036,
          -1.336896955070575,
          -1.3893786778651502,
          -1.41142759646429,
          -1.4147627167568284,
          -1.3952354264260005,
          -1.331276426598148,
          -1.1961326274345272,
          -0.9781181662257014,
          -0.696742840795495,
          -0.4032565115365305,
          -0.16307769953233844,
          -0.029216206540170122,
          -0.021766904932643823,
          -0.12450182664523884,
          -0.2985048404701168,
          -0.5027213247226755,
          -0.7091758564935684,
          -0.9067151845387754,
          -1.0956184392389887,
          -1.2801204655075824,
          -1.4645895570039995,
          -1.653742179701255,
          -1.852571304402304,
          -2.062114211200362,
          -2.272761962866207,
          -2.4617820683462566,
          -2.6000254408438184,
          -2.665086090213739,
          -2.6518299338709204,
          -2.5725120892373856,
          -2.4466295790693464,
          -2.288395003124715,
          -2.1010150000458587,
          -1.8810898342608682,
          -1.6284556631890132,
          -1.353174582377384,
          -1.0746115434091148,
          -0.8141534817965218,
          -0.5874340014526973,
          -0.40128506777750983,
          -0.25660398582394806,
          -0.15413679542063405,
          -0.09851336298057979,
          -0.09758782020718008,
          -0.15771986630806864,
          -0.27839277794111367,
          -0.4497373311712318,
          -0.6540624483521883,
          -0.8689545323806368,
          -1.0678319433419279,
          -1.2163465595799121,
          -1.2682824722208923,
          -1.1677030844028444,
          -0.8615950283215773,
          -0.32086289359028275,
          0.43815170610392656,
          1.341443804529552,
          2.26225496053015,
          3.0457441541072923,
          3.5487179160069124,
          3.6826729503747764,
          3.444960551789557,
          2.9253516417556287,
          2.283402825129711,
          1.702860706865793,
          1.3382985635975222,
          1.271966830660858,
          1.4940913800021502,
          1.9104329414235786,
          2.3717923498663307,
          2.7146751220463123,
          2.8010604008777427,
          2.5472236555440992,
          1.9356403513963816,
          1.009168932391918,
          -0.14781633809968078,
          -1.4325140891757142,
          -2.7420573576151446,
          -3.9832214575021405,
          -5.07627893810855,
          -5.958559811495566,
          -6.590214708203865,
          -6.95977212499083,
          -7.085438487704344,
          -7.010643221331361,
          -6.795683246000238,
          -6.508028440127791,
          -6.212078200912135,
          -5.957913941423238,
          -5.769985355813951,
          -5.639663722771507,
          -5.5269595818983825,
          -5.373859812983566,
          -5.125499203137697,
          -4.750013066588994,
          -4.247785682750741,
          -3.6464869825152344,
          -2.9858663332217925,
          -2.300640493935363,
          -1.608962179315494,
          -0.9099830611038427,
          -0.19009410782953312,
          0.5651765891959831,
          1.3580808080060014,
          2.169116442672371,
          2.9545814411439495,
          3.6523715457900714,
          4.194333977757184,
          4.521113609841751,
          4.594699200361749,
          4.405423200359442,
          3.972848155719442,
          3.3417063871096553,
          2.5743485684242184,
          1.7413609351323327,
          0.9127980066297363,
          0.1526733872049092,
          -0.48222314579944237,
          -0.9408802674116757,
          -1.1777305967761396,
          -1.1569665100542643,
          -0.862657517655949,
          -0.3122388292886239,
          0.4327351735668802,
          1.2664022874554992,
          2.0538066346019375,
          2.6586971170410587,
          2.973731283126443,
          2.941841708812559,
          2.563491726675138,
          1.8919084672709299,
          1.0212281707160458,
          0.07068949436289268,
          -0.8341740147197881,
          -1.58202265824134,
          -2.0943651915164914,
          -2.3373799711065897,
          -2.3231851112331916,
          -2.1007480785073365,
          -1.7405023715854644,
          -1.3180249026273665,
          -0.9009535013631509,
          -0.5412138777744316,
          -0.27221435677583394,
          -0.10865554402552094,
          -0.04669323261360518,
          -0.06449674810300732,
          -0.1251708858466151,
          -0.18366551695886757,
          -0.1973721705237969,
          -0.13789628823265912,
          0.00011693717840519231,
          0.19707437986874346,
          0.4148078265140506,
          0.6087311561559315,
          0.7406742928562379,
          0.78756331964486,
          0.7438856134644564,
          0.6192557120486336,
          0.4341550761587696,
          0.2159337761659743,
          -0.005215676118804267,
          -0.20146914361104165,
          -0.35318339011637073,
          -0.45262953813244416,
          -0.5033106136531524,
          -0.515188974439231,
          -0.49846698921523447,
          -0.4586294092463461,
          -0.39393643760021163,
          -0.2953891441020147,
          -0.14921139838246575,
          0.05790484877884548,
          0.33134446622321795,
          0.6608821385875306,
          1.0155456293782703,
          1.3435046595474291,
          1.5784216718367614,
          1.6524110914058534,
          1.5143023883530218,
          1.1497420341867346,
          0.5962772051321047,
          -0.056197712408960536,
          -0.6861682817075,
          -1.1774356387238394,
          -1.4551763188020272,
          -1.5035912526854955,
          -1.3598040074320374,
          -1.0918534760007832,
          -0.7734582146873026,
          -0.4652147096266676,
          -0.20582500603673226,
          -0.011816426103622194,
          0.11789816007215627,
          0.1957614456008397,
          0.239444912105166,
          0.26668202666302143,
          0.29130336203024293,
          0.32052456140749946,
          0.35371825675821533,
          0.3831589239866304,
          0.3970469795449601,
          0.3842169891782511,
          0.33887307284958607,
          0.26347098516769546,
          0.16862058264396146,
          0.06992809555782542,
          -0.017173322204999276,
          -0.08238525418808497,
          -0.12291792547660792,
          -0.14248003660740174,
          -0.14808605103515757,
          -0.14659575262113975,
          -0.14239651583398713,
          -0.13680929729956623,
          -0.12902340371578885,
          -0.11776861142506555,
          -0.1027256784882277,
          -0.08501908238921398,
          -0.06684396716233677,
          -0.05073521911870634,
          -0.03886488618238177,
          -0.03246647114270909,
          -0.03143810436839018,
          -0.03427362866165154,
          -0.03847259752786563,
          -0.04138591490769636,
          -0.04116062362636456,
          -0.03735190481585146,
          -0.031023771309302294,
          -0.024463535394808965,
          -0.020642572487254617,
          -0.022411955823947338,
          -0.03145922525168107,
          -0.04723575510871072,
          -0.06617427089720922,
          -0.08150453242730912,
          -0.0838686402494382,
          -0.06278729863306791,
          -0.008937568922965652,
          0.08287815700438582,
          0.2104770556019166,
          0.3616637890171705,
          0.5135143974308154,
          0.6347545873268734,
          0.6917109851158044,
          0.6571897005998084,
          0.5202589307334122,
          0.2934877147084524,
          0.013544936023115715,
          -0.2671793023142222,
          -0.4956818479009808,
          -0.6335796982285685,
          -0.6658187227448368,
          -0.6004845097752234,
          -0.46198681570134886,
          -0.2818383664235212,
          -0.09058157300123168,
          0.08732034101508414,
          0.23540332330639685,
          0.3446886823356185,
          0.41186174582497254,
          0.4371832008049959,
          0.4228593056008797,
          0.3722961455130666,
          0.2903421403461541,
          0.18407556367268388,
          0.06323073210040697,
          -0.060300485400749095,
          -0.1735609684909161,
          -0.2637580628710267,
          -0.31994860347574605,
          -0.335557852538263,
          -0.3109357517279982,
          -0.2543743366086031,
          -0.18068003276592323,
          -0.10762722145557631,
          -0.05138151796905878,
          -0.02221913581648868,
          -0.021788546566453428,
          -0.04269615237597053,
          -0.07038412250954112,
          -0.08656464181876294,
          -0.07331786804696595,
          -0.017236206939424535,
          0.08673010598747466,
          0.232112488358345,
          0.3992590106989651,
          0.5564588451068165,
          0.6650296372464132,
          0.6884777021209765,
          0.6042020738446011,
          0.41452732419431626,
          0.1524780903116998,
          -0.122315620259523,
          -0.33903393291476813,
          -0.43776539990035457,
          -0.38910587440312555,
          -0.20339379046380715,
          0.07261292611561095,
          0.3688337106997207,
          0.6101051172590525,
          0.7351424718723715,
          0.7122948744034102,
          0.5481196867696296,
          0.2849942423475246,
          -0.013380130777859298,
          -0.2839178346282083,
          -0.48376929657848133,
          -0.5988138114782319,
          -0.6390633284963643,
          -0.6260438892407021,
          -0.5799631758705673,
          -0.5126766909761554,
          -0.42798395595680244,
          -0.32642480867290047,
          -0.2102927595365946,
          -0.08624134226758737,
          0.034802535516320385,
          0.13956397067344475,
          0.21522304267209968,
          0.25226714172625214,
          0.24669343374646366,
          0.20110581547311204,
          0.1245685570715234,
          0.031224674186395282,
          -0.0622896660813979,
          -0.14027365777279713,
          -0.19124965525100346,
          -0.20991415296297716,
          -0.19715281261929793,
          -0.15847125407931517,
          -0.10180260655763895,
          -0.03560832766385309,
          0.03232780011630276,
          0.09550759234167398,
          0.14895135545681026,
          0.18914403937190716,
          0.21369013361324307,
          0.2207903056733256,
          0.2088876630793585,
          0.1768896209251494,
          0.12511619141079536,
          0.0567044848773999,
          -0.02128481310748529,
          -0.0981157850030381,
          -0.1615239200594461,
          -0.2009778829453683,
          -0.210394971268487,
          -0.18916095738143482,
          -0.14153392806374707,
          -0.07524755542525806,
          -0.000029020150994296703
         ]
        }
       ],
       "layout": {
        "annotations": [
         {
          "font": {
           "color": "cyan",
           "size": 16
          },
          "showarrow": false,
          "text": "KH",
          "textangle": -90,
          "x": 1.81111,
          "xref": "x",
          "y": 1,
          "yref": "paper"
         },
         {
          "font": {
           "color": "cyan",
           "size": 16
          },
          "showarrow": false,
          "text": "FC",
          "textangle": -90,
          "x": 2.61111,
          "xref": "x",
          "y": 1,
          "yref": "paper"
         },
         {
          "font": {
           "color": "cyan",
           "size": 16
          },
          "showarrow": false,
          "text": "MER",
          "textangle": -90,
          "x": 2.73333,
          "xref": "x",
          "y": 1,
          "yref": "paper"
         },
         {
          "font": {
           "color": "cyan",
           "size": 16
          },
          "showarrow": false,
          "text": "BR",
          "textangle": -90,
          "x": 2.77778,
          "xref": "x",
          "y": 1,
          "yref": "paper"
         }
        ],
        "height": 600,
        "margin": {
         "b": 40,
         "l": 40,
         "r": 40,
         "t": 40
        },
        "plot_bgcolor": "rgb(43,48,61)",
        "shapes": [
         {
          "line": {
           "color": "cyan",
           "dash": "dash",
           "width": 4
          },
          "opacity": 0.5,
          "type": "line",
          "x0": 1.8,
          "x1": 1.8,
          "xref": "x",
          "y0": 0,
          "y1": 1,
          "yref": "paper"
         },
         {
          "line": {
           "color": "cyan",
           "dash": "dash",
           "width": 4
          },
          "opacity": 0.5,
          "type": "line",
          "x0": 2.6,
          "x1": 2.6,
          "xref": "x",
          "y0": 0,
          "y1": 1,
          "yref": "paper"
         },
         {
          "line": {
           "color": "cyan",
           "dash": "dash",
           "width": 4
          },
          "opacity": 0.5,
          "type": "line",
          "x0": 2.72222,
          "x1": 2.72222,
          "xref": "x",
          "y0": 0,
          "y1": 1,
          "yref": "paper"
         },
         {
          "line": {
           "color": "cyan",
           "dash": "dash",
           "width": 4
          },
          "opacity": 0.5,
          "type": "line",
          "x0": 2.76667,
          "x1": 2.76667,
          "xref": "x",
          "y0": 0,
          "y1": 1,
          "yref": "paper"
         }
        ],
        "showlegend": false,
        "template": {
         "data": {
          "bar": [
           {
            "error_x": {
             "color": "#2a3f5f"
            },
            "error_y": {
             "color": "#2a3f5f"
            },
            "marker": {
             "line": {
              "color": "#E5ECF6",
              "width": 0.5
             },
             "pattern": {
              "fillmode": "overlay",
              "size": 10,
              "solidity": 0.2
             }
            },
            "type": "bar"
           }
          ],
          "barpolar": [
           {
            "marker": {
             "line": {
              "color": "#E5ECF6",
              "width": 0.5
             },
             "pattern": {
              "fillmode": "overlay",
              "size": 10,
              "solidity": 0.2
             }
            },
            "type": "barpolar"
           }
          ],
          "carpet": [
           {
            "aaxis": {
             "endlinecolor": "#2a3f5f",
             "gridcolor": "white",
             "linecolor": "white",
             "minorgridcolor": "white",
             "startlinecolor": "#2a3f5f"
            },
            "baxis": {
             "endlinecolor": "#2a3f5f",
             "gridcolor": "white",
             "linecolor": "white",
             "minorgridcolor": "white",
             "startlinecolor": "#2a3f5f"
            },
            "type": "carpet"
           }
          ],
          "choropleth": [
           {
            "colorbar": {
             "outlinewidth": 0,
             "ticks": ""
            },
            "type": "choropleth"
           }
          ],
          "contour": [
           {
            "colorbar": {
             "outlinewidth": 0,
             "ticks": ""
            },
            "colorscale": [
             [
              0,
              "#0d0887"
             ],
             [
              0.1111111111111111,
              "#46039f"
             ],
             [
              0.2222222222222222,
              "#7201a8"
             ],
             [
              0.3333333333333333,
              "#9c179e"
             ],
             [
              0.4444444444444444,
              "#bd3786"
             ],
             [
              0.5555555555555556,
              "#d8576b"
             ],
             [
              0.6666666666666666,
              "#ed7953"
             ],
             [
              0.7777777777777778,
              "#fb9f3a"
             ],
             [
              0.8888888888888888,
              "#fdca26"
             ],
             [
              1,
              "#f0f921"
             ]
            ],
            "type": "contour"
           }
          ],
          "contourcarpet": [
           {
            "colorbar": {
             "outlinewidth": 0,
             "ticks": ""
            },
            "type": "contourcarpet"
           }
          ],
          "heatmap": [
           {
            "colorbar": {
             "outlinewidth": 0,
             "ticks": ""
            },
            "colorscale": [
             [
              0,
              "#0d0887"
             ],
             [
              0.1111111111111111,
              "#46039f"
             ],
             [
              0.2222222222222222,
              "#7201a8"
             ],
             [
              0.3333333333333333,
              "#9c179e"
             ],
             [
              0.4444444444444444,
              "#bd3786"
             ],
             [
              0.5555555555555556,
              "#d8576b"
             ],
             [
              0.6666666666666666,
              "#ed7953"
             ],
             [
              0.7777777777777778,
              "#fb9f3a"
             ],
             [
              0.8888888888888888,
              "#fdca26"
             ],
             [
              1,
              "#f0f921"
             ]
            ],
            "type": "heatmap"
           }
          ],
          "heatmapgl": [
           {
            "colorbar": {
             "outlinewidth": 0,
             "ticks": ""
            },
            "colorscale": [
             [
              0,
              "#0d0887"
             ],
             [
              0.1111111111111111,
              "#46039f"
             ],
             [
              0.2222222222222222,
              "#7201a8"
             ],
             [
              0.3333333333333333,
              "#9c179e"
             ],
             [
              0.4444444444444444,
              "#bd3786"
             ],
             [
              0.5555555555555556,
              "#d8576b"
             ],
             [
              0.6666666666666666,
              "#ed7953"
             ],
             [
              0.7777777777777778,
              "#fb9f3a"
             ],
             [
              0.8888888888888888,
              "#fdca26"
             ],
             [
              1,
              "#f0f921"
             ]
            ],
            "type": "heatmapgl"
           }
          ],
          "histogram": [
           {
            "marker": {
             "pattern": {
              "fillmode": "overlay",
              "size": 10,
              "solidity": 0.2
             }
            },
            "type": "histogram"
           }
          ],
          "histogram2d": [
           {
            "colorbar": {
             "outlinewidth": 0,
             "ticks": ""
            },
            "colorscale": [
             [
              0,
              "#0d0887"
             ],
             [
              0.1111111111111111,
              "#46039f"
             ],
             [
              0.2222222222222222,
              "#7201a8"
             ],
             [
              0.3333333333333333,
              "#9c179e"
             ],
             [
              0.4444444444444444,
              "#bd3786"
             ],
             [
              0.5555555555555556,
              "#d8576b"
             ],
             [
              0.6666666666666666,
              "#ed7953"
             ],
             [
              0.7777777777777778,
              "#fb9f3a"
             ],
             [
              0.8888888888888888,
              "#fdca26"
             ],
             [
              1,
              "#f0f921"
             ]
            ],
            "type": "histogram2d"
           }
          ],
          "histogram2dcontour": [
           {
            "colorbar": {
             "outlinewidth": 0,
             "ticks": ""
            },
            "colorscale": [
             [
              0,
              "#0d0887"
             ],
             [
              0.1111111111111111,
              "#46039f"
             ],
             [
              0.2222222222222222,
              "#7201a8"
             ],
             [
              0.3333333333333333,
              "#9c179e"
             ],
             [
              0.4444444444444444,
              "#bd3786"
             ],
             [
              0.5555555555555556,
              "#d8576b"
             ],
             [
              0.6666666666666666,
              "#ed7953"
             ],
             [
              0.7777777777777778,
              "#fb9f3a"
             ],
             [
              0.8888888888888888,
              "#fdca26"
             ],
             [
              1,
              "#f0f921"
             ]
            ],
            "type": "histogram2dcontour"
           }
          ],
          "mesh3d": [
           {
            "colorbar": {
             "outlinewidth": 0,
             "ticks": ""
            },
            "type": "mesh3d"
           }
          ],
          "parcoords": [
           {
            "line": {
             "colorbar": {
              "outlinewidth": 0,
              "ticks": ""
             }
            },
            "type": "parcoords"
           }
          ],
          "pie": [
           {
            "automargin": true,
            "type": "pie"
           }
          ],
          "scatter": [
           {
            "fillpattern": {
             "fillmode": "overlay",
             "size": 10,
             "solidity": 0.2
            },
            "type": "scatter"
           }
          ],
          "scatter3d": [
           {
            "line": {
             "colorbar": {
              "outlinewidth": 0,
              "ticks": ""
             }
            },
            "marker": {
             "colorbar": {
              "outlinewidth": 0,
              "ticks": ""
             }
            },
            "type": "scatter3d"
           }
          ],
          "scattercarpet": [
           {
            "marker": {
             "colorbar": {
              "outlinewidth": 0,
              "ticks": ""
             }
            },
            "type": "scattercarpet"
           }
          ],
          "scattergeo": [
           {
            "marker": {
             "colorbar": {
              "outlinewidth": 0,
              "ticks": ""
             }
            },
            "type": "scattergeo"
           }
          ],
          "scattergl": [
           {
            "marker": {
             "colorbar": {
              "outlinewidth": 0,
              "ticks": ""
             }
            },
            "type": "scattergl"
           }
          ],
          "scattermapbox": [
           {
            "marker": {
             "colorbar": {
              "outlinewidth": 0,
              "ticks": ""
             }
            },
            "type": "scattermapbox"
           }
          ],
          "scatterpolar": [
           {
            "marker": {
             "colorbar": {
              "outlinewidth": 0,
              "ticks": ""
             }
            },
            "type": "scatterpolar"
           }
          ],
          "scatterpolargl": [
           {
            "marker": {
             "colorbar": {
              "outlinewidth": 0,
              "ticks": ""
             }
            },
            "type": "scatterpolargl"
           }
          ],
          "scatterternary": [
           {
            "marker": {
             "colorbar": {
              "outlinewidth": 0,
              "ticks": ""
             }
            },
            "type": "scatterternary"
           }
          ],
          "surface": [
           {
            "colorbar": {
             "outlinewidth": 0,
             "ticks": ""
            },
            "colorscale": [
             [
              0,
              "#0d0887"
             ],
             [
              0.1111111111111111,
              "#46039f"
             ],
             [
              0.2222222222222222,
              "#7201a8"
             ],
             [
              0.3333333333333333,
              "#9c179e"
             ],
             [
              0.4444444444444444,
              "#bd3786"
             ],
             [
              0.5555555555555556,
              "#d8576b"
             ],
             [
              0.6666666666666666,
              "#ed7953"
             ],
             [
              0.7777777777777778,
              "#fb9f3a"
             ],
             [
              0.8888888888888888,
              "#fdca26"
             ],
             [
              1,
              "#f0f921"
             ]
            ],
            "type": "surface"
           }
          ],
          "table": [
           {
            "cells": {
             "fill": {
              "color": "#EBF0F8"
             },
             "line": {
              "color": "white"
             }
            },
            "header": {
             "fill": {
              "color": "#C8D4E3"
             },
             "line": {
              "color": "white"
             }
            },
            "type": "table"
           }
          ]
         },
         "layout": {
          "annotationdefaults": {
           "arrowcolor": "#2a3f5f",
           "arrowhead": 0,
           "arrowwidth": 1
          },
          "autotypenumbers": "strict",
          "coloraxis": {
           "colorbar": {
            "outlinewidth": 0,
            "ticks": ""
           }
          },
          "colorscale": {
           "diverging": [
            [
             0,
             "#8e0152"
            ],
            [
             0.1,
             "#c51b7d"
            ],
            [
             0.2,
             "#de77ae"
            ],
            [
             0.3,
             "#f1b6da"
            ],
            [
             0.4,
             "#fde0ef"
            ],
            [
             0.5,
             "#f7f7f7"
            ],
            [
             0.6,
             "#e6f5d0"
            ],
            [
             0.7,
             "#b8e186"
            ],
            [
             0.8,
             "#7fbc41"
            ],
            [
             0.9,
             "#4d9221"
            ],
            [
             1,
             "#276419"
            ]
           ],
           "sequential": [
            [
             0,
             "#0d0887"
            ],
            [
             0.1111111111111111,
             "#46039f"
            ],
            [
             0.2222222222222222,
             "#7201a8"
            ],
            [
             0.3333333333333333,
             "#9c179e"
            ],
            [
             0.4444444444444444,
             "#bd3786"
            ],
            [
             0.5555555555555556,
             "#d8576b"
            ],
            [
             0.6666666666666666,
             "#ed7953"
            ],
            [
             0.7777777777777778,
             "#fb9f3a"
            ],
            [
             0.8888888888888888,
             "#fdca26"
            ],
            [
             1,
             "#f0f921"
            ]
           ],
           "sequentialminus": [
            [
             0,
             "#0d0887"
            ],
            [
             0.1111111111111111,
             "#46039f"
            ],
            [
             0.2222222222222222,
             "#7201a8"
            ],
            [
             0.3333333333333333,
             "#9c179e"
            ],
            [
             0.4444444444444444,
             "#bd3786"
            ],
            [
             0.5555555555555556,
             "#d8576b"
            ],
            [
             0.6666666666666666,
             "#ed7953"
            ],
            [
             0.7777777777777778,
             "#fb9f3a"
            ],
            [
             0.8888888888888888,
             "#fdca26"
            ],
            [
             1,
             "#f0f921"
            ]
           ]
          },
          "colorway": [
           "#636efa",
           "#EF553B",
           "#00cc96",
           "#ab63fa",
           "#FFA15A",
           "#19d3f3",
           "#FF6692",
           "#B6E880",
           "#FF97FF",
           "#FECB52"
          ],
          "font": {
           "color": "#2a3f5f"
          },
          "geo": {
           "bgcolor": "white",
           "lakecolor": "white",
           "landcolor": "#E5ECF6",
           "showlakes": true,
           "showland": true,
           "subunitcolor": "white"
          },
          "hoverlabel": {
           "align": "left"
          },
          "hovermode": "closest",
          "mapbox": {
           "style": "light"
          },
          "paper_bgcolor": "white",
          "plot_bgcolor": "#E5ECF6",
          "polar": {
           "angularaxis": {
            "gridcolor": "white",
            "linecolor": "white",
            "ticks": ""
           },
           "bgcolor": "#E5ECF6",
           "radialaxis": {
            "gridcolor": "white",
            "linecolor": "white",
            "ticks": ""
           }
          },
          "scene": {
           "xaxis": {
            "backgroundcolor": "#E5ECF6",
            "gridcolor": "white",
            "gridwidth": 2,
            "linecolor": "white",
            "showbackground": true,
            "ticks": "",
            "zerolinecolor": "white"
           },
           "yaxis": {
            "backgroundcolor": "#E5ECF6",
            "gridcolor": "white",
            "gridwidth": 2,
            "linecolor": "white",
            "showbackground": true,
            "ticks": "",
            "zerolinecolor": "white"
           },
           "zaxis": {
            "backgroundcolor": "#E5ECF6",
            "gridcolor": "white",
            "gridwidth": 2,
            "linecolor": "white",
            "showbackground": true,
            "ticks": "",
            "zerolinecolor": "white"
           }
          },
          "shapedefaults": {
           "line": {
            "color": "#2a3f5f"
           }
          },
          "ternary": {
           "aaxis": {
            "gridcolor": "white",
            "linecolor": "white",
            "ticks": ""
           },
           "baxis": {
            "gridcolor": "white",
            "linecolor": "white",
            "ticks": ""
           },
           "bgcolor": "#E5ECF6",
           "caxis": {
            "gridcolor": "white",
            "linecolor": "white",
            "ticks": ""
           }
          },
          "title": {
           "x": 0.05
          },
          "xaxis": {
           "automargin": true,
           "gridcolor": "white",
           "linecolor": "white",
           "ticks": "",
           "title": {
            "standoff": 15
           },
           "zerolinecolor": "white",
           "zerolinewidth": 2
          },
          "yaxis": {
           "automargin": true,
           "gridcolor": "white",
           "linecolor": "white",
           "ticks": "",
           "title": {
            "standoff": 15
           },
           "zerolinecolor": "white",
           "zerolinewidth": 2
          }
         }
        },
        "title": {
         "text": "THIGH POWER"
        },
        "xaxis": {
         "showgrid": false,
         "title": {
          "text": "Time [s]"
         }
        },
        "yaxis": {
         "autorange": true,
         "gridcolor": "lightgrey",
         "gridwidth": 1,
         "rangemode": "tozero",
         "showgrid": true,
         "title": {
          "text": "Power [W/kg]"
         },
         "zeroline": false
        }
       }
      }
     },
     "metadata": {},
     "output_type": "display_data"
    },
    {
     "data": {
      "application/vnd.plotly.v1+json": {
       "config": {
        "plotlyServerURL": "https://plot.ly"
       },
       "data": [
        {
         "line": {
          "color": "firebrick",
          "width": 4
         },
         "mode": "lines",
         "name": "PELVIS POWER",
         "type": "scatter",
         "x": [
          1.8,
          1.80556,
          1.81111,
          1.81667,
          1.82222,
          1.82778,
          1.83333,
          1.83889,
          1.84444,
          1.85,
          1.85556,
          1.86111,
          1.86667,
          1.87222,
          1.87778,
          1.88333,
          1.88889,
          1.89444,
          1.9,
          1.90556,
          1.91111,
          1.91667,
          1.92222,
          1.92778,
          1.93333,
          1.93889,
          1.94444,
          1.95,
          1.95556,
          1.96111,
          1.96667,
          1.97222,
          1.97778,
          1.98333,
          1.98889,
          1.99444,
          2,
          2.00556,
          2.01111,
          2.01667,
          2.02222,
          2.02778,
          2.03333,
          2.03889,
          2.04444,
          2.05,
          2.05556,
          2.06111,
          2.06667,
          2.07222,
          2.07778,
          2.08333,
          2.08889,
          2.09444,
          2.1,
          2.10556,
          2.11111,
          2.11667,
          2.12222,
          2.12778,
          2.13333,
          2.13889,
          2.14444,
          2.15,
          2.15556,
          2.16111,
          2.16667,
          2.17222,
          2.17778,
          2.18333,
          2.18889,
          2.19444,
          2.2,
          2.20556,
          2.21111,
          2.21667,
          2.22222,
          2.22778,
          2.23333,
          2.23889,
          2.24444,
          2.25,
          2.25556,
          2.26111,
          2.26667,
          2.27222,
          2.27778,
          2.28333,
          2.28889,
          2.29444,
          2.3,
          2.30556,
          2.31111,
          2.31667,
          2.32222,
          2.32778,
          2.33333,
          2.33889,
          2.34444,
          2.35,
          2.35556,
          2.36111,
          2.36667,
          2.37222,
          2.37778,
          2.38333,
          2.38889,
          2.39444,
          2.4,
          2.40556,
          2.41111,
          2.41667,
          2.42222,
          2.42778,
          2.43333,
          2.43889,
          2.44444,
          2.45,
          2.45556,
          2.46111,
          2.46667,
          2.47222,
          2.47778,
          2.48333,
          2.48889,
          2.49444,
          2.5,
          2.50556,
          2.51111,
          2.51667,
          2.52222,
          2.52778,
          2.53333,
          2.53889,
          2.54444,
          2.55,
          2.55556,
          2.56111,
          2.56667,
          2.57222,
          2.57778,
          2.58333,
          2.58889,
          2.59444,
          2.6,
          2.60556,
          2.61111,
          2.61667,
          2.62222,
          2.62778,
          2.63333,
          2.63889,
          2.64444,
          2.65,
          2.65556,
          2.66111,
          2.66667,
          2.67222,
          2.67778,
          2.68333,
          2.68889,
          2.69444,
          2.7,
          2.70556,
          2.71111,
          2.71667,
          2.72222,
          2.72778,
          2.73333,
          2.73889,
          2.74444,
          2.75,
          2.75556,
          2.76111,
          2.76667,
          2.77222,
          2.77778,
          2.78333,
          2.78889,
          2.79444,
          2.8,
          2.80556,
          2.81111,
          2.81667,
          2.82222,
          2.82778,
          2.83333,
          2.83889,
          2.84444,
          2.85,
          2.85556,
          2.86111,
          2.86667,
          2.87222,
          2.87778,
          2.88333,
          2.88889,
          2.89444,
          2.9,
          2.90556,
          2.91111,
          2.91667,
          2.92222,
          2.92778,
          2.93333,
          2.93889,
          2.94444,
          2.95,
          2.95556,
          2.96111
         ],
         "y": [
          0.0020422663131160475,
          0.02759810564214299,
          0.047925301055073366,
          0.0589284698646407,
          0.05830509564971037,
          0.04599499260161621,
          0.02421236548026053,
          -0.002960389922483245,
          -0.03041200097681579,
          -0.05315601959767912,
          -0.06750407437048071,
          -0.0718667709598705,
          -0.06688626331689035,
          -0.05488100381755747,
          -0.03889377552115482,
          -0.021770409438636572,
          -0.005567522772881513,
          0.008660649302025907,
          0.020786481911728282,
          0.03131693957446122,
          0.04092593599646781,
          0.04992107443146348,
          0.05786119205418954,
          0.06353452784328938,
          0.06535209611857012,
          0.06201470749137624,
          0.05317946654611193,
          0.03982085174259147,
          0.02408691148264018,
          0.008688542299815073,
          -0.003909691118297086,
          -0.012169079678626406,
          -0.015797041440727425,
          -0.015615155959514229,
          -0.0130320740396877,
          -0.009360312953271348,
          -0.005326618294711165,
          -0.0010217458580975033,
          0.003751760572620022,
          0.009019104800289961,
          0.014347752792633,
          0.01883717204494664,
          0.02132843672738768,
          0.02074370797065744,
          0.016444989916693156,
          0.008460274585650913,
          -0.00251640326817241,
          -0.015286511198812223,
          -0.028340644168515502,
          -0.04004377245098023,
          -0.04883495972741101,
          -0.0534073692301108,
          -0.05280724108470829,
          -0.046501756554536484,
          -0.03456430709798077,
          -0.01801196921975093,
          0.000934798367438933,
          0.019022440378854363,
          0.03270233846873164,
          0.03916752891091067,
          0.03718229413098552,
          0.027353745628739354,
          0.011880609559535682,
          -0.005950722905424866,
          -0.0223468332235297,
          -0.0336935801001027,
          -0.03736857406615323,
          -0.0324600538649482,
          -0.020011753103451702,
          -0.0025853379950583847,
          0.01666427815315042,
          0.03490945072697823,
          0.05015033415018493,
          0.06126611306523137,
          0.06789228766400737,
          0.07029928548767037,
          0.06914138793311231,
          0.0649293451447153,
          0.057449790300463696,
          0.045650246336661114,
          0.02831480878618493,
          0.005282385544045964,
          -0.021519406135717407,
          -0.04795619367097656,
          -0.06873246536221085,
          -0.07918341515530043,
          -0.07695468162058049,
          -0.0627734644253856,
          -0.04005076936847466,
          -0.013690884138765645,
          0.011230295336430914,
          0.03044491225678582,
          0.041039423707526584,
          0.04169421063564625,
          0.032699975531273434,
          0.015717575824464834,
          -0.006729584356108416,
          -0.03188769828245151,
          -0.05727915306239591,
          -0.08088406362340515,
          -0.10096775447678984,
          -0.11573254926496633,
          -0.12313772947721366,
          -0.12123368277118005,
          -0.10907050183494413,
          -0.08774099721220638,
          -0.06079308719154634,
          -0.03350722830198538,
          -0.011299304410650027,
          0.001848419226801866,
          0.004094893212514018,
          -0.004513683515765848,
          -0.022634520520217947,
          -0.0478791491885366,
          -0.07666800542542933,
          -0.10424700013599668,
          -0.12538527298447283,
          -0.13565108876021198,
          -0.1326393401281401,
          -0.1165837227656811,
          -0.09022810349400119,
          -0.058161726344742634,
          -0.025858416870435105,
          0.0014187306588451373,
          0.019673322781202447,
          0.02692305413226228,
          0.02337602877376152,
          0.011008352382982539,
          -0.007162554180097512,
          -0.027706551041616997,
          -0.04712386823180612,
          -0.06202936038487828,
          -0.06943033006344138,
          -0.06723230464781983,
          -0.05489231856226297,
          -0.03396906922840187,
          -0.008253302843992037,
          0.016765679657418483,
          0.03512260203480076,
          0.04201769091439778,
          0.03535224544076222,
          0.0165401633083135,
          -0.009828190887287433,
          -0.037399449689278864,
          -0.0599585742434045,
          -0.07305966130174475,
          -0.07487592403754793,
          -0.066167192102204,
          -0.04959054141704633,
          -0.028735482247857946,
          -0.007237297775051327,
          0.011832263366306066,
          0.02626231039882934,
          0.03475306054145592,
          0.03682990305661815,
          0.03274401636828937,
          0.02343272047897498,
          0.010505199083851911,
          -0.003854209142843629,
          -0.017140723748728243,
          -0.026927172733208663,
          -0.03132595729233273,
          -0.02941148671553738,
          -0.021489253913323944,
          -0.009102743015949148,
          0.005274082725673402,
          0.018799337174154895,
          0.028919159047065626,
          0.03392405254070734,
          0.033250952867131804,
          0.027462764483978448,
          0.01795768960656848,
          0.006566097594793487,
          -0.00479486251175176,
          -0.014339413413201487,
          -0.020564968479568246,
          -0.022434235290750514,
          -0.019588111421166482,
          -0.01247202982680602,
          -0.0022555206083713407,
          0.009463328115492659,
          0.021061539186606252,
          0.03125560530182067,
          0.03931242448291797,
          0.04506647812506779,
          0.048778105162166345,
          0.050907846550330045,
          0.051879068014488015,
          0.051884845821719074,
          0.050790481143267494,
          0.048174394235501544,
          0.04351186133543833,
          0.03645000233429451,
          0.027085588131240193,
          0.01616083503903001,
          0.005130197619050801,
          -0.003912866497586072,
          -0.008474250339989373,
          -0.006133473126502914,
          0.004713249941607077,
          0.02400244940176589,
          0.049429214561015705,
          0.07654262328776099,
          0.09962960111818088,
          0.11315451082602619,
          0.11333195534255834,
          0.09939536952293775,
          0.07414662178005994,
          0.04342289802956741,
          0.014404458518704045,
          -0.006698219422795951,
          -0.016499453370005256,
          -0.014890002564272552,
          -0.003999742325473237,
          0.01344786589993229,
          0.035167595630347395,
          0.05909339478124863,
          0.08236085927034831,
          0.1006083572289712,
          0.10842704769158734,
          0.10098351436072361,
          0.07620596007445514,
          0.03660256373963465,
          -0.01034223631085426,
          -0.05391514420944359,
          -0.08373576158754456,
          -0.09356399818892305,
          -0.08344939622538787,
          -0.059307653809353426,
          -0.03048947458650965,
          -0.006706434281571247,
          0.00452640733987563,
          -0.0005874532512288461,
          -0.021692024866289746,
          -0.05478163640688002,
          -0.0933474937973082,
          -0.12978550613567685,
          -0.15677619633510198,
          -0.16854589584254012,
          -0.16199926558343716,
          -0.13761438740547854,
          -0.09981907572633215,
          -0.056484386278881825,
          -0.017359799115933626,
          0.008263828312670897,
          0.01395370375920558,
          -0.002163930037966189,
          -0.036839193642321306,
          -0.08230811542742149,
          -0.12789822118422822,
          -0.16238138903406643,
          -0.1766669440960871,
          -0.16613396646380474,
          -0.13175114275625754,
          -0.0794299365069409,
          -0.017772585341184494,
          0.04487177749020795,
          0.10279051337229245,
          0.1537646148325032,
          0.19820103643989287,
          0.23717979437977624,
          0.2705247356858348,
          0.29588724926350957,
          0.30925034250347105,
          0.3065755550910436,
          0.2858429049282198,
          0.24860250543538445,
          0.20036509990879095,
          0.14962667469298793,
          0.10587580496691498,
          0.07733887983174419,
          0.06927700191776501,
          0.08331899629738962,
          0.117788776341174,
          0.1685559932595106,
          0.22982452857750374,
          0.2945657790682228,
          0.3548520471619356,
          0.40265952443450503,
          0.4313767892244615,
          0.43752239690435085,
          0.42175748913509176,
          0.3885588566548035,
          0.3446298840082847,
          0.29677007156447366,
          0.2501786021488522,
          0.20790681800654573,
          0.17147122554155958,
          0.14192643148410236,
          0.12053531448632272,
          0.10865856688037401,
          0.10712626293153248,
          0.1155907265309401,
          0.13213871061369034,
          0.1532114418001468,
          0.17394360980252108,
          0.18910443177010441,
          0.19452647714801224,
          0.1884268983985204,
          0.1719184344940846,
          0.14847462776443188,
          0.12276488771468153,
          0.09956993530137496,
          0.08322344842482145,
          0.07746623901385066,
          0.08523693698768046,
          0.10802542098415661,
          0.1448213339423154,
          0.19109111690335737,
          0.23842752721680296,
          0.2754206531150522,
          0.2898720892646977,
          0.2719223418361846,
          0.21727751883550106,
          0.12957179344049838,
          0.020895310000732383,
          -0.09024979473673937,
          -0.18353827164806666,
          -0.24267135050572758,
          -0.2602171645357061,
          -0.2394181586528368,
          -0.19243963487999,
          -0.13613154417445456,
          -0.08699174388303824,
          -0.0567420018008027,
          -0.049525846014158534,
          -0.06147681125603829,
          -0.08286650057168586,
          -0.10201777264744309,
          -0.10928260301167836,
          -0.09946460669735965,
          -0.07209759149180041,
          -0.030125104752175804,
          0.0219665433881088,
          0.07966898375510859,
          0.13917264358522982,
          0.1972261905775991,
          0.2503687434939516,
          0.29404815628060166,
          0.32233982473081785,
          0.3288702131525137,
          0.30895442678567775,
          0.26202997777372167,
          0.19284596155405434,
          0.11033916067753573,
          0.024643905144165507,
          -0.05602003112825324,
          -0.12691719996599116,
          -0.18640141180316866,
          -0.23444038312535967,
          -0.271437664254009,
          -0.29815102358038625,
          -0.3163352919983058,
          -0.32898054771048785,
          -0.3393213117501458,
          -0.34882621616133125,
          -0.35530424816706874,
          -0.3525413866319892,
          -0.3323787892557288,
          -0.2888967177616257,
          -0.2228077641045201,
          -0.1433982389041752,
          -0.06641659940490813,
          -0.008798558901577306,
          0.016839393251440054,
          0.005064422153472089,
          -0.04302246913439746,
          -0.12254103083149405,
          -0.22734541502910025,
          -0.35076644239295224,
          -0.4847034708132427,
          -0.6183672357657569,
          -0.7380875496423669,
          -0.82889110235168,
          -0.877527361198134,
          -0.8757553147822739,
          -0.82245211935031,
          -0.7236627091699263,
          -0.5907824973046482,
          -0.43798801472033755,
          -0.2801924022841523,
          -0.13209399424715731,
          -0.007829095737814998,
          0.07984512172679432,
          0.12149764036672761,
          0.11360715158735323,
          0.060422215918748315,
          -0.02597903385084442,
          -0.12749609330773007,
          -0.2232827955804431,
          -0.294457243312478,
          -0.33008813602433995,
          -0.33270699735314274,
          -0.31979548659156404,
          -0.31827776972935196,
          -0.3528225512456687,
          -0.4333313401932599,
          -0.548724314212814,
          -0.6711648689302249,
          -0.7687106731741915,
          -0.8193442636496211,
          -0.819162983565984,
          -0.7817903238128311,
          -0.7309703570281731,
          -0.6907796803658663,
          -0.6777400255181161,
          -0.697371715790743,
          -0.7452338518596595,
          -0.8104326174261436,
          -0.8793591703888551,
          -0.9388745869389283,
          -0.9792291720677009,
          -0.9964194054567665,
          -0.9927289230882255,
          -0.9746905629470116,
          -0.9494129805615389,
          -0.9213623546093141,
          -0.8912470241956286,
          -0.8571490812717506,
          -0.8166465520265356,
          -0.7683023050501759,
          -0.7117878655957061,
          -0.6472277226389304,
          -0.5748790412839498,
          -0.4957616619625935,
          -0.41297614980687486,
          -0.33271429640544153,
          -0.26377265906973185,
          -0.2151319576064046,
          -0.19253007279631582,
          -0.19585225018103328,
          -0.21888936127224312,
          -0.2517365600789054,
          -0.2844421966409761,
          -0.30942465026685917,
          -0.32075716331618814,
          -0.3108133635268965,
          -0.2672948157359657,
          -0.1740928311445264,
          -0.017223762124743396,
          0.20620608867859014,
          0.48032597226985796,
          0.7685589352704955,
          1.0198358945693167,
          1.1821514290034008,
          1.2196039522838327,
          1.1273514676771823,
          0.9389515382262856,
          0.7223700533707228,
          0.5643870386095342,
          0.5473569073737188,
          0.7255228939132627,
          1.1086052080638864,
          1.6577636877953272,
          2.2943853329094814,
          2.9175767372972246,
          3.424084784560557,
          3.7254531391542773,
          3.759818876603003,
          3.497714297586993,
          2.942565102553707,
          2.128098282791652,
          1.115455820794167,
          -0.009431201414620978,
          -1.1414480336006885,
          -2.169137553065351,
          -2.9949296621330004,
          -3.556582383823461,
          -3.840549897886471,
          -3.8809787603505135,
          -3.7451496615611726,
          -3.512554437883433,
          -3.2564729074452954,
          -3.0334988540942516,
          -2.880852107652457,
          -2.817369189232067,
          -2.8442147422445005,
          -2.9448578314396596,
          -3.0870204086528874,
          -3.228875582693335,
          -3.328402951746266,
          -3.3521402039097272,
          -3.2800664641380126,
          -3.105989266789717,
          -2.8348709605997766,
          -2.4787704048446595,
          -2.052381649181324,
          -1.5687782687465528,
          -1.0362728982904723,
          -0.45783684199717384,
          0.16558061946106936,
          0.8279921884547049,
          1.5103616003384492,
          2.176475217293122,
          2.776666377198977,
          3.259010723922139,
          3.58256132526669,
          3.7256285291700286,
          3.685583816743561,
          3.4726060715714024,
          3.1037578942045707,
          2.603016668051799,
          2.0081256979903297,
          1.3794610692238418,
          0.802690623720625,
          0.3780911940458392,
          0.1957319922945366,
          0.30469347964537746,
          0.6900490181482971,
          1.2690597231980159,
          1.9095862820477685,
          2.464405785060563,
          2.8090479296703084,
          2.8700612638923766,
          2.6357053090203344,
          2.1492077599235033,
          1.490908916269777,
          0.7568067191659136,
          0.0386053784302287,
          -0.5920197316833823,
          -1.0926392127466489,
          -1.4504025546519583,
          -1.6733831895729017,
          -1.7772469312491295,
          -1.7743171011552892,
          -1.6704418347702408,
          -1.4703788354669645,
          -1.187716634832335,
          -0.8526075566619383,
          -0.5114299502267715,
          -0.21730148865561397,
          -0.015791645907516944,
          0.06797055452115505,
          0.03635205742061263,
          -0.08143921964625862,
          -0.2373564725487357,
          -0.37722489875790627,
          -0.4539177173522368,
          -0.4372035680827143,
          -0.31872837054632597,
          -0.11260982442834055,
          0.14756740603227464,
          0.4152102186355191,
          0.6403881137798437,
          0.7811752547779521,
          0.8136377870978131,
          0.737106648963735,
          0.5728516831516542,
          0.3569891897711539,
          0.13073120610426348,
          -0.0685689064419288,
          -0.21357158262641884,
          -0.2900382030756876,
          -0.2972977622867476,
          -0.24627366147835927,
          -0.15510347214279988,
          -0.04315269007883536,
          0.07464243607835812,
          0.19084659291382064,
          0.3046901390031836,
          0.41771147872144776,
          0.5278752057886518,
          0.6249813354840158,
          0.6900005046708703,
          0.6998173386590795,
          0.6366962416645368,
          0.4989304980037732,
          0.3069615281145436,
          0.10009257848968932,
          -0.07610063029518875,
          -0.18550677202390642,
          -0.21247069443357422,
          -0.1639675574346376,
          -0.06403332926627675,
          0.05577801859374407,
          0.16595078641824362,
          0.24572366575010457,
          0.28581422508595655,
          0.28764132210064064,
          0.26046360109131683,
          0.2178243169331724,
          0.1740326159746435,
          0.14087973862753406,
          0.12489288223714529,
          0.12586094494548553,
          0.13742608696076955,
          0.1498850791037275,
          0.15424429973880852,
          0.14577933450957176,
          0.12558585419017243,
          0.09969957169953267,
          0.07641499530617309,
          0.06297486459554011,
          0.06293625801706913,
          0.07518163332469038,
          0.09470230313784617,
          0.1144902279055629,
          0.12766902614199885,
          0.12923849784228628,
          0.11711707483729213,
          0.09238708480731936,
          0.058805519158322245,
          0.02183278012042539,
          -0.01246458537876177,
          -0.03849514628942254,
          -0.05227346043860967,
          -0.052383937658016536,
          -0.04023931707140725,
          -0.019452793780643775,
          0.005205069191787088,
          0.028707541727638012,
          0.04642201842904972,
          0.05470256663020368,
          0.051491936292479494,
          0.03674371629801691,
          0.01241197467487182,
          -0.018088608194475286,
          -0.05077510845915276,
          -0.0818811697894339,
          -0.10801208881505918,
          -0.12548981790711553,
          -0.12926220527029067,
          -0.11212324458740476,
          -0.06501197190946433,
          0.021095127151391474,
          0.15164917067251216,
          0.3239913251632175,
          0.5232456659754072,
          0.7206154854573104,
          0.8759330295996017,
          0.9453423626847062,
          0.8932991368991816,
          0.7059371838801453,
          0.4007619738881114,
          0.026954987456829057,
          -0.3464645445360336,
          -0.6508158345421585,
          -0.837131460446523,
          -0.8865034789728187,
          -0.8091256886533891,
          -0.6352949444698767,
          -0.4036306214852759,
          -0.15089633384297294,
          0.09419013965637352,
          0.31271448555218184,
          0.49380564830043533,
          0.6309943265030514,
          0.7185742376058549,
          0.7497022353763977,
          0.7173394649274493,
          0.6179262987560271,
          0.45608999360039787,
          0.2475674660801133,
          0.018166273443727118,
          -0.20107527209149811,
          -0.3804597599745069,
          -0.4978065753754733,
          -0.542788812452965,
          -0.5183781350116103,
          -0.43905010913846815,
          -0.326556021583196,
          -0.20469459495989076,
          -0.09433800911522676,
          -0.009606841144433418,
          0.044139439999670856,
          0.0701427671176494,
          0.078104730413111,
          0.08079274656518351,
          0.09034194822659809,
          0.11505087397323872,
          0.15716396768865012,
          0.21188313791729646,
          0.2677690966198556,
          0.3087379536754843,
          0.31778224334254185,
          0.2821345011185173,
          0.1989276598046363,
          0.07970121658985604,
          -0.0484775217734791,
          -0.14741995261751184,
          -0.1781573980975565,
          -0.11434196459556292,
          0.04668100009966474,
          0.27989987945984596,
          0.5373290867901509,
          0.7596759834129413,
          0.8914463718165628,
          0.8952792889150395,
          0.7614191858492878,
          0.5094278129655038,
          0.18174307476139606,
          -0.168243675911988,
          -0.48887806997961164,
          -0.739370605695466,
          -0.8938649749265847,
          -0.9420377758852081,
          -0.888378858305411,
          -0.7505062831017115,
          -0.5556829316868455,
          -0.335539547686367,
          -0.12036077941709752,
          0.06539619731850946,
          0.20537969610272458,
          0.29145865343559285,
          0.32248022548013505,
          0.3027142911846819,
          0.24073581392722013,
          0.14883592576936788,
          0.04235447555111888,
          -0.06188968411135505,
          -0.14827807196237802,
          -0.20536810913741,
          -0.22793464581665837,
          -0.21739473043465785,
          -0.18073688299949706,
          -0.12848733152095565,
          -0.07231110906578646,
          -0.022752408312797248,
          0.012570312162007677,
          0.030141275354079115,
          0.03092373807540188,
          0.019770621435157214,
          0.0039261457588295355,
          -0.008951990564263367,
          -0.012632068246539634,
          -0.0035793702051733164,
          0.01844520246227871,
          0.05043178820338492,
          0.08680969877961113,
          0.1206898074341004,
          0.14538367983468667,
          0.15587213799292088,
          0.15001943972278808,
          0.12930917134015718,
          0.09857904204247138,
          0.0642248165229585,
          0.03131588770904834,
          0.0014201447598475175
         ]
        }
       ],
       "layout": {
        "annotations": [
         {
          "font": {
           "color": "cyan",
           "size": 16
          },
          "showarrow": false,
          "text": "KH",
          "textangle": -90,
          "x": 1.81111,
          "xref": "x",
          "y": 1,
          "yref": "paper"
         },
         {
          "font": {
           "color": "cyan",
           "size": 16
          },
          "showarrow": false,
          "text": "FC",
          "textangle": -90,
          "x": 2.61111,
          "xref": "x",
          "y": 1,
          "yref": "paper"
         },
         {
          "font": {
           "color": "cyan",
           "size": 16
          },
          "showarrow": false,
          "text": "MER",
          "textangle": -90,
          "x": 2.73333,
          "xref": "x",
          "y": 1,
          "yref": "paper"
         },
         {
          "font": {
           "color": "cyan",
           "size": 16
          },
          "showarrow": false,
          "text": "BR",
          "textangle": -90,
          "x": 2.77778,
          "xref": "x",
          "y": 1,
          "yref": "paper"
         }
        ],
        "height": 600,
        "margin": {
         "b": 40,
         "l": 40,
         "r": 40,
         "t": 40
        },
        "plot_bgcolor": "rgb(43,48,61)",
        "shapes": [
         {
          "line": {
           "color": "cyan",
           "dash": "dash",
           "width": 4
          },
          "opacity": 0.5,
          "type": "line",
          "x0": 1.8,
          "x1": 1.8,
          "xref": "x",
          "y0": 0,
          "y1": 1,
          "yref": "paper"
         },
         {
          "line": {
           "color": "cyan",
           "dash": "dash",
           "width": 4
          },
          "opacity": 0.5,
          "type": "line",
          "x0": 2.6,
          "x1": 2.6,
          "xref": "x",
          "y0": 0,
          "y1": 1,
          "yref": "paper"
         },
         {
          "line": {
           "color": "cyan",
           "dash": "dash",
           "width": 4
          },
          "opacity": 0.5,
          "type": "line",
          "x0": 2.72222,
          "x1": 2.72222,
          "xref": "x",
          "y0": 0,
          "y1": 1,
          "yref": "paper"
         },
         {
          "line": {
           "color": "cyan",
           "dash": "dash",
           "width": 4
          },
          "opacity": 0.5,
          "type": "line",
          "x0": 2.76667,
          "x1": 2.76667,
          "xref": "x",
          "y0": 0,
          "y1": 1,
          "yref": "paper"
         }
        ],
        "showlegend": false,
        "template": {
         "data": {
          "bar": [
           {
            "error_x": {
             "color": "#2a3f5f"
            },
            "error_y": {
             "color": "#2a3f5f"
            },
            "marker": {
             "line": {
              "color": "#E5ECF6",
              "width": 0.5
             },
             "pattern": {
              "fillmode": "overlay",
              "size": 10,
              "solidity": 0.2
             }
            },
            "type": "bar"
           }
          ],
          "barpolar": [
           {
            "marker": {
             "line": {
              "color": "#E5ECF6",
              "width": 0.5
             },
             "pattern": {
              "fillmode": "overlay",
              "size": 10,
              "solidity": 0.2
             }
            },
            "type": "barpolar"
           }
          ],
          "carpet": [
           {
            "aaxis": {
             "endlinecolor": "#2a3f5f",
             "gridcolor": "white",
             "linecolor": "white",
             "minorgridcolor": "white",
             "startlinecolor": "#2a3f5f"
            },
            "baxis": {
             "endlinecolor": "#2a3f5f",
             "gridcolor": "white",
             "linecolor": "white",
             "minorgridcolor": "white",
             "startlinecolor": "#2a3f5f"
            },
            "type": "carpet"
           }
          ],
          "choropleth": [
           {
            "colorbar": {
             "outlinewidth": 0,
             "ticks": ""
            },
            "type": "choropleth"
           }
          ],
          "contour": [
           {
            "colorbar": {
             "outlinewidth": 0,
             "ticks": ""
            },
            "colorscale": [
             [
              0,
              "#0d0887"
             ],
             [
              0.1111111111111111,
              "#46039f"
             ],
             [
              0.2222222222222222,
              "#7201a8"
             ],
             [
              0.3333333333333333,
              "#9c179e"
             ],
             [
              0.4444444444444444,
              "#bd3786"
             ],
             [
              0.5555555555555556,
              "#d8576b"
             ],
             [
              0.6666666666666666,
              "#ed7953"
             ],
             [
              0.7777777777777778,
              "#fb9f3a"
             ],
             [
              0.8888888888888888,
              "#fdca26"
             ],
             [
              1,
              "#f0f921"
             ]
            ],
            "type": "contour"
           }
          ],
          "contourcarpet": [
           {
            "colorbar": {
             "outlinewidth": 0,
             "ticks": ""
            },
            "type": "contourcarpet"
           }
          ],
          "heatmap": [
           {
            "colorbar": {
             "outlinewidth": 0,
             "ticks": ""
            },
            "colorscale": [
             [
              0,
              "#0d0887"
             ],
             [
              0.1111111111111111,
              "#46039f"
             ],
             [
              0.2222222222222222,
              "#7201a8"
             ],
             [
              0.3333333333333333,
              "#9c179e"
             ],
             [
              0.4444444444444444,
              "#bd3786"
             ],
             [
              0.5555555555555556,
              "#d8576b"
             ],
             [
              0.6666666666666666,
              "#ed7953"
             ],
             [
              0.7777777777777778,
              "#fb9f3a"
             ],
             [
              0.8888888888888888,
              "#fdca26"
             ],
             [
              1,
              "#f0f921"
             ]
            ],
            "type": "heatmap"
           }
          ],
          "heatmapgl": [
           {
            "colorbar": {
             "outlinewidth": 0,
             "ticks": ""
            },
            "colorscale": [
             [
              0,
              "#0d0887"
             ],
             [
              0.1111111111111111,
              "#46039f"
             ],
             [
              0.2222222222222222,
              "#7201a8"
             ],
             [
              0.3333333333333333,
              "#9c179e"
             ],
             [
              0.4444444444444444,
              "#bd3786"
             ],
             [
              0.5555555555555556,
              "#d8576b"
             ],
             [
              0.6666666666666666,
              "#ed7953"
             ],
             [
              0.7777777777777778,
              "#fb9f3a"
             ],
             [
              0.8888888888888888,
              "#fdca26"
             ],
             [
              1,
              "#f0f921"
             ]
            ],
            "type": "heatmapgl"
           }
          ],
          "histogram": [
           {
            "marker": {
             "pattern": {
              "fillmode": "overlay",
              "size": 10,
              "solidity": 0.2
             }
            },
            "type": "histogram"
           }
          ],
          "histogram2d": [
           {
            "colorbar": {
             "outlinewidth": 0,
             "ticks": ""
            },
            "colorscale": [
             [
              0,
              "#0d0887"
             ],
             [
              0.1111111111111111,
              "#46039f"
             ],
             [
              0.2222222222222222,
              "#7201a8"
             ],
             [
              0.3333333333333333,
              "#9c179e"
             ],
             [
              0.4444444444444444,
              "#bd3786"
             ],
             [
              0.5555555555555556,
              "#d8576b"
             ],
             [
              0.6666666666666666,
              "#ed7953"
             ],
             [
              0.7777777777777778,
              "#fb9f3a"
             ],
             [
              0.8888888888888888,
              "#fdca26"
             ],
             [
              1,
              "#f0f921"
             ]
            ],
            "type": "histogram2d"
           }
          ],
          "histogram2dcontour": [
           {
            "colorbar": {
             "outlinewidth": 0,
             "ticks": ""
            },
            "colorscale": [
             [
              0,
              "#0d0887"
             ],
             [
              0.1111111111111111,
              "#46039f"
             ],
             [
              0.2222222222222222,
              "#7201a8"
             ],
             [
              0.3333333333333333,
              "#9c179e"
             ],
             [
              0.4444444444444444,
              "#bd3786"
             ],
             [
              0.5555555555555556,
              "#d8576b"
             ],
             [
              0.6666666666666666,
              "#ed7953"
             ],
             [
              0.7777777777777778,
              "#fb9f3a"
             ],
             [
              0.8888888888888888,
              "#fdca26"
             ],
             [
              1,
              "#f0f921"
             ]
            ],
            "type": "histogram2dcontour"
           }
          ],
          "mesh3d": [
           {
            "colorbar": {
             "outlinewidth": 0,
             "ticks": ""
            },
            "type": "mesh3d"
           }
          ],
          "parcoords": [
           {
            "line": {
             "colorbar": {
              "outlinewidth": 0,
              "ticks": ""
             }
            },
            "type": "parcoords"
           }
          ],
          "pie": [
           {
            "automargin": true,
            "type": "pie"
           }
          ],
          "scatter": [
           {
            "fillpattern": {
             "fillmode": "overlay",
             "size": 10,
             "solidity": 0.2
            },
            "type": "scatter"
           }
          ],
          "scatter3d": [
           {
            "line": {
             "colorbar": {
              "outlinewidth": 0,
              "ticks": ""
             }
            },
            "marker": {
             "colorbar": {
              "outlinewidth": 0,
              "ticks": ""
             }
            },
            "type": "scatter3d"
           }
          ],
          "scattercarpet": [
           {
            "marker": {
             "colorbar": {
              "outlinewidth": 0,
              "ticks": ""
             }
            },
            "type": "scattercarpet"
           }
          ],
          "scattergeo": [
           {
            "marker": {
             "colorbar": {
              "outlinewidth": 0,
              "ticks": ""
             }
            },
            "type": "scattergeo"
           }
          ],
          "scattergl": [
           {
            "marker": {
             "colorbar": {
              "outlinewidth": 0,
              "ticks": ""
             }
            },
            "type": "scattergl"
           }
          ],
          "scattermapbox": [
           {
            "marker": {
             "colorbar": {
              "outlinewidth": 0,
              "ticks": ""
             }
            },
            "type": "scattermapbox"
           }
          ],
          "scatterpolar": [
           {
            "marker": {
             "colorbar": {
              "outlinewidth": 0,
              "ticks": ""
             }
            },
            "type": "scatterpolar"
           }
          ],
          "scatterpolargl": [
           {
            "marker": {
             "colorbar": {
              "outlinewidth": 0,
              "ticks": ""
             }
            },
            "type": "scatterpolargl"
           }
          ],
          "scatterternary": [
           {
            "marker": {
             "colorbar": {
              "outlinewidth": 0,
              "ticks": ""
             }
            },
            "type": "scatterternary"
           }
          ],
          "surface": [
           {
            "colorbar": {
             "outlinewidth": 0,
             "ticks": ""
            },
            "colorscale": [
             [
              0,
              "#0d0887"
             ],
             [
              0.1111111111111111,
              "#46039f"
             ],
             [
              0.2222222222222222,
              "#7201a8"
             ],
             [
              0.3333333333333333,
              "#9c179e"
             ],
             [
              0.4444444444444444,
              "#bd3786"
             ],
             [
              0.5555555555555556,
              "#d8576b"
             ],
             [
              0.6666666666666666,
              "#ed7953"
             ],
             [
              0.7777777777777778,
              "#fb9f3a"
             ],
             [
              0.8888888888888888,
              "#fdca26"
             ],
             [
              1,
              "#f0f921"
             ]
            ],
            "type": "surface"
           }
          ],
          "table": [
           {
            "cells": {
             "fill": {
              "color": "#EBF0F8"
             },
             "line": {
              "color": "white"
             }
            },
            "header": {
             "fill": {
              "color": "#C8D4E3"
             },
             "line": {
              "color": "white"
             }
            },
            "type": "table"
           }
          ]
         },
         "layout": {
          "annotationdefaults": {
           "arrowcolor": "#2a3f5f",
           "arrowhead": 0,
           "arrowwidth": 1
          },
          "autotypenumbers": "strict",
          "coloraxis": {
           "colorbar": {
            "outlinewidth": 0,
            "ticks": ""
           }
          },
          "colorscale": {
           "diverging": [
            [
             0,
             "#8e0152"
            ],
            [
             0.1,
             "#c51b7d"
            ],
            [
             0.2,
             "#de77ae"
            ],
            [
             0.3,
             "#f1b6da"
            ],
            [
             0.4,
             "#fde0ef"
            ],
            [
             0.5,
             "#f7f7f7"
            ],
            [
             0.6,
             "#e6f5d0"
            ],
            [
             0.7,
             "#b8e186"
            ],
            [
             0.8,
             "#7fbc41"
            ],
            [
             0.9,
             "#4d9221"
            ],
            [
             1,
             "#276419"
            ]
           ],
           "sequential": [
            [
             0,
             "#0d0887"
            ],
            [
             0.1111111111111111,
             "#46039f"
            ],
            [
             0.2222222222222222,
             "#7201a8"
            ],
            [
             0.3333333333333333,
             "#9c179e"
            ],
            [
             0.4444444444444444,
             "#bd3786"
            ],
            [
             0.5555555555555556,
             "#d8576b"
            ],
            [
             0.6666666666666666,
             "#ed7953"
            ],
            [
             0.7777777777777778,
             "#fb9f3a"
            ],
            [
             0.8888888888888888,
             "#fdca26"
            ],
            [
             1,
             "#f0f921"
            ]
           ],
           "sequentialminus": [
            [
             0,
             "#0d0887"
            ],
            [
             0.1111111111111111,
             "#46039f"
            ],
            [
             0.2222222222222222,
             "#7201a8"
            ],
            [
             0.3333333333333333,
             "#9c179e"
            ],
            [
             0.4444444444444444,
             "#bd3786"
            ],
            [
             0.5555555555555556,
             "#d8576b"
            ],
            [
             0.6666666666666666,
             "#ed7953"
            ],
            [
             0.7777777777777778,
             "#fb9f3a"
            ],
            [
             0.8888888888888888,
             "#fdca26"
            ],
            [
             1,
             "#f0f921"
            ]
           ]
          },
          "colorway": [
           "#636efa",
           "#EF553B",
           "#00cc96",
           "#ab63fa",
           "#FFA15A",
           "#19d3f3",
           "#FF6692",
           "#B6E880",
           "#FF97FF",
           "#FECB52"
          ],
          "font": {
           "color": "#2a3f5f"
          },
          "geo": {
           "bgcolor": "white",
           "lakecolor": "white",
           "landcolor": "#E5ECF6",
           "showlakes": true,
           "showland": true,
           "subunitcolor": "white"
          },
          "hoverlabel": {
           "align": "left"
          },
          "hovermode": "closest",
          "mapbox": {
           "style": "light"
          },
          "paper_bgcolor": "white",
          "plot_bgcolor": "#E5ECF6",
          "polar": {
           "angularaxis": {
            "gridcolor": "white",
            "linecolor": "white",
            "ticks": ""
           },
           "bgcolor": "#E5ECF6",
           "radialaxis": {
            "gridcolor": "white",
            "linecolor": "white",
            "ticks": ""
           }
          },
          "scene": {
           "xaxis": {
            "backgroundcolor": "#E5ECF6",
            "gridcolor": "white",
            "gridwidth": 2,
            "linecolor": "white",
            "showbackground": true,
            "ticks": "",
            "zerolinecolor": "white"
           },
           "yaxis": {
            "backgroundcolor": "#E5ECF6",
            "gridcolor": "white",
            "gridwidth": 2,
            "linecolor": "white",
            "showbackground": true,
            "ticks": "",
            "zerolinecolor": "white"
           },
           "zaxis": {
            "backgroundcolor": "#E5ECF6",
            "gridcolor": "white",
            "gridwidth": 2,
            "linecolor": "white",
            "showbackground": true,
            "ticks": "",
            "zerolinecolor": "white"
           }
          },
          "shapedefaults": {
           "line": {
            "color": "#2a3f5f"
           }
          },
          "ternary": {
           "aaxis": {
            "gridcolor": "white",
            "linecolor": "white",
            "ticks": ""
           },
           "baxis": {
            "gridcolor": "white",
            "linecolor": "white",
            "ticks": ""
           },
           "bgcolor": "#E5ECF6",
           "caxis": {
            "gridcolor": "white",
            "linecolor": "white",
            "ticks": ""
           }
          },
          "title": {
           "x": 0.05
          },
          "xaxis": {
           "automargin": true,
           "gridcolor": "white",
           "linecolor": "white",
           "ticks": "",
           "title": {
            "standoff": 15
           },
           "zerolinecolor": "white",
           "zerolinewidth": 2
          },
          "yaxis": {
           "automargin": true,
           "gridcolor": "white",
           "linecolor": "white",
           "ticks": "",
           "title": {
            "standoff": 15
           },
           "zerolinecolor": "white",
           "zerolinewidth": 2
          }
         }
        },
        "title": {
         "text": "PELVIS POWER"
        },
        "xaxis": {
         "showgrid": false,
         "title": {
          "text": "Time [s]"
         }
        },
        "yaxis": {
         "autorange": true,
         "gridcolor": "lightgrey",
         "gridwidth": 1,
         "rangemode": "tozero",
         "showgrid": true,
         "title": {
          "text": "Power [W/kg]"
         },
         "zeroline": false
        }
       }
      }
     },
     "metadata": {},
     "output_type": "display_data"
    },
    {
     "data": {
      "application/vnd.plotly.v1+json": {
       "config": {
        "plotlyServerURL": "https://plot.ly"
       },
       "data": [
        {
         "line": {
          "color": "firebrick",
          "width": 4
         },
         "mode": "lines",
         "name": "TORSO POWER",
         "type": "scatter",
         "x": [
          1.8,
          1.80556,
          1.81111,
          1.81667,
          1.82222,
          1.82778,
          1.83333,
          1.83889,
          1.84444,
          1.85,
          1.85556,
          1.86111,
          1.86667,
          1.87222,
          1.87778,
          1.88333,
          1.88889,
          1.89444,
          1.9,
          1.90556,
          1.91111,
          1.91667,
          1.92222,
          1.92778,
          1.93333,
          1.93889,
          1.94444,
          1.95,
          1.95556,
          1.96111,
          1.96667,
          1.97222,
          1.97778,
          1.98333,
          1.98889,
          1.99444,
          2,
          2.00556,
          2.01111,
          2.01667,
          2.02222,
          2.02778,
          2.03333,
          2.03889,
          2.04444,
          2.05,
          2.05556,
          2.06111,
          2.06667,
          2.07222,
          2.07778,
          2.08333,
          2.08889,
          2.09444,
          2.1,
          2.10556,
          2.11111,
          2.11667,
          2.12222,
          2.12778,
          2.13333,
          2.13889,
          2.14444,
          2.15,
          2.15556,
          2.16111,
          2.16667,
          2.17222,
          2.17778,
          2.18333,
          2.18889,
          2.19444,
          2.2,
          2.20556,
          2.21111,
          2.21667,
          2.22222,
          2.22778,
          2.23333,
          2.23889,
          2.24444,
          2.25,
          2.25556,
          2.26111,
          2.26667,
          2.27222,
          2.27778,
          2.28333,
          2.28889,
          2.29444,
          2.3,
          2.30556,
          2.31111,
          2.31667,
          2.32222,
          2.32778,
          2.33333,
          2.33889,
          2.34444,
          2.35,
          2.35556,
          2.36111,
          2.36667,
          2.37222,
          2.37778,
          2.38333,
          2.38889,
          2.39444,
          2.4,
          2.40556,
          2.41111,
          2.41667,
          2.42222,
          2.42778,
          2.43333,
          2.43889,
          2.44444,
          2.45,
          2.45556,
          2.46111,
          2.46667,
          2.47222,
          2.47778,
          2.48333,
          2.48889,
          2.49444,
          2.5,
          2.50556,
          2.51111,
          2.51667,
          2.52222,
          2.52778,
          2.53333,
          2.53889,
          2.54444,
          2.55,
          2.55556,
          2.56111,
          2.56667,
          2.57222,
          2.57778,
          2.58333,
          2.58889,
          2.59444,
          2.6,
          2.60556,
          2.61111,
          2.61667,
          2.62222,
          2.62778,
          2.63333,
          2.63889,
          2.64444,
          2.65,
          2.65556,
          2.66111,
          2.66667,
          2.67222,
          2.67778,
          2.68333,
          2.68889,
          2.69444,
          2.7,
          2.70556,
          2.71111,
          2.71667,
          2.72222,
          2.72778,
          2.73333,
          2.73889,
          2.74444,
          2.75,
          2.75556,
          2.76111,
          2.76667,
          2.77222,
          2.77778,
          2.78333,
          2.78889,
          2.79444,
          2.8,
          2.80556,
          2.81111,
          2.81667,
          2.82222,
          2.82778,
          2.83333,
          2.83889,
          2.84444,
          2.85,
          2.85556,
          2.86111,
          2.86667,
          2.87222,
          2.87778,
          2.88333,
          2.88889,
          2.89444,
          2.9,
          2.90556,
          2.91111,
          2.91667,
          2.92222,
          2.92778,
          2.93333,
          2.93889,
          2.94444,
          2.95,
          2.95556,
          2.96111
         ],
         "y": [
          0.008054609224294875,
          0.057851951182665735,
          0.11701995115562693,
          0.19368081356700054,
          0.29021351863459555,
          0.40262140387348744,
          0.5211135960016315,
          0.6314057691985479,
          0.7168988591022681,
          0.7620542958470324,
          0.7564421020643796,
          0.6978738091635084,
          0.5929818002937404,
          0.4549080427993222,
          0.29938369870027526,
          0.14109370360778462,
          -0.008420041288674197,
          -0.1411592390855003,
          -0.2519385066858535,
          -0.3372297868440958,
          -0.39417143180169195,
          -0.42023942771485207,
          -0.41387649964916723,
          -0.375893366484877,
          -0.310931862212338,
          -0.22807944517805656,
          -0.1399600400980417,
          -0.06021476832758204,
          -0.00005771759583061978,
          0.03479612544482747,
          0.045520405883261214,
          0.03927705805956902,
          0.02642381955215463,
          0.016992211112085005,
          0.017810161165354766,
          0.031192748533889893,
          0.05526729455870453,
          0.08537176882954893,
          0.11590073291694232,
          0.14214551798971642,
          0.16172140631852405,
          0.17516363747948702,
          0.1854496348757601,
          0.19660629967449095,
          0.21193919856245447,
          0.23251032873494726,
          0.25632511496780314,
          0.278471640468682,
          0.29226923501696433,
          0.2912642393254757,
          0.2715669711331956,
          0.23364494827387833,
          0.18263138313218752,
          0.12672741442637306,
          0.07417619866052673,
          0.030119071748398393,
          -0.0050829674120561625,
          -0.035167220868807546,
          -0.06542867722735698,
          -0.09984638964567569,
          -0.1392321880709621,
          -0.18077395980992608,
          -0.2185376616492938,
          -0.2444390249311109,
          -0.24971882511606747,
          -0.22719961449018178,
          -0.173926921250068,
          -0.0929582563259973,
          0.006668125233301281,
          0.11161225445619921,
          0.20669059129780545,
          0.27742231373105003,
          0.3123951269656026,
          0.3052996552800253,
          0.25641017351239603,
          0.17336087210209022,
          0.07102107242298646,
          -0.03017875297287398,
          -0.10815774817111973,
          -0.14482372547952543,
          -0.13136678276948435,
          -0.07074462894077567,
          0.023938900983167893,
          0.13441690159584985,
          0.24300252649438164,
          0.33615941332499427,
          0.4046928981023499,
          0.441829724349379,
          0.4417472422464244,
          0.4004419002385544,
          0.31877533400522967,
          0.2055368711177358,
          0.077866598803801,
          -0.0421970493667441,
          -0.1338551663265546,
          -0.1833723868101192,
          -0.1868114216477936,
          -0.14914577176001892,
          -0.08155342211263589,
          0.0010278020511580274,
          0.08172242459243603,
          0.14405196634662815,
          0.1755128827384534,
          0.17150463308000777,
          0.13763682836024727,
          0.08878130877903066,
          0.04471468436574479,
          0.02396787105618575,
          0.03850939996258318,
          0.09143328700950083,
          0.17803876360988505,
          0.28868857764891104,
          0.4111686959629374,
          0.5315009408292048,
          0.6340316178517573,
          0.7024202135811881,
          0.7224309228923995,
          0.6859451268703959,
          0.5944100127107245,
          0.4598479641433649,
          0.3027112031438719,
          0.14742117613349656,
          0.01725213489258983,
          -0.07004525591326097,
          -0.10524487051140605,
          -0.08907200515188096,
          -0.03179277611119772,
          0.049180440899213994,
          0.13308439847656914,
          0.19989739950036253,
          0.23406467040827172,
          0.22766861109241493,
          0.18236418081176767,
          0.10890941855596625,
          0.023941568222701607,
          -0.054820181141477485,
          -0.11301116581274022,
          -0.14226397400842877,
          -0.14077096803931444,
          -0.11236637582228558,
          -0.0648395350474654,
          -0.007817201193930187,
          0.04959991491036524,
          0.10096780543949632,
          0.14365216941423714,
          0.1784786425644668,
          0.20798590395430364,
          0.23407040590737313,
          0.25616343763023786,
          0.2707872211654118,
          0.2725646616087175,
          0.2561535310844645,
          0.21842267502562296,
          0.16017660839483755,
          0.08674459257263006,
          0.007047335355467922,
          -0.06863560738134321,
          -0.13141227788093232,
          -0.17603776276896776,
          -0.20185583986979272,
          -0.21205693788253435,
          -0.21154961231012456,
          -0.20443242315736226,
          -0.19235210830216917,
          -0.17454789896330516,
          -0.14937582264686441,
          -0.11636619427461428,
          -0.07776951569515193,
          -0.03886724741420328,
          -0.006861251191891014,
          0.01121911230428528,
          0.010772923896942637,
          -0.008732302336955669,
          -0.043259758238939565,
          -0.08502552126327749,
          -0.12438641532556405,
          -0.15216801519439743,
          -0.1617389616266636,
          -0.1503722441817532,
          -0.11982929425517784,
          -0.07637520306527529,
          -0.030233019991271346,
          0.006015851575934377,
          0.020503566954111735,
          0.0059646697913967196,
          -0.03727306254216205,
          -0.10065860054280323,
          -0.16927871329737537,
          -0.22529848503640898,
          -0.25198580453064295,
          -0.23766175652188823,
          -0.17900014211149437,
          -0.08286677696555617,
          0.03430669153662497,
          0.15028073574360754,
          0.2432423079703945,
          0.2980527371838763,
          0.30948194647459326,
          0.2811381249131854,
          0.22154301490999007,
          0.14022462151537843,
          0.04592614420785584,
          -0.05288016754897001,
          -0.14653236292462085,
          -0.22361854422127553,
          -0.2725918759690094,
          -0.2854602344611021,
          -0.2618642973367054,
          -0.2109713504051557,
          -0.1492632635451226,
          -0.09462342233839419,
          -0.05976408576952512,
          -0.04861458544842055,
          -0.05704277399812285,
          -0.07632293209712543,
          -0.09663752749020445,
          -0.10902566243537881,
          -0.10616406621032087,
          -0.08341128267605794,
          -0.040781152577339455,
          0.015275735387267134,
          0.0724356617002152,
          0.11667853636228431,
          0.1389499890166862,
          0.14095131354282137,
          0.13634632395281412,
          0.14572344133244441,
          0.1871211172239686,
          0.2667677554353276,
          0.3748737163550267,
          0.4884833694525773,
          0.5795769205177679,
          0.6244037894316272,
          0.6101843066406212,
          0.5370012983055994,
          0.4150831866635957,
          0.2598520771820135,
          0.08776580910015959,
          -0.0854084514448969,
          -0.24447818496154092,
          -0.3745678935167262,
          -0.4617789412250836,
          -0.49469832018932397,
          -0.4663907303182094,
          -0.37669900022755,
          -0.23438736608840594,
          -0.05810118306694364,
          0.12481913033209394,
          0.28193565541228144,
          0.38139066660834053,
          0.39892395612326614,
          0.324667039735628,
          0.16716301746105963,
          -0.04771620233016437,
          -0.28326038501532486,
          -0.5015191741440194,
          -0.6722658752797787,
          -0.7782120338406611,
          -0.8156381217341302,
          -0.7918938025906987,
          -0.7219194783370128,
          -0.6250421852968827,
          -0.5221236292402395,
          -0.43273420351458264,
          -0.37235383573334857,
          -0.350010221514301,
          -0.36680556622780586,
          -0.4155739646199007,
          -0.4818763478548214,
          -0.5467110913384416,
          -0.591119066605759,
          -0.6019102325063516,
          -0.5765977353271372,
          -0.5253099136148617,
          -0.4683640767026157,
          -0.4298590380400209,
          -0.4292906037433457,
          -0.47414324414881215,
          -0.5562277022151753,
          -0.6532798284862317,
          -0.7355654866941282,
          -0.775437484698699,
          -0.7563619635239672,
          -0.6777968397178349,
          -0.5542347015679433,
          -0.4096563980516494,
          -0.2702853111328628,
          -0.15814903686325404,
          -0.08686391688916438,
          -0.06022029847116144,
          -0.07331195406578003,
          -0.11514577892262816,
          -0.1715329263638524,
          -0.22767562953046244,
          -0.27048877652286746,
          -0.2907669449510347,
          -0.2849263907467655,
          -0.2556340080711008,
          -0.21064348378868236,
          -0.15988952462489125,
          -0.11204239362001037,
          -0.07241793469641476,
          -0.04360138028283374,
          -0.028368760161649326,
          -0.03250566025383413,
          -0.06461524670255525,
          -0.13195010833627047,
          -0.23450738148500394,
          -0.3612994524879998,
          -0.491284289830827,
          -0.5983226081380822,
          -0.6574272871981742,
          -0.6498467829773111,
          -0.5663542563466828,
          -0.40941391911855046,
          -0.19445296208286114,
          0.05080150654777306,
          0.2904104325675998,
          0.488132282467651,
          0.6171997059015457,
          0.6678642160720826,
          0.6489236773508532,
          0.5826753774364443,
          0.4962065376150012,
          0.41290210913359404,
          0.34682419918205243,
          0.30112661143856445,
          0.2705324354418225,
          0.24652748158696805,
          0.2224981425475732,
          0.19599182535260293,
          0.1674107962522593,
          0.13726710822391525,
          0.10498200307708101,
          0.07034361511337346,
          0.03616063470857135,
          0.009743626710854818,
          0.0019041545195133199,
          0.02377746621742511,
          0.08277219728003729,
          0.17911678387371413,
          0.30402585464521287,
          0.4399017077375608,
          0.5627358793991175,
          0.6468097280949333,
          0.6711545806329444,
          0.6260309441219306,
          0.517006773681557,
          0.3649079324505372,
          0.20161963033369795,
          0.0632042175918112,
          -0.017805084705931104,
          -0.019400779315447883,
          0.06489058527482532,
          0.22399357635715877,
          0.430608509475807,
          0.6456458274994512,
          0.8255287041512394,
          0.9320137009401601,
          0.9429862651166918,
          0.8607403395005224,
          0.7134466712712298,
          0.547589146085394,
          0.41357592808039007,
          0.3506162982105556,
          0.37725076790160883,
          0.49022122444285393,
          0.6696778693475063,
          0.8865513955516386,
          1.1087692127832491,
          1.305148053578418,
          1.4480380057774942,
          1.5170384910356138,
          1.5048638613936276,
          1.4231792714321236,
          1.30399573328657,
          1.1934002052838844,
          1.1383235547702988,
          1.1709008465938073,
          1.2965065605390087,
          1.490536075319737,
          1.706170514455967,
          1.8912869638314522,
          2.0084695980843805,
          2.0496922466810954,
          2.0384550483380526,
          2.0174257089166048,
          2.027253484480054,
          2.087895120831638,
          2.1925847178958295,
          2.316087937503993,
          2.4297569108478405,
          2.513744546825799,
          2.561888488187524,
          2.581052559616288,
          2.588830659681153,
          2.6113240779195563,
          2.6797411488912086,
          2.824341384219033,
          3.0669528509866026,
          3.415364933405525,
          3.8609894376922105,
          4.377290837002632,
          4.916692985914314,
          5.40970841150602,
          5.774795369895816,
          5.9427054942470265,
          5.886605162112327,
          5.640310214397545,
          5.290873248746586,
          4.946883962841606,
          4.698922522223129,
          4.592166951842874,
          4.621614461046897,
          4.746715016892693,
          4.9139955079935325,
          5.075814494610234,
          5.19820691964395,
          5.257953671956771,
          5.235175414787569,
          5.1091655171915376,
          4.861047765719742,
          4.4808645740885975,
          3.9737455616804507,
          3.36154497216298,
          2.6802528473985885,
          1.975749193839886,
          1.2996943876628164,
          0.7051804705314934,
          0.24027729591371255,
          -0.062023712662458645,
          -0.19607328754125053,
          -0.19264116087482058,
          -0.11855719885949582,
          -0.06552220114243343,
          -0.1335208043814222,
          -0.41604687770323756,
          -0.9891514154477986,
          -1.9005996381104293,
          -3.1564580871257877,
          -4.709039566112575,
          -6.45470135903915,
          -8.247990676615107,
          -9.931612971588239,
          -11.373443259016392,
          -12.496456267140395,
          -13.288942159083964,
          -13.791518114685264,
          -14.069844808437457,
          -14.189334313000872,
          -14.204207046357512,
          -14.160667857694172,
          -14.10310481543467,
          -14.07210322978748,
          -14.093786291256922,
          -14.171962465445844,
          -14.296070613634042,
          -14.465779584122323,
          -14.716501547616904,
          -15.123642864119441,
          -15.77480852011277,
          -16.721728468763366,
          -17.940493907667374,
          -19.325131727635263,
          -20.715881590400326,
          -21.938274958226955,
          -22.825696755541124,
          -23.221134745585054,
          -22.980370859437254,
          -22.00116652444813,
          -20.276380393679307,
          -17.93504210043349,
          -15.225830853205917,
          -12.429273048878953,
          -9.739353161213998,
          -7.186934457050287,
          -4.657747678818403,
          -2.0025494893871065,
          0.8142156565132835,
          3.6026671633536176,
          5.935720332477077,
          7.2586915302661925,
          7.085523179982481,
          5.204063738541754,
          1.808607257055347,
          -2.4873087030270624,
          -6.757464866594623,
          -9.956533486880362,
          -11.156047801850171,
          -9.771778426716054,
          -5.724756567123346,
          0.5173877205150054,
          8.04214793197694,
          15.709817875490756,
          22.416747562804385,
          27.324518083292897,
          30.000918802017114,
          30.456672045510313,
          29.0898585535198,
          26.56190972226407,
          23.633307108102915,
          20.99225478047938,
          19.11394297342629,
          18.183603900756037,
          18.099939676715003,
          18.55224047612807,
          19.143276476468895,
          19.51744403841762,
          19.45444290231469,
          18.903441980725955,
          17.954798480458916,
          16.767464142786906,
          15.484730414273558,
          14.174330482479034,
          12.816808543759437,
          11.340985893877972,
          9.6813027903478,
          7.825731366779063,
          5.837306121292822,
          3.85069340916067,
          2.0512453270724165,
          0.6397836594061563,
          -0.21437177291398207,
          -0.4214595843655031,
          -0.0014823277778981472,
          0.9192609358550906,
          2.145699122406638,
          3.4689179348923807,
          4.714858238808357,
          5.769428812999489,
          6.57702954267021,
          7.122795801891711,
          7.4133404013123565,
          7.465302062619326,
          7.301757171444241,
          6.951069177045276,
          6.44398524198139,
          5.809645306500921,
          5.07408949138912,
          4.2630809461961965,
          3.406710617298059,
          2.5408295128565,
          1.7023855808871955,
          0.9204519872975585,
          0.2081226957527573,
          -0.4396994955184495,
          -1.0404188051056322,
          -1.6112448391747862,
          -2.1549588140162603,
          -2.650701899256412,
          -3.055391245855909,
          -3.3169588314862133,
          -3.3945245645037376,
          -3.276131577358594,
          -2.985373854589488,
          -2.574369203298068,
          -2.1076879572316733,
          -1.645256652612315,
          -1.2308006636146316,
          -0.8882624528517978,
          -0.6248778535925413,
          -0.4378603465096346,
          -0.3214074054331736,
          -0.2710910103570469,
          -0.2840388076577771,
          -0.3558416231760573,
          -0.4770027015820377,
          -0.6312265882158185,
          -0.796014686487512,
          -0.9451407502524999,
          -1.052823668784686,
          -1.0994121642782941,
          -1.0775391089817419,
          -0.9965503090168782,
          -0.882511263394762,
          -0.7721484845429655,
          -0.7018099379116706,
          -0.695519974826789,
          -0.7572469397567269,
          -0.8706117006708124,
          -1.0057216375118014,
          -1.1299141082273443,
          -1.2182708249617131,
          -1.2605174887701143,
          -1.2622956993645016,
          -1.240322831752938,
          -1.2130048819403823,
          -1.1904533994514506,
          -1.1689034493886634,
          -1.1326434363450304,
          -1.062557429975433,
          -0.9470062130718059,
          -0.789989251485516,
          -0.6131012418893589,
          -0.4504323486428639,
          -0.3382109168418824,
          -0.3028656436929745,
          -0.35162612346361705,
          -0.4687060176597669,
          -0.6182011353440848,
          -0.752900950112565,
          -0.8266541124961186,
          -0.8068860208127034,
          -0.6836004052560465,
          -0.47206819538266886,
          -0.2084435541146915,
          0.059963069953875785,
          0.2863127955382018,
          0.43424590012818876,
          0.48406146049265436,
          0.4345007078190406,
          0.30068216813946264,
          0.10931013610203484,
          -0.1074009268412656,
          -0.3176102113194109,
          -0.49446753796958687,
          -0.6190378270295624,
          -0.6815616677267438,
          -0.6811300313863701,
          -0.6238853527486846,
          -0.5204230547281994,
          -0.38386288622806386,
          -0.2298842013588861,
          -0.07825219461259939,
          0.04667925449413886,
          0.11911801202812979,
          0.11891276493199675,
          0.03974641395394134,
          -0.10592437760698699,
          -0.28841416139778825,
          -0.4688596954741298,
          -0.6106011744775873,
          -0.6894546091022024,
          -0.6993649705805232,
          -0.6520135154687209,
          -0.5711392844916107,
          -0.4840156231423999,
          -0.41326094471328223,
          -0.37170134273421573,
          -0.36157272820143843,
          -0.3775355518553745,
          -0.41139575258157596,
          -0.4558426727797509,
          -0.505503143256303,
          -0.5555722932538636,
          -0.5996968780417843,
          -0.6288885887283238,
          -0.6324916583016743,
          -0.6011970102225234,
          -0.5310255807770287,
          -0.42643704027839696,
          -0.3007677919889696,
          -0.17335764365069284,
          -0.06450115377263854,
          0.00953777924976754,
          0.03962706928712054,
          0.024482274855002754,
          -0.03046295912442854,
          -0.11515215990481684,
          -0.217168921922929,
          -0.32362100176637554,
          -0.42249009779183305,
          -0.5036816346324341,
          -0.56008246535527,
          -0.5886400680402004,
          -0.5911276225710712,
          -0.5740885415781685,
          -0.5475122590774525,
          -0.522185539002249,
          -0.5063779610317684,
          -0.5031380222632481,
          -0.5094684822862523,
          -0.51788735712915,
          -0.5197365052756631,
          -0.5087358728851612,
          -0.4832572682984231,
          -0.4466091911200372,
          -0.40568028650882043,
          -0.3688606790411434,
          -0.34401927448837855,
          -0.33685785663478274,
          -0.34968290804615054,
          -0.3806599289604656,
          -0.42377947269231986,
          -0.4698212813010925,
          -0.5083493372816941,
          -0.53026082551012,
          -0.5300343433598996,
          -0.5069302728201337,
          -0.46488133217875627,
          -0.41128383023046,
          -0.3551679747995157,
          -0.3053070911492333,
          -0.2687194838868412,
          -0.24977531080130483,
          -0.24991924056068143,
          -0.2679234737062092,
          -0.300482649532472,
          -0.34287215926908976,
          -0.38951374939781985,
          -0.43457295506289195,
          -0.47278037292496533,
          -0.5004021005673317,
          -0.5160316362530551,
          -0.5208975038800301,
          -0.5184932693591288,
          -0.5134061436567601,
          -0.5095226716046208,
          -0.5083622553053823,
          -0.5085067346876792,
          -0.5065053004146777,
          -0.49867550956538914,
          -0.4826891900417255,
          -0.45809695793491223,
          -0.42578206451539424,
          -0.38709792631943263,
          -0.34348397792026525,
          -0.2966895293422853,
          -0.24914162600340437,
          -0.20403772387621774,
          -0.16512143253560208,
          -0.13627675297257463,
          -0.12102269522151324,
          -0.12196321596259078,
          -0.14031766169606041,
          -0.1756528486334256,
          -0.22574962571984228,
          -0.28640304857355303,
          -0.3511847337634326,
          -0.411575276130315,
          -0.45786223665859754,
          -0.48073278343333614,
          -0.4730541109580759,
          -0.43128258138045544,
          -0.35617589201190736,
          -0.25273090117135977,
          -0.12943005377675676,
          0.0029949702143090263
         ]
        }
       ],
       "layout": {
        "annotations": [
         {
          "font": {
           "color": "cyan",
           "size": 16
          },
          "showarrow": false,
          "text": "KH",
          "textangle": -90,
          "x": 1.81111,
          "xref": "x",
          "y": 1,
          "yref": "paper"
         },
         {
          "font": {
           "color": "cyan",
           "size": 16
          },
          "showarrow": false,
          "text": "FC",
          "textangle": -90,
          "x": 2.61111,
          "xref": "x",
          "y": 1,
          "yref": "paper"
         },
         {
          "font": {
           "color": "cyan",
           "size": 16
          },
          "showarrow": false,
          "text": "MER",
          "textangle": -90,
          "x": 2.73333,
          "xref": "x",
          "y": 1,
          "yref": "paper"
         },
         {
          "font": {
           "color": "cyan",
           "size": 16
          },
          "showarrow": false,
          "text": "BR",
          "textangle": -90,
          "x": 2.77778,
          "xref": "x",
          "y": 1,
          "yref": "paper"
         }
        ],
        "height": 600,
        "margin": {
         "b": 40,
         "l": 40,
         "r": 40,
         "t": 40
        },
        "plot_bgcolor": "rgb(43,48,61)",
        "shapes": [
         {
          "line": {
           "color": "cyan",
           "dash": "dash",
           "width": 4
          },
          "opacity": 0.5,
          "type": "line",
          "x0": 1.8,
          "x1": 1.8,
          "xref": "x",
          "y0": 0,
          "y1": 1,
          "yref": "paper"
         },
         {
          "line": {
           "color": "cyan",
           "dash": "dash",
           "width": 4
          },
          "opacity": 0.5,
          "type": "line",
          "x0": 2.6,
          "x1": 2.6,
          "xref": "x",
          "y0": 0,
          "y1": 1,
          "yref": "paper"
         },
         {
          "line": {
           "color": "cyan",
           "dash": "dash",
           "width": 4
          },
          "opacity": 0.5,
          "type": "line",
          "x0": 2.72222,
          "x1": 2.72222,
          "xref": "x",
          "y0": 0,
          "y1": 1,
          "yref": "paper"
         },
         {
          "line": {
           "color": "cyan",
           "dash": "dash",
           "width": 4
          },
          "opacity": 0.5,
          "type": "line",
          "x0": 2.76667,
          "x1": 2.76667,
          "xref": "x",
          "y0": 0,
          "y1": 1,
          "yref": "paper"
         }
        ],
        "showlegend": false,
        "template": {
         "data": {
          "bar": [
           {
            "error_x": {
             "color": "#2a3f5f"
            },
            "error_y": {
             "color": "#2a3f5f"
            },
            "marker": {
             "line": {
              "color": "#E5ECF6",
              "width": 0.5
             },
             "pattern": {
              "fillmode": "overlay",
              "size": 10,
              "solidity": 0.2
             }
            },
            "type": "bar"
           }
          ],
          "barpolar": [
           {
            "marker": {
             "line": {
              "color": "#E5ECF6",
              "width": 0.5
             },
             "pattern": {
              "fillmode": "overlay",
              "size": 10,
              "solidity": 0.2
             }
            },
            "type": "barpolar"
           }
          ],
          "carpet": [
           {
            "aaxis": {
             "endlinecolor": "#2a3f5f",
             "gridcolor": "white",
             "linecolor": "white",
             "minorgridcolor": "white",
             "startlinecolor": "#2a3f5f"
            },
            "baxis": {
             "endlinecolor": "#2a3f5f",
             "gridcolor": "white",
             "linecolor": "white",
             "minorgridcolor": "white",
             "startlinecolor": "#2a3f5f"
            },
            "type": "carpet"
           }
          ],
          "choropleth": [
           {
            "colorbar": {
             "outlinewidth": 0,
             "ticks": ""
            },
            "type": "choropleth"
           }
          ],
          "contour": [
           {
            "colorbar": {
             "outlinewidth": 0,
             "ticks": ""
            },
            "colorscale": [
             [
              0,
              "#0d0887"
             ],
             [
              0.1111111111111111,
              "#46039f"
             ],
             [
              0.2222222222222222,
              "#7201a8"
             ],
             [
              0.3333333333333333,
              "#9c179e"
             ],
             [
              0.4444444444444444,
              "#bd3786"
             ],
             [
              0.5555555555555556,
              "#d8576b"
             ],
             [
              0.6666666666666666,
              "#ed7953"
             ],
             [
              0.7777777777777778,
              "#fb9f3a"
             ],
             [
              0.8888888888888888,
              "#fdca26"
             ],
             [
              1,
              "#f0f921"
             ]
            ],
            "type": "contour"
           }
          ],
          "contourcarpet": [
           {
            "colorbar": {
             "outlinewidth": 0,
             "ticks": ""
            },
            "type": "contourcarpet"
           }
          ],
          "heatmap": [
           {
            "colorbar": {
             "outlinewidth": 0,
             "ticks": ""
            },
            "colorscale": [
             [
              0,
              "#0d0887"
             ],
             [
              0.1111111111111111,
              "#46039f"
             ],
             [
              0.2222222222222222,
              "#7201a8"
             ],
             [
              0.3333333333333333,
              "#9c179e"
             ],
             [
              0.4444444444444444,
              "#bd3786"
             ],
             [
              0.5555555555555556,
              "#d8576b"
             ],
             [
              0.6666666666666666,
              "#ed7953"
             ],
             [
              0.7777777777777778,
              "#fb9f3a"
             ],
             [
              0.8888888888888888,
              "#fdca26"
             ],
             [
              1,
              "#f0f921"
             ]
            ],
            "type": "heatmap"
           }
          ],
          "heatmapgl": [
           {
            "colorbar": {
             "outlinewidth": 0,
             "ticks": ""
            },
            "colorscale": [
             [
              0,
              "#0d0887"
             ],
             [
              0.1111111111111111,
              "#46039f"
             ],
             [
              0.2222222222222222,
              "#7201a8"
             ],
             [
              0.3333333333333333,
              "#9c179e"
             ],
             [
              0.4444444444444444,
              "#bd3786"
             ],
             [
              0.5555555555555556,
              "#d8576b"
             ],
             [
              0.6666666666666666,
              "#ed7953"
             ],
             [
              0.7777777777777778,
              "#fb9f3a"
             ],
             [
              0.8888888888888888,
              "#fdca26"
             ],
             [
              1,
              "#f0f921"
             ]
            ],
            "type": "heatmapgl"
           }
          ],
          "histogram": [
           {
            "marker": {
             "pattern": {
              "fillmode": "overlay",
              "size": 10,
              "solidity": 0.2
             }
            },
            "type": "histogram"
           }
          ],
          "histogram2d": [
           {
            "colorbar": {
             "outlinewidth": 0,
             "ticks": ""
            },
            "colorscale": [
             [
              0,
              "#0d0887"
             ],
             [
              0.1111111111111111,
              "#46039f"
             ],
             [
              0.2222222222222222,
              "#7201a8"
             ],
             [
              0.3333333333333333,
              "#9c179e"
             ],
             [
              0.4444444444444444,
              "#bd3786"
             ],
             [
              0.5555555555555556,
              "#d8576b"
             ],
             [
              0.6666666666666666,
              "#ed7953"
             ],
             [
              0.7777777777777778,
              "#fb9f3a"
             ],
             [
              0.8888888888888888,
              "#fdca26"
             ],
             [
              1,
              "#f0f921"
             ]
            ],
            "type": "histogram2d"
           }
          ],
          "histogram2dcontour": [
           {
            "colorbar": {
             "outlinewidth": 0,
             "ticks": ""
            },
            "colorscale": [
             [
              0,
              "#0d0887"
             ],
             [
              0.1111111111111111,
              "#46039f"
             ],
             [
              0.2222222222222222,
              "#7201a8"
             ],
             [
              0.3333333333333333,
              "#9c179e"
             ],
             [
              0.4444444444444444,
              "#bd3786"
             ],
             [
              0.5555555555555556,
              "#d8576b"
             ],
             [
              0.6666666666666666,
              "#ed7953"
             ],
             [
              0.7777777777777778,
              "#fb9f3a"
             ],
             [
              0.8888888888888888,
              "#fdca26"
             ],
             [
              1,
              "#f0f921"
             ]
            ],
            "type": "histogram2dcontour"
           }
          ],
          "mesh3d": [
           {
            "colorbar": {
             "outlinewidth": 0,
             "ticks": ""
            },
            "type": "mesh3d"
           }
          ],
          "parcoords": [
           {
            "line": {
             "colorbar": {
              "outlinewidth": 0,
              "ticks": ""
             }
            },
            "type": "parcoords"
           }
          ],
          "pie": [
           {
            "automargin": true,
            "type": "pie"
           }
          ],
          "scatter": [
           {
            "fillpattern": {
             "fillmode": "overlay",
             "size": 10,
             "solidity": 0.2
            },
            "type": "scatter"
           }
          ],
          "scatter3d": [
           {
            "line": {
             "colorbar": {
              "outlinewidth": 0,
              "ticks": ""
             }
            },
            "marker": {
             "colorbar": {
              "outlinewidth": 0,
              "ticks": ""
             }
            },
            "type": "scatter3d"
           }
          ],
          "scattercarpet": [
           {
            "marker": {
             "colorbar": {
              "outlinewidth": 0,
              "ticks": ""
             }
            },
            "type": "scattercarpet"
           }
          ],
          "scattergeo": [
           {
            "marker": {
             "colorbar": {
              "outlinewidth": 0,
              "ticks": ""
             }
            },
            "type": "scattergeo"
           }
          ],
          "scattergl": [
           {
            "marker": {
             "colorbar": {
              "outlinewidth": 0,
              "ticks": ""
             }
            },
            "type": "scattergl"
           }
          ],
          "scattermapbox": [
           {
            "marker": {
             "colorbar": {
              "outlinewidth": 0,
              "ticks": ""
             }
            },
            "type": "scattermapbox"
           }
          ],
          "scatterpolar": [
           {
            "marker": {
             "colorbar": {
              "outlinewidth": 0,
              "ticks": ""
             }
            },
            "type": "scatterpolar"
           }
          ],
          "scatterpolargl": [
           {
            "marker": {
             "colorbar": {
              "outlinewidth": 0,
              "ticks": ""
             }
            },
            "type": "scatterpolargl"
           }
          ],
          "scatterternary": [
           {
            "marker": {
             "colorbar": {
              "outlinewidth": 0,
              "ticks": ""
             }
            },
            "type": "scatterternary"
           }
          ],
          "surface": [
           {
            "colorbar": {
             "outlinewidth": 0,
             "ticks": ""
            },
            "colorscale": [
             [
              0,
              "#0d0887"
             ],
             [
              0.1111111111111111,
              "#46039f"
             ],
             [
              0.2222222222222222,
              "#7201a8"
             ],
             [
              0.3333333333333333,
              "#9c179e"
             ],
             [
              0.4444444444444444,
              "#bd3786"
             ],
             [
              0.5555555555555556,
              "#d8576b"
             ],
             [
              0.6666666666666666,
              "#ed7953"
             ],
             [
              0.7777777777777778,
              "#fb9f3a"
             ],
             [
              0.8888888888888888,
              "#fdca26"
             ],
             [
              1,
              "#f0f921"
             ]
            ],
            "type": "surface"
           }
          ],
          "table": [
           {
            "cells": {
             "fill": {
              "color": "#EBF0F8"
             },
             "line": {
              "color": "white"
             }
            },
            "header": {
             "fill": {
              "color": "#C8D4E3"
             },
             "line": {
              "color": "white"
             }
            },
            "type": "table"
           }
          ]
         },
         "layout": {
          "annotationdefaults": {
           "arrowcolor": "#2a3f5f",
           "arrowhead": 0,
           "arrowwidth": 1
          },
          "autotypenumbers": "strict",
          "coloraxis": {
           "colorbar": {
            "outlinewidth": 0,
            "ticks": ""
           }
          },
          "colorscale": {
           "diverging": [
            [
             0,
             "#8e0152"
            ],
            [
             0.1,
             "#c51b7d"
            ],
            [
             0.2,
             "#de77ae"
            ],
            [
             0.3,
             "#f1b6da"
            ],
            [
             0.4,
             "#fde0ef"
            ],
            [
             0.5,
             "#f7f7f7"
            ],
            [
             0.6,
             "#e6f5d0"
            ],
            [
             0.7,
             "#b8e186"
            ],
            [
             0.8,
             "#7fbc41"
            ],
            [
             0.9,
             "#4d9221"
            ],
            [
             1,
             "#276419"
            ]
           ],
           "sequential": [
            [
             0,
             "#0d0887"
            ],
            [
             0.1111111111111111,
             "#46039f"
            ],
            [
             0.2222222222222222,
             "#7201a8"
            ],
            [
             0.3333333333333333,
             "#9c179e"
            ],
            [
             0.4444444444444444,
             "#bd3786"
            ],
            [
             0.5555555555555556,
             "#d8576b"
            ],
            [
             0.6666666666666666,
             "#ed7953"
            ],
            [
             0.7777777777777778,
             "#fb9f3a"
            ],
            [
             0.8888888888888888,
             "#fdca26"
            ],
            [
             1,
             "#f0f921"
            ]
           ],
           "sequentialminus": [
            [
             0,
             "#0d0887"
            ],
            [
             0.1111111111111111,
             "#46039f"
            ],
            [
             0.2222222222222222,
             "#7201a8"
            ],
            [
             0.3333333333333333,
             "#9c179e"
            ],
            [
             0.4444444444444444,
             "#bd3786"
            ],
            [
             0.5555555555555556,
             "#d8576b"
            ],
            [
             0.6666666666666666,
             "#ed7953"
            ],
            [
             0.7777777777777778,
             "#fb9f3a"
            ],
            [
             0.8888888888888888,
             "#fdca26"
            ],
            [
             1,
             "#f0f921"
            ]
           ]
          },
          "colorway": [
           "#636efa",
           "#EF553B",
           "#00cc96",
           "#ab63fa",
           "#FFA15A",
           "#19d3f3",
           "#FF6692",
           "#B6E880",
           "#FF97FF",
           "#FECB52"
          ],
          "font": {
           "color": "#2a3f5f"
          },
          "geo": {
           "bgcolor": "white",
           "lakecolor": "white",
           "landcolor": "#E5ECF6",
           "showlakes": true,
           "showland": true,
           "subunitcolor": "white"
          },
          "hoverlabel": {
           "align": "left"
          },
          "hovermode": "closest",
          "mapbox": {
           "style": "light"
          },
          "paper_bgcolor": "white",
          "plot_bgcolor": "#E5ECF6",
          "polar": {
           "angularaxis": {
            "gridcolor": "white",
            "linecolor": "white",
            "ticks": ""
           },
           "bgcolor": "#E5ECF6",
           "radialaxis": {
            "gridcolor": "white",
            "linecolor": "white",
            "ticks": ""
           }
          },
          "scene": {
           "xaxis": {
            "backgroundcolor": "#E5ECF6",
            "gridcolor": "white",
            "gridwidth": 2,
            "linecolor": "white",
            "showbackground": true,
            "ticks": "",
            "zerolinecolor": "white"
           },
           "yaxis": {
            "backgroundcolor": "#E5ECF6",
            "gridcolor": "white",
            "gridwidth": 2,
            "linecolor": "white",
            "showbackground": true,
            "ticks": "",
            "zerolinecolor": "white"
           },
           "zaxis": {
            "backgroundcolor": "#E5ECF6",
            "gridcolor": "white",
            "gridwidth": 2,
            "linecolor": "white",
            "showbackground": true,
            "ticks": "",
            "zerolinecolor": "white"
           }
          },
          "shapedefaults": {
           "line": {
            "color": "#2a3f5f"
           }
          },
          "ternary": {
           "aaxis": {
            "gridcolor": "white",
            "linecolor": "white",
            "ticks": ""
           },
           "baxis": {
            "gridcolor": "white",
            "linecolor": "white",
            "ticks": ""
           },
           "bgcolor": "#E5ECF6",
           "caxis": {
            "gridcolor": "white",
            "linecolor": "white",
            "ticks": ""
           }
          },
          "title": {
           "x": 0.05
          },
          "xaxis": {
           "automargin": true,
           "gridcolor": "white",
           "linecolor": "white",
           "ticks": "",
           "title": {
            "standoff": 15
           },
           "zerolinecolor": "white",
           "zerolinewidth": 2
          },
          "yaxis": {
           "automargin": true,
           "gridcolor": "white",
           "linecolor": "white",
           "ticks": "",
           "title": {
            "standoff": 15
           },
           "zerolinecolor": "white",
           "zerolinewidth": 2
          }
         }
        },
        "title": {
         "text": "TORSO POWER"
        },
        "xaxis": {
         "showgrid": false,
         "title": {
          "text": "Time [s]"
         }
        },
        "yaxis": {
         "autorange": true,
         "gridcolor": "lightgrey",
         "gridwidth": 1,
         "rangemode": "tozero",
         "showgrid": true,
         "title": {
          "text": "Power [W/kg]"
         },
         "zeroline": false
        }
       }
      }
     },
     "metadata": {},
     "output_type": "display_data"
    },
    {
     "data": {
      "application/vnd.plotly.v1+json": {
       "config": {
        "plotlyServerURL": "https://plot.ly"
       },
       "data": [
        {
         "line": {
          "color": "firebrick",
          "width": 4
         },
         "mode": "lines",
         "name": "ARM POWER",
         "type": "scatter",
         "x": [
          1.8,
          1.80556,
          1.81111,
          1.81667,
          1.82222,
          1.82778,
          1.83333,
          1.83889,
          1.84444,
          1.85,
          1.85556,
          1.86111,
          1.86667,
          1.87222,
          1.87778,
          1.88333,
          1.88889,
          1.89444,
          1.9,
          1.90556,
          1.91111,
          1.91667,
          1.92222,
          1.92778,
          1.93333,
          1.93889,
          1.94444,
          1.95,
          1.95556,
          1.96111,
          1.96667,
          1.97222,
          1.97778,
          1.98333,
          1.98889,
          1.99444,
          2,
          2.00556,
          2.01111,
          2.01667,
          2.02222,
          2.02778,
          2.03333,
          2.03889,
          2.04444,
          2.05,
          2.05556,
          2.06111,
          2.06667,
          2.07222,
          2.07778,
          2.08333,
          2.08889,
          2.09444,
          2.1,
          2.10556,
          2.11111,
          2.11667,
          2.12222,
          2.12778,
          2.13333,
          2.13889,
          2.14444,
          2.15,
          2.15556,
          2.16111,
          2.16667,
          2.17222,
          2.17778,
          2.18333,
          2.18889,
          2.19444,
          2.2,
          2.20556,
          2.21111,
          2.21667,
          2.22222,
          2.22778,
          2.23333,
          2.23889,
          2.24444,
          2.25,
          2.25556,
          2.26111,
          2.26667,
          2.27222,
          2.27778,
          2.28333,
          2.28889,
          2.29444,
          2.3,
          2.30556,
          2.31111,
          2.31667,
          2.32222,
          2.32778,
          2.33333,
          2.33889,
          2.34444,
          2.35,
          2.35556,
          2.36111,
          2.36667,
          2.37222,
          2.37778,
          2.38333,
          2.38889,
          2.39444,
          2.4,
          2.40556,
          2.41111,
          2.41667,
          2.42222,
          2.42778,
          2.43333,
          2.43889,
          2.44444,
          2.45,
          2.45556,
          2.46111,
          2.46667,
          2.47222,
          2.47778,
          2.48333,
          2.48889,
          2.49444,
          2.5,
          2.50556,
          2.51111,
          2.51667,
          2.52222,
          2.52778,
          2.53333,
          2.53889,
          2.54444,
          2.55,
          2.55556,
          2.56111,
          2.56667,
          2.57222,
          2.57778,
          2.58333,
          2.58889,
          2.59444,
          2.6,
          2.60556,
          2.61111,
          2.61667,
          2.62222,
          2.62778,
          2.63333,
          2.63889,
          2.64444,
          2.65,
          2.65556,
          2.66111,
          2.66667,
          2.67222,
          2.67778,
          2.68333,
          2.68889,
          2.69444,
          2.7,
          2.70556,
          2.71111,
          2.71667,
          2.72222,
          2.72778,
          2.73333,
          2.73889,
          2.74444,
          2.75,
          2.75556,
          2.76111,
          2.76667,
          2.77222,
          2.77778,
          2.78333,
          2.78889,
          2.79444,
          2.8,
          2.80556,
          2.81111,
          2.81667,
          2.82222,
          2.82778,
          2.83333,
          2.83889,
          2.84444,
          2.85,
          2.85556,
          2.86111,
          2.86667,
          2.87222,
          2.87778,
          2.88333,
          2.88889,
          2.89444,
          2.9,
          2.90556,
          2.91111,
          2.91667,
          2.92222,
          2.92778,
          2.93333,
          2.93889,
          2.94444,
          2.95,
          2.95556,
          2.96111
         ],
         "y": [
          0.002014324571006421,
          -0.05622555009443193,
          -0.10608216088116817,
          -0.1414477629277165,
          -0.1593311171476891,
          -0.1601419394525799,
          -0.14706028544299835,
          -0.12487091594826571,
          -0.09881329891412796,
          -0.07377988621306375,
          -0.053798407802849633,
          -0.04154158130254432,
          -0.037778909057748805,
          -0.04101626919867489,
          -0.04771443250152268,
          -0.053263514693603554,
          -0.05345771149130991,
          -0.04589548658645164,
          -0.030753164918195332,
          -0.010689270686832963,
          0.010001913984649422,
          0.026643980066911037,
          0.03544120903452289,
          0.03441182988762784,
          0.02377996899258732,
          0.00579070607174975,
          -0.01590639114383766,
          -0.03705444982253316,
          -0.053544220672423926,
          -0.06204086273620477,
          -0.06052705577396927,
          -0.048796122296595024,
          -0.028769563419621884,
          -0.004380225320896753,
          0.019155641478616706,
          0.03656799363096513,
          0.04387077571624517,
          0.039336886331106595,
          0.023813034489978523,
          0.00037501730403465607,
          -0.026454754603279253,
          -0.051675079787959995,
          -0.07078725196570941,
          -0.08064641084801769,
          -0.07999868514905578,
          -0.06954957534813146,
          -0.051575894689239205,
          -0.029278926621153625,
          -0.006131938656130825,
          0.014610285242235677,
          0.03020484383207268,
          0.038588749149323656,
          0.03855081853903755,
          0.030012028142453955,
          0.014373695816914034,
          -0.005316544161377533,
          -0.024715679037156574,
          -0.039184406516564116,
          -0.045159812245446976,
          -0.041335827819627365,
          -0.029140916161390824,
          -0.012323419592304138,
          0.004197742904137264,
          0.015820577784867795,
          0.01957696161461236,
          0.014818994403807786,
          0.0030728850691901085,
          -0.01275456540538727,
          -0.029359952437443278,
          -0.0437948938522412,
          -0.053829760016903504,
          -0.05803857040168841,
          -0.05581780901448845,
          -0.047477103112740955,
          -0.034353990315863496,
          -0.018748731224473365,
          -0.003505582949306159,
          0.008702734134660916,
          0.01609159846984151,
          0.018151104288336717,
          0.015563086188638107,
          0.009764342470355687,
          0.0024110810154498175,
          -0.005033469319170654,
          -0.011496185132458606,
          -0.01630949707401984,
          -0.019154675347806096,
          -0.020050757025739958,
          -0.01942475011099323,
          -0.018158193218859812,
          -0.017432525473466562,
          -0.018298187910406893,
          -0.02111754599612262,
          -0.025199818026453553,
          -0.02890957371485607,
          -0.030289032180448917,
          -0.027936046578081186,
          -0.021717573719061124,
          -0.012975209127637966,
          -0.004138686928534568,
          0.002061983178522391,
          0.0034578929424889954,
          -0.0009144371369329814,
          -0.01054142996093961,
          -0.023557214980635177,
          -0.03720213920564453,
          -0.048496901754355,
          -0.05497347768468137,
          -0.055287055175501455,
          -0.04955465033130692,
          -0.03932887305732344,
          -0.027206524702577197,
          -0.01616460917124992,
          -0.008787424319243772,
          -0.006588853140128848,
          -0.009633046738516223,
          -0.016585909672253412,
          -0.02517712678726897,
          -0.032881862086164754,
          -0.03755984892857516,
          -0.0378671822451144,
          -0.033403816470630676,
          -0.02466250458966743,
          -0.012866988600472208,
          0.00023682723176850112,
          0.012614488163341219,
          0.022224596663288746,
          0.027383732197956954,
          0.027186136095763796,
          0.02183343084262711,
          0.01266998892876932,
          0.0018196599813681451,
          -0.008454962652401053,
          -0.01638000240501919,
          -0.021028006525406026,
          -0.022338068723287172,
          -0.02089989908877273,
          -0.017648897065188286,
          -0.013573069145893922,
          -0.009481192741993228,
          -0.005866035103966975,
          -0.002889811830713208,
          -0.00048455438771610114,
          0.0014906687044031407,
          0.003116430442331972,
          0.00435938014066031,
          0.00510307815804858,
          0.005224767771416551,
          0.004668747354162772,
          0.003489911696735743,
          0.0018717566356190889,
          0.00013055601304548571,
          -0.0013017265155055309,
          -0.0019429362650275584,
          -0.0013912871154563241,
          0.0005104663960151737,
          0.0035581086128093826,
          0.007193607845044246,
          0.010651084656372824,
          0.013183614802195934,
          0.014282601761924106,
          0.013813137661448474,
          0.012023146825815442,
          0.009429857546217101,
          0.006635303053208027,
          0.004151232426850516,
          0.0022996551213428987,
          0.0012028404325642396,
          0.0008247493056864209,
          0.0010147355584048307,
          0.0015363083954664613,
          0.0021000706941122385,
          0.0024206718757808525,
          0.0022859578459112823,
          0.0016036507036248065,
          0.00040399739372676594,
          -0.001190281331758412,
          -0.0029957292888875262,
          -0.004777957072281586,
          -0.0062403630074423936,
          -0.007016274903621511,
          -0.006698190440362863,
          -0.004925370508401869,
          -0.0015192582071254495,
          0.003377983275748013,
          0.009219564436124093,
          0.01506635626119082,
          0.019707887441540027,
          0.021883261181535472,
          0.020577733866340677,
          0.015341711053580535,
          0.0065342744708691775,
          -0.004631434187921964,
          -0.01631846254664997,
          -0.026527509815102625,
          -0.033621051387320376,
          -0.036713771542832625,
          -0.035813727469754926,
          -0.031706812236524766,
          -0.025648417726223678,
          -0.018968921504992044,
          -0.012727626981092819,
          -0.007531920361353579,
          -0.003553994038259511,
          -0.000677010775887911,
          0.0013373156498625769,
          0.002732982520805962,
          0.0037106976470704482,
          0.004422873699763585,
          0.004980065951393614,
          0.005449699129243307,
          0.005853186372913832,
          0.006177216910068555,
          0.006395752959100155,
          0.006481000702676881,
          0.006398673732241818,
          0.006116011263088527,
          0.005648010216019551,
          0.005120838652021664,
          0.004795459692987989,
          0.005013556945251946,
          0.006080210296087513,
          0.008127899506487806,
          0.011000654803475321,
          0.014195564376976824,
          0.01691765270648764,
          0.018291886271103366,
          0.017692874828016895,
          0.015052222292401694,
          0.010979855008419019,
          0.00662036060191595,
          0.0033048708286468153,
          0.002160669460557026,
          0.0038337491755888768,
          0.0083760701501548,
          0.01524943796870645,
          0.023397309702738765,
          0.031416732191658685,
          0.0379002646403685,
          0.04191783579568409,
          0.043434362842177464,
          0.04339197316334315,
          0.0433382097694893,
          0.04476188207705303,
          0.04848656876496685,
          0.05442872804211156,
          0.061802171713597885,
          0.06960135540843189,
          0.0770588531778605,
          0.08381129155634681,
          0.08970960140802721,
          0.09446373560847363,
          0.09743958067008,
          0.09781629512258698,
          0.09504487790642199,
          0.08932534828851704,
          0.0817918551665318,
          0.07427361379352397,
          0.06876918932807619,
          0.06694800792032812,
          0.06993599242139638,
          0.07838430830210891,
          0.09257300529596732,
          0.11228457686557408,
          0.13641794604650226,
          0.16259592661509106,
          0.18710919977807092,
          0.2053830391043412,
          0.21290117389946955,
          0.20635368051567937,
          0.18473003166642912,
          0.15006513466656995,
          0.10751325167444119,
          0.06446517168150741,
          0.028692064529897303,
          0.0059978007230773065,
          -0.001693607130979799,
          0.0031055488729782735,
          0.01460068546281856,
          0.026126746246121366,
          0.03277627021013655,
          0.03311427558910726,
          0.02929950288302088,
          0.025703539001877263,
          0.026793841216931083,
          0.03525073154250369,
          0.05099569305896567,
          0.07131244511508746,
          0.09183750147961632,
          0.10798032106979527,
          0.11628969290788088,
          0.11538240718548307,
          0.106220618943089,
          0.09169383709691145,
          0.07564481551288436,
          0.06167863991252322,
          0.052186686786866866,
          0.04789829954991895,
          0.048023923526972344,
          0.050829504594530846,
          0.05436082251406774,
          0.05703657255453934,
          0.05794257341979924,
          0.05682445419910389,
          0.05390013301083698,
          0.049643509739613165,
          0.04463926424552334,
          0.03952442011568818,
          0.03496329326995837,
          0.03157933924458374,
          0.02980290613721416,
          0.029674328503890193,
          0.03071924760696436,
          0.03202112363869561,
          0.032517851831405965,
          0.03139341545504725,
          0.02834419195527185,
          0.023565446265091338,
          0.017492004401739293,
          0.010494197234541832,
          0.002742388049597444,
          -0.005694548225352054,
          -0.01462857619220394,
          -0.0235822595432008,
          -0.03176408167981215,
          -0.03817713716246225,
          -0.04181230806123773,
          -0.04189137914282707,
          -0.03811291659908825,
          -0.030816573464438876,
          -0.020999419493396527,
          -0.010202205573185378,
          -0.0003318564344746275,
          0.006564999553613937,
          0.008627275282212323,
          0.004613498730442419,
          -0.005667590421150212,
          -0.021117314800046555,
          -0.039432155446862606,
          -0.057502238242299684,
          -0.07198241215553244,
          -0.07987097800671768,
          -0.07900624783015943,
          -0.06847700211102863,
          -0.04896031173711568,
          -0.022934705515004535,
          0.005385576102803404,
          0.030593867427021693,
          0.047197730172425054,
          0.05109098424463502,
          0.0408730266804335,
          0.018382316528243854,
          -0.011927349268482877,
          -0.04459138914967778,
          -0.07503441727193112,
          -0.10092148224251193,
          -0.12241209147708461,
          -0.1413612139317993,
          -0.1600217085945589,
          -0.179888587455196,
          -0.20103553964979629,
          -0.22199320729307376,
          -0.2401031582217635,
          -0.2522204136587837,
          -0.2555328738215368,
          -0.2482304418019293,
          -0.22985474699719244,
          -0.2012950661733868,
          -0.16451036011698258,
          -0.12217863452721332,
          -0.07753658490497985,
          -0.03453150208917646,
          0.0019111282632584999,
          0.025938090835347847,
          0.03148488273650352,
          0.013627704003713569,
          -0.02984625026624355,
          -0.09718865633525245,
          -0.1821516121371099,
          -0.27437011371379566,
          -0.36079132763109106,
          -0.4281342971927587,
          -0.4659697458795821,
          -0.46950811673760834,
          -0.4410099264424831,
          -0.389168875309728,
          -0.3266715687702763,
          -0.2668799317160724,
          -0.2207881808193262,
          -0.19505757045422875,
          -0.19135330770602077,
          -0.20675136931204952,
          -0.234797672069061,
          -0.26687763100797357,
          -0.29380480455185426,
          -0.3077259565232183,
          -0.30426316533693654,
          -0.28429429327646366,
          -0.2544033895499015,
          -0.22533533526869856,
          -0.2087609076994246,
          -0.21365410701175755,
          -0.24379497085406712,
          -0.29714441932240854,
          -0.36680095839394317,
          -0.44282996443259964,
          -0.5145257979788167,
          -0.5728832494540856,
          -0.6127222861181858,
          -0.6335137063090225,
          -0.6383276033942527,
          -0.6314568153547968,
          -0.6161583330974122,
          -0.5937497299172579,
          -0.5642016319075086,
          -0.5273532681997277,
          -0.4836867461746233,
          -0.43418433641273535,
          -0.37959731205521074,
          -0.3199111674581115,
          -0.2546354812944012,
          -0.1839040582037879,
          -0.10969877837596202,
          -0.036304037067275294,
          0.030484263943257144,
          0.0851272248873315,
          0.12424851342454753,
          0.1477747916407514,
          0.15886027917566373,
          0.1628223387252475,
          0.16580933011260338,
          0.17391710863544652,
          0.1929603406255133,
          0.22846604825166472,
          0.2852072027609357,
          0.3659522426391203,
          0.46978606248745636,
          0.590838092807503,
          0.7182255593861114,
          0.8375555167879879,
          0.9336956906642913,
          0.9939878147671,
          1.0108651163089653,
          0.9830798967054878,
          0.9153370381923112,
          0.8167152430536011,
          0.6985397852775402,
          0.5723649927741571,
          0.44860184358368754,
          0.33605371284443925,
          0.24209234508464528,
          0.172688278903331,
          0.1315850305443986,
          0.11878627787958253,
          0.12961859519947758,
          0.15593841547310422,
          0.19007025734652963,
          0.23027174434889028,
          0.2849849526424399,
          0.3728923781347963,
          0.5174524944719985,
          0.7376935964535131,
          1.0397312262134866,
          1.4136883601918948,
          1.8381524958476632,
          2.2906170141941575,
          2.7594876539068487,
          3.252536210101668,
          3.798543199802435,
          4.442094664691741,
          5.233771168586505,
          6.2180363141591,
          7.420148731961352,
          8.833539606715206,
          10.410854940793174,
          12.063201835790604,
          13.670345073776335,
          15.099447803066896,
          16.22464707727637,
          16.938302695147406,
          17.148439559909114,
          16.76381975246971,
          15.675594259175112,
          13.750122157104775,
          10.847428870730164,
          6.870335795904962,
          1.8331526872622617,
          -4.074412397205743,
          -10.454504745625425,
          -16.71716009405009,
          -22.149639352123693,
          -26.03046063850514,
          -27.766556199382013,
          -27.021001423609643,
          -23.79670836343561,
          -18.45360996196449,
          -11.658208604095696,
          -4.282041508572753,
          2.7290221120949245,
          8.49583406648954,
          12.339518963773171,
          13.88502468657845,
          13.110315357420532,
          10.327271242249504,
          6.101049126313448,
          1.1331434912256848,
          -3.8610395902721293,
          -8.25645734557215,
          -11.592377654477199,
          -13.612194015991394,
          -14.269504500258194,
          -13.703657130979504,
          -12.191386512989633,
          -10.08469514270745,
          -7.746938920203252,
          -5.498041449077016,
          -3.5763633615204653,
          -2.1204035051621655,
          -1.1695327330510137,
          -0.6800803420843323,
          -0.5513883346380589,
          -0.6557037649933849,
          -0.8659688642711183,
          -1.0768881381257231,
          -1.2169531211287907,
          -1.2515549973458109,
          -1.178972878735656,
          -1.0216680102931799,
          -0.8153900875533281,
          -0.5984954390391413,
          -0.4035035030495347,
          -0.25206028680170356,
          -0.1533420525082691,
          -0.10512139375171425,
          -0.09656715308111924,
          -0.11206397880819881,
          -0.13541497134982736,
          -0.15360522507842403,
          -0.1591879362235008,
          -0.1507008761161879,
          -0.13130067945194732,
          -0.10650480870428952,
          -0.08205527169846438,
          -0.062476639398797405,
          -0.050352649560225914,
          -0.046091793865899164,
          -0.048009779638176674,
          -0.05269464624771735,
          -0.05566336229278051,
          -0.052260051399812366,
          -0.03865947752332387,
          -0.012779977938121228,
          0.025100769852190927,
          0.07218562646893564,
          0.12351392403454589,
          0.1727818187941831,
          0.21347792320280878,
          0.24010066651725592,
          0.24915954407245205,
          0.23967900471284456,
          0.21309245332106969,
          0.17268622914582651,
          0.12292614084551545,
          0.06891554018204554,
          0.015993981735633576,
          -0.03066730423603673,
          -0.0665866061795377,
          -0.08860587117778318,
          -0.09552050918510765,
          -0.08849050752273241,
          -0.07098406170710625,
          -0.048114853807211345,
          -0.02546396582722509,
          -0.007693978959893619,
          0.002624855017769119,
          0.005568710028762769,
          0.0035569584421752004,
          0.0002827118677463242,
          -0.0006915721638253725,
          0.0028848256941138794,
          0.011387640155756693,
          0.023462617850514733,
          0.036722628892899865,
          0.048712006826227935,
          0.05780613515925696,
          0.0637442831413494,
          0.06762272042105939,
          0.07138119704813287,
          0.07702649722006501,
          0.08594951092351612,
          0.09861991933444221,
          0.11471540846054949,
          0.1335223660241346,
          0.1543680564511105,
          0.17689646473457646,
          0.20108568332920443,
          0.2269808248131061,
          0.2542201042538209,
          0.28157432723956055,
          0.3067989903324298,
          0.3269927176292888,
          0.33939335548217714,
          0.34229397308027804,
          0.3356892773151901,
          0.3214086531937401,
          0.3027380151904045,
          0.2836979215890348,
          0.2681725878442326,
          0.25907247978811315,
          0.25772784731688025,
          0.26367814626688296,
          0.27486968586148597,
          0.2880923874004342,
          0.2994663489210118,
          0.30497280542728306,
          0.30119504438483197,
          0.28631969025559306,
          0.26104869226607136,
          0.22877426868912168,
          0.19462226677147682,
          0.16373218874154702,
          0.1397651808666461,
          0.1244854576149535,
          0.11841741094852132,
          0.12175672340521854,
          0.1346103718248719,
          0.1563296988484509,
          0.18456216944954082,
          0.2149362366354243,
          0.2418127428242691,
          0.2597539926343902,
          0.264933173675245,
          0.25588549093467816,
          0.23349450354888038,
          0.20047831056304022,
          0.16072446899607717,
          0.11870838673351963,
          0.07906163366944849,
          0.046231324855997576,
          0.02412183128358918,
          0.01563596534083904,
          0.02212967288144282,
          0.0429191444307509,
          0.07504319524730779,
          0.11343231685509049,
          0.15151414292721582,
          0.18218567040248015,
          0.19903996612010016,
          0.19769358388391411,
          0.17694761656513866,
          0.1393683465397353,
          0.09089139295676492,
          0.039400620447465715,
          -0.007253717959397991,
          -0.043066089495154385,
          -0.06495211263230719,
          -0.07290787076103943,
          -0.06938408393873004,
          -0.05818956330744894,
          -0.043322788622730014,
          -0.02809964526979457,
          -0.014774037091774312,
          -0.004596172338072558,
          0.001932500868136477,
          0.004848265865082675,
          0.004640435101793422,
          0.0022119085296200573,
          -0.0012389554818810693,
          -0.00446107890380808,
          -0.006456608784082073,
          -0.006736160075360843,
          -0.005427944259043103,
          -0.0032031615200861594,
          -0.0010449834578903198,
          0.00006116285741076813,
          -0.0005787894672065813,
          -0.0031670128973321403,
          -0.0073526908783617196,
          -0.012330908174114478,
          -0.017092515335767017,
          -0.020765298660775814,
          -0.0229252933191562,
          -0.023735470386363457,
          -0.023832959700489112,
          -0.024012225102009795,
          -0.02485856870161374,
          -0.026509370162801027,
          -0.028652340420886133,
          -0.030747461566422787,
          -0.03234499657343856,
          -0.0333302867256992,
          -0.03397635246185843,
          -0.03478382840789869,
          -0.036178643250821214,
          -0.03820460656689828,
          -0.0403801834098591,
          -0.04183671048367765,
          -0.041699954737192256,
          -0.03951742902741261,
          -0.03550595884924203,
          -0.030510822461798738,
          -0.025721208611684337,
          -0.02227891175214371,
          -0.020927395861181548,
          -0.021803917973416676,
          -0.024415190992913064,
          -0.02778339978856283,
          -0.030710900010948502,
          -0.03208720045262738,
          -0.03115701687292674,
          -0.027686722375828615,
          -0.021998134564881738,
          -0.014873597124994288,
          -0.0073707549923246185,
          -0.000607454459099844,
          0.004427128489880525,
          0.00700582538992351,
          0.0067407045198332426,
          0.0036170609350951143,
          -0.002004975623306455,
          -0.009417029974107986,
          -0.017620972215613248,
          -0.02543753579729788,
          -0.03169401533571276,
          -0.03549323908837364,
          -0.03649093909050145,
          -0.035042716021723215,
          -0.032106011034871804,
          -0.028901686112629915,
          -0.026467576758918723,
          -0.025286483148809352,
          -0.025129305360854788,
          -0.025161188340766583,
          -0.02426037720394758,
          -0.021428329100613284,
          -0.01614815491843986,
          -0.008579529522171248,
          0.00046072992798858897
         ]
        }
       ],
       "layout": {
        "annotations": [
         {
          "font": {
           "color": "cyan",
           "size": 16
          },
          "showarrow": false,
          "text": "KH",
          "textangle": -90,
          "x": 1.81111,
          "xref": "x",
          "y": 1,
          "yref": "paper"
         },
         {
          "font": {
           "color": "cyan",
           "size": 16
          },
          "showarrow": false,
          "text": "FC",
          "textangle": -90,
          "x": 2.61111,
          "xref": "x",
          "y": 1,
          "yref": "paper"
         },
         {
          "font": {
           "color": "cyan",
           "size": 16
          },
          "showarrow": false,
          "text": "MER",
          "textangle": -90,
          "x": 2.73333,
          "xref": "x",
          "y": 1,
          "yref": "paper"
         },
         {
          "font": {
           "color": "cyan",
           "size": 16
          },
          "showarrow": false,
          "text": "BR",
          "textangle": -90,
          "x": 2.77778,
          "xref": "x",
          "y": 1,
          "yref": "paper"
         }
        ],
        "height": 600,
        "margin": {
         "b": 40,
         "l": 40,
         "r": 40,
         "t": 40
        },
        "plot_bgcolor": "rgb(43,48,61)",
        "shapes": [
         {
          "line": {
           "color": "cyan",
           "dash": "dash",
           "width": 4
          },
          "opacity": 0.5,
          "type": "line",
          "x0": 1.8,
          "x1": 1.8,
          "xref": "x",
          "y0": 0,
          "y1": 1,
          "yref": "paper"
         },
         {
          "line": {
           "color": "cyan",
           "dash": "dash",
           "width": 4
          },
          "opacity": 0.5,
          "type": "line",
          "x0": 2.6,
          "x1": 2.6,
          "xref": "x",
          "y0": 0,
          "y1": 1,
          "yref": "paper"
         },
         {
          "line": {
           "color": "cyan",
           "dash": "dash",
           "width": 4
          },
          "opacity": 0.5,
          "type": "line",
          "x0": 2.72222,
          "x1": 2.72222,
          "xref": "x",
          "y0": 0,
          "y1": 1,
          "yref": "paper"
         },
         {
          "line": {
           "color": "cyan",
           "dash": "dash",
           "width": 4
          },
          "opacity": 0.5,
          "type": "line",
          "x0": 2.76667,
          "x1": 2.76667,
          "xref": "x",
          "y0": 0,
          "y1": 1,
          "yref": "paper"
         }
        ],
        "showlegend": false,
        "template": {
         "data": {
          "bar": [
           {
            "error_x": {
             "color": "#2a3f5f"
            },
            "error_y": {
             "color": "#2a3f5f"
            },
            "marker": {
             "line": {
              "color": "#E5ECF6",
              "width": 0.5
             },
             "pattern": {
              "fillmode": "overlay",
              "size": 10,
              "solidity": 0.2
             }
            },
            "type": "bar"
           }
          ],
          "barpolar": [
           {
            "marker": {
             "line": {
              "color": "#E5ECF6",
              "width": 0.5
             },
             "pattern": {
              "fillmode": "overlay",
              "size": 10,
              "solidity": 0.2
             }
            },
            "type": "barpolar"
           }
          ],
          "carpet": [
           {
            "aaxis": {
             "endlinecolor": "#2a3f5f",
             "gridcolor": "white",
             "linecolor": "white",
             "minorgridcolor": "white",
             "startlinecolor": "#2a3f5f"
            },
            "baxis": {
             "endlinecolor": "#2a3f5f",
             "gridcolor": "white",
             "linecolor": "white",
             "minorgridcolor": "white",
             "startlinecolor": "#2a3f5f"
            },
            "type": "carpet"
           }
          ],
          "choropleth": [
           {
            "colorbar": {
             "outlinewidth": 0,
             "ticks": ""
            },
            "type": "choropleth"
           }
          ],
          "contour": [
           {
            "colorbar": {
             "outlinewidth": 0,
             "ticks": ""
            },
            "colorscale": [
             [
              0,
              "#0d0887"
             ],
             [
              0.1111111111111111,
              "#46039f"
             ],
             [
              0.2222222222222222,
              "#7201a8"
             ],
             [
              0.3333333333333333,
              "#9c179e"
             ],
             [
              0.4444444444444444,
              "#bd3786"
             ],
             [
              0.5555555555555556,
              "#d8576b"
             ],
             [
              0.6666666666666666,
              "#ed7953"
             ],
             [
              0.7777777777777778,
              "#fb9f3a"
             ],
             [
              0.8888888888888888,
              "#fdca26"
             ],
             [
              1,
              "#f0f921"
             ]
            ],
            "type": "contour"
           }
          ],
          "contourcarpet": [
           {
            "colorbar": {
             "outlinewidth": 0,
             "ticks": ""
            },
            "type": "contourcarpet"
           }
          ],
          "heatmap": [
           {
            "colorbar": {
             "outlinewidth": 0,
             "ticks": ""
            },
            "colorscale": [
             [
              0,
              "#0d0887"
             ],
             [
              0.1111111111111111,
              "#46039f"
             ],
             [
              0.2222222222222222,
              "#7201a8"
             ],
             [
              0.3333333333333333,
              "#9c179e"
             ],
             [
              0.4444444444444444,
              "#bd3786"
             ],
             [
              0.5555555555555556,
              "#d8576b"
             ],
             [
              0.6666666666666666,
              "#ed7953"
             ],
             [
              0.7777777777777778,
              "#fb9f3a"
             ],
             [
              0.8888888888888888,
              "#fdca26"
             ],
             [
              1,
              "#f0f921"
             ]
            ],
            "type": "heatmap"
           }
          ],
          "heatmapgl": [
           {
            "colorbar": {
             "outlinewidth": 0,
             "ticks": ""
            },
            "colorscale": [
             [
              0,
              "#0d0887"
             ],
             [
              0.1111111111111111,
              "#46039f"
             ],
             [
              0.2222222222222222,
              "#7201a8"
             ],
             [
              0.3333333333333333,
              "#9c179e"
             ],
             [
              0.4444444444444444,
              "#bd3786"
             ],
             [
              0.5555555555555556,
              "#d8576b"
             ],
             [
              0.6666666666666666,
              "#ed7953"
             ],
             [
              0.7777777777777778,
              "#fb9f3a"
             ],
             [
              0.8888888888888888,
              "#fdca26"
             ],
             [
              1,
              "#f0f921"
             ]
            ],
            "type": "heatmapgl"
           }
          ],
          "histogram": [
           {
            "marker": {
             "pattern": {
              "fillmode": "overlay",
              "size": 10,
              "solidity": 0.2
             }
            },
            "type": "histogram"
           }
          ],
          "histogram2d": [
           {
            "colorbar": {
             "outlinewidth": 0,
             "ticks": ""
            },
            "colorscale": [
             [
              0,
              "#0d0887"
             ],
             [
              0.1111111111111111,
              "#46039f"
             ],
             [
              0.2222222222222222,
              "#7201a8"
             ],
             [
              0.3333333333333333,
              "#9c179e"
             ],
             [
              0.4444444444444444,
              "#bd3786"
             ],
             [
              0.5555555555555556,
              "#d8576b"
             ],
             [
              0.6666666666666666,
              "#ed7953"
             ],
             [
              0.7777777777777778,
              "#fb9f3a"
             ],
             [
              0.8888888888888888,
              "#fdca26"
             ],
             [
              1,
              "#f0f921"
             ]
            ],
            "type": "histogram2d"
           }
          ],
          "histogram2dcontour": [
           {
            "colorbar": {
             "outlinewidth": 0,
             "ticks": ""
            },
            "colorscale": [
             [
              0,
              "#0d0887"
             ],
             [
              0.1111111111111111,
              "#46039f"
             ],
             [
              0.2222222222222222,
              "#7201a8"
             ],
             [
              0.3333333333333333,
              "#9c179e"
             ],
             [
              0.4444444444444444,
              "#bd3786"
             ],
             [
              0.5555555555555556,
              "#d8576b"
             ],
             [
              0.6666666666666666,
              "#ed7953"
             ],
             [
              0.7777777777777778,
              "#fb9f3a"
             ],
             [
              0.8888888888888888,
              "#fdca26"
             ],
             [
              1,
              "#f0f921"
             ]
            ],
            "type": "histogram2dcontour"
           }
          ],
          "mesh3d": [
           {
            "colorbar": {
             "outlinewidth": 0,
             "ticks": ""
            },
            "type": "mesh3d"
           }
          ],
          "parcoords": [
           {
            "line": {
             "colorbar": {
              "outlinewidth": 0,
              "ticks": ""
             }
            },
            "type": "parcoords"
           }
          ],
          "pie": [
           {
            "automargin": true,
            "type": "pie"
           }
          ],
          "scatter": [
           {
            "fillpattern": {
             "fillmode": "overlay",
             "size": 10,
             "solidity": 0.2
            },
            "type": "scatter"
           }
          ],
          "scatter3d": [
           {
            "line": {
             "colorbar": {
              "outlinewidth": 0,
              "ticks": ""
             }
            },
            "marker": {
             "colorbar": {
              "outlinewidth": 0,
              "ticks": ""
             }
            },
            "type": "scatter3d"
           }
          ],
          "scattercarpet": [
           {
            "marker": {
             "colorbar": {
              "outlinewidth": 0,
              "ticks": ""
             }
            },
            "type": "scattercarpet"
           }
          ],
          "scattergeo": [
           {
            "marker": {
             "colorbar": {
              "outlinewidth": 0,
              "ticks": ""
             }
            },
            "type": "scattergeo"
           }
          ],
          "scattergl": [
           {
            "marker": {
             "colorbar": {
              "outlinewidth": 0,
              "ticks": ""
             }
            },
            "type": "scattergl"
           }
          ],
          "scattermapbox": [
           {
            "marker": {
             "colorbar": {
              "outlinewidth": 0,
              "ticks": ""
             }
            },
            "type": "scattermapbox"
           }
          ],
          "scatterpolar": [
           {
            "marker": {
             "colorbar": {
              "outlinewidth": 0,
              "ticks": ""
             }
            },
            "type": "scatterpolar"
           }
          ],
          "scatterpolargl": [
           {
            "marker": {
             "colorbar": {
              "outlinewidth": 0,
              "ticks": ""
             }
            },
            "type": "scatterpolargl"
           }
          ],
          "scatterternary": [
           {
            "marker": {
             "colorbar": {
              "outlinewidth": 0,
              "ticks": ""
             }
            },
            "type": "scatterternary"
           }
          ],
          "surface": [
           {
            "colorbar": {
             "outlinewidth": 0,
             "ticks": ""
            },
            "colorscale": [
             [
              0,
              "#0d0887"
             ],
             [
              0.1111111111111111,
              "#46039f"
             ],
             [
              0.2222222222222222,
              "#7201a8"
             ],
             [
              0.3333333333333333,
              "#9c179e"
             ],
             [
              0.4444444444444444,
              "#bd3786"
             ],
             [
              0.5555555555555556,
              "#d8576b"
             ],
             [
              0.6666666666666666,
              "#ed7953"
             ],
             [
              0.7777777777777778,
              "#fb9f3a"
             ],
             [
              0.8888888888888888,
              "#fdca26"
             ],
             [
              1,
              "#f0f921"
             ]
            ],
            "type": "surface"
           }
          ],
          "table": [
           {
            "cells": {
             "fill": {
              "color": "#EBF0F8"
             },
             "line": {
              "color": "white"
             }
            },
            "header": {
             "fill": {
              "color": "#C8D4E3"
             },
             "line": {
              "color": "white"
             }
            },
            "type": "table"
           }
          ]
         },
         "layout": {
          "annotationdefaults": {
           "arrowcolor": "#2a3f5f",
           "arrowhead": 0,
           "arrowwidth": 1
          },
          "autotypenumbers": "strict",
          "coloraxis": {
           "colorbar": {
            "outlinewidth": 0,
            "ticks": ""
           }
          },
          "colorscale": {
           "diverging": [
            [
             0,
             "#8e0152"
            ],
            [
             0.1,
             "#c51b7d"
            ],
            [
             0.2,
             "#de77ae"
            ],
            [
             0.3,
             "#f1b6da"
            ],
            [
             0.4,
             "#fde0ef"
            ],
            [
             0.5,
             "#f7f7f7"
            ],
            [
             0.6,
             "#e6f5d0"
            ],
            [
             0.7,
             "#b8e186"
            ],
            [
             0.8,
             "#7fbc41"
            ],
            [
             0.9,
             "#4d9221"
            ],
            [
             1,
             "#276419"
            ]
           ],
           "sequential": [
            [
             0,
             "#0d0887"
            ],
            [
             0.1111111111111111,
             "#46039f"
            ],
            [
             0.2222222222222222,
             "#7201a8"
            ],
            [
             0.3333333333333333,
             "#9c179e"
            ],
            [
             0.4444444444444444,
             "#bd3786"
            ],
            [
             0.5555555555555556,
             "#d8576b"
            ],
            [
             0.6666666666666666,
             "#ed7953"
            ],
            [
             0.7777777777777778,
             "#fb9f3a"
            ],
            [
             0.8888888888888888,
             "#fdca26"
            ],
            [
             1,
             "#f0f921"
            ]
           ],
           "sequentialminus": [
            [
             0,
             "#0d0887"
            ],
            [
             0.1111111111111111,
             "#46039f"
            ],
            [
             0.2222222222222222,
             "#7201a8"
            ],
            [
             0.3333333333333333,
             "#9c179e"
            ],
            [
             0.4444444444444444,
             "#bd3786"
            ],
            [
             0.5555555555555556,
             "#d8576b"
            ],
            [
             0.6666666666666666,
             "#ed7953"
            ],
            [
             0.7777777777777778,
             "#fb9f3a"
            ],
            [
             0.8888888888888888,
             "#fdca26"
            ],
            [
             1,
             "#f0f921"
            ]
           ]
          },
          "colorway": [
           "#636efa",
           "#EF553B",
           "#00cc96",
           "#ab63fa",
           "#FFA15A",
           "#19d3f3",
           "#FF6692",
           "#B6E880",
           "#FF97FF",
           "#FECB52"
          ],
          "font": {
           "color": "#2a3f5f"
          },
          "geo": {
           "bgcolor": "white",
           "lakecolor": "white",
           "landcolor": "#E5ECF6",
           "showlakes": true,
           "showland": true,
           "subunitcolor": "white"
          },
          "hoverlabel": {
           "align": "left"
          },
          "hovermode": "closest",
          "mapbox": {
           "style": "light"
          },
          "paper_bgcolor": "white",
          "plot_bgcolor": "#E5ECF6",
          "polar": {
           "angularaxis": {
            "gridcolor": "white",
            "linecolor": "white",
            "ticks": ""
           },
           "bgcolor": "#E5ECF6",
           "radialaxis": {
            "gridcolor": "white",
            "linecolor": "white",
            "ticks": ""
           }
          },
          "scene": {
           "xaxis": {
            "backgroundcolor": "#E5ECF6",
            "gridcolor": "white",
            "gridwidth": 2,
            "linecolor": "white",
            "showbackground": true,
            "ticks": "",
            "zerolinecolor": "white"
           },
           "yaxis": {
            "backgroundcolor": "#E5ECF6",
            "gridcolor": "white",
            "gridwidth": 2,
            "linecolor": "white",
            "showbackground": true,
            "ticks": "",
            "zerolinecolor": "white"
           },
           "zaxis": {
            "backgroundcolor": "#E5ECF6",
            "gridcolor": "white",
            "gridwidth": 2,
            "linecolor": "white",
            "showbackground": true,
            "ticks": "",
            "zerolinecolor": "white"
           }
          },
          "shapedefaults": {
           "line": {
            "color": "#2a3f5f"
           }
          },
          "ternary": {
           "aaxis": {
            "gridcolor": "white",
            "linecolor": "white",
            "ticks": ""
           },
           "baxis": {
            "gridcolor": "white",
            "linecolor": "white",
            "ticks": ""
           },
           "bgcolor": "#E5ECF6",
           "caxis": {
            "gridcolor": "white",
            "linecolor": "white",
            "ticks": ""
           }
          },
          "title": {
           "x": 0.05
          },
          "xaxis": {
           "automargin": true,
           "gridcolor": "white",
           "linecolor": "white",
           "ticks": "",
           "title": {
            "standoff": 15
           },
           "zerolinecolor": "white",
           "zerolinewidth": 2
          },
          "yaxis": {
           "automargin": true,
           "gridcolor": "white",
           "linecolor": "white",
           "ticks": "",
           "title": {
            "standoff": 15
           },
           "zerolinecolor": "white",
           "zerolinewidth": 2
          }
         }
        },
        "title": {
         "text": "ARM POWER"
        },
        "xaxis": {
         "showgrid": false,
         "title": {
          "text": "Time [s]"
         }
        },
        "yaxis": {
         "autorange": true,
         "gridcolor": "lightgrey",
         "gridwidth": 1,
         "rangemode": "tozero",
         "showgrid": true,
         "title": {
          "text": "Power [W/kg]"
         },
         "zeroline": false
        }
       }
      }
     },
     "metadata": {},
     "output_type": "display_data"
    },
    {
     "data": {
      "application/vnd.plotly.v1+json": {
       "config": {
        "plotlyServerURL": "https://plot.ly"
       },
       "data": [
        {
         "line": {
          "color": "firebrick",
          "width": 4
         },
         "mode": "lines",
         "name": "FOREARM POWER",
         "type": "scatter",
         "x": [
          1.8,
          1.80556,
          1.81111,
          1.81667,
          1.82222,
          1.82778,
          1.83333,
          1.83889,
          1.84444,
          1.85,
          1.85556,
          1.86111,
          1.86667,
          1.87222,
          1.87778,
          1.88333,
          1.88889,
          1.89444,
          1.9,
          1.90556,
          1.91111,
          1.91667,
          1.92222,
          1.92778,
          1.93333,
          1.93889,
          1.94444,
          1.95,
          1.95556,
          1.96111,
          1.96667,
          1.97222,
          1.97778,
          1.98333,
          1.98889,
          1.99444,
          2,
          2.00556,
          2.01111,
          2.01667,
          2.02222,
          2.02778,
          2.03333,
          2.03889,
          2.04444,
          2.05,
          2.05556,
          2.06111,
          2.06667,
          2.07222,
          2.07778,
          2.08333,
          2.08889,
          2.09444,
          2.1,
          2.10556,
          2.11111,
          2.11667,
          2.12222,
          2.12778,
          2.13333,
          2.13889,
          2.14444,
          2.15,
          2.15556,
          2.16111,
          2.16667,
          2.17222,
          2.17778,
          2.18333,
          2.18889,
          2.19444,
          2.2,
          2.20556,
          2.21111,
          2.21667,
          2.22222,
          2.22778,
          2.23333,
          2.23889,
          2.24444,
          2.25,
          2.25556,
          2.26111,
          2.26667,
          2.27222,
          2.27778,
          2.28333,
          2.28889,
          2.29444,
          2.3,
          2.30556,
          2.31111,
          2.31667,
          2.32222,
          2.32778,
          2.33333,
          2.33889,
          2.34444,
          2.35,
          2.35556,
          2.36111,
          2.36667,
          2.37222,
          2.37778,
          2.38333,
          2.38889,
          2.39444,
          2.4,
          2.40556,
          2.41111,
          2.41667,
          2.42222,
          2.42778,
          2.43333,
          2.43889,
          2.44444,
          2.45,
          2.45556,
          2.46111,
          2.46667,
          2.47222,
          2.47778,
          2.48333,
          2.48889,
          2.49444,
          2.5,
          2.50556,
          2.51111,
          2.51667,
          2.52222,
          2.52778,
          2.53333,
          2.53889,
          2.54444,
          2.55,
          2.55556,
          2.56111,
          2.56667,
          2.57222,
          2.57778,
          2.58333,
          2.58889,
          2.59444,
          2.6,
          2.60556,
          2.61111,
          2.61667,
          2.62222,
          2.62778,
          2.63333,
          2.63889,
          2.64444,
          2.65,
          2.65556,
          2.66111,
          2.66667,
          2.67222,
          2.67778,
          2.68333,
          2.68889,
          2.69444,
          2.7,
          2.70556,
          2.71111,
          2.71667,
          2.72222,
          2.72778,
          2.73333,
          2.73889,
          2.74444,
          2.75,
          2.75556,
          2.76111,
          2.76667,
          2.77222,
          2.77778,
          2.78333,
          2.78889,
          2.79444,
          2.8,
          2.80556,
          2.81111,
          2.81667,
          2.82222,
          2.82778,
          2.83333,
          2.83889,
          2.84444,
          2.85,
          2.85556,
          2.86111,
          2.86667,
          2.87222,
          2.87778,
          2.88333,
          2.88889,
          2.89444,
          2.9,
          2.90556,
          2.91111,
          2.91667,
          2.92222,
          2.92778,
          2.93333,
          2.93889,
          2.94444,
          2.95,
          2.95556,
          2.96111
         ],
         "y": [
          0.0077630407642379235,
          0.004760665940946292,
          -0.0017872245226911692,
          -0.014380757642804456,
          -0.03463958620087356,
          -0.06239953257878072,
          -0.09506965034452018,
          -0.12791281794222933,
          -0.15547058808198985,
          -0.1734795810494002,
          -0.18012935777767222,
          -0.17600043938024057,
          -0.16304079701103089,
          -0.14350370492882195,
          -0.11951160759268181,
          -0.09324135446050397,
          -0.06723535846713084,
          -0.0443441807380589,
          -0.027201586918952518,
          -0.017554655626881726,
          -0.01589103209666227,
          -0.021561761242988035,
          -0.033209743450891414,
          -0.04910768964779909,
          -0.06715786460740207,
          -0.08467607290184478,
          -0.09835506276611833,
          -0.10474761008635403,
          -0.10126714452991835,
          -0.08733125171050729,
          -0.06511487838652667,
          -0.03948575966846846,
          -0.016969521027279413,
          -0.003948978068756138,
          -0.0046641786129300155,
          -0.019779775231919247,
          -0.046132334470673615,
          -0.07776408065766881,
          -0.10776701535501644,
          -0.13016172779998658,
          -0.14117979578112347,
          -0.1397462923993065,
          -0.1273268169705334,
          -0.1073857981051449,
          -0.08457420327287114,
          -0.06368014352996886,
          -0.04848244888078103,
          -0.04084316823293867,
          -0.04042701888728341,
          -0.04520700831745093,
          -0.05251227499541356,
          -0.06008683986516097,
          -0.06667277917585519,
          -0.07195262539901345,
          -0.07604325705247919,
          -0.0789246480549006,
          -0.08014591556579377,
          -0.07893317470921928,
          -0.07457420484515107,
          -0.0668301327701646,
          -0.05616927178070999,
          -0.043747959605126105,
          -0.031173265474860535,
          -0.020138335128774627,
          -0.012045150614182121,
          -0.007731555981051422,
          -0.00737169498755601,
          -0.010524717645042722,
          -0.01624352085529121,
          -0.0231797079040541,
          -0.02968242437514028,
          -0.033920164017164814,
          -0.034069300444688116,
          -0.0286251008601843,
          -0.016848956006619436,
          0.0007468231222314593,
          0.022080992004791147,
          0.04357208957226875,
          0.06071712890647628,
          0.0691284088093966,
          0.06578460319158286,
          0.05009603033820449,
          0.024333547179010324,
          -0.006849816018533826,
          -0.03766100456697802,
          -0.06267192681376507,
          -0.07807175511332139,
          -0.08237257272270349,
          -0.07646986891773995,
          -0.06309980709706496,
          -0.04589209558993774,
          -0.028335585563656004,
          -0.012969610676546253,
          -0.0009995449903662638,
          0.007623149848362147,
          0.013759498117524912,
          0.018472954403003276,
          0.022463674698034813,
          0.025723708094462408,
          0.027516351982997195,
          0.026679944221475977,
          0.022146422249915265,
          0.013500189427733997,
          0.001406661042415089,
          -0.01222682565180014,
          -0.024461635780988523,
          -0.03195135909217534,
          -0.03189927421102085,
          -0.023107511570204586,
          -0.0067333302323730245,
          0.01363139573167143,
          0.032715312014578404,
          0.044963142638323364,
          0.046114477107456295,
          0.03445764855503581,
          0.011380421454854314,
          -0.018931698111104317,
          -0.05052854886526762,
          -0.07709971749796861,
          -0.09329835715104773,
          -0.09565790079614847,
          -0.08302789426362676,
          -0.05664144924843968,
          -0.019943196817709254,
          0.021781221793927705,
          0.06200939402378403,
          0.09386517413381541,
          0.11126383100906014,
          0.11018317593518391,
          0.0897800178463694,
          0.05296074853774565,
          0.0060388097939275244,
          -0.04262861826761355,
          -0.08467833076057814,
          -0.11372811537483507,
          -0.12659762674487487,
          -0.12346440921414518,
          -0.10715252876204016,
          -0.08200055619557138,
          -0.052722912808436155,
          -0.023527318944741672,
          0.00239511115755019,
          0.02301250340567868,
          0.03732858903280113,
          0.045136903324758226,
          0.04678121555828202,
          0.04299877729719123,
          0.03484825155313617,
          0.023649177737763833,
          0.010854026419665245,
          -0.0021279217717293944,
          -0.014044501967018034,
          -0.02380523347254765,
          -0.03048572464707499,
          -0.03346177876588698,
          -0.032633646724988814,
          -0.02855901898595591,
          -0.02236690312958569,
          -0.015478880904531174,
          -0.009252038596621975,
          -0.004656098779691878,
          -0.0020732081320070364,
          -0.0012830677223926758,
          -0.0016419667214085055,
          -0.002383991072464077,
          -0.00291497005124998,
          -0.002978717130224291,
          -0.002645533118914066,
          -0.002159453360247663,
          -0.0017386575941292933,
          -0.0014329871307407693,
          -0.0011046949010655076,
          -0.0005298188475345494,
          0.0004470380351638549,
          0.0017938227019003296,
          0.0032684842775535256,
          0.004500772536442209,
          0.005143515641639556,
          0.00503752730396734,
          0.004328174783531988,
          0.0034779260604875704,
          0.003149999480170878,
          0.003991702105841714,
          0.00639248352263249,
          0.010307029614482667,
          0.015215453022960835,
          0.020245003569818548,
          0.024416718413276365,
          0.026936265174772028,
          0.027437057306254967,
          0.02609707163391907,
          0.023579284808233823,
          0.020796629664719134,
          0.018583338809935207,
          0.017427911669596893,
          0.017407327467728242,
          0.018331291815904784,
          0.01995737758995146,
          0.022109016364390763,
          0.024644024459853177,
          0.027358806884067683,
          0.029935540145073786,
          0.0319589246433392,
          0.03296819248704486,
          0.03252076058990787,
          0.030274143993412765,
          0.026102574446473934,
          0.02025598227953491,
          0.013527564562519499,
          0.00731893809165151,
          0.003458188922327222,
          0.00373162685651339,
          0.009288732295862991,
          0.020190884818379752,
          0.035291557932755326,
          0.05244939636802853,
          0.06894878059539357,
          0.08199705277293713,
          0.08922522938445766,
          0.08915253588930556,
          0.0815492543048595,
          0.06758084319670173,
          0.049612030822631055,
          0.030652198032808945,
          0.013603775865089266,
          0.0006060182241194934,
          -0.007261496315127915,
          -0.009836971101767554,
          -0.007464815887846769,
          -0.0006311617350786572,
          0.010117521560969671,
          0.023988595754051212,
          0.03971577502873479,
          0.05553522169555782,
          0.06947077739103562,
          0.07985714624123932,
          0.08590378514916341,
          0.08804718939936722,
          0.0878693590434363,
          0.08751760732590608,
          0.08882857779910311,
          0.09257245675738122,
          0.09818927984452884,
          0.10409367737416328,
          0.10833121008316368,
          0.10929523873939659,
          0.1063055480325727,
          0.09992767568124988,
          0.09192943431781567,
          0.08482379792788707,
          0.08108703462714359,
          0.08229985081403526,
          0.08853230694542576,
          0.09822834891896333,
          0.10866760087265881,
          0.11686852910318576,
          0.1206305001144896,
          0.11934317565889599,
          0.1142516053726648,
          0.10806724183588848,
          0.1040843909864303,
          0.10513359884006047,
          0.11268899627958223,
          0.1263356214248395,
          0.14371597735414735,
          0.1610047608350958,
          0.17383948454332013,
          0.17847333437302612,
          0.17280209862735446,
          0.15693170900271486,
          0.1331222887867661,
          0.10519555894335886,
          0.07765916024910988,
          0.05477552590572179,
          0.039682935621101256,
          0.03365688720550749,
          0.03571328205185167,
          0.042822713374684095,
          0.0508535622777884,
          0.05602156870804314,
          0.05630651776841708,
          0.05221977571789814,
          0.046550127612933416,
          0.043176791257630895,
          0.04547276223064232,
          0.05498370917673972,
          0.07088373986728021,
          0.09032102303763136,
          0.10940046559155014,
          0.12436383644731296,
          0.1325541163630045,
          0.13292089347172098,
          0.1260182122772951,
          0.11359220737383877,
          0.09795662729267161,
          0.0813998730045883,
          0.0658024655258901,
          0.05248991590991338,
          0.0422353988587283,
          0.03533352609799938,
          0.03171408086214997,
          0.031067944224533045,
          0.0329412407667745,
          0.036774954655999614,
          0.04191698317794925,
          0.047659037921070416,
          0.0533226286990832,
          0.05835599581075024,
          0.06236269704633104,
          0.06501540259237362,
          0.06590919109621719,
          0.06449352140424051,
          0.06019878853141005,
          0.052739425957947034,
          0.04243209694245869,
          0.030330201773814014,
          0.018069612204554653,
          0.007466680413591233,
          0.000018344219363364837,
          -0.003510136251879709,
          -0.003267308342011843,
          -0.00022902650394688134,
          0.004092349552076199,
          0.008037057032532637,
          0.010194004738493032,
          0.009732768089482497,
          0.006595737242943414,
          0.0014714632675508759,
          -0.004476364046724722,
          -0.01003432394558105,
          -0.014334705793595205,
          -0.017058508658074033,
          -0.018407087142573896,
          -0.018914326870410354,
          -0.019197473125729773,
          -0.019719936161516766,
          -0.02061937483190829,
          -0.02164936435027343,
          -0.02226862147909285,
          -0.021860630422380862,
          -0.01998887695784977,
          -0.01655143447046893,
          -0.011746367677285242,
          -0.00587698690052048,
          0.0008580336644781911,
          0.00840569088747825,
          0.016635467443541455,
          0.024951930786110046,
          0.03202175630517373,
          0.03589902453510679,
          0.034612718652528254,
          0.026970904466999297,
          0.013183010671207886,
          -0.004970274401146652,
          -0.02443177357409462,
          -0.04150586671037339,
          -0.052747792363166214,
          -0.05600514224401292,
          -0.051345763453018986,
          -0.041441182797279645,
          -0.031071675467523388,
          -0.025793326414498923,
          -0.030171412750691157,
          -0.046089626463773875,
          -0.07157238310076312,
          -0.1005121335341381,
          -0.12363096777094668,
          -0.1307166483580831,
          -0.11365741276654977,
          -0.06934932815687293,
          -0.0014788348881441735,
          0.07945850234635939,
          0.1579870909752631,
          0.21691299157010213,
          0.24122561200182752,
          0.22159702671174195,
          0.15647151214743235,
          0.052244977434775255,
          -0.07817033550859437,
          -0.21761805261286343,
          -0.34724595303632166,
          -0.44930525243580005,
          -0.5102920086759497,
          -0.5240065458779924,
          -0.49348756184719983,
          -0.4307357258450915,
          -0.3538780978447668,
          -0.28252079220867454,
          -0.23282928527187916,
          -0.21395189136659837,
          -0.22678764515646516,
          -0.26512467992432404,
          -0.3182944451914342,
          -0.3741427657783485,
          -0.4214916424346768,
          -0.4519926071527328,
          -0.4616299740130278,
          -0.45178714947065685,
          -0.4292355009015538,
          -0.4044284611411601,
          -0.38828542456117204,
          -0.3886278634491909,
          -0.4077559440953895,
          -0.44205563033750894,
          -0.4835207449447176,
          -0.5223936904330008,
          -0.5500023992779725,
          -0.5610144832184711,
          -0.5545001821343736,
          -0.53348991114273,
          -0.503266408391023,
          -0.46922384088665736,
          -0.4352898533974223,
          -0.4034613907526152,
          -0.37429615433371255,
          -0.34773873322399945,
          -0.3236625359712569,
          -0.30184643294460434,
          -0.28153014492954076,
          -0.26099219362351134,
          -0.23761280425352774,
          -0.20858472863348715,
          -0.17199134884354256,
          -0.12769385413195203,
          -0.07755776080499587,
          -0.024921123811330936,
          0.026413701152887402,
          0.07322520897468308,
          0.11361757113418242,
          0.1473609911693421,
          0.17589949523222348,
          0.20211471493499028,
          0.22986341545587263,
          0.2632985209442672,
          0.3060783719987524,
          0.36066053060090003,
          0.42785634184355026,
          0.5067075781639191,
          0.5946422009822115,
          0.6878295582567113,
          0.7816497448861275,
          0.8711833399103774,
          0.9516483047648189,
          1.0187897317584957,
          1.0693034193988415,
          1.1013194386889784,
          1.114757274030923,
          1.1111934737753826,
          1.0930465278987906,
          1.0623760745842357,
          1.019980056244262,
          0.9653261673488186,
          0.8972980412246332,
          0.8153398461138763,
          0.7206565773658044,
          0.6173809444181251,
          0.5135975401035197,
          0.4217714455689705,
          0.35784989075588086,
          0.3385188544027065,
          0.37689041238079607,
          0.477941434923839,
          0.6357571177192397,
          0.8345170060151621,
          1.0539189882012037,
          1.2776133679652653,
          1.5011959063859908,
          1.7358153910457124,
          2.005262976474875,
          2.337589232147476,
          2.7547311051114542,
          3.26399245285467,
          3.8540180570692746,
          4.496500325388359,
          5.153925052857287,
          5.79273593395935,
          6.399597098529555,
          6.995985307446188,
          7.644464911195711,
          8.440547480981047,
          9.487794395412925,
          10.859646421768808,
          12.557336306337975,
          14.477416224639091,
          16.40295549759163,
          18.027208416990952,
          19.00792787354313,
          19.039357242061982,
          17.923451918965775,
          15.62391892145743,
          12.292230704140778,
          8.259090324484571,
          3.9880064348970636,
          -0.0065473974283550215,
          -3.264047366823333,
          -5.482866379455857,
          -6.595801086286465,
          -6.789124400039561,
          -6.451806230594315,
          -6.0645829925484245,
          -6.062544098034953,
          -6.717280698679404,
          -8.076686754031375,
          -9.97549471675644,
          -12.10183050199495,
          -14.089140567207249,
          -15.60361366305052,
          -16.408410719018594,
          -16.397811743611808,
          -15.601735462686703,
          -14.164809280759458,
          -12.306821216462858,
          -10.27415190340779,
          -8.293659126006137,
          -6.539267735226983,
          -5.1165002065940755,
          -4.0636583916621385,
          -3.3638091820315177,
          -2.9610038378282417,
          -2.7764681134133387,
          -2.7233212780175764,
          -2.719573077705209,
          -2.698599284362751,
          -2.615654852734646,
          -2.4496231937154134,
          -2.200705370422262,
          -1.8857118889198834,
          -1.5324509171097433,
          -1.1740474655522237,
          -0.8436400189030396,
          -0.5698416051599713,
          -0.37323194080212835,
          -0.26389453046790745,
          -0.24002823473861506,
          -0.2880808559307595,
          -0.38509204432830996,
          -0.5033465801307604,
          -0.6161938902712132,
          -0.7029944644598576,
          -0.7515464439242077,
          -0.7578716136532087,
          -0.7246610384625539,
          -0.6598483799562743,
          -0.5757089359795614,
          -0.48766113583,
          -0.4117288262573838,
          -0.36063949672489143,
          -0.3399090874672803,
          -0.34581082160345616,
          -0.36638865161546,
          -0.3852198318862838,
          -0.38642709297366773,
          -0.35909850110367625,
          -0.2997756384122297,
          -0.21258903459564202,
          -0.10745021637925024,
          0.0028540556380595144,
          0.10577269402190669,
          0.19156142722925862,
          0.2547701487192427,
          0.29437471248728836,
          0.3126826099565617,
          0.3135798974345672,
          0.30091726151723985,
          0.2776803354913739,
          0.24611871652277983,
          0.20847829851607294,
          0.16769361582625195,
          0.12752431999577513,
          0.0920446283956024,
          0.06477067937057761,
          0.04781928989936922,
          0.04142380703896663,
          0.044016094880577034,
          0.052861827954568855,
          0.06492057235798963,
          0.07748238226694538,
          0.08842237802734189,
          0.09632888425108324,
          0.10077848782396379,
          0.10259948557697159,
          0.10365582246464475,
          0.10597752093135027,
          0.11068266171280738,
          0.11738459753234079,
          0.12441991910792476,
          0.1296911555487853,
          0.1316721982295911,
          0.13020364148357239,
          0.12681755046880436,
          0.12435173274746299,
          0.12578129986935094,
          0.13267462581838071,
          0.1441203943746187,
          0.15685218580869723,
          0.16660440493694081,
          0.16999931789398323,
          0.1660185145231839,
          0.15644831420806377,
          0.14526851596214393,
          0.13734794077822984,
          0.13688139344344163,
          0.14594831398205557,
          0.16358855499283678,
          0.18578516316290125,
          0.20648189775841347,
          0.2192570448488511,
          0.21891786677292766,
          0.2024570587469613,
          0.16939570988581285,
          0.12193273364590734,
          0.06510695729875053,
          0.006600534863704565,
          -0.04444191478925155,
          -0.07969799382023707,
          -0.09420242094498164,
          -0.08772903676909709,
          -0.06421605465550669,
          -0.029839341657515547,
          0.008781572225458183,
          0.045338717242626406,
          0.07401250767224314,
          0.09012624009718076,
          0.09154571996913637,
          0.07988944977529494,
          0.06034335472524687,
          0.03979916907004939,
          0.02423587340608678,
          0.01670882091833146,
          0.016800673405187788,
          0.02149083787417192,
          0.026764540018638733,
          0.029147780361273648,
          0.026600214341673045,
          0.01862892672260293,
          0.005910345973313354,
          -0.010111595763068231,
          -0.02737306010864355,
          -0.043185411883887144,
          -0.054396483675393695,
          -0.05792161123752274,
          -0.05154838585375031,
          -0.03469884551220511,
          -0.00883099782802395,
          0.022662673246298476,
          0.05499339845752368,
          0.08278331035946948,
          0.10100464594627115,
          0.10596377022003042,
          0.09618784426634279,
          0.07294032570401614,
          0.040071204206119086,
          0.0031374445060131143,
          -0.03191544861449162,
          -0.060031385332420625,
          -0.077912596470943,
          -0.08436465927911907,
          -0.08018175010363329,
          -0.06769422096372582,
          -0.050120115600562565,
          -0.030884830241606088,
          -0.01305943413270618,
          0.0010072700546588395,
          0.00987585681919563,
          0.013068406843688464,
          0.011006308454420667,
          0.004828995112691964,
          -0.003891887159096779,
          -0.013482381392450716,
          -0.02246111701844939,
          -0.029749362301277046,
          -0.03478337413054871,
          -0.037520810175098944,
          -0.03832561762912779,
          -0.0377422355338775,
          -0.03622957237818109,
          -0.0339702937659705,
          -0.030859132446688538,
          -0.026700683349887972,
          -0.021543728661825495,
          -0.015993790722447308,
          -0.011321650141231768,
          -0.00924768202090629,
          -0.011422713344912324,
          -0.018788983047467848,
          -0.031096961846117967,
          -0.046808461615023424,
          -0.06345166554702245,
          -0.07830397062753632,
          -0.08916048348270297,
          -0.09493060810316747,
          -0.0958669712421295,
          -0.09334731577464157,
          -0.08929239223264814,
          -0.0854647616147372,
          -0.0829567094264287,
          -0.08207030681971289,
          -0.0825663312533879,
          -0.08406206209082157,
          -0.08632275841121731,
          -0.08931603163169659,
          -0.0930638693902032,
          -0.09742368175449173,
          -0.101937462629707,
          -0.10584246302304924,
          -0.10826381759662383,
          -0.10852324641582922,
          -0.10643104246254469,
          -0.10242613933532765,
          -0.09750310067840481,
          -0.09296804027316956,
          -0.09012498726944564,
          -0.0899810273663544,
          -0.09301500535409177,
          -0.0990392844948609,
          -0.10719755490217706,
          -0.11613205515468437,
          -0.12429455471868099,
          -0.13030401478251552,
          -0.13322590962288236,
          -0.13268786489453416,
          -0.12883373472706583,
          -0.12220117269784764,
          -0.11363143390935726,
          -0.10426275332633256,
          -0.09554955145322566,
          -0.0891664578144077,
          -0.08668008276459017,
          -0.0890100075625973,
          -0.09586522890345077,
          -0.10542279642300839,
          -0.11446167815479236,
          -0.11900421279208945,
          -0.11531906014058967,
          -0.1009801124603346,
          -0.07562869200454325,
          -0.04119037260105526,
          -0.0015017177035712098
         ]
        }
       ],
       "layout": {
        "annotations": [
         {
          "font": {
           "color": "cyan",
           "size": 16
          },
          "showarrow": false,
          "text": "KH",
          "textangle": -90,
          "x": 1.81111,
          "xref": "x",
          "y": 1,
          "yref": "paper"
         },
         {
          "font": {
           "color": "cyan",
           "size": 16
          },
          "showarrow": false,
          "text": "FC",
          "textangle": -90,
          "x": 2.61111,
          "xref": "x",
          "y": 1,
          "yref": "paper"
         },
         {
          "font": {
           "color": "cyan",
           "size": 16
          },
          "showarrow": false,
          "text": "MER",
          "textangle": -90,
          "x": 2.73333,
          "xref": "x",
          "y": 1,
          "yref": "paper"
         },
         {
          "font": {
           "color": "cyan",
           "size": 16
          },
          "showarrow": false,
          "text": "BR",
          "textangle": -90,
          "x": 2.77778,
          "xref": "x",
          "y": 1,
          "yref": "paper"
         }
        ],
        "height": 600,
        "margin": {
         "b": 40,
         "l": 40,
         "r": 40,
         "t": 40
        },
        "plot_bgcolor": "rgb(43,48,61)",
        "shapes": [
         {
          "line": {
           "color": "cyan",
           "dash": "dash",
           "width": 4
          },
          "opacity": 0.5,
          "type": "line",
          "x0": 1.8,
          "x1": 1.8,
          "xref": "x",
          "y0": 0,
          "y1": 1,
          "yref": "paper"
         },
         {
          "line": {
           "color": "cyan",
           "dash": "dash",
           "width": 4
          },
          "opacity": 0.5,
          "type": "line",
          "x0": 2.6,
          "x1": 2.6,
          "xref": "x",
          "y0": 0,
          "y1": 1,
          "yref": "paper"
         },
         {
          "line": {
           "color": "cyan",
           "dash": "dash",
           "width": 4
          },
          "opacity": 0.5,
          "type": "line",
          "x0": 2.72222,
          "x1": 2.72222,
          "xref": "x",
          "y0": 0,
          "y1": 1,
          "yref": "paper"
         },
         {
          "line": {
           "color": "cyan",
           "dash": "dash",
           "width": 4
          },
          "opacity": 0.5,
          "type": "line",
          "x0": 2.76667,
          "x1": 2.76667,
          "xref": "x",
          "y0": 0,
          "y1": 1,
          "yref": "paper"
         }
        ],
        "showlegend": false,
        "template": {
         "data": {
          "bar": [
           {
            "error_x": {
             "color": "#2a3f5f"
            },
            "error_y": {
             "color": "#2a3f5f"
            },
            "marker": {
             "line": {
              "color": "#E5ECF6",
              "width": 0.5
             },
             "pattern": {
              "fillmode": "overlay",
              "size": 10,
              "solidity": 0.2
             }
            },
            "type": "bar"
           }
          ],
          "barpolar": [
           {
            "marker": {
             "line": {
              "color": "#E5ECF6",
              "width": 0.5
             },
             "pattern": {
              "fillmode": "overlay",
              "size": 10,
              "solidity": 0.2
             }
            },
            "type": "barpolar"
           }
          ],
          "carpet": [
           {
            "aaxis": {
             "endlinecolor": "#2a3f5f",
             "gridcolor": "white",
             "linecolor": "white",
             "minorgridcolor": "white",
             "startlinecolor": "#2a3f5f"
            },
            "baxis": {
             "endlinecolor": "#2a3f5f",
             "gridcolor": "white",
             "linecolor": "white",
             "minorgridcolor": "white",
             "startlinecolor": "#2a3f5f"
            },
            "type": "carpet"
           }
          ],
          "choropleth": [
           {
            "colorbar": {
             "outlinewidth": 0,
             "ticks": ""
            },
            "type": "choropleth"
           }
          ],
          "contour": [
           {
            "colorbar": {
             "outlinewidth": 0,
             "ticks": ""
            },
            "colorscale": [
             [
              0,
              "#0d0887"
             ],
             [
              0.1111111111111111,
              "#46039f"
             ],
             [
              0.2222222222222222,
              "#7201a8"
             ],
             [
              0.3333333333333333,
              "#9c179e"
             ],
             [
              0.4444444444444444,
              "#bd3786"
             ],
             [
              0.5555555555555556,
              "#d8576b"
             ],
             [
              0.6666666666666666,
              "#ed7953"
             ],
             [
              0.7777777777777778,
              "#fb9f3a"
             ],
             [
              0.8888888888888888,
              "#fdca26"
             ],
             [
              1,
              "#f0f921"
             ]
            ],
            "type": "contour"
           }
          ],
          "contourcarpet": [
           {
            "colorbar": {
             "outlinewidth": 0,
             "ticks": ""
            },
            "type": "contourcarpet"
           }
          ],
          "heatmap": [
           {
            "colorbar": {
             "outlinewidth": 0,
             "ticks": ""
            },
            "colorscale": [
             [
              0,
              "#0d0887"
             ],
             [
              0.1111111111111111,
              "#46039f"
             ],
             [
              0.2222222222222222,
              "#7201a8"
             ],
             [
              0.3333333333333333,
              "#9c179e"
             ],
             [
              0.4444444444444444,
              "#bd3786"
             ],
             [
              0.5555555555555556,
              "#d8576b"
             ],
             [
              0.6666666666666666,
              "#ed7953"
             ],
             [
              0.7777777777777778,
              "#fb9f3a"
             ],
             [
              0.8888888888888888,
              "#fdca26"
             ],
             [
              1,
              "#f0f921"
             ]
            ],
            "type": "heatmap"
           }
          ],
          "heatmapgl": [
           {
            "colorbar": {
             "outlinewidth": 0,
             "ticks": ""
            },
            "colorscale": [
             [
              0,
              "#0d0887"
             ],
             [
              0.1111111111111111,
              "#46039f"
             ],
             [
              0.2222222222222222,
              "#7201a8"
             ],
             [
              0.3333333333333333,
              "#9c179e"
             ],
             [
              0.4444444444444444,
              "#bd3786"
             ],
             [
              0.5555555555555556,
              "#d8576b"
             ],
             [
              0.6666666666666666,
              "#ed7953"
             ],
             [
              0.7777777777777778,
              "#fb9f3a"
             ],
             [
              0.8888888888888888,
              "#fdca26"
             ],
             [
              1,
              "#f0f921"
             ]
            ],
            "type": "heatmapgl"
           }
          ],
          "histogram": [
           {
            "marker": {
             "pattern": {
              "fillmode": "overlay",
              "size": 10,
              "solidity": 0.2
             }
            },
            "type": "histogram"
           }
          ],
          "histogram2d": [
           {
            "colorbar": {
             "outlinewidth": 0,
             "ticks": ""
            },
            "colorscale": [
             [
              0,
              "#0d0887"
             ],
             [
              0.1111111111111111,
              "#46039f"
             ],
             [
              0.2222222222222222,
              "#7201a8"
             ],
             [
              0.3333333333333333,
              "#9c179e"
             ],
             [
              0.4444444444444444,
              "#bd3786"
             ],
             [
              0.5555555555555556,
              "#d8576b"
             ],
             [
              0.6666666666666666,
              "#ed7953"
             ],
             [
              0.7777777777777778,
              "#fb9f3a"
             ],
             [
              0.8888888888888888,
              "#fdca26"
             ],
             [
              1,
              "#f0f921"
             ]
            ],
            "type": "histogram2d"
           }
          ],
          "histogram2dcontour": [
           {
            "colorbar": {
             "outlinewidth": 0,
             "ticks": ""
            },
            "colorscale": [
             [
              0,
              "#0d0887"
             ],
             [
              0.1111111111111111,
              "#46039f"
             ],
             [
              0.2222222222222222,
              "#7201a8"
             ],
             [
              0.3333333333333333,
              "#9c179e"
             ],
             [
              0.4444444444444444,
              "#bd3786"
             ],
             [
              0.5555555555555556,
              "#d8576b"
             ],
             [
              0.6666666666666666,
              "#ed7953"
             ],
             [
              0.7777777777777778,
              "#fb9f3a"
             ],
             [
              0.8888888888888888,
              "#fdca26"
             ],
             [
              1,
              "#f0f921"
             ]
            ],
            "type": "histogram2dcontour"
           }
          ],
          "mesh3d": [
           {
            "colorbar": {
             "outlinewidth": 0,
             "ticks": ""
            },
            "type": "mesh3d"
           }
          ],
          "parcoords": [
           {
            "line": {
             "colorbar": {
              "outlinewidth": 0,
              "ticks": ""
             }
            },
            "type": "parcoords"
           }
          ],
          "pie": [
           {
            "automargin": true,
            "type": "pie"
           }
          ],
          "scatter": [
           {
            "fillpattern": {
             "fillmode": "overlay",
             "size": 10,
             "solidity": 0.2
            },
            "type": "scatter"
           }
          ],
          "scatter3d": [
           {
            "line": {
             "colorbar": {
              "outlinewidth": 0,
              "ticks": ""
             }
            },
            "marker": {
             "colorbar": {
              "outlinewidth": 0,
              "ticks": ""
             }
            },
            "type": "scatter3d"
           }
          ],
          "scattercarpet": [
           {
            "marker": {
             "colorbar": {
              "outlinewidth": 0,
              "ticks": ""
             }
            },
            "type": "scattercarpet"
           }
          ],
          "scattergeo": [
           {
            "marker": {
             "colorbar": {
              "outlinewidth": 0,
              "ticks": ""
             }
            },
            "type": "scattergeo"
           }
          ],
          "scattergl": [
           {
            "marker": {
             "colorbar": {
              "outlinewidth": 0,
              "ticks": ""
             }
            },
            "type": "scattergl"
           }
          ],
          "scattermapbox": [
           {
            "marker": {
             "colorbar": {
              "outlinewidth": 0,
              "ticks": ""
             }
            },
            "type": "scattermapbox"
           }
          ],
          "scatterpolar": [
           {
            "marker": {
             "colorbar": {
              "outlinewidth": 0,
              "ticks": ""
             }
            },
            "type": "scatterpolar"
           }
          ],
          "scatterpolargl": [
           {
            "marker": {
             "colorbar": {
              "outlinewidth": 0,
              "ticks": ""
             }
            },
            "type": "scatterpolargl"
           }
          ],
          "scatterternary": [
           {
            "marker": {
             "colorbar": {
              "outlinewidth": 0,
              "ticks": ""
             }
            },
            "type": "scatterternary"
           }
          ],
          "surface": [
           {
            "colorbar": {
             "outlinewidth": 0,
             "ticks": ""
            },
            "colorscale": [
             [
              0,
              "#0d0887"
             ],
             [
              0.1111111111111111,
              "#46039f"
             ],
             [
              0.2222222222222222,
              "#7201a8"
             ],
             [
              0.3333333333333333,
              "#9c179e"
             ],
             [
              0.4444444444444444,
              "#bd3786"
             ],
             [
              0.5555555555555556,
              "#d8576b"
             ],
             [
              0.6666666666666666,
              "#ed7953"
             ],
             [
              0.7777777777777778,
              "#fb9f3a"
             ],
             [
              0.8888888888888888,
              "#fdca26"
             ],
             [
              1,
              "#f0f921"
             ]
            ],
            "type": "surface"
           }
          ],
          "table": [
           {
            "cells": {
             "fill": {
              "color": "#EBF0F8"
             },
             "line": {
              "color": "white"
             }
            },
            "header": {
             "fill": {
              "color": "#C8D4E3"
             },
             "line": {
              "color": "white"
             }
            },
            "type": "table"
           }
          ]
         },
         "layout": {
          "annotationdefaults": {
           "arrowcolor": "#2a3f5f",
           "arrowhead": 0,
           "arrowwidth": 1
          },
          "autotypenumbers": "strict",
          "coloraxis": {
           "colorbar": {
            "outlinewidth": 0,
            "ticks": ""
           }
          },
          "colorscale": {
           "diverging": [
            [
             0,
             "#8e0152"
            ],
            [
             0.1,
             "#c51b7d"
            ],
            [
             0.2,
             "#de77ae"
            ],
            [
             0.3,
             "#f1b6da"
            ],
            [
             0.4,
             "#fde0ef"
            ],
            [
             0.5,
             "#f7f7f7"
            ],
            [
             0.6,
             "#e6f5d0"
            ],
            [
             0.7,
             "#b8e186"
            ],
            [
             0.8,
             "#7fbc41"
            ],
            [
             0.9,
             "#4d9221"
            ],
            [
             1,
             "#276419"
            ]
           ],
           "sequential": [
            [
             0,
             "#0d0887"
            ],
            [
             0.1111111111111111,
             "#46039f"
            ],
            [
             0.2222222222222222,
             "#7201a8"
            ],
            [
             0.3333333333333333,
             "#9c179e"
            ],
            [
             0.4444444444444444,
             "#bd3786"
            ],
            [
             0.5555555555555556,
             "#d8576b"
            ],
            [
             0.6666666666666666,
             "#ed7953"
            ],
            [
             0.7777777777777778,
             "#fb9f3a"
            ],
            [
             0.8888888888888888,
             "#fdca26"
            ],
            [
             1,
             "#f0f921"
            ]
           ],
           "sequentialminus": [
            [
             0,
             "#0d0887"
            ],
            [
             0.1111111111111111,
             "#46039f"
            ],
            [
             0.2222222222222222,
             "#7201a8"
            ],
            [
             0.3333333333333333,
             "#9c179e"
            ],
            [
             0.4444444444444444,
             "#bd3786"
            ],
            [
             0.5555555555555556,
             "#d8576b"
            ],
            [
             0.6666666666666666,
             "#ed7953"
            ],
            [
             0.7777777777777778,
             "#fb9f3a"
            ],
            [
             0.8888888888888888,
             "#fdca26"
            ],
            [
             1,
             "#f0f921"
            ]
           ]
          },
          "colorway": [
           "#636efa",
           "#EF553B",
           "#00cc96",
           "#ab63fa",
           "#FFA15A",
           "#19d3f3",
           "#FF6692",
           "#B6E880",
           "#FF97FF",
           "#FECB52"
          ],
          "font": {
           "color": "#2a3f5f"
          },
          "geo": {
           "bgcolor": "white",
           "lakecolor": "white",
           "landcolor": "#E5ECF6",
           "showlakes": true,
           "showland": true,
           "subunitcolor": "white"
          },
          "hoverlabel": {
           "align": "left"
          },
          "hovermode": "closest",
          "mapbox": {
           "style": "light"
          },
          "paper_bgcolor": "white",
          "plot_bgcolor": "#E5ECF6",
          "polar": {
           "angularaxis": {
            "gridcolor": "white",
            "linecolor": "white",
            "ticks": ""
           },
           "bgcolor": "#E5ECF6",
           "radialaxis": {
            "gridcolor": "white",
            "linecolor": "white",
            "ticks": ""
           }
          },
          "scene": {
           "xaxis": {
            "backgroundcolor": "#E5ECF6",
            "gridcolor": "white",
            "gridwidth": 2,
            "linecolor": "white",
            "showbackground": true,
            "ticks": "",
            "zerolinecolor": "white"
           },
           "yaxis": {
            "backgroundcolor": "#E5ECF6",
            "gridcolor": "white",
            "gridwidth": 2,
            "linecolor": "white",
            "showbackground": true,
            "ticks": "",
            "zerolinecolor": "white"
           },
           "zaxis": {
            "backgroundcolor": "#E5ECF6",
            "gridcolor": "white",
            "gridwidth": 2,
            "linecolor": "white",
            "showbackground": true,
            "ticks": "",
            "zerolinecolor": "white"
           }
          },
          "shapedefaults": {
           "line": {
            "color": "#2a3f5f"
           }
          },
          "ternary": {
           "aaxis": {
            "gridcolor": "white",
            "linecolor": "white",
            "ticks": ""
           },
           "baxis": {
            "gridcolor": "white",
            "linecolor": "white",
            "ticks": ""
           },
           "bgcolor": "#E5ECF6",
           "caxis": {
            "gridcolor": "white",
            "linecolor": "white",
            "ticks": ""
           }
          },
          "title": {
           "x": 0.05
          },
          "xaxis": {
           "automargin": true,
           "gridcolor": "white",
           "linecolor": "white",
           "ticks": "",
           "title": {
            "standoff": 15
           },
           "zerolinecolor": "white",
           "zerolinewidth": 2
          },
          "yaxis": {
           "automargin": true,
           "gridcolor": "white",
           "linecolor": "white",
           "ticks": "",
           "title": {
            "standoff": 15
           },
           "zerolinecolor": "white",
           "zerolinewidth": 2
          }
         }
        },
        "title": {
         "text": "FOREARM POWER"
        },
        "xaxis": {
         "showgrid": false,
         "title": {
          "text": "Time [s]"
         }
        },
        "yaxis": {
         "autorange": true,
         "gridcolor": "lightgrey",
         "gridwidth": 1,
         "rangemode": "tozero",
         "showgrid": true,
         "title": {
          "text": "Power [W/kg]"
         },
         "zeroline": false
        }
       }
      }
     },
     "metadata": {},
     "output_type": "display_data"
    }
   ],
   "source": [
    "for i in kinematic_fig:\n",
    "    display(kinematic_fig[i])"
   ]
  },
  {
   "cell_type": "code",
   "execution_count": null,
   "metadata": {},
   "outputs": [],
   "source": []
  }
 ],
 "metadata": {
  "kernelspec": {
   "display_name": "dashboard",
   "language": "python",
   "name": "python3"
  },
  "language_info": {
   "codemirror_mode": {
    "name": "ipython",
    "version": 3
   },
   "file_extension": ".py",
   "mimetype": "text/x-python",
   "name": "python",
   "nbconvert_exporter": "python",
   "pygments_lexer": "ipython3",
   "version": "3.11.4"
  }
 },
 "nbformat": 4,
 "nbformat_minor": 2
}
